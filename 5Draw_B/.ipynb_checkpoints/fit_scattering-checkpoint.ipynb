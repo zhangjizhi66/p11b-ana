{
 "cells": [
  {
   "cell_type": "markdown",
   "id": "cbcc6f9a",
   "metadata": {},
   "source": [
    "# 截面计算"
   ]
  },
  {
   "cell_type": "markdown",
   "id": "af5069c9",
   "metadata": {},
   "source": [
    "   B - 16.40 ug/cm2     2.350 g/cm3   10.81 g/mol\n",
    " 11B - 13.12 ug/cm2                      11 g/mol\n",
    " 10B -  3.28 ug/cm2                      10 g/mol\n",
    "   C -  6.50 ug/cm2     2.253 g/cm3   12.01 g/mol\n",
    "  Fe -                  7.866 g/cm3   55.85 g/mol"
   ]
  },
  {
   "cell_type": "markdown",
   "id": "4c8a0f56",
   "metadata": {},
   "source": [
    "$\\cfrac{N_{sc}(11B+10B)}{N_{sc}(C)} = \\cfrac{\\cfrac{16.40}{10.81}*\\sigma_{sc}(pB)}{\\cfrac{6.50}{12.01}*\\sigma_{sc}(pC)}$\n",
    "\n",
    "$\\cfrac{N_{sc}(11B+10B)+N_{sc}(C)}{N(\\alpha_0)} = \\cfrac{\\cfrac{16.40}{10.81}*\\sigma_{sc}(pB)+\\cfrac{6.50}{12.01}*\\sigma_{sc}(pC)}{\\cfrac{13.12}{11.00}*\\sigma(\\alpha_0)}$\n",
    "\n",
    "$\\cfrac{N_{sc}(11B+10B)+N_{sc}(C)}{N_{sc}(Fe)} = \\cfrac{\\cfrac{16.40}{10.81}*\\sigma_{sc}(pB)+\\cfrac{6.50}{12.01}*\\sigma_{sc}(pC)}{\\cfrac{Fe_{thickness}}{55.85}*\\sigma_{sc}(pFe)}$"
   ]
  },
  {
   "cell_type": "code",
   "execution_count": 1,
   "id": "105704f9",
   "metadata": {},
   "outputs": [],
   "source": [
    "const int ntheta = 15;"
   ]
  },
  {
   "cell_type": "code",
   "execution_count": 2,
   "id": "c27923ad",
   "metadata": {},
   "outputs": [],
   "source": [
    "TFile *ipf = new TFile(\"ana_add_W1000.root\");\n",
    "TH1I *h[ntheta];\n",
    "for (int itheta = 0; itheta < ntheta; itheta++)\n",
    "    h[itheta] = (TH1I*)ipf->Get(Form(\"hsingle_%ddeg\",60+5*itheta));\n",
    "TCanvas *c1 = new TCanvas;"
   ]
  },
  {
   "cell_type": "code",
   "execution_count": 3,
   "id": "2f7bcd29",
   "metadata": {},
   "outputs": [],
   "source": [
    "vector<double> e;            //e[0]为目标峰，其他为周围峰\n",
    "double k,b;                  //线性本底参数\n",
    "double fit_left,fit_right;   //联合拟合范围\n",
    "double area_left,area_right; //峰面积计算范围"
   ]
  },
  {
   "cell_type": "code",
   "execution_count": 4,
   "id": "567a1acb",
   "metadata": {},
   "outputs": [],
   "source": [
    "void area(TH1I *h)\n",
    "{\n",
    "    c1->Clear();\n",
    "    h->GetXaxis()->SetRangeUser(0,2000);   //返回全区间，在多次进行拟合时，必须要有这个操作，否则指定的拟合区间将存在问题\n",
    "\n",
    "    //设置拟合函数：线性本底 + npeaks个高斯函数\n",
    "    int npeaks = e.size();\n",
    "    TString sf = \"pol1(0)\";\n",
    "    for (int i=0; i<npeaks; i++)\n",
    "        sf += Form(\"+gaus(%d)\",3*i+2);\n",
    "    TF1* f = new TF1(\"f\", sf, fit_left, fit_right);\n",
    "    f->FixParameter(0, b);                         //手动设置线性本底\n",
    "    f->FixParameter(1, k);\n",
    "    for (int i=0; i<npeaks; i++){\n",
    "        f->SetParameter(3*i+2, 1e6);               //峰高\n",
    "        f->SetParLimits(3*i+2, 1, 1e10);\n",
    "        f->SetParameter(3*i+3, e[i]);              //峰中心\n",
    "        f->SetParLimits(3*i+3, e[i]-50, e[i]+50);\n",
    "        f->SetParameter(3*i+4, 10);                 //峰宽sigma\n",
    "        f->SetParLimits(3*i+4, 0.5, 50);\n",
    "    }\n",
    "    \n",
    "    TFitResultPtr fh = h->Fit(f, \"QRS\");\n",
    "    f->SetLineColor(kRed);\n",
    "    f->Draw(\"same\");\n",
    "\n",
    "    //单独提出线性本底\n",
    "    TF1 *f1 = new TF1(\"f1\", \"pol1\", 0, 2000);\n",
    "    f1->SetParameter(0, f->GetParameter(0));\n",
    "    f1->SetParameter(1, f->GetParameter(1));\n",
    "    f1->SetLineColor(kBlue);\n",
    "    f1->Draw(\"same\");\n",
    "    \n",
    "    //提出联合拟合结果中的各个高斯峰\n",
    "    TF1 *fg[npeaks];\n",
    "    for (int i=0; i<npeaks; i++){\n",
    "        fg[i] = new TF1(Form(\"fg%d\",i), \"gaus\");\n",
    "        fg[i]->SetParameter(0, f->GetParameter(3*i+2));\n",
    "        fg[i]->SetParameter(1, f->GetParameter(3*i+3));\n",
    "        fg[i]->SetParameter(2, f->GetParameter(3*i+4));\n",
    "    }\n",
    "    \n",
    "    //计算峰面积\n",
    "    int bin1 = h->FindBin(area_left);\n",
    "    int bin2 = h->FindBin(area_right);\n",
    "    double nall = h->Integral(bin1, bin2);                     //包含本底的总计数\n",
    "    \n",
    "    double x1 = h->GetBinLowEdge(bin1);                        //积分下界\n",
    "    double x2 = h->GetBinLowEdge(bin2)+h->GetBinWidth(bin2);   //积分上界，注意使用了与TH1完全相等的积分范围\n",
    "    double nbg = f1->Integral(x1, x2)/h->GetBinWidth(bin2);    //线性本底贡献\n",
    "\n",
    "    //输出结果\n",
    "    cout<<\"count=\"<<nall-nbg<<\" delta_count=\"<<sqrt(nall+nbg)<<endl;\n",
    "    for (int i=0; i<npeaks; i++)\n",
    "        cout<<i<<\" peak=\"<<fg[i]->GetParameter(1)<<\" height=\"<<fg[i]->GetParameter(0)\n",
    "        <<\" sigma=\"<<fg[i]->GetParameter(2)<<\" contribution=\"<<fg[i]->Integral(e[i]-500,e[i]+500)/h->GetBinWidth(1)<<'\\n';\n",
    "    \n",
    "}"
   ]
  },
  {
   "cell_type": "code",
   "execution_count": 5,
   "id": "09928010",
   "metadata": {},
   "outputs": [],
   "source": [
    "%jsroot on"
   ]
  },
  {
   "cell_type": "code",
   "execution_count": 112,
   "id": "fbc89528",
   "metadata": {},
   "outputs": [
    {
     "data": {
      "text/html": [
       "\n",
       "<div id=\"root_plot_1696901076287\"\n",
       "     style=\"width: 696px; height: 472px\">\n",
       "</div>\n",
       "<script>\n",
       "if (typeof require !== 'undefined') {\n",
       "\n",
       "    // All requirements met (we are in jupyter notebooks or we loaded requirejs before).\n",
       "    display_root_plot_1696901076287();\n",
       "\n",
       "} else {\n",
       "\n",
       "    // We are in jupyterlab, we need to insert requirejs and configure it.\n",
       "    // Jupyterlab might be installed in a different base_url so we need to know it.\n",
       "    try {\n",
       "        var base_url = JSON.parse(document.getElementById('jupyter-config-data').innerHTML).baseUrl;\n",
       "    } catch(_) {\n",
       "        var base_url = '/';\n",
       "    }\n",
       "\n",
       "    // Try loading a local version of requirejs and fallback to cdn if not possible.\n",
       "    requirejs_load(base_url + 'static/components/requirejs/require.js', requirejs_success(base_url), function(){\n",
       "        requirejs_load('https://cdnjs.cloudflare.com/ajax/libs/require.js/2.2.0/require.min.js', requirejs_success(base_url), function(){\n",
       "            document.getElementById(\"root_plot_1696901076287\").innerHTML = \"Failed to load requireJs\";\n",
       "        });\n",
       "    });\n",
       "}\n",
       "\n",
       "function requirejs_load(src, on_load, on_error) {\n",
       "    var script = document.createElement('script');\n",
       "    script.src = src;\n",
       "    script.onload = on_load;\n",
       "    script.onerror = on_error;\n",
       "    document.head.appendChild(script);\n",
       "}\n",
       "\n",
       "function requirejs_success(base_url) {\n",
       "    return function() {\n",
       "        require.config({\n",
       "            baseUrl: base_url + 'static/'\n",
       "        });\n",
       "        display_root_plot_1696901076287();\n",
       "    }\n",
       "}\n",
       "\n",
       "function display_root_plot_1696901076287() {\n",
       "    require(['scripts/JSRootCore'],\n",
       "        function(Core) {\n",
       "            var obj = Core.JSONR_unref({\"_typename\":\"TCanvas\",\"fUniqueID\":0,\"fBits\":3342344,\"fLineColor\":1,\"fLineStyle\":1,\"fLineWidth\":1,\"fFillColor\":0,\"fFillStyle\":1001,\"fLeftMargin\":0.1,\"fRightMargin\":0.1,\"fBottomMargin\":0.1,\"fTopMargin\":0.1,\"fXfile\":2,\"fYfile\":2,\"fAfile\":1,\"fXstat\":0.99,\"fYstat\":0.99,\"fAstat\":2,\"fFrameFillColor\":0,\"fFrameLineColor\":1,\"fFrameFillStyle\":1001,\"fFrameLineStyle\":1,\"fFrameLineWidth\":1,\"fFrameBorderSize\":1,\"fFrameBorderMode\":0,\"fX1\":-250.000018626453,\"fY1\":-1489239.78595701,\"fX2\":2250.00001862645,\"fY2\":13403157.185957,\"fXtoAbsPixelk\":69.6000541484835,\"fXtoPixelk\":69.6000541484835,\"fXtoPixel\":0.278399995851517,\"fYtoAbsPixelk\":424.800047186661,\"fYtoPixelk\":424.800047186661,\"fYtoPixel\":-3.16940248698821e-5,\"fUtoAbsPixelk\":5e-5,\"fUtoPixelk\":5e-5,\"fUtoPixel\":696,\"fVtoAbsPixelk\":472.00005,\"fVtoPixelk\":472,\"fVtoPixel\":-472,\"fAbsPixeltoXk\":-250.000018626453,\"fPixeltoXk\":-250.000018626453,\"fPixeltoX\":3.59195407651279,\"fAbsPixeltoYk\":13403157.185957,\"fPixeltoYk\":-1489239.78595701,\"fPixeltoY\":-31551.6884998178,\"fXlowNDC\":0,\"fYlowNDC\":0,\"fXUpNDC\":1,\"fYUpNDC\":1,\"fWNDC\":1,\"fHNDC\":1,\"fAbsXlowNDC\":0,\"fAbsYlowNDC\":0,\"fAbsWNDC\":1,\"fAbsHNDC\":1,\"fUxmin\":0,\"fUymin\":0,\"fUxmax\":2000,\"fUymax\":11913917.4,\"fTheta\":30,\"fPhi\":30,\"fAspectRatio\":0,\"fNumber\":0,\"fTickx\":0,\"fTicky\":0,\"fLogx\":0,\"fLogy\":0,\"fLogz\":0,\"fPadPaint\":0,\"fCrosshair\":0,\"fCrosshairPos\":0,\"fBorderSize\":2,\"fBorderMode\":0,\"fModified\":false,\"fGridx\":false,\"fGridy\":false,\"fAbsCoord\":false,\"fEditable\":true,\"fFixedAspectRatio\":false,\"fPrimitives\":{\"_typename\":\"TList\",\"name\":\"TList\",\"arr\":[{\"_typename\":\"TFrame\",\"fUniqueID\":0,\"fBits\":8,\"fLineColor\":1,\"fLineStyle\":1,\"fLineWidth\":1,\"fFillColor\":0,\"fFillStyle\":1001,\"fX1\":0,\"fY1\":0,\"fX2\":2000,\"fY2\":11913917.4,\"fBorderSize\":1,\"fBorderMode\":0},{\"_typename\":\"TH1I\",\"fUniqueID\":0,\"fBits\":8,\"fName\":\"hsingle_110deg\",\"fTitle\":\"\",\"fLineColor\":602,\"fLineStyle\":1,\"fLineWidth\":1,\"fFillColor\":0,\"fFillStyle\":1001,\"fMarkerColor\":1,\"fMarkerStyle\":1,\"fMarkerSize\":1,\"fNcells\":1002,\"fXaxis\":{\"_typename\":\"TAxis\",\"fUniqueID\":0,\"fBits\":2048,\"fName\":\"xaxis\",\"fTitle\":\"\",\"fNdivisions\":510,\"fAxisColor\":1,\"fLabelColor\":1,\"fLabelFont\":42,\"fLabelOffset\":0.005,\"fLabelSize\":0.035,\"fTickLength\":0.03,\"fTitleOffset\":1,\"fTitleSize\":0.035,\"fTitleColor\":1,\"fTitleFont\":42,\"fNbins\":1000,\"fXmin\":0,\"fXmax\":8000,\"fXbins\":[],\"fFirst\":1,\"fLast\":250,\"fBits2\":0,\"fTimeDisplay\":false,\"fTimeFormat\":\"\",\"fLabels\":null,\"fModLabs\":null},\"fYaxis\":{\"_typename\":\"TAxis\",\"fUniqueID\":0,\"fBits\":0,\"fName\":\"yaxis\",\"fTitle\":\"\",\"fNdivisions\":510,\"fAxisColor\":1,\"fLabelColor\":1,\"fLabelFont\":42,\"fLabelOffset\":0.005,\"fLabelSize\":0.035,\"fTickLength\":0.03,\"fTitleOffset\":0,\"fTitleSize\":0.035,\"fTitleColor\":1,\"fTitleFont\":42,\"fNbins\":1,\"fXmin\":0,\"fXmax\":1,\"fXbins\":[],\"fFirst\":0,\"fLast\":0,\"fBits2\":0,\"fTimeDisplay\":false,\"fTimeFormat\":\"\",\"fLabels\":null,\"fModLabs\":null},\"fZaxis\":{\"_typename\":\"TAxis\",\"fUniqueID\":0,\"fBits\":0,\"fName\":\"zaxis\",\"fTitle\":\"\",\"fNdivisions\":510,\"fAxisColor\":1,\"fLabelColor\":1,\"fLabelFont\":42,\"fLabelOffset\":0.005,\"fLabelSize\":0.035,\"fTickLength\":0.03,\"fTitleOffset\":1,\"fTitleSize\":0.035,\"fTitleColor\":1,\"fTitleFont\":42,\"fNbins\":1,\"fXmin\":0,\"fXmax\":1,\"fXbins\":[],\"fFirst\":0,\"fLast\":0,\"fBits2\":0,\"fTimeDisplay\":false,\"fTimeFormat\":\"\",\"fLabels\":null,\"fModLabs\":null},\"fBarOffset\":0,\"fBarWidth\":1000,\"fEntries\":19121557,\"fTsumw\":216453630.385122,\"fTsumw2\":2450227986.80972,\"fTsumwx\":191722160153.896,\"fTsumwx2\":212810382563690,\"fMaximum\":-1111,\"fMinimum\":-1111,\"fNormFactor\":0,\"fContour\":[],\"fSumw2\":[],\"fOption\":\"\",\"fFunctions\":{\"_typename\":\"TList\",\"name\":\"TList\",\"arr\":[{\"_typename\":\"TPaveStats\",\"fUniqueID\":0,\"fBits\":9,\"fLineColor\":1,\"fLineStyle\":1,\"fLineWidth\":1,\"fFillColor\":0,\"fFillStyle\":1001,\"fX1\":1700.00005066395,\"fY1\":10052367.956042,\"fX2\":2200.00006556511,\"fY2\":12435151.4182888,\"fX1NDC\":0.780000016093254,\"fY1NDC\":0.775000005960464,\"fX2NDC\":0.980000019073486,\"fY2NDC\":0.935000002384186,\"fBorderSize\":1,\"fInit\":1,\"fShadowColor\":1,\"fCornerRadius\":0,\"fOption\":\"brNDC\",\"fName\":\"stats\",\"fTextAngle\":0,\"fTextSize\":0,\"fTextAlign\":12,\"fTextColor\":1,\"fTextFont\":42,\"fLabel\":\"\",\"fLongest\":24,\"fMargin\":0.05,\"fLines\":{\"_typename\":\"TList\",\"name\":\"TList\",\"arr\":[{\"_typename\":\"TLatex\",\"fUniqueID\":0,\"fBits\":0,\"fName\":\"\",\"fTitle\":\"hsingle_110deg\",\"fTextAngle\":0,\"fTextSize\":0.0368,\"fTextAlign\":0,\"fTextColor\":0,\"fTextFont\":0,\"fX\":0,\"fY\":0,\"fLineColor\":1,\"fLineStyle\":1,\"fLineWidth\":2,\"fLimitFactorSize\":3,\"fOriginSize\":0.0368000008165836},{\"_typename\":\"TLatex\",\"fUniqueID\":0,\"fBits\":0,\"fName\":\"\",\"fTitle\":\"Entries =   1.912156e+07\",\"fTextAngle\":0,\"fTextSize\":0,\"fTextAlign\":0,\"fTextColor\":0,\"fTextFont\":0,\"fX\":0,\"fY\":0,\"fLineColor\":1,\"fLineStyle\":1,\"fLineWidth\":2,\"fLimitFactorSize\":3,\"fOriginSize\":0.04},{\"_typename\":\"TLatex\",\"fUniqueID\":0,\"fBits\":0,\"fName\":\"\",\"fTitle\":\"Mean  =  834.1\",\"fTextAngle\":0,\"fTextSize\":0,\"fTextAlign\":0,\"fTextColor\":0,\"fTextFont\":0,\"fX\":0,\"fY\":0,\"fLineColor\":1,\"fLineStyle\":1,\"fLineWidth\":2,\"fLimitFactorSize\":3,\"fOriginSize\":0.04},{\"_typename\":\"TLatex\",\"fUniqueID\":0,\"fBits\":0,\"fName\":\"\",\"fTitle\":\"Std Dev   =  182.3\",\"fTextAngle\":0,\"fTextSize\":0,\"fTextAlign\":0,\"fTextColor\":0,\"fTextFont\":0,\"fX\":0,\"fY\":0,\"fLineColor\":1,\"fLineStyle\":1,\"fLineWidth\":2,\"fLimitFactorSize\":3,\"fOriginSize\":0.04}],\"opt\":[\"\",\"\",\"\",\"\"]},\"fOptFit\":0,\"fOptStat\":1111,\"fFitFormat\":\"5.4g\",\"fStatFormat\":\"6.4g\",\"fParent\":{\"$ref\":3}},{\"_typename\":\"TF1\",\"fUniqueID\":0,\"fBits\":1024,\"fName\":\"f\",\"fTitle\":\"pol1(0)+gaus(2)+gaus(5)\",\"fLineColor\":2,\"fLineStyle\":1,\"fLineWidth\":2,\"fFillColor\":19,\"fFillStyle\":0,\"fMarkerColor\":1,\"fMarkerStyle\":1,\"fMarkerSize\":1,\"fXmin\":770,\"fXmax\":890,\"fNpar\":8,\"fNdim\":1,\"fNpx\":100,\"fType\":0,\"fNpfits\":15,\"fNDF\":9,\"fChisquare\":82993.9927144802,\"fMinimum\":-1111,\"fMaximum\":-1111,\"fParErrors\":[0,0,2119.42282092199,0.00353191823381849,0.00351448153794021,1836.64285900397,0.00622968613072317,0.00688862932384193],\"fParMin\":[-8500000,12500,1,750,0.5,1,800,0.5],\"fParMax\":[-8500000,12500,10000000000,850,50,10000000000,900,50],\"fSave\":[1624128.8182983,1739230.56953434,1870230.06988546,2018727.07822585,2186292.21852918,2374421.82446474,2584486.87652492,2817676.9009363,3074940.07369247,3356921.14927943,3663899.19126629,3995727.39785269,4351777.5655943,4730891.8951739,5131344.89265326,5550818.04038805,5986389.6915461,6434542.27589567,6891188.39550033,7351716.74952863,7811058.07916253,8263770.49692334,8704142.69758944,9126312.68396674,9524398.82717433,9892639.3654209,10225535.8724819,10517995.8365527,10765469.3124963,10964074.665257,11110708.7159062,11203137.1269881,11240061.5990113,11221161.3603895,11147107.4728369,11019549.5884709,10841075.9236421,10615148.2962162,10346015.0484581,10038605.4938078,9698410.13931215,9331351.31540038,8943648.97466455,8541686.30051151,8131879.40982244,7720554.87060689,7313838.02840789,6917554.29628806,6537144.67167658,6177595.86104329,5843384.58084316,5538434.91557907,5266087.09699605,5029075.75552538,4829515.60397851,4668892.64492941,4548059.33031727,4467232.61055365,4425994.44165189,4423295.01139846,4457459.63042459,4526200.83979945,4626637.74538218,4755324.84192087,4908292.59306534,5081101.76319909,5268912.95268898,5466571.99410048,5668710.87181108,5869862.7015825,6064588.13699239,6247609.45298716,6413947.59170041,6559056.73348137,6678950.55252924,6770314.28419708,6830597.09367286,6858079.98520605,6851915.58701383,6812137.51981383,6739638.61316975,6636118.86419893,6504005.62188598,6346349.91497604,6166704.02295966,5968986.24008245,5757339.25109052,5535988.60483831,5309107.4495344,5080693.02181612,4854459.42564557,4633750.07817903,4421471.92971703,4220052.27637162,4031417.76364423,3856994.10040179,3697724.1220013,3554101.19455287,3426214.55464107,3313803.02564645,3216313.62158498,770,890],\"fNormalized\":false,\"fNormIntegral\":0,\"fFormula\":{\"_typename\":\"TFormula\",\"fUniqueID\":0,\"fBits\":1024,\"fName\":\"f\",\"fTitle\":\"pol1(0)+gaus(2)+gaus(5)\",\"fClingParameters\":[-8500000,12500,9633739.12819554,808.258496090777,15.7237134490933,4552508.12909799,862.483840327185,13.6188272971404],\"fAllParametersSetted\":true,\"fParams\":[{\"$pair\":\"pair<TString,int,TFormulaParamOrder>\",\"first\":\"p0\",\"second\":0},{\"$pair\":\"pair<TString,int,TFormulaParamOrder>\",\"first\":\"p1\",\"second\":1},{\"$pair\":\"pair<TString,int,TFormulaParamOrder>\",\"first\":\"p2\",\"second\":2},{\"$pair\":\"pair<TString,int,TFormulaParamOrder>\",\"first\":\"p3\",\"second\":3},{\"$pair\":\"pair<TString,int,TFormulaParamOrder>\",\"first\":\"p4\",\"second\":4},{\"$pair\":\"pair<TString,int,TFormulaParamOrder>\",\"first\":\"p5\",\"second\":5},{\"$pair\":\"pair<TString,int,TFormulaParamOrder>\",\"first\":\"p6\",\"second\":6},{\"$pair\":\"pair<TString,int,TFormulaParamOrder>\",\"first\":\"p7\",\"second\":7}],\"fFormula\":\"([p0]+[p1]*x)+[p2]*exp(-0.5*((x-[p3])\\/[p4])*((x-[p3])\\/[p4]))+[p5]*exp(-0.5*((x-[p6])\\/[p7])*((x-[p6])\\/[p7]))\",\"fNdim\":1,\"fLinearParts\":[],\"fVectorized\":false},\"fParams\":null,\"fComposition_ptr\":null}],\"opt\":[\"brNDC\",\"\"]},\"fBufferSize\":0,\"fBuffer\":[],\"fBinStatErrOpt\":0,\"fStatOverflows\":2,\"fArray\":[0,0,0,0,0,0,231,385,561,4598,5577,7128,8041,9328,10560,12122,15037,19888,30415,48466,76846,123431,169345,214258,247852,271348,288684,301422,315623,329494,344663,356873,372713,380875,392161,395989,399586,399740,399619,403216,400246,405823,401456,405163,406241,402721,404657,406362,402193,403953,404338,403645,403502,399861,400488,405669,400565,401687,400433,406417,407242,405218,400609,404129,402039,405273,405251,404503,403436,407055,407528,406054,403359,408177,404800,404943,405713,413523,410509,407891,419496,417923,425953,432828,444895,462121,472659,488092,502733,529859,556479,595166,643709,712910,829763,1037905,1420342,2101924,3250753,5288888,8302602,11033308,11346588,9044970,6225197,4685923,4622508,5692049,6820000,6566604,5135273,3937945,3317259,3071486,2981154,2981957,3031963,3100713,3326829,3864212,4901534,6642361,8290821,7673259,5194893,3196754,2257332,1809918,1547381,1383173,1295998,1256211,1218866,1147696,1036189,910107,784157,674102,573826,486332,399982,314710,216381,127446,68090,37961,24706,17347,13035,11374,10615,10142,10032,9317,8602,9229,8866,8349,8668,8712,8833,8382,8712,8393,8338,7590,7865,7667,7392,7590,7161,7832,7117,7161,7183,7205,6820,7029,7029,7777,6886,6666,7084,6633,6688,6435,6974,7106,6886,7029,7194,6611,7095,6787,6644,6633,6974,6490,6600,6644,7040,6941,7051,6798,6952,7194,5929,6732,6677,6732,6578,6413,6446,6072,6050,6182,5885,6127,6281,6072,5797,5918,6776,6061,5841,5786,5874,5456,5808,5115,5434,5500,5170,4774,4631,4939,4356,4642,4301,4400,3927,3762,3663,3696,3465,3476,3553,3674,3696,3311,2959,3487,3267,2915,3091,3278,3333,3135,3410,2783,3157,3234,2728,2739,3058,3289,3058,3036,3212,2662,2596,3355,3003,2783,2761,2706,2816,2684,2816,2442,2937,2937,2761,2816,3058,2706,2739,2596,2651,2948,2882,2948,2552,2673,2508,2475,2761,2673,2585,2541,2563,2574,2794,2783,2684,2761,3454,2596,2552,2365,2629,2816,2684,2662,2508,3135,2882,2651,2959,2937,3102,3135,3014,2970,3157,2904,2816,3168,3201,3212,3080,3113,3102,3201,3036,3289,3014,3300,3168,3080,3399,3300,3201,3311,3410,3531,3366,3520,3850,3322,3564,3498,3080,3333,3696,3289,3586,3487,3740,3729,3960,3872,3861,4158,3861,3454,3883,4026,3806,4147,3949,4037,3894,4070,4422,3971,4202,4378,4598,4785,4620,4939,4796,4411,4323,4972,4807,4961,4763,5731,4862,4884,5500,4609,5841,5687,5522,5555,5819,5731,5412,5577,5929,6050,6061,6149,6006,5995,6479,6479,6490,6446,6941,6787,6325,6765,6831,7260,6886,7414,7018,7502,7854,7601,7645,8052,7975,8470,7997,7997,8712,8921,8503,8987,8866,8767,8668,8932,9757,9680,9218,10021,9856,9383,9801,10054,10362,10208,10846,10890,11484,11396,11066,10956,10824,11913,12243,12166,12012,12474,12012,12771,13387,12694,12969,13563,13673,13024,14080,14586,14278,14872,14938,15609,15015,15708,15796,16082,16511,16896,16060,16632,17567,17765,17072,17457,17490,18315,19041,18337,18777,19041,19382,19987,19404,20482,20493,20460,19954,21274,21384,20757,20966,21505,21604,21142,21505,22462,22264,22110,22407,22990,22495,21626,21934,22484,22396,22374,23397,23155,22792,22396,22473,22495,22902,22110,22979,22803,22297,21901,21692,22396,21879,21846,21406,20097,21054,20020,20416,19910,19547,19987,18986,18744,19503,18194,18051,17842,18150,16544,16742,16500,16643,15136,14850,14641,15477,14828,13442,14135,13519,13266,12408,12375,12386,11825,11506,11704,10307,10219,10373,9988,10274,9295,9691,9053,9075,8140,8723,8778,8129,7480,7260,7293,6787,7007,6974,7029,6369,6380,6314,6237,5786,5577,5698,5676,5544,5423,4983,4906,5302,4697,4488,4829,4598,4521,4125,4103,4081,3916,4279,3619,3553,3553,3597,3366,3432,3289,3311,3058,3036,2662,2948,3058,2937,3014,2761,2607,2420,2607,2574,2552,2189,2343,2178,2156,2079,1892,2024,1947,1815,2057,1705,1683,1496,1705,1441,1573,1606,1694,1562,1364,1298,1518,1408,1518,1298,1155,1243,1298,1210,1298,924,1012,1243,1177,1034,935,1067,858,968,847,814,825,858,836,869,814,770,638,737,550,605,715,594,638,693,682,693,671,539,528,539,396,737,594,539,605,429,473,451,462,418,561,352,330,396,385,407,451,462,451,275,363,330,484,297,242,396,198,242,242,253,209,143,121,220,275,253,132,187,187,220,121,121,110,165,143,154,121,143,110,187,198,110,176,198,242,275,473,627,759,1078,1419,1782,2233,2827,3289,3828,3927,3817,4158,3982,3212,3003,2453,2013,1793,1342,1441,1210,946,1034,979,671,770,627,506,539,385,407,253,176,220,198,77,11,22,55,22,22,33,0,0,0,0,0,0,0,11,0,0,0,0,0,0,0,0,11,0,0,0,0,0,0,0,0,0,0,0,0,0,0,0,0,0,0,11,0,0,0,0,0,0,0,0,0,0,0,0,0,0,0,0,0,0,0,0,0,0,0,0,0,0,0,0,0,0,0,0,0,0,0,0,0,0,0,0,0,0,0,0,0,0,0,0,0,0,0,0,11,0,0,11,11,11,11,11,44,22,33,22,33,22,11,11,0,11,0,11,0,0,11,11,11,0,0,0,0,22,0,0,11,0,0,0,11,0,0,0,0,0,0,0,0,0,0,0,0,0,0,0,0,0,0,0,0,0,0,0,0,0,0,0,0,0,0,0,0,0,0,0,0,0,0,0,0,0,0,0,0,0,0,0,0,0,0,0,0,0,0,0,0,0,0,0,0,0,0,0,0,0,0,0,0,0,0,0,0,0,0,0,0,0,0,0,0,0,0,0,0,0]},{\"_typename\":\"TF1\",\"fUniqueID\":0,\"fBits\":8,\"fName\":\"f\",\"fTitle\":\"pol1(0)+gaus(2)+gaus(5)\",\"fLineColor\":632,\"fLineStyle\":1,\"fLineWidth\":2,\"fFillColor\":19,\"fFillStyle\":0,\"fMarkerColor\":1,\"fMarkerStyle\":1,\"fMarkerSize\":1,\"fXmin\":770,\"fXmax\":890,\"fNpar\":8,\"fNdim\":1,\"fNpx\":100,\"fType\":0,\"fNpfits\":15,\"fNDF\":9,\"fChisquare\":82993.9927144802,\"fMinimum\":-1111,\"fMaximum\":-1111,\"fParErrors\":[0,0,2119.42282092199,0.00353191823381849,0.00351448153794021,1836.64285900397,0.00622968613072317,0.00688862932384193],\"fParMin\":[-8500000,12500,1,750,0.5,1,800,0.5],\"fParMax\":[-8500000,12500,10000000000,850,50,10000000000,900,50],\"fSave\":[],\"fNormalized\":false,\"fNormIntegral\":0,\"fFormula\":{\"_typename\":\"TFormula\",\"fUniqueID\":0,\"fBits\":1024,\"fName\":\"f\",\"fTitle\":\"pol1(0)+gaus(2)+gaus(5)\",\"fClingParameters\":[-8500000,12500,9633739.12819554,808.258496090777,15.7237134490933,4552508.12909799,862.483840327185,13.6188272971404],\"fAllParametersSetted\":true,\"fParams\":[{\"$pair\":\"pair<TString,int,TFormulaParamOrder>\",\"first\":\"p0\",\"second\":0},{\"$pair\":\"pair<TString,int,TFormulaParamOrder>\",\"first\":\"p1\",\"second\":1},{\"$pair\":\"pair<TString,int,TFormulaParamOrder>\",\"first\":\"p2\",\"second\":2},{\"$pair\":\"pair<TString,int,TFormulaParamOrder>\",\"first\":\"p3\",\"second\":3},{\"$pair\":\"pair<TString,int,TFormulaParamOrder>\",\"first\":\"p4\",\"second\":4},{\"$pair\":\"pair<TString,int,TFormulaParamOrder>\",\"first\":\"p5\",\"second\":5},{\"$pair\":\"pair<TString,int,TFormulaParamOrder>\",\"first\":\"p6\",\"second\":6},{\"$pair\":\"pair<TString,int,TFormulaParamOrder>\",\"first\":\"p7\",\"second\":7}],\"fFormula\":\"([p0]+[p1]*x)+[p2]*exp(-0.5*((x-[p3])\\/[p4])*((x-[p3])\\/[p4]))+[p5]*exp(-0.5*((x-[p6])\\/[p7])*((x-[p6])\\/[p7]))\",\"fNdim\":1,\"fLinearParts\":[],\"fVectorized\":false},\"fParams\":null,\"fComposition_ptr\":null},{\"_typename\":\"TF1\",\"fUniqueID\":0,\"fBits\":8,\"fName\":\"f1\",\"fTitle\":\"pol1\",\"fLineColor\":600,\"fLineStyle\":1,\"fLineWidth\":2,\"fFillColor\":19,\"fFillStyle\":0,\"fMarkerColor\":1,\"fMarkerStyle\":1,\"fMarkerSize\":1,\"fXmin\":0,\"fXmax\":2000,\"fNpar\":2,\"fNdim\":1,\"fNpx\":100,\"fType\":0,\"fNpfits\":0,\"fNDF\":0,\"fChisquare\":0,\"fMinimum\":-1111,\"fMaximum\":-1111,\"fParErrors\":[0,0],\"fParMin\":[0,0],\"fParMax\":[0,0],\"fSave\":[],\"fNormalized\":false,\"fNormIntegral\":0,\"fFormula\":{\"_typename\":\"TFormula\",\"fUniqueID\":0,\"fBits\":66560,\"fName\":\"f1\",\"fTitle\":\"pol1\",\"fClingParameters\":[-8500000,12500],\"fAllParametersSetted\":true,\"fParams\":[{\"$pair\":\"pair<TString,int,TFormulaParamOrder>\",\"first\":\"p0\",\"second\":0},{\"$pair\":\"pair<TString,int,TFormulaParamOrder>\",\"first\":\"p1\",\"second\":1}],\"fFormula\":\"([p0]+[p1]*x)\",\"fNdim\":1,\"fLinearParts\":[],\"fVectorized\":false},\"fParams\":null,\"fComposition_ptr\":null}],\"opt\":[\"\",\"\",\"same\",\"same\"]},\"fExecs\":null,\"fName\":\"c1\",\"fTitle\":\"c1\",\"fNumPaletteColor\":0,\"fNextPaletteColor\":0,\"fDISPLAY\":\"$DISPLAY\",\"fDoubleBuffer\":0,\"fRetained\":true,\"fXsizeUser\":0,\"fYsizeUser\":0,\"fXsizeReal\":20,\"fYsizeReal\":14.28571,\"fWindowTopX\":0,\"fWindowTopY\":0,\"fWindowWidth\":0,\"fWindowHeight\":0,\"fCw\":696,\"fCh\":472,\"fCatt\":{\"_typename\":\"TAttCanvas\",\"fXBetween\":2,\"fYBetween\":2,\"fTitleFromTop\":1.2,\"fXdate\":0.2,\"fYdate\":0.3,\"fAdate\":1},\"kMoveOpaque\":true,\"kResizeOpaque\":true,\"fHighLightColor\":2,\"fBatch\":true,\"kShowEventStatus\":false,\"kAutoExec\":true,\"kMenuBar\":true});\n",
       "            Core.draw(\"root_plot_1696901076287\", obj, \"\");\n",
       "        }\n",
       "    );\n",
       "}\n",
       "</script>\n"
      ],
      "text/plain": [
       "<IPython.core.display.HTML object>"
      ]
     },
     "metadata": {},
     "output_type": "display_data"
    },
    {
     "name": "stdout",
     "output_type": "stream",
     "text": [
      "count=6.78764e+07 delta_count=12552.9\n",
      "0 peak=808.258 height=9.63374e+06 sigma=15.7237 contribution=4.74624e+07\n",
      "1 peak=862.484 height=4.55251e+06 sigma=13.6188 contribution=1.94263e+07\n"
     ]
    }
   ],
   "source": [
    "e = vector<double> {800, 850};\n",
    "k = 12500; b = -8500e3;                      //线性本底参数\n",
    "fit_left = 770; fit_right = 890;       //联合拟合范围\n",
    "area_left = 744; area_right = 920;\n",
    "area(h[10]);\n",
    "c1->Draw();"
   ]
  },
  {
   "cell_type": "code",
   "execution_count": 122,
   "id": "f3bf950c",
   "metadata": {},
   "outputs": [
    {
     "data": {
      "text/html": [
       "\n",
       "<div id=\"root_plot_1696901295617\"\n",
       "     style=\"width: 696px; height: 472px\">\n",
       "</div>\n",
       "<script>\n",
       "if (typeof require !== 'undefined') {\n",
       "\n",
       "    // All requirements met (we are in jupyter notebooks or we loaded requirejs before).\n",
       "    display_root_plot_1696901295617();\n",
       "\n",
       "} else {\n",
       "\n",
       "    // We are in jupyterlab, we need to insert requirejs and configure it.\n",
       "    // Jupyterlab might be installed in a different base_url so we need to know it.\n",
       "    try {\n",
       "        var base_url = JSON.parse(document.getElementById('jupyter-config-data').innerHTML).baseUrl;\n",
       "    } catch(_) {\n",
       "        var base_url = '/';\n",
       "    }\n",
       "\n",
       "    // Try loading a local version of requirejs and fallback to cdn if not possible.\n",
       "    requirejs_load(base_url + 'static/components/requirejs/require.js', requirejs_success(base_url), function(){\n",
       "        requirejs_load('https://cdnjs.cloudflare.com/ajax/libs/require.js/2.2.0/require.min.js', requirejs_success(base_url), function(){\n",
       "            document.getElementById(\"root_plot_1696901295617\").innerHTML = \"Failed to load requireJs\";\n",
       "        });\n",
       "    });\n",
       "}\n",
       "\n",
       "function requirejs_load(src, on_load, on_error) {\n",
       "    var script = document.createElement('script');\n",
       "    script.src = src;\n",
       "    script.onload = on_load;\n",
       "    script.onerror = on_error;\n",
       "    document.head.appendChild(script);\n",
       "}\n",
       "\n",
       "function requirejs_success(base_url) {\n",
       "    return function() {\n",
       "        require.config({\n",
       "            baseUrl: base_url + 'static/'\n",
       "        });\n",
       "        display_root_plot_1696901295617();\n",
       "    }\n",
       "}\n",
       "\n",
       "function display_root_plot_1696901295617() {\n",
       "    require(['scripts/JSRootCore'],\n",
       "        function(Core) {\n",
       "            var obj = Core.JSONR_unref({\"_typename\":\"TCanvas\",\"fUniqueID\":0,\"fBits\":3342344,\"fLineColor\":1,\"fLineStyle\":1,\"fLineWidth\":1,\"fFillColor\":0,\"fFillStyle\":1001,\"fLeftMargin\":0.1,\"fRightMargin\":0.1,\"fBottomMargin\":0.1,\"fTopMargin\":0.1,\"fXfile\":2,\"fYfile\":2,\"fAfile\":1,\"fXstat\":0.99,\"fYstat\":0.99,\"fAstat\":2,\"fFrameFillColor\":0,\"fFrameLineColor\":1,\"fFrameFillStyle\":1001,\"fFrameLineStyle\":1,\"fFrameLineWidth\":1,\"fFrameBorderSize\":1,\"fFrameBorderMode\":0,\"fX1\":-250.000018626453,\"fY1\":-1489239.78595701,\"fX2\":2250.00001862645,\"fY2\":13403157.185957,\"fXtoAbsPixelk\":69.6000541484835,\"fXtoPixelk\":69.6000541484835,\"fXtoPixel\":0.278399995851517,\"fYtoAbsPixelk\":424.800047186661,\"fYtoPixelk\":424.800047186661,\"fYtoPixel\":-3.16940248698821e-5,\"fUtoAbsPixelk\":5e-5,\"fUtoPixelk\":5e-5,\"fUtoPixel\":696,\"fVtoAbsPixelk\":472.00005,\"fVtoPixelk\":472,\"fVtoPixel\":-472,\"fAbsPixeltoXk\":-250.000018626453,\"fPixeltoXk\":-250.000018626453,\"fPixeltoX\":3.59195407651279,\"fAbsPixeltoYk\":13403157.185957,\"fPixeltoYk\":-1489239.78595701,\"fPixeltoY\":-31551.6884998178,\"fXlowNDC\":0,\"fYlowNDC\":0,\"fXUpNDC\":1,\"fYUpNDC\":1,\"fWNDC\":1,\"fHNDC\":1,\"fAbsXlowNDC\":0,\"fAbsYlowNDC\":0,\"fAbsWNDC\":1,\"fAbsHNDC\":1,\"fUxmin\":0,\"fUymin\":0,\"fUxmax\":2000,\"fUymax\":11913917.4,\"fTheta\":30,\"fPhi\":30,\"fAspectRatio\":0,\"fNumber\":0,\"fTickx\":0,\"fTicky\":0,\"fLogx\":0,\"fLogy\":0,\"fLogz\":0,\"fPadPaint\":0,\"fCrosshair\":0,\"fCrosshairPos\":0,\"fBorderSize\":2,\"fBorderMode\":0,\"fModified\":false,\"fGridx\":false,\"fGridy\":false,\"fAbsCoord\":false,\"fEditable\":true,\"fFixedAspectRatio\":false,\"fPrimitives\":{\"_typename\":\"TList\",\"name\":\"TList\",\"arr\":[{\"_typename\":\"TFrame\",\"fUniqueID\":0,\"fBits\":8,\"fLineColor\":1,\"fLineStyle\":1,\"fLineWidth\":1,\"fFillColor\":0,\"fFillStyle\":1001,\"fX1\":0,\"fY1\":0,\"fX2\":2000,\"fY2\":11913917.4,\"fBorderSize\":1,\"fBorderMode\":0},{\"_typename\":\"TH1I\",\"fUniqueID\":0,\"fBits\":8,\"fName\":\"hsingle_110deg\",\"fTitle\":\"\",\"fLineColor\":602,\"fLineStyle\":1,\"fLineWidth\":1,\"fFillColor\":0,\"fFillStyle\":1001,\"fMarkerColor\":1,\"fMarkerStyle\":1,\"fMarkerSize\":1,\"fNcells\":1002,\"fXaxis\":{\"_typename\":\"TAxis\",\"fUniqueID\":0,\"fBits\":2048,\"fName\":\"xaxis\",\"fTitle\":\"\",\"fNdivisions\":510,\"fAxisColor\":1,\"fLabelColor\":1,\"fLabelFont\":42,\"fLabelOffset\":0.005,\"fLabelSize\":0.035,\"fTickLength\":0.03,\"fTitleOffset\":1,\"fTitleSize\":0.035,\"fTitleColor\":1,\"fTitleFont\":42,\"fNbins\":1000,\"fXmin\":0,\"fXmax\":8000,\"fXbins\":[],\"fFirst\":1,\"fLast\":250,\"fBits2\":0,\"fTimeDisplay\":false,\"fTimeFormat\":\"\",\"fLabels\":null,\"fModLabs\":null},\"fYaxis\":{\"_typename\":\"TAxis\",\"fUniqueID\":0,\"fBits\":0,\"fName\":\"yaxis\",\"fTitle\":\"\",\"fNdivisions\":510,\"fAxisColor\":1,\"fLabelColor\":1,\"fLabelFont\":42,\"fLabelOffset\":0.005,\"fLabelSize\":0.035,\"fTickLength\":0.03,\"fTitleOffset\":0,\"fTitleSize\":0.035,\"fTitleColor\":1,\"fTitleFont\":42,\"fNbins\":1,\"fXmin\":0,\"fXmax\":1,\"fXbins\":[],\"fFirst\":0,\"fLast\":0,\"fBits2\":0,\"fTimeDisplay\":false,\"fTimeFormat\":\"\",\"fLabels\":null,\"fModLabs\":null},\"fZaxis\":{\"_typename\":\"TAxis\",\"fUniqueID\":0,\"fBits\":0,\"fName\":\"zaxis\",\"fTitle\":\"\",\"fNdivisions\":510,\"fAxisColor\":1,\"fLabelColor\":1,\"fLabelFont\":42,\"fLabelOffset\":0.005,\"fLabelSize\":0.035,\"fTickLength\":0.03,\"fTitleOffset\":1,\"fTitleSize\":0.035,\"fTitleColor\":1,\"fTitleFont\":42,\"fNbins\":1,\"fXmin\":0,\"fXmax\":1,\"fXbins\":[],\"fFirst\":0,\"fLast\":0,\"fBits2\":0,\"fTimeDisplay\":false,\"fTimeFormat\":\"\",\"fLabels\":null,\"fModLabs\":null},\"fBarOffset\":0,\"fBarWidth\":1000,\"fEntries\":19121557,\"fTsumw\":216453630.385122,\"fTsumw2\":2450227986.80972,\"fTsumwx\":191722160153.896,\"fTsumwx2\":212810382563690,\"fMaximum\":-1111,\"fMinimum\":-1111,\"fNormFactor\":0,\"fContour\":[],\"fSumw2\":[],\"fOption\":\"\",\"fFunctions\":{\"_typename\":\"TList\",\"name\":\"TList\",\"arr\":[{\"_typename\":\"TPaveStats\",\"fUniqueID\":0,\"fBits\":9,\"fLineColor\":1,\"fLineStyle\":1,\"fLineWidth\":1,\"fFillColor\":0,\"fFillStyle\":1001,\"fX1\":1700.00005066395,\"fY1\":10052367.956042,\"fX2\":2200.00006556511,\"fY2\":12435151.4182888,\"fX1NDC\":0.780000016093254,\"fY1NDC\":0.775000005960464,\"fX2NDC\":0.980000019073486,\"fY2NDC\":0.935000002384186,\"fBorderSize\":1,\"fInit\":1,\"fShadowColor\":1,\"fCornerRadius\":0,\"fOption\":\"brNDC\",\"fName\":\"stats\",\"fTextAngle\":0,\"fTextSize\":0,\"fTextAlign\":12,\"fTextColor\":1,\"fTextFont\":42,\"fLabel\":\"\",\"fLongest\":24,\"fMargin\":0.05,\"fLines\":{\"_typename\":\"TList\",\"name\":\"TList\",\"arr\":[{\"_typename\":\"TLatex\",\"fUniqueID\":0,\"fBits\":0,\"fName\":\"\",\"fTitle\":\"hsingle_110deg\",\"fTextAngle\":0,\"fTextSize\":0.0368,\"fTextAlign\":0,\"fTextColor\":0,\"fTextFont\":0,\"fX\":0,\"fY\":0,\"fLineColor\":1,\"fLineStyle\":1,\"fLineWidth\":2,\"fLimitFactorSize\":3,\"fOriginSize\":0.0368000008165836},{\"_typename\":\"TLatex\",\"fUniqueID\":0,\"fBits\":0,\"fName\":\"\",\"fTitle\":\"Entries =   1.912156e+07\",\"fTextAngle\":0,\"fTextSize\":0,\"fTextAlign\":0,\"fTextColor\":0,\"fTextFont\":0,\"fX\":0,\"fY\":0,\"fLineColor\":1,\"fLineStyle\":1,\"fLineWidth\":2,\"fLimitFactorSize\":3,\"fOriginSize\":0.04},{\"_typename\":\"TLatex\",\"fUniqueID\":0,\"fBits\":0,\"fName\":\"\",\"fTitle\":\"Mean  =  834.1\",\"fTextAngle\":0,\"fTextSize\":0,\"fTextAlign\":0,\"fTextColor\":0,\"fTextFont\":0,\"fX\":0,\"fY\":0,\"fLineColor\":1,\"fLineStyle\":1,\"fLineWidth\":2,\"fLimitFactorSize\":3,\"fOriginSize\":0.04},{\"_typename\":\"TLatex\",\"fUniqueID\":0,\"fBits\":0,\"fName\":\"\",\"fTitle\":\"Std Dev   =  182.3\",\"fTextAngle\":0,\"fTextSize\":0,\"fTextAlign\":0,\"fTextColor\":0,\"fTextFont\":0,\"fX\":0,\"fY\":0,\"fLineColor\":1,\"fLineStyle\":1,\"fLineWidth\":2,\"fLimitFactorSize\":3,\"fOriginSize\":0.04}],\"opt\":[\"\",\"\",\"\",\"\"]},\"fOptFit\":0,\"fOptStat\":1111,\"fFitFormat\":\"5.4g\",\"fStatFormat\":\"6.4g\",\"fParent\":{\"$ref\":3}},{\"_typename\":\"TF1\",\"fUniqueID\":0,\"fBits\":1024,\"fName\":\"f\",\"fTitle\":\"pol1(0)+gaus(2)\",\"fLineColor\":2,\"fLineStyle\":1,\"fLineWidth\":2,\"fFillColor\":19,\"fFillStyle\":0,\"fMarkerColor\":1,\"fMarkerStyle\":1,\"fMarkerSize\":1,\"fXmin\":945,\"fXmax\":1010,\"fNpar\":5,\"fNdim\":1,\"fNpx\":100,\"fType\":0,\"fNpfits\":8,\"fNDF\":5,\"fChisquare\":72682.4249352714,\"fMinimum\":-1111,\"fMaximum\":-1111,\"fParErrors\":[0,0,1944.87495283596,0.00418668175086623,0.0041256882711691],\"fParMin\":[15300000,-13500,1,910,0.5],\"fParMax\":[15300000,-13500,10000000000,1010,50],\"fSave\":[3189647.79067873,3249422.31977018,3314615.97096329,3385426.74373649,3462031.65749043,3544582.91030555,3633203.95853538,3727985.56677764,3828981.8830653,3936206.59885971,4049629.25745165,4169171.77752792,4294705.26079745,4426047.15355459,4562958.83177205,4705143.67766323,4852245.71256131,5003848.84638873,5159476.79792274,5318593.73252631,5480605.65507094,5644862.5855249,5810661.53325937,5977250.27370444,6143831.91777839,6309570.25075551,6473595.80319325,6635012.60249842,6792905.53997192,6946348.27504116,7094411.58617802,7236172.06700294,7370721.05658018,7497173.68516896,7614677.91093762,7722423.41956064,7819650.25733919,7905657.06961022,7979808.81976925,8041543.87021199,8090380.31482086,8125921.46315215,8147860.38903113,8155983.47059853,8150172.8646913,8130407.8754638,8096765.19501354,8049418.01209783,7988634.00343137,7914772.24015627,7828279.0594975,7729682.96800036,7619588.65775735,7498670.23037319,7367663.73483055,7227359.13469765,7078591.82710539,6922233.8405154,6759184.84045728,6590363.07214751,6416696.36627986,6239113.32942218,6058534.83352956,5875865.91030424,5691988.14574008,5507752.65845719,5323973.73265584,5141423.16299925,4960825.35478404,4782853.20867883,4608124.80539703,4437200.89219805,4270583.16032828,4108713.290644,3951972.73389149,3800683.18260479,3655107.68343975,3515452.33206515,3381868.48752342,3254455.43925539,3133263.45772636,3018297.15873603,2909519.11195236,2806853.62587231,2710190.6441501,2619389.69190568,2534283.81508083,2454683.46099184,2380380.25378031,2311150.6243343,2246759.26029384,2186962.34783374,2131510.58290499,2080151.93540709,2032634.1552603,1988707.01447033,1948124.28396736,1910645.44820788,1876037.16422237,1844074.47495797,1814541.7893987,945,1010],\"fNormalized\":false,\"fNormIntegral\":0,\"fFormula\":{\"_typename\":\"TFormula\",\"fUniqueID\":0,\"fBits\":1024,\"fName\":\"f\",\"fTitle\":\"pol1(0)+gaus(2)\",\"fClingParameters\":[15300000,-13500,5994350.76106159,973.413009638312,13.4660384103409],\"fAllParametersSetted\":true,\"fParams\":[{\"$pair\":\"pair<TString,int,TFormulaParamOrder>\",\"first\":\"p0\",\"second\":0},{\"$pair\":\"pair<TString,int,TFormulaParamOrder>\",\"first\":\"p1\",\"second\":1},{\"$pair\":\"pair<TString,int,TFormulaParamOrder>\",\"first\":\"p2\",\"second\":2},{\"$pair\":\"pair<TString,int,TFormulaParamOrder>\",\"first\":\"p3\",\"second\":3},{\"$pair\":\"pair<TString,int,TFormulaParamOrder>\",\"first\":\"p4\",\"second\":4}],\"fFormula\":\"([p0]+[p1]*x)+[p2]*exp(-0.5*((x-[p3])\\/[p4])*((x-[p3])\\/[p4]))\",\"fNdim\":1,\"fLinearParts\":[],\"fVectorized\":false},\"fParams\":null,\"fComposition_ptr\":null}],\"opt\":[\"brNDC\",\"\"]},\"fBufferSize\":0,\"fBuffer\":[],\"fBinStatErrOpt\":0,\"fStatOverflows\":2,\"fArray\":[0,0,0,0,0,0,231,385,561,4598,5577,7128,8041,9328,10560,12122,15037,19888,30415,48466,76846,123431,169345,214258,247852,271348,288684,301422,315623,329494,344663,356873,372713,380875,392161,395989,399586,399740,399619,403216,400246,405823,401456,405163,406241,402721,404657,406362,402193,403953,404338,403645,403502,399861,400488,405669,400565,401687,400433,406417,407242,405218,400609,404129,402039,405273,405251,404503,403436,407055,407528,406054,403359,408177,404800,404943,405713,413523,410509,407891,419496,417923,425953,432828,444895,462121,472659,488092,502733,529859,556479,595166,643709,712910,829763,1037905,1420342,2101924,3250753,5288888,8302602,11033308,11346588,9044970,6225197,4685923,4622508,5692049,6820000,6566604,5135273,3937945,3317259,3071486,2981154,2981957,3031963,3100713,3326829,3864212,4901534,6642361,8290821,7673259,5194893,3196754,2257332,1809918,1547381,1383173,1295998,1256211,1218866,1147696,1036189,910107,784157,674102,573826,486332,399982,314710,216381,127446,68090,37961,24706,17347,13035,11374,10615,10142,10032,9317,8602,9229,8866,8349,8668,8712,8833,8382,8712,8393,8338,7590,7865,7667,7392,7590,7161,7832,7117,7161,7183,7205,6820,7029,7029,7777,6886,6666,7084,6633,6688,6435,6974,7106,6886,7029,7194,6611,7095,6787,6644,6633,6974,6490,6600,6644,7040,6941,7051,6798,6952,7194,5929,6732,6677,6732,6578,6413,6446,6072,6050,6182,5885,6127,6281,6072,5797,5918,6776,6061,5841,5786,5874,5456,5808,5115,5434,5500,5170,4774,4631,4939,4356,4642,4301,4400,3927,3762,3663,3696,3465,3476,3553,3674,3696,3311,2959,3487,3267,2915,3091,3278,3333,3135,3410,2783,3157,3234,2728,2739,3058,3289,3058,3036,3212,2662,2596,3355,3003,2783,2761,2706,2816,2684,2816,2442,2937,2937,2761,2816,3058,2706,2739,2596,2651,2948,2882,2948,2552,2673,2508,2475,2761,2673,2585,2541,2563,2574,2794,2783,2684,2761,3454,2596,2552,2365,2629,2816,2684,2662,2508,3135,2882,2651,2959,2937,3102,3135,3014,2970,3157,2904,2816,3168,3201,3212,3080,3113,3102,3201,3036,3289,3014,3300,3168,3080,3399,3300,3201,3311,3410,3531,3366,3520,3850,3322,3564,3498,3080,3333,3696,3289,3586,3487,3740,3729,3960,3872,3861,4158,3861,3454,3883,4026,3806,4147,3949,4037,3894,4070,4422,3971,4202,4378,4598,4785,4620,4939,4796,4411,4323,4972,4807,4961,4763,5731,4862,4884,5500,4609,5841,5687,5522,5555,5819,5731,5412,5577,5929,6050,6061,6149,6006,5995,6479,6479,6490,6446,6941,6787,6325,6765,6831,7260,6886,7414,7018,7502,7854,7601,7645,8052,7975,8470,7997,7997,8712,8921,8503,8987,8866,8767,8668,8932,9757,9680,9218,10021,9856,9383,9801,10054,10362,10208,10846,10890,11484,11396,11066,10956,10824,11913,12243,12166,12012,12474,12012,12771,13387,12694,12969,13563,13673,13024,14080,14586,14278,14872,14938,15609,15015,15708,15796,16082,16511,16896,16060,16632,17567,17765,17072,17457,17490,18315,19041,18337,18777,19041,19382,19987,19404,20482,20493,20460,19954,21274,21384,20757,20966,21505,21604,21142,21505,22462,22264,22110,22407,22990,22495,21626,21934,22484,22396,22374,23397,23155,22792,22396,22473,22495,22902,22110,22979,22803,22297,21901,21692,22396,21879,21846,21406,20097,21054,20020,20416,19910,19547,19987,18986,18744,19503,18194,18051,17842,18150,16544,16742,16500,16643,15136,14850,14641,15477,14828,13442,14135,13519,13266,12408,12375,12386,11825,11506,11704,10307,10219,10373,9988,10274,9295,9691,9053,9075,8140,8723,8778,8129,7480,7260,7293,6787,7007,6974,7029,6369,6380,6314,6237,5786,5577,5698,5676,5544,5423,4983,4906,5302,4697,4488,4829,4598,4521,4125,4103,4081,3916,4279,3619,3553,3553,3597,3366,3432,3289,3311,3058,3036,2662,2948,3058,2937,3014,2761,2607,2420,2607,2574,2552,2189,2343,2178,2156,2079,1892,2024,1947,1815,2057,1705,1683,1496,1705,1441,1573,1606,1694,1562,1364,1298,1518,1408,1518,1298,1155,1243,1298,1210,1298,924,1012,1243,1177,1034,935,1067,858,968,847,814,825,858,836,869,814,770,638,737,550,605,715,594,638,693,682,693,671,539,528,539,396,737,594,539,605,429,473,451,462,418,561,352,330,396,385,407,451,462,451,275,363,330,484,297,242,396,198,242,242,253,209,143,121,220,275,253,132,187,187,220,121,121,110,165,143,154,121,143,110,187,198,110,176,198,242,275,473,627,759,1078,1419,1782,2233,2827,3289,3828,3927,3817,4158,3982,3212,3003,2453,2013,1793,1342,1441,1210,946,1034,979,671,770,627,506,539,385,407,253,176,220,198,77,11,22,55,22,22,33,0,0,0,0,0,0,0,11,0,0,0,0,0,0,0,0,11,0,0,0,0,0,0,0,0,0,0,0,0,0,0,0,0,0,0,11,0,0,0,0,0,0,0,0,0,0,0,0,0,0,0,0,0,0,0,0,0,0,0,0,0,0,0,0,0,0,0,0,0,0,0,0,0,0,0,0,0,0,0,0,0,0,0,0,0,0,0,0,11,0,0,11,11,11,11,11,44,22,33,22,33,22,11,11,0,11,0,11,0,0,11,11,11,0,0,0,0,22,0,0,11,0,0,0,11,0,0,0,0,0,0,0,0,0,0,0,0,0,0,0,0,0,0,0,0,0,0,0,0,0,0,0,0,0,0,0,0,0,0,0,0,0,0,0,0,0,0,0,0,0,0,0,0,0,0,0,0,0,0,0,0,0,0,0,0,0,0,0,0,0,0,0,0,0,0,0,0,0,0,0,0,0,0,0,0,0,0,0,0,0]},{\"_typename\":\"TF1\",\"fUniqueID\":0,\"fBits\":8,\"fName\":\"f\",\"fTitle\":\"pol1(0)+gaus(2)\",\"fLineColor\":632,\"fLineStyle\":1,\"fLineWidth\":2,\"fFillColor\":19,\"fFillStyle\":0,\"fMarkerColor\":1,\"fMarkerStyle\":1,\"fMarkerSize\":1,\"fXmin\":945,\"fXmax\":1010,\"fNpar\":5,\"fNdim\":1,\"fNpx\":100,\"fType\":0,\"fNpfits\":8,\"fNDF\":5,\"fChisquare\":72682.4249352714,\"fMinimum\":-1111,\"fMaximum\":-1111,\"fParErrors\":[0,0,1944.87495283596,0.00418668175086623,0.0041256882711691],\"fParMin\":[15300000,-13500,1,910,0.5],\"fParMax\":[15300000,-13500,10000000000,1010,50],\"fSave\":[],\"fNormalized\":false,\"fNormIntegral\":0,\"fFormula\":{\"_typename\":\"TFormula\",\"fUniqueID\":0,\"fBits\":1024,\"fName\":\"f\",\"fTitle\":\"pol1(0)+gaus(2)\",\"fClingParameters\":[15300000,-13500,5994350.76106159,973.413009638312,13.4660384103409],\"fAllParametersSetted\":true,\"fParams\":[{\"$pair\":\"pair<TString,int,TFormulaParamOrder>\",\"first\":\"p0\",\"second\":0},{\"$pair\":\"pair<TString,int,TFormulaParamOrder>\",\"first\":\"p1\",\"second\":1},{\"$pair\":\"pair<TString,int,TFormulaParamOrder>\",\"first\":\"p2\",\"second\":2},{\"$pair\":\"pair<TString,int,TFormulaParamOrder>\",\"first\":\"p3\",\"second\":3},{\"$pair\":\"pair<TString,int,TFormulaParamOrder>\",\"first\":\"p4\",\"second\":4}],\"fFormula\":\"([p0]+[p1]*x)+[p2]*exp(-0.5*((x-[p3])\\/[p4])*((x-[p3])\\/[p4]))\",\"fNdim\":1,\"fLinearParts\":[],\"fVectorized\":false},\"fParams\":null,\"fComposition_ptr\":null},{\"_typename\":\"TF1\",\"fUniqueID\":0,\"fBits\":8,\"fName\":\"f1\",\"fTitle\":\"pol1\",\"fLineColor\":600,\"fLineStyle\":1,\"fLineWidth\":2,\"fFillColor\":19,\"fFillStyle\":0,\"fMarkerColor\":1,\"fMarkerStyle\":1,\"fMarkerSize\":1,\"fXmin\":0,\"fXmax\":2000,\"fNpar\":2,\"fNdim\":1,\"fNpx\":100,\"fType\":0,\"fNpfits\":0,\"fNDF\":0,\"fChisquare\":0,\"fMinimum\":-1111,\"fMaximum\":-1111,\"fParErrors\":[0,0],\"fParMin\":[0,0],\"fParMax\":[0,0],\"fSave\":[],\"fNormalized\":false,\"fNormIntegral\":0,\"fFormula\":{\"_typename\":\"TFormula\",\"fUniqueID\":0,\"fBits\":66560,\"fName\":\"f1\",\"fTitle\":\"pol1\",\"fClingParameters\":[15300000,-13500],\"fAllParametersSetted\":true,\"fParams\":[{\"$pair\":\"pair<TString,int,TFormulaParamOrder>\",\"first\":\"p0\",\"second\":0},{\"$pair\":\"pair<TString,int,TFormulaParamOrder>\",\"first\":\"p1\",\"second\":1}],\"fFormula\":\"([p0]+[p1]*x)\",\"fNdim\":1,\"fLinearParts\":[],\"fVectorized\":false},\"fParams\":null,\"fComposition_ptr\":null}],\"opt\":[\"\",\"\",\"same\",\"same\"]},\"fExecs\":null,\"fName\":\"c1\",\"fTitle\":\"c1\",\"fNumPaletteColor\":0,\"fNextPaletteColor\":0,\"fDISPLAY\":\"$DISPLAY\",\"fDoubleBuffer\":0,\"fRetained\":true,\"fXsizeUser\":0,\"fYsizeUser\":0,\"fXsizeReal\":20,\"fYsizeReal\":14.28571,\"fWindowTopX\":0,\"fWindowTopY\":0,\"fWindowWidth\":0,\"fWindowHeight\":0,\"fCw\":696,\"fCh\":472,\"fCatt\":{\"_typename\":\"TAttCanvas\",\"fXBetween\":2,\"fYBetween\":2,\"fTitleFromTop\":1.2,\"fXdate\":0.2,\"fYdate\":0.3,\"fAdate\":1},\"kMoveOpaque\":true,\"kResizeOpaque\":true,\"fHighLightColor\":2,\"fBatch\":true,\"kShowEventStatus\":false,\"kAutoExec\":true,\"kMenuBar\":true});\n",
       "            Core.draw(\"root_plot_1696901295617\", obj, \"\");\n",
       "        }\n",
       "    );\n",
       "}\n",
       "</script>\n"
      ],
      "text/plain": [
       "<IPython.core.display.HTML object>"
      ]
     },
     "metadata": {},
     "output_type": "display_data"
    },
    {
     "name": "stdout",
     "output_type": "stream",
     "text": [
      "count=2.6524e+07 delta_count=9118.77\n",
      "0 peak=973.413 height=5.99435e+06 sigma=13.466 contribution=2.52919e+07\n"
     ]
    }
   ],
   "source": [
    "e = vector<double> {960};\n",
    "k = -13500; b = 15300e3;                      //线性本底参数\n",
    "fit_left = 945; fit_right = 1010;       //联合拟合范围\n",
    "area_left = 920; area_right = 1016;     //峰面积计算范围\n",
    "area(h[10]);\n",
    "c1->Draw();"
   ]
  },
  {
   "cell_type": "code",
   "execution_count": 88,
   "id": "cb95c4b2",
   "metadata": {},
   "outputs": [
    {
     "data": {
      "text/html": [
       "\n",
       "<div id=\"root_plot_1696900678620\"\n",
       "     style=\"width: 696px; height: 472px\">\n",
       "</div>\n",
       "<script>\n",
       "if (typeof require !== 'undefined') {\n",
       "\n",
       "    // All requirements met (we are in jupyter notebooks or we loaded requirejs before).\n",
       "    display_root_plot_1696900678620();\n",
       "\n",
       "} else {\n",
       "\n",
       "    // We are in jupyterlab, we need to insert requirejs and configure it.\n",
       "    // Jupyterlab might be installed in a different base_url so we need to know it.\n",
       "    try {\n",
       "        var base_url = JSON.parse(document.getElementById('jupyter-config-data').innerHTML).baseUrl;\n",
       "    } catch(_) {\n",
       "        var base_url = '/';\n",
       "    }\n",
       "\n",
       "    // Try loading a local version of requirejs and fallback to cdn if not possible.\n",
       "    requirejs_load(base_url + 'static/components/requirejs/require.js', requirejs_success(base_url), function(){\n",
       "        requirejs_load('https://cdnjs.cloudflare.com/ajax/libs/require.js/2.2.0/require.min.js', requirejs_success(base_url), function(){\n",
       "            document.getElementById(\"root_plot_1696900678620\").innerHTML = \"Failed to load requireJs\";\n",
       "        });\n",
       "    });\n",
       "}\n",
       "\n",
       "function requirejs_load(src, on_load, on_error) {\n",
       "    var script = document.createElement('script');\n",
       "    script.src = src;\n",
       "    script.onload = on_load;\n",
       "    script.onerror = on_error;\n",
       "    document.head.appendChild(script);\n",
       "}\n",
       "\n",
       "function requirejs_success(base_url) {\n",
       "    return function() {\n",
       "        require.config({\n",
       "            baseUrl: base_url + 'static/'\n",
       "        });\n",
       "        display_root_plot_1696900678620();\n",
       "    }\n",
       "}\n",
       "\n",
       "function display_root_plot_1696900678620() {\n",
       "    require(['scripts/JSRootCore'],\n",
       "        function(Core) {\n",
       "            var obj = Core.JSONR_unref({\"_typename\":\"TCanvas\",\"fUniqueID\":0,\"fBits\":3342344,\"fLineColor\":1,\"fLineStyle\":1,\"fLineWidth\":1,\"fFillColor\":0,\"fFillStyle\":1001,\"fLeftMargin\":0.1,\"fRightMargin\":0.1,\"fBottomMargin\":0.1,\"fTopMargin\":0.1,\"fXfile\":2,\"fYfile\":2,\"fAfile\":1,\"fXstat\":0.99,\"fYstat\":0.99,\"fAstat\":2,\"fFrameFillColor\":0,\"fFrameLineColor\":1,\"fFrameFillStyle\":1001,\"fFrameLineStyle\":1,\"fFrameLineWidth\":1,\"fFrameBorderSize\":1,\"fFrameBorderMode\":0,\"fX1\":-250.000018626453,\"fY1\":-1488009.71086536,\"fX2\":2250.00001862645,\"fY2\":13392086.5108654,\"fXtoAbsPixelk\":69.6000541484835,\"fXtoPixelk\":69.6000541484835,\"fXtoPixel\":0.278399995851517,\"fYtoAbsPixelk\":424.800047186661,\"fYtoPixelk\":424.800047186661,\"fYtoPixel\":-3.17202249882428e-5,\"fUtoAbsPixelk\":5e-5,\"fUtoPixelk\":5e-5,\"fUtoPixel\":696,\"fVtoAbsPixelk\":472.00005,\"fVtoPixelk\":472,\"fVtoPixel\":-472,\"fAbsPixeltoXk\":-250.000018626453,\"fPixeltoXk\":-250.000018626453,\"fPixeltoX\":3.59195407651279,\"fAbsPixeltoYk\":13392086.5108654,\"fPixeltoYk\":-1488009.71086536,\"fPixeltoY\":-31525.6275884125,\"fXlowNDC\":0,\"fYlowNDC\":0,\"fXUpNDC\":1,\"fYUpNDC\":1,\"fWNDC\":1,\"fHNDC\":1,\"fAbsXlowNDC\":0,\"fAbsYlowNDC\":0,\"fAbsWNDC\":1,\"fAbsHNDC\":1,\"fUxmin\":0,\"fUymin\":0,\"fUxmax\":2000,\"fUymax\":11904076.8,\"fTheta\":30,\"fPhi\":30,\"fAspectRatio\":0,\"fNumber\":0,\"fTickx\":0,\"fTicky\":0,\"fLogx\":0,\"fLogy\":0,\"fLogz\":0,\"fPadPaint\":0,\"fCrosshair\":0,\"fCrosshairPos\":0,\"fBorderSize\":2,\"fBorderMode\":0,\"fModified\":false,\"fGridx\":false,\"fGridy\":false,\"fAbsCoord\":false,\"fEditable\":true,\"fFixedAspectRatio\":false,\"fPrimitives\":{\"_typename\":\"TList\",\"name\":\"TList\",\"arr\":[{\"_typename\":\"TFrame\",\"fUniqueID\":0,\"fBits\":8,\"fLineColor\":1,\"fLineStyle\":1,\"fLineWidth\":1,\"fFillColor\":0,\"fFillStyle\":1001,\"fX1\":0,\"fY1\":0,\"fX2\":2000,\"fY2\":11904076.8,\"fBorderSize\":1,\"fBorderMode\":0},{\"_typename\":\"TH1I\",\"fUniqueID\":0,\"fBits\":8,\"fName\":\"hsingle_115deg\",\"fTitle\":\"\",\"fLineColor\":602,\"fLineStyle\":1,\"fLineWidth\":1,\"fFillColor\":0,\"fFillStyle\":1001,\"fMarkerColor\":1,\"fMarkerStyle\":1,\"fMarkerSize\":1,\"fNcells\":1002,\"fXaxis\":{\"_typename\":\"TAxis\",\"fUniqueID\":0,\"fBits\":2048,\"fName\":\"xaxis\",\"fTitle\":\"\",\"fNdivisions\":510,\"fAxisColor\":1,\"fLabelColor\":1,\"fLabelFont\":42,\"fLabelOffset\":0.005,\"fLabelSize\":0.035,\"fTickLength\":0.03,\"fTitleOffset\":1,\"fTitleSize\":0.035,\"fTitleColor\":1,\"fTitleFont\":42,\"fNbins\":1000,\"fXmin\":0,\"fXmax\":8000,\"fXbins\":[],\"fFirst\":1,\"fLast\":250,\"fBits2\":0,\"fTimeDisplay\":false,\"fTimeFormat\":\"\",\"fLabels\":null,\"fModLabs\":null},\"fYaxis\":{\"_typename\":\"TAxis\",\"fUniqueID\":0,\"fBits\":0,\"fName\":\"yaxis\",\"fTitle\":\"\",\"fNdivisions\":510,\"fAxisColor\":1,\"fLabelColor\":1,\"fLabelFont\":42,\"fLabelOffset\":0.005,\"fLabelSize\":0.035,\"fTickLength\":0.03,\"fTitleOffset\":0,\"fTitleSize\":0.035,\"fTitleColor\":1,\"fTitleFont\":42,\"fNbins\":1,\"fXmin\":0,\"fXmax\":1,\"fXbins\":[],\"fFirst\":0,\"fLast\":0,\"fBits2\":0,\"fTimeDisplay\":false,\"fTimeFormat\":\"\",\"fLabels\":null,\"fModLabs\":null},\"fZaxis\":{\"_typename\":\"TAxis\",\"fUniqueID\":0,\"fBits\":0,\"fName\":\"zaxis\",\"fTitle\":\"\",\"fNdivisions\":510,\"fAxisColor\":1,\"fLabelColor\":1,\"fLabelFont\":42,\"fLabelOffset\":0.005,\"fLabelSize\":0.035,\"fTickLength\":0.03,\"fTitleOffset\":1,\"fTitleSize\":0.035,\"fTitleColor\":1,\"fTitleFont\":42,\"fNbins\":1,\"fXmin\":0,\"fXmax\":1,\"fXbins\":[],\"fFirst\":0,\"fLast\":0,\"fBits2\":0,\"fTimeDisplay\":false,\"fTimeFormat\":\"\",\"fLabels\":null,\"fModLabs\":null},\"fBarOffset\":0,\"fBarWidth\":1000,\"fEntries\":16576361,\"fTsumw\":199444140.965736,\"fTsumw2\":2399680205.65724,\"fTsumwx\":173955280467.396,\"fTsumwx2\":192361792598734,\"fMaximum\":-1111,\"fMinimum\":-1111,\"fNormFactor\":0,\"fContour\":[],\"fSumw2\":[],\"fOption\":\"\",\"fFunctions\":{\"_typename\":\"TList\",\"name\":\"TList\",\"arr\":[{\"_typename\":\"TPaveStats\",\"fUniqueID\":0,\"fBits\":9,\"fLineColor\":1,\"fLineStyle\":1,\"fLineWidth\":1,\"fFillColor\":0,\"fFillStyle\":1001,\"fX1\":1700.00005066395,\"fY1\":10044064.9496682,\"fX2\":2200.00006556511,\"fY2\":12424880.2919298,\"fX1NDC\":0.780000016093254,\"fY1NDC\":0.775000005960464,\"fX2NDC\":0.980000019073486,\"fY2NDC\":0.935000002384186,\"fBorderSize\":1,\"fInit\":1,\"fShadowColor\":1,\"fCornerRadius\":0,\"fOption\":\"brNDC\",\"fName\":\"stats\",\"fTextAngle\":0,\"fTextSize\":0,\"fTextAlign\":12,\"fTextColor\":1,\"fTextFont\":42,\"fLabel\":\"\",\"fLongest\":24,\"fMargin\":0.05,\"fLines\":{\"_typename\":\"TList\",\"name\":\"TList\",\"arr\":[{\"_typename\":\"TLatex\",\"fUniqueID\":0,\"fBits\":0,\"fName\":\"\",\"fTitle\":\"hsingle_115deg\",\"fTextAngle\":0,\"fTextSize\":0.0368,\"fTextAlign\":0,\"fTextColor\":0,\"fTextFont\":0,\"fX\":0,\"fY\":0,\"fLineColor\":1,\"fLineStyle\":1,\"fLineWidth\":2,\"fLimitFactorSize\":3,\"fOriginSize\":0.0368000008165836},{\"_typename\":\"TLatex\",\"fUniqueID\":0,\"fBits\":0,\"fName\":\"\",\"fTitle\":\"Entries =   1.657636e+07\",\"fTextAngle\":0,\"fTextSize\":0,\"fTextAlign\":0,\"fTextColor\":0,\"fTextFont\":0,\"fX\":0,\"fY\":0,\"fLineColor\":1,\"fLineStyle\":1,\"fLineWidth\":2,\"fLimitFactorSize\":3,\"fOriginSize\":0.04},{\"_typename\":\"TLatex\",\"fUniqueID\":0,\"fBits\":0,\"fName\":\"\",\"fTitle\":\"Mean  =  818.4\",\"fTextAngle\":0,\"fTextSize\":0,\"fTextAlign\":0,\"fTextColor\":0,\"fTextFont\":0,\"fX\":0,\"fY\":0,\"fLineColor\":1,\"fLineStyle\":1,\"fLineWidth\":2,\"fLimitFactorSize\":3,\"fOriginSize\":0.04},{\"_typename\":\"TLatex\",\"fUniqueID\":0,\"fBits\":0,\"fName\":\"\",\"fTitle\":\"Std Dev   =  183.2\",\"fTextAngle\":0,\"fTextSize\":0,\"fTextAlign\":0,\"fTextColor\":0,\"fTextFont\":0,\"fX\":0,\"fY\":0,\"fLineColor\":1,\"fLineStyle\":1,\"fLineWidth\":2,\"fLimitFactorSize\":3,\"fOriginSize\":0.04}],\"opt\":[\"\",\"\",\"\",\"\"]},\"fOptFit\":0,\"fOptStat\":1111,\"fFitFormat\":\"5.4g\",\"fStatFormat\":\"6.4g\",\"fParent\":{\"$ref\":3}},{\"_typename\":\"TF1\",\"fUniqueID\":0,\"fBits\":1024,\"fName\":\"f\",\"fTitle\":\"pol1(0)+gaus(2)+gaus(5)\",\"fLineColor\":2,\"fLineStyle\":1,\"fLineWidth\":2,\"fFillColor\":19,\"fFillStyle\":0,\"fMarkerColor\":1,\"fMarkerStyle\":1,\"fMarkerSize\":1,\"fXmin\":760,\"fXmax\":880,\"fNpar\":8,\"fNdim\":1,\"fNpx\":100,\"fType\":0,\"fNpfits\":15,\"fNDF\":9,\"fChisquare\":80091.2082825123,\"fMinimum\":-1111,\"fMaximum\":-1111,\"fParErrors\":[0,0,2061.05732654594,0.00348156201619076,0.00351248366438561,1779.27972171409,0.00621046663314928,0.00708679033099102],\"fParMin\":[-5900000,9100,1,710,0.5,1,780,0.5],\"fParMax\":[-5900000,9100,10000000000,810,50,10000000000,880,50],\"fSave\":[1610174.0956646,1733533.45083114,1873533.16535059,2031658.25547253,2209333.70202656,2407879.79919889,2628462.92635855,2872042.72735901,3139316.99440643,3430665.85560526,3746097.13890815,4085195.0115575,4447074.15432805,4830341.80624602,5233069.992746,5652780.11699606,6086441.8439481,6530487.83916915,6980845.44603955,7432985.8089237,7881990.29685813,8322633.37894116,8749480.3809985,9156997.84895896,9539673.59517322,9892142.94662948,10209317.2828102,10486510.674814,10719560.338093,10904936.7015195,11039839.178075,11122274.189037,11151112.6252366,11126124.6969868,11047990.9915108,10918289.4796998,10739459.1456381,10514741.8044938,10248104.4810597,9944145.40128602,9607987.16882169,9245161.03360934,8861486.29662779,8462948.83235129,8055582.45853977,7645356.46278161,7238072.03762406,6839269.71963468,6454149.21604308,6087502.28182907,5743658.62587277,5426444.21929456,5139150.88850918,4884515.72749356,4664708.67571666,4481326.58598942,4335392.24402611,4227357.08084959,4157106.7116844,4123968.90309598,4126724.06985025,4163618.88690409,4232384.0227693,4330257.31457421,4454013.87603501,4600004.63119164,4764204.58605365,4942271.78876833,5129617.403345,5321486.66379465,5513049.72908371,5699500.67875009,5876162.13453091,6038592.32634127,6182690.8991944,6304799.43039939,6401792.52996059,6471155.55160445,6511045.34892773,6520331.15342862,6498613.49323042,6446220.06220037,6364178.52631544,6254167.34816235,6118446.75066981,5959772.86102443,5781298.81797575,5586467.14666956,5378897.97759604,5162277.70113315,4940252.4155633,4716330.0700433,4493794.56439412,4275634.29447296,4064486.78082173,3862600.14607183,3671811.36705418,3493540.46783862,3328799.17759039,3178212.07837384,3042047.9269191,760,880],\"fNormalized\":false,\"fNormIntegral\":0,\"fFormula\":{\"_typename\":\"TFormula\",\"fUniqueID\":0,\"fBits\":1024,\"fName\":\"f\",\"fTitle\":\"pol1(0)+gaus(2)+gaus(5)\",\"fClingParameters\":[-5900000,9100,9784293.37988488,798.18340905025,16.131514390958,4623086.85832581,854.36545166153,14.3332061766034],\"fAllParametersSetted\":true,\"fParams\":[{\"$pair\":\"pair<TString,int,TFormulaParamOrder>\",\"first\":\"p0\",\"second\":0},{\"$pair\":\"pair<TString,int,TFormulaParamOrder>\",\"first\":\"p1\",\"second\":1},{\"$pair\":\"pair<TString,int,TFormulaParamOrder>\",\"first\":\"p2\",\"second\":2},{\"$pair\":\"pair<TString,int,TFormulaParamOrder>\",\"first\":\"p3\",\"second\":3},{\"$pair\":\"pair<TString,int,TFormulaParamOrder>\",\"first\":\"p4\",\"second\":4},{\"$pair\":\"pair<TString,int,TFormulaParamOrder>\",\"first\":\"p5\",\"second\":5},{\"$pair\":\"pair<TString,int,TFormulaParamOrder>\",\"first\":\"p6\",\"second\":6},{\"$pair\":\"pair<TString,int,TFormulaParamOrder>\",\"first\":\"p7\",\"second\":7}],\"fFormula\":\"([p0]+[p1]*x)+[p2]*exp(-0.5*((x-[p3])\\/[p4])*((x-[p3])\\/[p4]))+[p5]*exp(-0.5*((x-[p6])\\/[p7])*((x-[p6])\\/[p7]))\",\"fNdim\":1,\"fLinearParts\":[],\"fVectorized\":false},\"fParams\":null,\"fComposition_ptr\":null}],\"opt\":[\"brNDC\",\"\"]},\"fBufferSize\":0,\"fBuffer\":[],\"fBinStatErrOpt\":0,\"fStatOverflows\":2,\"fArray\":[0,0,0,0,0,0,276,468,972,5688,6324,7224,8064,8928,10356,12708,16020,21312,32280,50088,79500,123384,173964,220764,261384,288612,307284,325128,340476,353040,362952,378972,387528,392304,393708,397488,402432,404880,401604,404712,407940,404844,409140,407388,407148,407424,403344,408156,403584,406968,405444,403752,402624,403488,400308,404832,403848,403308,404400,407760,405888,406692,405936,407664,403092,405708,408528,408180,404184,410124,407064,403764,404448,407496,406596,408432,408384,414816,421452,426384,436980,446052,453324,456276,469608,479496,496836,515568,539832,570180,604536,665808,744276,877320,1142460,1611468,2386164,3729732,6052404,9154548,11337216,10824216,8217744,5601768,4312848,4376088,5465652,6515436,6225768,4840092,3625632,2977824,2678676,2540940,2490204,2487612,2496360,2506488,2741760,3360540,4584312,6506100,7673316,6376080,3990744,2442648,1740804,1402032,1223484,1118340,1048716,1011420,958440,879348,775368,668424,567264,467316,374568,266472,164004,89016,51828,31032,20532,14904,12264,10620,10776,9144,9336,9492,9252,8064,8148,8928,8628,8088,8220,7812,7788,7584,7356,7956,7524,7608,7836,7368,7428,7356,7140,7260,7068,7380,7440,6792,7140,6960,6492,6756,6480,6300,6924,6360,7032,6096,6240,7380,6336,6864,6156,6684,6696,6264,6516,6768,7272,6504,6504,6504,6312,6528,6936,6492,6600,6240,6060,6576,6276,6684,6144,6360,5832,6024,6204,5664,5772,6204,5508,5256,5568,5124,6156,5700,5304,4920,5328,4728,4896,5496,4656,4800,4020,4404,4236,3672,3768,3384,3960,3576,3576,3108,3420,3204,3168,3132,3108,2976,3576,3180,2952,3072,3288,3240,2712,3108,2736,2844,2796,2700,2748,2556,2712,3012,3264,3036,2916,2760,2988,2928,2580,2880,2964,3264,2724,2544,3180,2460,2808,2664,2988,3180,2712,2796,3156,2604,2556,2568,2604,2700,2880,3060,2604,2556,2448,2688,2628,2652,2484,2724,2916,2664,2892,2412,2844,2880,2760,2736,2724,2544,2820,2892,2784,2724,3144,3204,2940,2760,2784,2592,3084,3168,2916,3300,3456,3012,3456,3408,3240,3336,3024,3060,3516,3168,3372,3156,3216,3060,3312,3264,3432,3276,3072,4056,3276,3756,3516,3624,3612,3492,3600,3744,3792,4344,3528,3960,3816,3660,3912,3912,3672,3672,3936,4416,3660,4380,3900,4476,4092,4068,4056,4416,4332,4704,4560,4752,4584,4752,4848,4956,4848,5352,4800,4656,4656,5364,5484,5112,5112,5676,5460,5664,5820,5556,5820,5616,5364,6492,6252,6432,6192,6168,6492,5964,6540,6000,6492,7008,6396,6936,6924,7296,7380,7692,7884,7260,7668,7248,7716,7800,8112,8184,8400,8304,8436,8856,8520,9096,9288,8856,9708,9324,8880,9888,9504,9624,10116,9804,10116,10272,9948,10560,11580,10380,10968,11484,11220,11376,12012,11280,12636,11904,12708,13200,12900,12600,12828,13752,13836,13560,13788,14292,14592,14004,14196,15168,15372,14652,16488,15792,16332,16500,15876,15876,16644,17616,18024,17508,18084,17688,19128,17988,18156,18096,18456,19824,19836,20328,20988,20184,19944,20460,21360,20508,20868,22116,21864,21144,21444,22344,22548,22308,21960,22860,23232,23184,23088,22776,23820,23196,23148,22704,23388,23112,22860,23784,21984,22776,23028,23028,23352,22620,22104,21912,22224,22260,21660,22224,21804,20736,20712,21240,20904,20424,19308,18504,19248,18324,19152,19128,17712,17880,17412,17016,16728,16500,16464,16140,15720,14808,14628,14544,14412,13608,13224,12468,12600,12696,12288,11820,11532,11076,10776,10176,11148,9768,9864,9624,8532,9120,8592,8016,8676,8676,7704,7728,7416,6804,7200,6948,6552,6012,6204,6576,6192,5652,5568,5328,5040,5640,5088,5148,4908,4584,4644,4656,4932,4428,3984,4284,3948,4116,3828,3804,3744,3828,3324,3492,3600,3036,3288,2784,3024,3084,2760,2808,2496,2436,3072,2712,2856,2448,2160,2304,2556,2460,2292,2028,2184,2028,2064,2004,1968,1740,1692,1788,1344,1716,1524,1764,1620,1668,1380,1392,1272,1464,1536,1188,1164,1392,1188,1080,1296,1128,1176,1236,1068,1068,1068,960,912,900,708,720,1008,552,864,744,660,792,672,756,768,804,732,696,792,804,564,708,480,612,612,636,516,444,528,624,528,588,480,516,444,432,408,456,420,516,360,384,252,372,348,336,288,228,276,168,252,324,156,228,180,288,240,228,204,264,132,240,216,228,108,228,180,120,168,168,180,84,108,132,144,144,156,96,168,204,204,168,300,408,504,876,756,1368,1512,1884,2424,2712,3096,3588,3264,3948,3816,3444,2592,2748,2220,1884,1500,1380,1296,1056,852,672,660,516,348,444,300,312,252,144,60,108,0,0,12,0,24,24,0,36,12,0,0,0,0,0,0,0,0,0,0,0,12,0,0,0,0,0,0,0,0,12,0,0,0,0,0,0,0,0,0,0,0,0,0,0,0,0,0,0,0,0,12,12,0,0,0,0,0,0,0,0,0,0,12,0,0,0,0,0,0,0,0,0,0,0,0,0,0,0,0,0,0,0,0,0,0,0,0,0,0,0,0,0,0,0,0,12,0,0,0,0,12,0,24,0,0,0,12,24,12,36,36,36,36,24,36,24,0,24,0,0,12,0,0,36,0,12,0,0,0,12,0,0,0,0,0,0,0,0,0,0,0,0,0,0,0,0,0,0,0,0,0,0,0,0,0,0,0,0,0,0,0,0,0,0,0,0,0,0,0,0,0,0,0,0,0,0,0,0,0,0,0,0,0,0,0,0,0,0,0,0,0,0,0,0,0,0,0,0,0,0,0,0,0,0,0,0,0,0,0,0,0,0,0,0,0,0,0,0,0,0,0,0,0,0,0,0]},{\"_typename\":\"TF1\",\"fUniqueID\":0,\"fBits\":8,\"fName\":\"f\",\"fTitle\":\"pol1(0)+gaus(2)+gaus(5)\",\"fLineColor\":632,\"fLineStyle\":1,\"fLineWidth\":2,\"fFillColor\":19,\"fFillStyle\":0,\"fMarkerColor\":1,\"fMarkerStyle\":1,\"fMarkerSize\":1,\"fXmin\":760,\"fXmax\":880,\"fNpar\":8,\"fNdim\":1,\"fNpx\":100,\"fType\":0,\"fNpfits\":15,\"fNDF\":9,\"fChisquare\":80091.2082825123,\"fMinimum\":-1111,\"fMaximum\":-1111,\"fParErrors\":[0,0,2061.05732654594,0.00348156201619076,0.00351248366438561,1779.27972171409,0.00621046663314928,0.00708679033099102],\"fParMin\":[-5900000,9100,1,710,0.5,1,780,0.5],\"fParMax\":[-5900000,9100,10000000000,810,50,10000000000,880,50],\"fSave\":[],\"fNormalized\":false,\"fNormIntegral\":0,\"fFormula\":{\"_typename\":\"TFormula\",\"fUniqueID\":0,\"fBits\":1024,\"fName\":\"f\",\"fTitle\":\"pol1(0)+gaus(2)+gaus(5)\",\"fClingParameters\":[-5900000,9100,9784293.37988488,798.18340905025,16.131514390958,4623086.85832581,854.36545166153,14.3332061766034],\"fAllParametersSetted\":true,\"fParams\":[{\"$pair\":\"pair<TString,int,TFormulaParamOrder>\",\"first\":\"p0\",\"second\":0},{\"$pair\":\"pair<TString,int,TFormulaParamOrder>\",\"first\":\"p1\",\"second\":1},{\"$pair\":\"pair<TString,int,TFormulaParamOrder>\",\"first\":\"p2\",\"second\":2},{\"$pair\":\"pair<TString,int,TFormulaParamOrder>\",\"first\":\"p3\",\"second\":3},{\"$pair\":\"pair<TString,int,TFormulaParamOrder>\",\"first\":\"p4\",\"second\":4},{\"$pair\":\"pair<TString,int,TFormulaParamOrder>\",\"first\":\"p5\",\"second\":5},{\"$pair\":\"pair<TString,int,TFormulaParamOrder>\",\"first\":\"p6\",\"second\":6},{\"$pair\":\"pair<TString,int,TFormulaParamOrder>\",\"first\":\"p7\",\"second\":7}],\"fFormula\":\"([p0]+[p1]*x)+[p2]*exp(-0.5*((x-[p3])\\/[p4])*((x-[p3])\\/[p4]))+[p5]*exp(-0.5*((x-[p6])\\/[p7])*((x-[p6])\\/[p7]))\",\"fNdim\":1,\"fLinearParts\":[],\"fVectorized\":false},\"fParams\":null,\"fComposition_ptr\":null},{\"_typename\":\"TF1\",\"fUniqueID\":0,\"fBits\":8,\"fName\":\"f1\",\"fTitle\":\"pol1\",\"fLineColor\":600,\"fLineStyle\":1,\"fLineWidth\":2,\"fFillColor\":19,\"fFillStyle\":0,\"fMarkerColor\":1,\"fMarkerStyle\":1,\"fMarkerSize\":1,\"fXmin\":0,\"fXmax\":2000,\"fNpar\":2,\"fNdim\":1,\"fNpx\":100,\"fType\":0,\"fNpfits\":0,\"fNDF\":0,\"fChisquare\":0,\"fMinimum\":-1111,\"fMaximum\":-1111,\"fParErrors\":[0,0],\"fParMin\":[0,0],\"fParMax\":[0,0],\"fSave\":[],\"fNormalized\":false,\"fNormIntegral\":0,\"fFormula\":{\"_typename\":\"TFormula\",\"fUniqueID\":0,\"fBits\":66560,\"fName\":\"f1\",\"fTitle\":\"pol1\",\"fClingParameters\":[-5900000,9100],\"fAllParametersSetted\":true,\"fParams\":[{\"$pair\":\"pair<TString,int,TFormulaParamOrder>\",\"first\":\"p0\",\"second\":0},{\"$pair\":\"pair<TString,int,TFormulaParamOrder>\",\"first\":\"p1\",\"second\":1}],\"fFormula\":\"([p0]+[p1]*x)\",\"fNdim\":1,\"fLinearParts\":[],\"fVectorized\":false},\"fParams\":null,\"fComposition_ptr\":null}],\"opt\":[\"\",\"\",\"same\",\"same\"]},\"fExecs\":null,\"fName\":\"c1\",\"fTitle\":\"c1\",\"fNumPaletteColor\":0,\"fNextPaletteColor\":0,\"fDISPLAY\":\"$DISPLAY\",\"fDoubleBuffer\":0,\"fRetained\":true,\"fXsizeUser\":0,\"fYsizeUser\":0,\"fXsizeReal\":20,\"fYsizeReal\":14.28571,\"fWindowTopX\":0,\"fWindowTopY\":0,\"fWindowWidth\":0,\"fWindowHeight\":0,\"fCw\":696,\"fCh\":472,\"fCatt\":{\"_typename\":\"TAttCanvas\",\"fXBetween\":2,\"fYBetween\":2,\"fTitleFromTop\":1.2,\"fXdate\":0.2,\"fYdate\":0.3,\"fAdate\":1},\"kMoveOpaque\":true,\"kResizeOpaque\":true,\"fHighLightColor\":2,\"fBatch\":true,\"kShowEventStatus\":false,\"kAutoExec\":true,\"kMenuBar\":true});\n",
       "            Core.draw(\"root_plot_1696900678620\", obj, \"\");\n",
       "        }\n",
       "    );\n",
       "}\n",
       "</script>\n"
      ],
      "text/plain": [
       "<IPython.core.display.HTML object>"
      ]
     },
     "metadata": {},
     "output_type": "display_data"
    },
    {
     "name": "stdout",
     "output_type": "stream",
     "text": [
      "count=7.18161e+07 delta_count=12262.4\n",
      "0 peak=798.183 height=9.78429e+06 sigma=16.1315 contribution=4.94544e+07\n",
      "1 peak=854.365 height=4.62309e+06 sigma=14.3332 contribution=2.07623e+07\n"
     ]
    }
   ],
   "source": [
    "e = vector<double> {760, 830};\n",
    "k = 9100; b = -5900e3;                      //线性本底参数\n",
    "fit_left = 760; fit_right = 880;       //联合拟合范围\n",
    "area_left = 744; area_right = 920;\n",
    "area(h[11]);\n",
    "c1->Draw();"
   ]
  },
  {
   "cell_type": "code",
   "execution_count": 98,
   "id": "3fc92390",
   "metadata": {},
   "outputs": [
    {
     "data": {
      "text/html": [
       "\n",
       "<div id=\"root_plot_1696900774888\"\n",
       "     style=\"width: 696px; height: 472px\">\n",
       "</div>\n",
       "<script>\n",
       "if (typeof require !== 'undefined') {\n",
       "\n",
       "    // All requirements met (we are in jupyter notebooks or we loaded requirejs before).\n",
       "    display_root_plot_1696900774888();\n",
       "\n",
       "} else {\n",
       "\n",
       "    // We are in jupyterlab, we need to insert requirejs and configure it.\n",
       "    // Jupyterlab might be installed in a different base_url so we need to know it.\n",
       "    try {\n",
       "        var base_url = JSON.parse(document.getElementById('jupyter-config-data').innerHTML).baseUrl;\n",
       "    } catch(_) {\n",
       "        var base_url = '/';\n",
       "    }\n",
       "\n",
       "    // Try loading a local version of requirejs and fallback to cdn if not possible.\n",
       "    requirejs_load(base_url + 'static/components/requirejs/require.js', requirejs_success(base_url), function(){\n",
       "        requirejs_load('https://cdnjs.cloudflare.com/ajax/libs/require.js/2.2.0/require.min.js', requirejs_success(base_url), function(){\n",
       "            document.getElementById(\"root_plot_1696900774888\").innerHTML = \"Failed to load requireJs\";\n",
       "        });\n",
       "    });\n",
       "}\n",
       "\n",
       "function requirejs_load(src, on_load, on_error) {\n",
       "    var script = document.createElement('script');\n",
       "    script.src = src;\n",
       "    script.onload = on_load;\n",
       "    script.onerror = on_error;\n",
       "    document.head.appendChild(script);\n",
       "}\n",
       "\n",
       "function requirejs_success(base_url) {\n",
       "    return function() {\n",
       "        require.config({\n",
       "            baseUrl: base_url + 'static/'\n",
       "        });\n",
       "        display_root_plot_1696900774888();\n",
       "    }\n",
       "}\n",
       "\n",
       "function display_root_plot_1696900774888() {\n",
       "    require(['scripts/JSRootCore'],\n",
       "        function(Core) {\n",
       "            var obj = Core.JSONR_unref({\"_typename\":\"TCanvas\",\"fUniqueID\":0,\"fBits\":3342344,\"fLineColor\":1,\"fLineStyle\":1,\"fLineWidth\":1,\"fFillColor\":0,\"fFillStyle\":1001,\"fLeftMargin\":0.1,\"fRightMargin\":0.1,\"fBottomMargin\":0.1,\"fTopMargin\":0.1,\"fXfile\":2,\"fYfile\":2,\"fAfile\":1,\"fXstat\":0.99,\"fYstat\":0.99,\"fAstat\":2,\"fFrameFillColor\":0,\"fFrameLineColor\":1,\"fFrameFillStyle\":1001,\"fFrameLineStyle\":1,\"fFrameLineWidth\":1,\"fFrameBorderSize\":1,\"fFrameBorderMode\":0,\"fX1\":-250.000018626453,\"fY1\":-1488009.71086536,\"fX2\":2250.00001862645,\"fY2\":13392086.5108654,\"fXtoAbsPixelk\":69.6000541484835,\"fXtoPixelk\":69.6000541484835,\"fXtoPixel\":0.278399995851517,\"fYtoAbsPixelk\":424.800047186661,\"fYtoPixelk\":424.800047186661,\"fYtoPixel\":-3.17202249882428e-5,\"fUtoAbsPixelk\":5e-5,\"fUtoPixelk\":5e-5,\"fUtoPixel\":696,\"fVtoAbsPixelk\":472.00005,\"fVtoPixelk\":472,\"fVtoPixel\":-472,\"fAbsPixeltoXk\":-250.000018626453,\"fPixeltoXk\":-250.000018626453,\"fPixeltoX\":3.59195407651279,\"fAbsPixeltoYk\":13392086.5108654,\"fPixeltoYk\":-1488009.71086536,\"fPixeltoY\":-31525.6275884125,\"fXlowNDC\":0,\"fYlowNDC\":0,\"fXUpNDC\":1,\"fYUpNDC\":1,\"fWNDC\":1,\"fHNDC\":1,\"fAbsXlowNDC\":0,\"fAbsYlowNDC\":0,\"fAbsWNDC\":1,\"fAbsHNDC\":1,\"fUxmin\":0,\"fUymin\":0,\"fUxmax\":2000,\"fUymax\":11904076.8,\"fTheta\":30,\"fPhi\":30,\"fAspectRatio\":0,\"fNumber\":0,\"fTickx\":0,\"fTicky\":0,\"fLogx\":0,\"fLogy\":0,\"fLogz\":0,\"fPadPaint\":0,\"fCrosshair\":0,\"fCrosshairPos\":0,\"fBorderSize\":2,\"fBorderMode\":0,\"fModified\":false,\"fGridx\":false,\"fGridy\":false,\"fAbsCoord\":false,\"fEditable\":true,\"fFixedAspectRatio\":false,\"fPrimitives\":{\"_typename\":\"TList\",\"name\":\"TList\",\"arr\":[{\"_typename\":\"TFrame\",\"fUniqueID\":0,\"fBits\":8,\"fLineColor\":1,\"fLineStyle\":1,\"fLineWidth\":1,\"fFillColor\":0,\"fFillStyle\":1001,\"fX1\":0,\"fY1\":0,\"fX2\":2000,\"fY2\":11904076.8,\"fBorderSize\":1,\"fBorderMode\":0},{\"_typename\":\"TH1I\",\"fUniqueID\":0,\"fBits\":8,\"fName\":\"hsingle_115deg\",\"fTitle\":\"\",\"fLineColor\":602,\"fLineStyle\":1,\"fLineWidth\":1,\"fFillColor\":0,\"fFillStyle\":1001,\"fMarkerColor\":1,\"fMarkerStyle\":1,\"fMarkerSize\":1,\"fNcells\":1002,\"fXaxis\":{\"_typename\":\"TAxis\",\"fUniqueID\":0,\"fBits\":2048,\"fName\":\"xaxis\",\"fTitle\":\"\",\"fNdivisions\":510,\"fAxisColor\":1,\"fLabelColor\":1,\"fLabelFont\":42,\"fLabelOffset\":0.005,\"fLabelSize\":0.035,\"fTickLength\":0.03,\"fTitleOffset\":1,\"fTitleSize\":0.035,\"fTitleColor\":1,\"fTitleFont\":42,\"fNbins\":1000,\"fXmin\":0,\"fXmax\":8000,\"fXbins\":[],\"fFirst\":1,\"fLast\":250,\"fBits2\":0,\"fTimeDisplay\":false,\"fTimeFormat\":\"\",\"fLabels\":null,\"fModLabs\":null},\"fYaxis\":{\"_typename\":\"TAxis\",\"fUniqueID\":0,\"fBits\":0,\"fName\":\"yaxis\",\"fTitle\":\"\",\"fNdivisions\":510,\"fAxisColor\":1,\"fLabelColor\":1,\"fLabelFont\":42,\"fLabelOffset\":0.005,\"fLabelSize\":0.035,\"fTickLength\":0.03,\"fTitleOffset\":0,\"fTitleSize\":0.035,\"fTitleColor\":1,\"fTitleFont\":42,\"fNbins\":1,\"fXmin\":0,\"fXmax\":1,\"fXbins\":[],\"fFirst\":0,\"fLast\":0,\"fBits2\":0,\"fTimeDisplay\":false,\"fTimeFormat\":\"\",\"fLabels\":null,\"fModLabs\":null},\"fZaxis\":{\"_typename\":\"TAxis\",\"fUniqueID\":0,\"fBits\":0,\"fName\":\"zaxis\",\"fTitle\":\"\",\"fNdivisions\":510,\"fAxisColor\":1,\"fLabelColor\":1,\"fLabelFont\":42,\"fLabelOffset\":0.005,\"fLabelSize\":0.035,\"fTickLength\":0.03,\"fTitleOffset\":1,\"fTitleSize\":0.035,\"fTitleColor\":1,\"fTitleFont\":42,\"fNbins\":1,\"fXmin\":0,\"fXmax\":1,\"fXbins\":[],\"fFirst\":0,\"fLast\":0,\"fBits2\":0,\"fTimeDisplay\":false,\"fTimeFormat\":\"\",\"fLabels\":null,\"fModLabs\":null},\"fBarOffset\":0,\"fBarWidth\":1000,\"fEntries\":16576361,\"fTsumw\":199444140.965736,\"fTsumw2\":2399680205.65724,\"fTsumwx\":173955280467.396,\"fTsumwx2\":192361792598734,\"fMaximum\":-1111,\"fMinimum\":-1111,\"fNormFactor\":0,\"fContour\":[],\"fSumw2\":[],\"fOption\":\"\",\"fFunctions\":{\"_typename\":\"TList\",\"name\":\"TList\",\"arr\":[{\"_typename\":\"TPaveStats\",\"fUniqueID\":0,\"fBits\":9,\"fLineColor\":1,\"fLineStyle\":1,\"fLineWidth\":1,\"fFillColor\":0,\"fFillStyle\":1001,\"fX1\":1700.00005066395,\"fY1\":10044064.9496682,\"fX2\":2200.00006556511,\"fY2\":12424880.2919298,\"fX1NDC\":0.780000016093254,\"fY1NDC\":0.775000005960464,\"fX2NDC\":0.980000019073486,\"fY2NDC\":0.935000002384186,\"fBorderSize\":1,\"fInit\":1,\"fShadowColor\":1,\"fCornerRadius\":0,\"fOption\":\"brNDC\",\"fName\":\"stats\",\"fTextAngle\":0,\"fTextSize\":0,\"fTextAlign\":12,\"fTextColor\":1,\"fTextFont\":42,\"fLabel\":\"\",\"fLongest\":24,\"fMargin\":0.05,\"fLines\":{\"_typename\":\"TList\",\"name\":\"TList\",\"arr\":[{\"_typename\":\"TLatex\",\"fUniqueID\":0,\"fBits\":0,\"fName\":\"\",\"fTitle\":\"hsingle_115deg\",\"fTextAngle\":0,\"fTextSize\":0.0368,\"fTextAlign\":0,\"fTextColor\":0,\"fTextFont\":0,\"fX\":0,\"fY\":0,\"fLineColor\":1,\"fLineStyle\":1,\"fLineWidth\":2,\"fLimitFactorSize\":3,\"fOriginSize\":0.0368000008165836},{\"_typename\":\"TLatex\",\"fUniqueID\":0,\"fBits\":0,\"fName\":\"\",\"fTitle\":\"Entries =   1.657636e+07\",\"fTextAngle\":0,\"fTextSize\":0,\"fTextAlign\":0,\"fTextColor\":0,\"fTextFont\":0,\"fX\":0,\"fY\":0,\"fLineColor\":1,\"fLineStyle\":1,\"fLineWidth\":2,\"fLimitFactorSize\":3,\"fOriginSize\":0.04},{\"_typename\":\"TLatex\",\"fUniqueID\":0,\"fBits\":0,\"fName\":\"\",\"fTitle\":\"Mean  =  818.4\",\"fTextAngle\":0,\"fTextSize\":0,\"fTextAlign\":0,\"fTextColor\":0,\"fTextFont\":0,\"fX\":0,\"fY\":0,\"fLineColor\":1,\"fLineStyle\":1,\"fLineWidth\":2,\"fLimitFactorSize\":3,\"fOriginSize\":0.04},{\"_typename\":\"TLatex\",\"fUniqueID\":0,\"fBits\":0,\"fName\":\"\",\"fTitle\":\"Std Dev   =  183.2\",\"fTextAngle\":0,\"fTextSize\":0,\"fTextAlign\":0,\"fTextColor\":0,\"fTextFont\":0,\"fX\":0,\"fY\":0,\"fLineColor\":1,\"fLineStyle\":1,\"fLineWidth\":2,\"fLimitFactorSize\":3,\"fOriginSize\":0.04}],\"opt\":[\"\",\"\",\"\",\"\"]},\"fOptFit\":0,\"fOptStat\":1111,\"fFitFormat\":\"5.4g\",\"fStatFormat\":\"6.4g\",\"fParent\":{\"$ref\":3}},{\"_typename\":\"TF1\",\"fUniqueID\":0,\"fBits\":1024,\"fName\":\"f\",\"fTitle\":\"pol1(0)+gaus(2)\",\"fLineColor\":2,\"fLineStyle\":1,\"fLineWidth\":2,\"fFillColor\":19,\"fFillStyle\":0,\"fMarkerColor\":1,\"fMarkerStyle\":1,\"fMarkerSize\":1,\"fXmin\":940,\"fXmax\":1000,\"fNpar\":5,\"fNdim\":1,\"fNpx\":100,\"fType\":0,\"fNpfits\":8,\"fNDF\":5,\"fChisquare\":60785.5579876188,\"fMinimum\":-1111,\"fMaximum\":-1111,\"fParErrors\":[0,0,1890.45918511646,0.00408801808680437,0.004085583796412],\"fParMin\":[13450000,-12000,1,910,0.5],\"fParMax\":[13450000,-12000,10000000000,1010,50],\"fSave\":[2481508.19598531,2510373.95693208,2542597.6905305,2578384.61165944,2617939.18316038,2661463.21500016,2709153.78416218,2761200.9834782,2817785.51114884,2879076.11640448,2945226.92057272,3016374.63668093,3092635.71455876,3174103.44213901,3260845.03720103,3352898.76707073,3450271.13669745,3552934.18797752,3660822.95510253,3773833.12199204,3891818.92844872,4014591.37148401,4141916.74724424,4273515.57708253,4409061.95854226,4548183.37833446,4690461.01981665,4835430.59204177,4982583.70119603,5131369.77825595,5281198.56905701,5431443.18479533,5581443.70240407,5730511.2954071,5877932.86691041,6022976.14751428,6164895.21229453,6302936.36278237,6436344.31224986,6564368.60575003,6686270.20042828,6801328.12676369,6908846.1477405,7008159.33060278,7098640.4448884,7179706.10092901,7250822.54496638,7311511.030466,7361352.6900716,7399992.83887159,7427144.64714155,7442592.12936281,7446192.40594182,7437877.20449657,7417653.57864124,7385603.83368194,7341884.66031872,7286725.4891102,7220426.08987733,7143353.45118654,7055937.98535509,6958669.11387437,6852090.29657896,6736793.57515536,6613413.70756204,6482621.97453217,6345119.74248793,6201631.86888326,6052900.0362085,5899676.0996687,5742715.53094761,5582771.03657791,5420586.42436881,5256890.78522497,5092393.05067714,4927776.97869786,4763696.6120651,4600772.24484355,4439586.92365021,4280683.5014359,4124562.25271171,3971679.05063578,3822444.09829482,3677221.19899114,3536327.5434882,3400033.98606564,3268565.7759536,3142103.70630669,3020785.63936314,2904708.36382406,2793929.73876724,2688471.07755089,2588319.72512064,2493431.78284851,2403734.93643779,2319131.34444332,2239500.54749869,2164702.36132272,2094579.71990624,2028961.43886705,1967664.87272072,940,1000],\"fNormalized\":false,\"fNormIntegral\":0,\"fFormula\":{\"_typename\":\"TFormula\",\"fUniqueID\":0,\"fBits\":1024,\"fName\":\"f\",\"fTitle\":\"pol1(0)+gaus(2)\",\"fClingParameters\":[13450000,-12000,5651577.72836819,971.443888039999,13.0602726579704],\"fAllParametersSetted\":true,\"fParams\":[{\"$pair\":\"pair<TString,int,TFormulaParamOrder>\",\"first\":\"p0\",\"second\":0},{\"$pair\":\"pair<TString,int,TFormulaParamOrder>\",\"first\":\"p1\",\"second\":1},{\"$pair\":\"pair<TString,int,TFormulaParamOrder>\",\"first\":\"p2\",\"second\":2},{\"$pair\":\"pair<TString,int,TFormulaParamOrder>\",\"first\":\"p3\",\"second\":3},{\"$pair\":\"pair<TString,int,TFormulaParamOrder>\",\"first\":\"p4\",\"second\":4}],\"fFormula\":\"([p0]+[p1]*x)+[p2]*exp(-0.5*((x-[p3])\\/[p4])*((x-[p3])\\/[p4]))\",\"fNdim\":1,\"fLinearParts\":[],\"fVectorized\":false},\"fParams\":null,\"fComposition_ptr\":null}],\"opt\":[\"brNDC\",\"\"]},\"fBufferSize\":0,\"fBuffer\":[],\"fBinStatErrOpt\":0,\"fStatOverflows\":2,\"fArray\":[0,0,0,0,0,0,276,468,972,5688,6324,7224,8064,8928,10356,12708,16020,21312,32280,50088,79500,123384,173964,220764,261384,288612,307284,325128,340476,353040,362952,378972,387528,392304,393708,397488,402432,404880,401604,404712,407940,404844,409140,407388,407148,407424,403344,408156,403584,406968,405444,403752,402624,403488,400308,404832,403848,403308,404400,407760,405888,406692,405936,407664,403092,405708,408528,408180,404184,410124,407064,403764,404448,407496,406596,408432,408384,414816,421452,426384,436980,446052,453324,456276,469608,479496,496836,515568,539832,570180,604536,665808,744276,877320,1142460,1611468,2386164,3729732,6052404,9154548,11337216,10824216,8217744,5601768,4312848,4376088,5465652,6515436,6225768,4840092,3625632,2977824,2678676,2540940,2490204,2487612,2496360,2506488,2741760,3360540,4584312,6506100,7673316,6376080,3990744,2442648,1740804,1402032,1223484,1118340,1048716,1011420,958440,879348,775368,668424,567264,467316,374568,266472,164004,89016,51828,31032,20532,14904,12264,10620,10776,9144,9336,9492,9252,8064,8148,8928,8628,8088,8220,7812,7788,7584,7356,7956,7524,7608,7836,7368,7428,7356,7140,7260,7068,7380,7440,6792,7140,6960,6492,6756,6480,6300,6924,6360,7032,6096,6240,7380,6336,6864,6156,6684,6696,6264,6516,6768,7272,6504,6504,6504,6312,6528,6936,6492,6600,6240,6060,6576,6276,6684,6144,6360,5832,6024,6204,5664,5772,6204,5508,5256,5568,5124,6156,5700,5304,4920,5328,4728,4896,5496,4656,4800,4020,4404,4236,3672,3768,3384,3960,3576,3576,3108,3420,3204,3168,3132,3108,2976,3576,3180,2952,3072,3288,3240,2712,3108,2736,2844,2796,2700,2748,2556,2712,3012,3264,3036,2916,2760,2988,2928,2580,2880,2964,3264,2724,2544,3180,2460,2808,2664,2988,3180,2712,2796,3156,2604,2556,2568,2604,2700,2880,3060,2604,2556,2448,2688,2628,2652,2484,2724,2916,2664,2892,2412,2844,2880,2760,2736,2724,2544,2820,2892,2784,2724,3144,3204,2940,2760,2784,2592,3084,3168,2916,3300,3456,3012,3456,3408,3240,3336,3024,3060,3516,3168,3372,3156,3216,3060,3312,3264,3432,3276,3072,4056,3276,3756,3516,3624,3612,3492,3600,3744,3792,4344,3528,3960,3816,3660,3912,3912,3672,3672,3936,4416,3660,4380,3900,4476,4092,4068,4056,4416,4332,4704,4560,4752,4584,4752,4848,4956,4848,5352,4800,4656,4656,5364,5484,5112,5112,5676,5460,5664,5820,5556,5820,5616,5364,6492,6252,6432,6192,6168,6492,5964,6540,6000,6492,7008,6396,6936,6924,7296,7380,7692,7884,7260,7668,7248,7716,7800,8112,8184,8400,8304,8436,8856,8520,9096,9288,8856,9708,9324,8880,9888,9504,9624,10116,9804,10116,10272,9948,10560,11580,10380,10968,11484,11220,11376,12012,11280,12636,11904,12708,13200,12900,12600,12828,13752,13836,13560,13788,14292,14592,14004,14196,15168,15372,14652,16488,15792,16332,16500,15876,15876,16644,17616,18024,17508,18084,17688,19128,17988,18156,18096,18456,19824,19836,20328,20988,20184,19944,20460,21360,20508,20868,22116,21864,21144,21444,22344,22548,22308,21960,22860,23232,23184,23088,22776,23820,23196,23148,22704,23388,23112,22860,23784,21984,22776,23028,23028,23352,22620,22104,21912,22224,22260,21660,22224,21804,20736,20712,21240,20904,20424,19308,18504,19248,18324,19152,19128,17712,17880,17412,17016,16728,16500,16464,16140,15720,14808,14628,14544,14412,13608,13224,12468,12600,12696,12288,11820,11532,11076,10776,10176,11148,9768,9864,9624,8532,9120,8592,8016,8676,8676,7704,7728,7416,6804,7200,6948,6552,6012,6204,6576,6192,5652,5568,5328,5040,5640,5088,5148,4908,4584,4644,4656,4932,4428,3984,4284,3948,4116,3828,3804,3744,3828,3324,3492,3600,3036,3288,2784,3024,3084,2760,2808,2496,2436,3072,2712,2856,2448,2160,2304,2556,2460,2292,2028,2184,2028,2064,2004,1968,1740,1692,1788,1344,1716,1524,1764,1620,1668,1380,1392,1272,1464,1536,1188,1164,1392,1188,1080,1296,1128,1176,1236,1068,1068,1068,960,912,900,708,720,1008,552,864,744,660,792,672,756,768,804,732,696,792,804,564,708,480,612,612,636,516,444,528,624,528,588,480,516,444,432,408,456,420,516,360,384,252,372,348,336,288,228,276,168,252,324,156,228,180,288,240,228,204,264,132,240,216,228,108,228,180,120,168,168,180,84,108,132,144,144,156,96,168,204,204,168,300,408,504,876,756,1368,1512,1884,2424,2712,3096,3588,3264,3948,3816,3444,2592,2748,2220,1884,1500,1380,1296,1056,852,672,660,516,348,444,300,312,252,144,60,108,0,0,12,0,24,24,0,36,12,0,0,0,0,0,0,0,0,0,0,0,12,0,0,0,0,0,0,0,0,12,0,0,0,0,0,0,0,0,0,0,0,0,0,0,0,0,0,0,0,0,12,12,0,0,0,0,0,0,0,0,0,0,12,0,0,0,0,0,0,0,0,0,0,0,0,0,0,0,0,0,0,0,0,0,0,0,0,0,0,0,0,0,0,0,0,12,0,0,0,0,12,0,24,0,0,0,12,24,12,36,36,36,36,24,36,24,0,24,0,0,12,0,0,36,0,12,0,0,0,12,0,0,0,0,0,0,0,0,0,0,0,0,0,0,0,0,0,0,0,0,0,0,0,0,0,0,0,0,0,0,0,0,0,0,0,0,0,0,0,0,0,0,0,0,0,0,0,0,0,0,0,0,0,0,0,0,0,0,0,0,0,0,0,0,0,0,0,0,0,0,0,0,0,0,0,0,0,0,0,0,0,0,0,0,0,0,0,0,0,0,0,0,0,0,0,0]},{\"_typename\":\"TF1\",\"fUniqueID\":0,\"fBits\":8,\"fName\":\"f\",\"fTitle\":\"pol1(0)+gaus(2)\",\"fLineColor\":632,\"fLineStyle\":1,\"fLineWidth\":2,\"fFillColor\":19,\"fFillStyle\":0,\"fMarkerColor\":1,\"fMarkerStyle\":1,\"fMarkerSize\":1,\"fXmin\":940,\"fXmax\":1000,\"fNpar\":5,\"fNdim\":1,\"fNpx\":100,\"fType\":0,\"fNpfits\":8,\"fNDF\":5,\"fChisquare\":60785.5579876188,\"fMinimum\":-1111,\"fMaximum\":-1111,\"fParErrors\":[0,0,1890.45918511646,0.00408801808680437,0.004085583796412],\"fParMin\":[13450000,-12000,1,910,0.5],\"fParMax\":[13450000,-12000,10000000000,1010,50],\"fSave\":[],\"fNormalized\":false,\"fNormIntegral\":0,\"fFormula\":{\"_typename\":\"TFormula\",\"fUniqueID\":0,\"fBits\":1024,\"fName\":\"f\",\"fTitle\":\"pol1(0)+gaus(2)\",\"fClingParameters\":[13450000,-12000,5651577.72836819,971.443888039999,13.0602726579704],\"fAllParametersSetted\":true,\"fParams\":[{\"$pair\":\"pair<TString,int,TFormulaParamOrder>\",\"first\":\"p0\",\"second\":0},{\"$pair\":\"pair<TString,int,TFormulaParamOrder>\",\"first\":\"p1\",\"second\":1},{\"$pair\":\"pair<TString,int,TFormulaParamOrder>\",\"first\":\"p2\",\"second\":2},{\"$pair\":\"pair<TString,int,TFormulaParamOrder>\",\"first\":\"p3\",\"second\":3},{\"$pair\":\"pair<TString,int,TFormulaParamOrder>\",\"first\":\"p4\",\"second\":4}],\"fFormula\":\"([p0]+[p1]*x)+[p2]*exp(-0.5*((x-[p3])\\/[p4])*((x-[p3])\\/[p4]))\",\"fNdim\":1,\"fLinearParts\":[],\"fVectorized\":false},\"fParams\":null,\"fComposition_ptr\":null},{\"_typename\":\"TF1\",\"fUniqueID\":0,\"fBits\":8,\"fName\":\"f1\",\"fTitle\":\"pol1\",\"fLineColor\":600,\"fLineStyle\":1,\"fLineWidth\":2,\"fFillColor\":19,\"fFillStyle\":0,\"fMarkerColor\":1,\"fMarkerStyle\":1,\"fMarkerSize\":1,\"fXmin\":0,\"fXmax\":2000,\"fNpar\":2,\"fNdim\":1,\"fNpx\":100,\"fType\":0,\"fNpfits\":0,\"fNDF\":0,\"fChisquare\":0,\"fMinimum\":-1111,\"fMaximum\":-1111,\"fParErrors\":[0,0],\"fParMin\":[0,0],\"fParMax\":[0,0],\"fSave\":[],\"fNormalized\":false,\"fNormIntegral\":0,\"fFormula\":{\"_typename\":\"TFormula\",\"fUniqueID\":0,\"fBits\":66560,\"fName\":\"f1\",\"fTitle\":\"pol1\",\"fClingParameters\":[13450000,-12000],\"fAllParametersSetted\":true,\"fParams\":[{\"$pair\":\"pair<TString,int,TFormulaParamOrder>\",\"first\":\"p0\",\"second\":0},{\"$pair\":\"pair<TString,int,TFormulaParamOrder>\",\"first\":\"p1\",\"second\":1}],\"fFormula\":\"([p0]+[p1]*x)\",\"fNdim\":1,\"fLinearParts\":[],\"fVectorized\":false},\"fParams\":null,\"fComposition_ptr\":null}],\"opt\":[\"\",\"\",\"same\",\"same\"]},\"fExecs\":null,\"fName\":\"c1\",\"fTitle\":\"c1\",\"fNumPaletteColor\":0,\"fNextPaletteColor\":0,\"fDISPLAY\":\"$DISPLAY\",\"fDoubleBuffer\":0,\"fRetained\":true,\"fXsizeUser\":0,\"fYsizeUser\":0,\"fXsizeReal\":20,\"fYsizeReal\":14.28571,\"fWindowTopX\":0,\"fWindowTopY\":0,\"fWindowWidth\":0,\"fWindowHeight\":0,\"fCw\":696,\"fCh\":472,\"fCatt\":{\"_typename\":\"TAttCanvas\",\"fXBetween\":2,\"fYBetween\":2,\"fTitleFromTop\":1.2,\"fXdate\":0.2,\"fYdate\":0.3,\"fAdate\":1},\"kMoveOpaque\":true,\"kResizeOpaque\":true,\"fHighLightColor\":2,\"fBatch\":true,\"kShowEventStatus\":false,\"kAutoExec\":true,\"kMenuBar\":true});\n",
       "            Core.draw(\"root_plot_1696900774888\", obj, \"\");\n",
       "        }\n",
       "    );\n",
       "}\n",
       "</script>\n"
      ],
      "text/plain": [
       "<IPython.core.display.HTML object>"
      ]
     },
     "metadata": {},
     "output_type": "display_data"
    },
    {
     "name": "stdout",
     "output_type": "stream",
     "text": [
      "count=2.38132e+07 delta_count=8235.85\n",
      "0 peak=971.444 height=5.65158e+06 sigma=13.0603 contribution=2.31271e+07\n"
     ]
    }
   ],
   "source": [
    "e = vector<double> {960};\n",
    "k = -12000; b = 13450e3;                      //线性本底参数\n",
    "fit_left = 940; fit_right = 1000;       //联合拟合范围\n",
    "area_left = 920; area_right = 1008;     //峰面积计算范围\n",
    "area(h[11]);\n",
    "c1->Draw();"
   ]
  },
  {
   "cell_type": "code",
   "execution_count": 58,
   "id": "0a90f400",
   "metadata": {},
   "outputs": [
    {
     "data": {
      "text/html": [
       "\n",
       "<div id=\"root_plot_1696899660177\"\n",
       "     style=\"width: 696px; height: 472px\">\n",
       "</div>\n",
       "<script>\n",
       "if (typeof require !== 'undefined') {\n",
       "\n",
       "    // All requirements met (we are in jupyter notebooks or we loaded requirejs before).\n",
       "    display_root_plot_1696899660177();\n",
       "\n",
       "} else {\n",
       "\n",
       "    // We are in jupyterlab, we need to insert requirejs and configure it.\n",
       "    // Jupyterlab might be installed in a different base_url so we need to know it.\n",
       "    try {\n",
       "        var base_url = JSON.parse(document.getElementById('jupyter-config-data').innerHTML).baseUrl;\n",
       "    } catch(_) {\n",
       "        var base_url = '/';\n",
       "    }\n",
       "\n",
       "    // Try loading a local version of requirejs and fallback to cdn if not possible.\n",
       "    requirejs_load(base_url + 'static/components/requirejs/require.js', requirejs_success(base_url), function(){\n",
       "        requirejs_load('https://cdnjs.cloudflare.com/ajax/libs/require.js/2.2.0/require.min.js', requirejs_success(base_url), function(){\n",
       "            document.getElementById(\"root_plot_1696899660177\").innerHTML = \"Failed to load requireJs\";\n",
       "        });\n",
       "    });\n",
       "}\n",
       "\n",
       "function requirejs_load(src, on_load, on_error) {\n",
       "    var script = document.createElement('script');\n",
       "    script.src = src;\n",
       "    script.onload = on_load;\n",
       "    script.onerror = on_error;\n",
       "    document.head.appendChild(script);\n",
       "}\n",
       "\n",
       "function requirejs_success(base_url) {\n",
       "    return function() {\n",
       "        require.config({\n",
       "            baseUrl: base_url + 'static/'\n",
       "        });\n",
       "        display_root_plot_1696899660177();\n",
       "    }\n",
       "}\n",
       "\n",
       "function display_root_plot_1696899660177() {\n",
       "    require(['scripts/JSRootCore'],\n",
       "        function(Core) {\n",
       "            var obj = Core.JSONR_unref({\"_typename\":\"TCanvas\",\"fUniqueID\":0,\"fBits\":3342344,\"fLineColor\":1,\"fLineStyle\":1,\"fLineWidth\":1,\"fFillColor\":0,\"fFillStyle\":1001,\"fLeftMargin\":0.1,\"fRightMargin\":0.1,\"fBottomMargin\":0.1,\"fTopMargin\":0.1,\"fXfile\":2,\"fYfile\":2,\"fAfile\":1,\"fXstat\":0.99,\"fYstat\":0.99,\"fAstat\":2,\"fFrameFillColor\":0,\"fFrameLineColor\":1,\"fFrameFillStyle\":1001,\"fFrameLineStyle\":1,\"fFrameLineWidth\":1,\"fFrameBorderSize\":1,\"fFrameBorderMode\":0,\"fX1\":-250.000018626453,\"fY1\":-1404988.30467978,\"fX2\":2250.00001862645,\"fY2\":12644893.9046798,\"fXtoAbsPixelk\":69.6000541484835,\"fXtoPixelk\":69.6000541484835,\"fXtoPixel\":0.278399995851517,\"fYtoAbsPixelk\":424.800047186661,\"fYtoPixelk\":424.800047186661,\"fYtoPixel\":-3.3594587695943e-5,\"fUtoAbsPixelk\":5e-5,\"fUtoPixelk\":5e-5,\"fUtoPixel\":696,\"fVtoAbsPixelk\":472.00005,\"fVtoPixelk\":472,\"fVtoPixel\":-472,\"fAbsPixeltoXk\":-250.000018626453,\"fPixeltoXk\":-250.000018626453,\"fPixeltoX\":3.59195407651279,\"fAbsPixeltoYk\":12644893.9046798,\"fPixeltoYk\":-1404988.30467978,\"fPixeltoY\":-29766.6995961008,\"fXlowNDC\":0,\"fYlowNDC\":0,\"fXUpNDC\":1,\"fYUpNDC\":1,\"fWNDC\":1,\"fHNDC\":1,\"fAbsXlowNDC\":0,\"fAbsYlowNDC\":0,\"fAbsWNDC\":1,\"fAbsHNDC\":1,\"fUxmin\":0,\"fUymin\":0,\"fUxmax\":2000,\"fUymax\":11239905.6,\"fTheta\":30,\"fPhi\":30,\"fAspectRatio\":0,\"fNumber\":0,\"fTickx\":0,\"fTicky\":0,\"fLogx\":0,\"fLogy\":0,\"fLogz\":0,\"fPadPaint\":0,\"fCrosshair\":0,\"fCrosshairPos\":0,\"fBorderSize\":2,\"fBorderMode\":0,\"fModified\":false,\"fGridx\":false,\"fGridy\":false,\"fAbsCoord\":false,\"fEditable\":true,\"fFixedAspectRatio\":false,\"fPrimitives\":{\"_typename\":\"TList\",\"name\":\"TList\",\"arr\":[{\"_typename\":\"TFrame\",\"fUniqueID\":0,\"fBits\":8,\"fLineColor\":1,\"fLineStyle\":1,\"fLineWidth\":1,\"fFillColor\":0,\"fFillStyle\":1001,\"fX1\":0,\"fY1\":0,\"fX2\":2000,\"fY2\":11239905.6,\"fBorderSize\":1,\"fBorderMode\":0},{\"_typename\":\"TH1I\",\"fUniqueID\":0,\"fBits\":8,\"fName\":\"hsingle_120deg\",\"fTitle\":\"\",\"fLineColor\":602,\"fLineStyle\":1,\"fLineWidth\":1,\"fFillColor\":0,\"fFillStyle\":1001,\"fMarkerColor\":1,\"fMarkerStyle\":1,\"fMarkerSize\":1,\"fNcells\":1002,\"fXaxis\":{\"_typename\":\"TAxis\",\"fUniqueID\":0,\"fBits\":2048,\"fName\":\"xaxis\",\"fTitle\":\"\",\"fNdivisions\":510,\"fAxisColor\":1,\"fLabelColor\":1,\"fLabelFont\":42,\"fLabelOffset\":0.005,\"fLabelSize\":0.035,\"fTickLength\":0.03,\"fTitleOffset\":1,\"fTitleSize\":0.035,\"fTitleColor\":1,\"fTitleFont\":42,\"fNbins\":1000,\"fXmin\":0,\"fXmax\":8000,\"fXbins\":[],\"fFirst\":1,\"fLast\":250,\"fBits2\":0,\"fTimeDisplay\":false,\"fTimeFormat\":\"\",\"fLabels\":null,\"fModLabs\":null},\"fYaxis\":{\"_typename\":\"TAxis\",\"fUniqueID\":0,\"fBits\":0,\"fName\":\"yaxis\",\"fTitle\":\"\",\"fNdivisions\":510,\"fAxisColor\":1,\"fLabelColor\":1,\"fLabelFont\":42,\"fLabelOffset\":0.005,\"fLabelSize\":0.035,\"fTickLength\":0.03,\"fTitleOffset\":0,\"fTitleSize\":0.035,\"fTitleColor\":1,\"fTitleFont\":42,\"fNbins\":1,\"fXmin\":0,\"fXmax\":1,\"fXbins\":[],\"fFirst\":0,\"fLast\":0,\"fBits2\":0,\"fTimeDisplay\":false,\"fTimeFormat\":\"\",\"fLabels\":null,\"fModLabs\":null},\"fZaxis\":{\"_typename\":\"TAxis\",\"fUniqueID\":0,\"fBits\":0,\"fName\":\"zaxis\",\"fTitle\":\"\",\"fNdivisions\":510,\"fAxisColor\":1,\"fLabelColor\":1,\"fLabelFont\":42,\"fLabelOffset\":0.005,\"fLabelSize\":0.035,\"fTickLength\":0.03,\"fTitleOffset\":1,\"fTitleSize\":0.035,\"fTitleColor\":1,\"fTitleFont\":42,\"fNbins\":1,\"fXmin\":0,\"fXmax\":1,\"fXbins\":[],\"fFirst\":0,\"fLast\":0,\"fBits2\":0,\"fTimeDisplay\":false,\"fTimeFormat\":\"\",\"fLabels\":null,\"fModLabs\":null},\"fBarOffset\":0,\"fBarWidth\":1000,\"fEntries\":15640541,\"fTsumw\":188392778.198999,\"fTsumw2\":2269221102.38608,\"fTsumwx\":162171678775.748,\"fTsumwx2\":178468382821393,\"fMaximum\":-1111,\"fMinimum\":-1111,\"fNormFactor\":0,\"fContour\":[],\"fSumw2\":[],\"fOption\":\"\",\"fFunctions\":{\"_typename\":\"TList\",\"name\":\"TList\",\"arr\":[{\"_typename\":\"TPaveStats\",\"fUniqueID\":0,\"fBits\":9,\"fLineColor\":1,\"fLineStyle\":1,\"fLineWidth\":1,\"fFillColor\":0,\"fFillStyle\":1001,\"fX1\":1700.00005066395,\"fY1\":9483670.4913177,\"fX2\":2200.00006556511,\"fY2\":11731651.5945689,\"fX1NDC\":0.780000016093254,\"fY1NDC\":0.775000005960464,\"fX2NDC\":0.980000019073486,\"fY2NDC\":0.935000002384186,\"fBorderSize\":1,\"fInit\":1,\"fShadowColor\":1,\"fCornerRadius\":0,\"fOption\":\"brNDC\",\"fName\":\"stats\",\"fTextAngle\":0,\"fTextSize\":0,\"fTextAlign\":12,\"fTextColor\":1,\"fTextFont\":42,\"fLabel\":\"\",\"fLongest\":24,\"fMargin\":0.05,\"fLines\":{\"_typename\":\"TList\",\"name\":\"TList\",\"arr\":[{\"_typename\":\"TLatex\",\"fUniqueID\":0,\"fBits\":0,\"fName\":\"\",\"fTitle\":\"hsingle_120deg\",\"fTextAngle\":0,\"fTextSize\":0.0368,\"fTextAlign\":0,\"fTextColor\":0,\"fTextFont\":0,\"fX\":0,\"fY\":0,\"fLineColor\":1,\"fLineStyle\":1,\"fLineWidth\":2,\"fLimitFactorSize\":3,\"fOriginSize\":0.0368000008165836},{\"_typename\":\"TLatex\",\"fUniqueID\":0,\"fBits\":0,\"fName\":\"\",\"fTitle\":\"Entries =   1.564054e+07\",\"fTextAngle\":0,\"fTextSize\":0,\"fTextAlign\":0,\"fTextColor\":0,\"fTextFont\":0,\"fX\":0,\"fY\":0,\"fLineColor\":1,\"fLineStyle\":1,\"fLineWidth\":2,\"fLimitFactorSize\":3,\"fOriginSize\":0.04},{\"_typename\":\"TLatex\",\"fUniqueID\":0,\"fBits\":0,\"fName\":\"\",\"fTitle\":\"Mean  =  805.7\",\"fTextAngle\":0,\"fTextSize\":0,\"fTextAlign\":0,\"fTextColor\":0,\"fTextFont\":0,\"fX\":0,\"fY\":0,\"fLineColor\":1,\"fLineStyle\":1,\"fLineWidth\":2,\"fLimitFactorSize\":3,\"fOriginSize\":0.04},{\"_typename\":\"TLatex\",\"fUniqueID\":0,\"fBits\":0,\"fName\":\"\",\"fTitle\":\"Std Dev   =  185.9\",\"fTextAngle\":0,\"fTextSize\":0,\"fTextAlign\":0,\"fTextColor\":0,\"fTextFont\":0,\"fX\":0,\"fY\":0,\"fLineColor\":1,\"fLineStyle\":1,\"fLineWidth\":2,\"fLimitFactorSize\":3,\"fOriginSize\":0.04}],\"opt\":[\"\",\"\",\"\",\"\"]},\"fOptFit\":0,\"fOptStat\":1111,\"fFitFormat\":\"5.4g\",\"fStatFormat\":\"6.4g\",\"fParent\":{\"$ref\":3}},{\"_typename\":\"TF1\",\"fUniqueID\":0,\"fBits\":1024,\"fName\":\"f\",\"fTitle\":\"pol1(0)+gaus(2)+gaus(5)\",\"fLineColor\":2,\"fLineStyle\":1,\"fLineWidth\":2,\"fFillColor\":19,\"fFillStyle\":0,\"fMarkerColor\":1,\"fMarkerStyle\":1,\"fMarkerSize\":1,\"fXmin\":750,\"fXmax\":870,\"fNpar\":8,\"fNdim\":1,\"fNpx\":100,\"fType\":0,\"fNpfits\":15,\"fNDF\":9,\"fChisquare\":67483.2919478302,\"fMinimum\":-1111,\"fMaximum\":-1111,\"fParErrors\":[0,0,2005.97778007295,0.00355725342745927,0.00373543247795638,1649.16964123957,0.00637935877551854,0.00727148526295895],\"fParMin\":[-4900000,7800,1,710,0.5,1,780,0.5],\"fParMax\":[-4900000,7800,10000000000,810,50,10000000000,880,50],\"fSave\":[1654586.0887997,1789305.54529366,1941062.82652539,2111115.49006038,2300612.85086409,2510551.40957118,2741727.5027809,2994688.37859144,3269683.15115514,3566615.30978149,3884998.63528426,4223918.49337028,4582000.51768641,4957388.65179677,5347734.38137,5750198.75106981,6161468.42602961,6577786.63195895,6994999.30329743,7408616.20347025,7813886.17834514,8205885.09066417,8579614.38952791,8930107.72607311,9252542.56477507,9542353.38720608,9795342.86503923,10007787.3089559,10176532.7897722,10299078.5790281,10373644.9611323,10399223.0118706,10375604.5946129,10303391.5650674,10183983.9620377,10019547.756437,9812963.49417034,9567757.86238886,9288020.7989232,8978311.22316859,8643554.77264205,8288937.07089691,7919796.02683413,7541516.47946018,7159430.17141632,6778723.58254318,6404355.61102868,6040986.48839639,5692918.69214068,5364050.01273592,5057838.37453944,4777277.53323254,4524882.40055033,4302682.49761736,4112221.92053475,3954564.21661779,3830300.70888433,3739561.05394461,3682025.15113792,3656935.90972679,3663112.79347931,3698966.46359024,3762515.19768475,3851404.04353849,3962927.8451087,4094059.33649379,4241483.42608803,4401638.5876508,4570765.94645225,4744966.21599199,4920264.13161105,5092679.47621012,5258303.23952289,5413376.93716858,5554372.67915113,5678071.25559128,5781635.3293332,5862674.81040215,5919301.6447941,5950171.57650096,5954510.92182718,5932127.00275693,5883401.58603383,5809267.42473191,5711168.75387591,5591007.30532215,5451076.03693632,5293983.28052082,5122570.37399576,4939826.03847074,4748800.78382712,4552524.48237959,4353929.95470945,4155784.98936808,3960634.70003455,3770755.54519785,3588121.733252,3414384.14553484,3250861.36324409,3098541.90780241,2958096.41783089,750,870],\"fNormalized\":false,\"fNormIntegral\":0,\"fFormula\":{\"_typename\":\"TFormula\",\"fUniqueID\":0,\"fBits\":1024,\"fName\":\"f\",\"fTitle\":\"pol1(0)+gaus(2)+gaus(5)\",\"fClingParameters\":[-4900000,7800,9157899.28377825,786.980603113896,16.3280940122472,4246372.83438605,845.356120973745,14.8528809880005],\"fAllParametersSetted\":true,\"fParams\":[{\"$pair\":\"pair<TString,int,TFormulaParamOrder>\",\"first\":\"p0\",\"second\":0},{\"$pair\":\"pair<TString,int,TFormulaParamOrder>\",\"first\":\"p1\",\"second\":1},{\"$pair\":\"pair<TString,int,TFormulaParamOrder>\",\"first\":\"p2\",\"second\":2},{\"$pair\":\"pair<TString,int,TFormulaParamOrder>\",\"first\":\"p3\",\"second\":3},{\"$pair\":\"pair<TString,int,TFormulaParamOrder>\",\"first\":\"p4\",\"second\":4},{\"$pair\":\"pair<TString,int,TFormulaParamOrder>\",\"first\":\"p5\",\"second\":5},{\"$pair\":\"pair<TString,int,TFormulaParamOrder>\",\"first\":\"p6\",\"second\":6},{\"$pair\":\"pair<TString,int,TFormulaParamOrder>\",\"first\":\"p7\",\"second\":7}],\"fFormula\":\"([p0]+[p1]*x)+[p2]*exp(-0.5*((x-[p3])\\/[p4])*((x-[p3])\\/[p4]))+[p5]*exp(-0.5*((x-[p6])\\/[p7])*((x-[p6])\\/[p7]))\",\"fNdim\":1,\"fLinearParts\":[],\"fVectorized\":false},\"fParams\":null,\"fComposition_ptr\":null}],\"opt\":[\"brNDC\",\"\"]},\"fBufferSize\":0,\"fBuffer\":[],\"fBinStatErrOpt\":0,\"fStatOverflows\":2,\"fArray\":[0,0,0,0,0,0,168,384,684,4968,6396,7212,8364,8808,10644,12036,15888,19968,29676,45684,74880,120000,170076,221232,264744,298716,321120,337212,354180,364548,369336,375408,385380,385800,387336,397548,402192,405900,408780,412548,412512,415548,418116,417264,413640,413760,416148,418800,412560,416268,419772,418896,416736,414444,416940,416748,413016,416916,415776,415560,414168,419256,415368,414900,417072,418680,420768,418572,416460,418044,414708,419364,420180,417312,414816,418224,423972,430416,435564,443388,458244,471240,480096,489720,498444,516756,535716,559524,590616,633996,704316,800508,977712,1302144,1866108,2772924,4355688,6832236,9528936,10704672,9326160,6583320,4541712,3769452,4062576,5136108,6030744,5601300,4324032,3262404,2700528,2415708,2283312,2232624,2228772,2244384,2223780,2268876,2594088,3303684,4604028,6258312,6543504,4795236,2884680,1870908,1421256,1181256,1050540,979116,924024,885852,829380,755760,660564,571992,499656,411492,337620,259488,168816,91932,46776,25692,17268,13392,10236,9444,9684,9192,9024,8496,8052,7632,7980,7740,7848,8196,7200,7044,6960,7368,6840,7236,6732,7320,7020,7080,7248,6780,6744,6648,6552,6684,6792,6588,6240,5892,6504,6156,6612,6456,6144,6288,6288,6216,5916,6312,6168,6360,6168,6012,6252,6108,6492,6312,6444,5952,5784,5820,6072,6240,6012,6240,5964,5688,5748,5664,5808,5820,5388,5952,5544,5700,5640,5652,5580,5352,5220,5376,5304,4920,5136,4800,4524,4296,4356,4644,4152,4020,3936,3768,3564,3372,3132,3636,3528,3336,3144,3276,3156,3120,3228,2952,3216,2988,3252,2940,3000,3108,2736,2592,3096,2892,2544,3132,2592,2880,3036,2628,2844,2904,2784,3168,2748,2976,3180,2976,2748,2676,2484,2928,3048,2796,2724,2808,3060,2748,2688,2736,2736,2496,2844,2496,2856,2376,2328,2640,2748,2700,2712,2832,2724,2472,2580,2532,2676,2976,2784,2976,3012,2640,2772,2940,2604,2832,2820,2964,2592,2604,2724,2640,2880,3012,3192,2916,3120,3312,3204,2940,3036,3384,3336,3636,3000,2952,3132,3192,2664,3300,3756,2880,3348,3120,3600,3132,2904,3132,3420,3492,3216,2988,3120,3288,3756,3540,3540,3744,3828,3744,3768,3816,3444,4008,3636,3996,4020,3996,4116,3900,4056,4452,4392,4068,4356,3816,4248,4704,4296,4596,4500,4560,4596,4608,4380,4860,5040,4836,5004,4980,5352,5460,5280,5508,5484,5184,5316,5280,5844,5916,5676,6168,5940,6540,6216,5916,6396,6432,6780,6804,6984,6840,6888,6396,7296,7548,7188,7512,7272,6972,7440,7692,7728,7728,7896,7704,7980,8856,8676,8196,8820,9000,9132,9036,9084,9588,9660,9288,9384,9936,10140,10344,10536,10644,10572,10824,10980,10560,11100,11892,11664,11844,12216,11892,12060,12576,12240,11760,13224,13644,12564,13416,14016,13692,14232,13956,14076,15024,15348,15192,14916,15960,15888,15000,15360,15948,15660,16620,17352,16668,17508,17844,18144,17712,17676,18012,18996,19452,18840,18252,20652,20232,19716,20952,19980,20040,20712,21576,21420,21624,21516,22284,21780,22692,21792,22044,22860,22980,21456,23004,23292,23316,22836,23220,22428,23748,23820,23460,23064,23148,22728,22704,22896,22956,22824,23928,22584,22032,22764,21324,21576,21048,21060,22092,20856,21060,19968,19608,19548,18528,18780,19104,18396,17652,17292,17676,16716,15732,16296,15876,15192,15384,14856,14076,14856,14088,13812,13224,12924,11808,12624,11688,11592,10620,10668,10044,10920,10080,10068,9924,9072,8832,8976,8184,8376,7788,7764,7500,7764,7044,7164,6768,7104,6720,6552,6444,6132,6444,6000,4764,5364,5064,4668,5460,4776,4656,4596,4572,4584,4428,3660,3900,4296,3684,3348,3300,3648,3780,3336,3396,3156,3324,3336,2820,3132,2844,2952,2616,2508,2544,2484,2700,2604,2712,2496,2100,2040,2256,2076,1992,2304,2016,2172,1944,2172,1812,1812,1836,1632,1632,1716,1548,1632,1260,1344,1164,1344,1236,1176,1368,1212,1260,1212,1092,1212,1164,876,960,1020,804,1056,1020,1020,852,972,768,828,720,888,900,684,660,756,732,756,672,588,576,792,624,636,564,516,612,624,576,540,432,384,396,372,516,384,504,492,384,408,348,480,408,348,348,504,336,444,312,324,252,228,300,252,336,348,240,204,204,264,144,180,144,204,132,96,144,144,216,84,192,108,156,48,132,60,108,108,72,96,168,96,168,120,276,180,300,396,576,972,1296,1692,1920,2424,2568,3024,3024,2772,3036,2856,2592,2340,2208,1860,1500,1152,1212,936,816,732,624,468,576,384,348,276,180,204,120,96,108,12,0,48,0,0,0,0,0,0,12,0,0,0,0,0,0,0,0,0,0,0,0,0,0,0,0,0,0,12,0,0,0,0,0,0,0,0,12,0,12,0,0,0,0,0,0,0,0,0,0,0,0,0,0,0,0,0,0,0,0,0,0,0,0,0,0,0,0,0,0,0,0,0,0,0,0,0,0,0,0,0,0,0,0,0,0,0,0,0,0,0,0,0,0,0,0,0,0,0,0,0,0,0,12,0,12,24,36,24,12,48,36,24,24,36,48,12,12,12,12,36,0,36,24,0,24,24,0,0,0,0,0,0,0,12,0,0,12,0,0,0,0,0,0,0,0,0,0,0,0,0,0,0,0,0,0,0,0,0,0,0,0,0,0,0,0,0,0,0,0,0,0,0,0,0,0,0,0,0,0,0,0,0,0,0,0,0,0,0,0,0,0,0,0,0,0,0,0,0,0,0,0,0,0,0,0,0,0,0,0,0,0,0,0,0,0,0,0,0,0,0,0,0,0,0,0,0,0,0,0,0,0,0,36]},{\"_typename\":\"TF1\",\"fUniqueID\":0,\"fBits\":8,\"fName\":\"f\",\"fTitle\":\"pol1(0)+gaus(2)+gaus(5)\",\"fLineColor\":632,\"fLineStyle\":1,\"fLineWidth\":2,\"fFillColor\":19,\"fFillStyle\":0,\"fMarkerColor\":1,\"fMarkerStyle\":1,\"fMarkerSize\":1,\"fXmin\":750,\"fXmax\":870,\"fNpar\":8,\"fNdim\":1,\"fNpx\":100,\"fType\":0,\"fNpfits\":15,\"fNDF\":9,\"fChisquare\":67483.2919478302,\"fMinimum\":-1111,\"fMaximum\":-1111,\"fParErrors\":[0,0,2005.97778007295,0.00355725342745927,0.00373543247795638,1649.16964123957,0.00637935877551854,0.00727148526295895],\"fParMin\":[-4900000,7800,1,710,0.5,1,780,0.5],\"fParMax\":[-4900000,7800,10000000000,810,50,10000000000,880,50],\"fSave\":[],\"fNormalized\":false,\"fNormIntegral\":0,\"fFormula\":{\"_typename\":\"TFormula\",\"fUniqueID\":0,\"fBits\":1024,\"fName\":\"f\",\"fTitle\":\"pol1(0)+gaus(2)+gaus(5)\",\"fClingParameters\":[-4900000,7800,9157899.28377825,786.980603113896,16.3280940122472,4246372.83438605,845.356120973745,14.8528809880005],\"fAllParametersSetted\":true,\"fParams\":[{\"$pair\":\"pair<TString,int,TFormulaParamOrder>\",\"first\":\"p0\",\"second\":0},{\"$pair\":\"pair<TString,int,TFormulaParamOrder>\",\"first\":\"p1\",\"second\":1},{\"$pair\":\"pair<TString,int,TFormulaParamOrder>\",\"first\":\"p2\",\"second\":2},{\"$pair\":\"pair<TString,int,TFormulaParamOrder>\",\"first\":\"p3\",\"second\":3},{\"$pair\":\"pair<TString,int,TFormulaParamOrder>\",\"first\":\"p4\",\"second\":4},{\"$pair\":\"pair<TString,int,TFormulaParamOrder>\",\"first\":\"p5\",\"second\":5},{\"$pair\":\"pair<TString,int,TFormulaParamOrder>\",\"first\":\"p6\",\"second\":6},{\"$pair\":\"pair<TString,int,TFormulaParamOrder>\",\"first\":\"p7\",\"second\":7}],\"fFormula\":\"([p0]+[p1]*x)+[p2]*exp(-0.5*((x-[p3])\\/[p4])*((x-[p3])\\/[p4]))+[p5]*exp(-0.5*((x-[p6])\\/[p7])*((x-[p6])\\/[p7]))\",\"fNdim\":1,\"fLinearParts\":[],\"fVectorized\":false},\"fParams\":null,\"fComposition_ptr\":null},{\"_typename\":\"TF1\",\"fUniqueID\":0,\"fBits\":8,\"fName\":\"f1\",\"fTitle\":\"pol1\",\"fLineColor\":600,\"fLineStyle\":1,\"fLineWidth\":2,\"fFillColor\":19,\"fFillStyle\":0,\"fMarkerColor\":1,\"fMarkerStyle\":1,\"fMarkerSize\":1,\"fXmin\":0,\"fXmax\":2000,\"fNpar\":2,\"fNdim\":1,\"fNpx\":100,\"fType\":0,\"fNpfits\":0,\"fNDF\":0,\"fChisquare\":0,\"fMinimum\":-1111,\"fMaximum\":-1111,\"fParErrors\":[0,0],\"fParMin\":[0,0],\"fParMax\":[0,0],\"fSave\":[],\"fNormalized\":false,\"fNormIntegral\":0,\"fFormula\":{\"_typename\":\"TFormula\",\"fUniqueID\":0,\"fBits\":66560,\"fName\":\"f1\",\"fTitle\":\"pol1\",\"fClingParameters\":[-4900000,7800],\"fAllParametersSetted\":true,\"fParams\":[{\"$pair\":\"pair<TString,int,TFormulaParamOrder>\",\"first\":\"p0\",\"second\":0},{\"$pair\":\"pair<TString,int,TFormulaParamOrder>\",\"first\":\"p1\",\"second\":1}],\"fFormula\":\"([p0]+[p1]*x)\",\"fNdim\":1,\"fLinearParts\":[],\"fVectorized\":false},\"fParams\":null,\"fComposition_ptr\":null}],\"opt\":[\"\",\"\",\"same\",\"same\"]},\"fExecs\":null,\"fName\":\"c1\",\"fTitle\":\"c1\",\"fNumPaletteColor\":0,\"fNextPaletteColor\":0,\"fDISPLAY\":\"$DISPLAY\",\"fDoubleBuffer\":0,\"fRetained\":true,\"fXsizeUser\":0,\"fYsizeUser\":0,\"fXsizeReal\":20,\"fYsizeReal\":14.28571,\"fWindowTopX\":0,\"fWindowTopY\":0,\"fWindowWidth\":0,\"fWindowHeight\":0,\"fCw\":696,\"fCh\":472,\"fCatt\":{\"_typename\":\"TAttCanvas\",\"fXBetween\":2,\"fYBetween\":2,\"fTitleFromTop\":1.2,\"fXdate\":0.2,\"fYdate\":0.3,\"fAdate\":1},\"kMoveOpaque\":true,\"kResizeOpaque\":true,\"fHighLightColor\":2,\"fBatch\":true,\"kShowEventStatus\":false,\"kAutoExec\":true,\"kMenuBar\":true});\n",
       "            Core.draw(\"root_plot_1696899660177\", obj, \"\");\n",
       "        }\n",
       "    );\n",
       "}\n",
       "</script>\n"
      ],
      "text/plain": [
       "<IPython.core.display.HTML object>"
      ]
     },
     "metadata": {},
     "output_type": "display_data"
    },
    {
     "name": "stdout",
     "output_type": "stream",
     "text": [
      "count=6.81309e+07 delta_count=11328.5\n",
      "0 peak=786.981 height=9.1579e+06 sigma=16.3281 contribution=4.68523e+07\n",
      "1 peak=845.356 height=4.24637e+06 sigma=14.8529 contribution=1.97619e+07\n"
     ]
    }
   ],
   "source": [
    "e = vector<double> {760, 830};\n",
    "k = 7800; b = -4900e3;                      //线性本底参数\n",
    "fit_left = 750; fit_right = 870;       //联合拟合范围\n",
    "area_left = 728; area_right = 904;\n",
    "area(h[12]);\n",
    "c1->Draw();"
   ]
  },
  {
   "cell_type": "code",
   "execution_count": 78,
   "id": "e66cd74a",
   "metadata": {},
   "outputs": [
    {
     "data": {
      "text/html": [
       "\n",
       "<div id=\"root_plot_1696900031438\"\n",
       "     style=\"width: 696px; height: 472px\">\n",
       "</div>\n",
       "<script>\n",
       "if (typeof require !== 'undefined') {\n",
       "\n",
       "    // All requirements met (we are in jupyter notebooks or we loaded requirejs before).\n",
       "    display_root_plot_1696900031438();\n",
       "\n",
       "} else {\n",
       "\n",
       "    // We are in jupyterlab, we need to insert requirejs and configure it.\n",
       "    // Jupyterlab might be installed in a different base_url so we need to know it.\n",
       "    try {\n",
       "        var base_url = JSON.parse(document.getElementById('jupyter-config-data').innerHTML).baseUrl;\n",
       "    } catch(_) {\n",
       "        var base_url = '/';\n",
       "    }\n",
       "\n",
       "    // Try loading a local version of requirejs and fallback to cdn if not possible.\n",
       "    requirejs_load(base_url + 'static/components/requirejs/require.js', requirejs_success(base_url), function(){\n",
       "        requirejs_load('https://cdnjs.cloudflare.com/ajax/libs/require.js/2.2.0/require.min.js', requirejs_success(base_url), function(){\n",
       "            document.getElementById(\"root_plot_1696900031438\").innerHTML = \"Failed to load requireJs\";\n",
       "        });\n",
       "    });\n",
       "}\n",
       "\n",
       "function requirejs_load(src, on_load, on_error) {\n",
       "    var script = document.createElement('script');\n",
       "    script.src = src;\n",
       "    script.onload = on_load;\n",
       "    script.onerror = on_error;\n",
       "    document.head.appendChild(script);\n",
       "}\n",
       "\n",
       "function requirejs_success(base_url) {\n",
       "    return function() {\n",
       "        require.config({\n",
       "            baseUrl: base_url + 'static/'\n",
       "        });\n",
       "        display_root_plot_1696900031438();\n",
       "    }\n",
       "}\n",
       "\n",
       "function display_root_plot_1696900031438() {\n",
       "    require(['scripts/JSRootCore'],\n",
       "        function(Core) {\n",
       "            var obj = Core.JSONR_unref({\"_typename\":\"TCanvas\",\"fUniqueID\":0,\"fBits\":3342344,\"fLineColor\":1,\"fLineStyle\":1,\"fLineWidth\":1,\"fFillColor\":0,\"fFillStyle\":1001,\"fLeftMargin\":0.1,\"fRightMargin\":0.1,\"fBottomMargin\":0.1,\"fTopMargin\":0.1,\"fXfile\":2,\"fYfile\":2,\"fAfile\":1,\"fXstat\":0.99,\"fYstat\":0.99,\"fAstat\":2,\"fFrameFillColor\":0,\"fFrameLineColor\":1,\"fFrameFillStyle\":1001,\"fFrameLineStyle\":1,\"fFrameLineWidth\":1,\"fFrameBorderSize\":1,\"fFrameBorderMode\":0,\"fX1\":-250.000018626453,\"fY1\":-1404988.30467978,\"fX2\":2250.00001862645,\"fY2\":12644893.9046798,\"fXtoAbsPixelk\":69.6000541484835,\"fXtoPixelk\":69.6000541484835,\"fXtoPixel\":0.278399995851517,\"fYtoAbsPixelk\":424.800047186661,\"fYtoPixelk\":424.800047186661,\"fYtoPixel\":-3.3594587695943e-5,\"fUtoAbsPixelk\":5e-5,\"fUtoPixelk\":5e-5,\"fUtoPixel\":696,\"fVtoAbsPixelk\":472.00005,\"fVtoPixelk\":472,\"fVtoPixel\":-472,\"fAbsPixeltoXk\":-250.000018626453,\"fPixeltoXk\":-250.000018626453,\"fPixeltoX\":3.59195407651279,\"fAbsPixeltoYk\":12644893.9046798,\"fPixeltoYk\":-1404988.30467978,\"fPixeltoY\":-29766.6995961008,\"fXlowNDC\":0,\"fYlowNDC\":0,\"fXUpNDC\":1,\"fYUpNDC\":1,\"fWNDC\":1,\"fHNDC\":1,\"fAbsXlowNDC\":0,\"fAbsYlowNDC\":0,\"fAbsWNDC\":1,\"fAbsHNDC\":1,\"fUxmin\":0,\"fUymin\":0,\"fUxmax\":2000,\"fUymax\":11239905.6,\"fTheta\":30,\"fPhi\":30,\"fAspectRatio\":0,\"fNumber\":0,\"fTickx\":0,\"fTicky\":0,\"fLogx\":0,\"fLogy\":0,\"fLogz\":0,\"fPadPaint\":0,\"fCrosshair\":0,\"fCrosshairPos\":0,\"fBorderSize\":2,\"fBorderMode\":0,\"fModified\":false,\"fGridx\":false,\"fGridy\":false,\"fAbsCoord\":false,\"fEditable\":true,\"fFixedAspectRatio\":false,\"fPrimitives\":{\"_typename\":\"TList\",\"name\":\"TList\",\"arr\":[{\"_typename\":\"TFrame\",\"fUniqueID\":0,\"fBits\":8,\"fLineColor\":1,\"fLineStyle\":1,\"fLineWidth\":1,\"fFillColor\":0,\"fFillStyle\":1001,\"fX1\":0,\"fY1\":0,\"fX2\":2000,\"fY2\":11239905.6,\"fBorderSize\":1,\"fBorderMode\":0},{\"_typename\":\"TH1I\",\"fUniqueID\":0,\"fBits\":8,\"fName\":\"hsingle_120deg\",\"fTitle\":\"\",\"fLineColor\":602,\"fLineStyle\":1,\"fLineWidth\":1,\"fFillColor\":0,\"fFillStyle\":1001,\"fMarkerColor\":1,\"fMarkerStyle\":1,\"fMarkerSize\":1,\"fNcells\":1002,\"fXaxis\":{\"_typename\":\"TAxis\",\"fUniqueID\":0,\"fBits\":2048,\"fName\":\"xaxis\",\"fTitle\":\"\",\"fNdivisions\":510,\"fAxisColor\":1,\"fLabelColor\":1,\"fLabelFont\":42,\"fLabelOffset\":0.005,\"fLabelSize\":0.035,\"fTickLength\":0.03,\"fTitleOffset\":1,\"fTitleSize\":0.035,\"fTitleColor\":1,\"fTitleFont\":42,\"fNbins\":1000,\"fXmin\":0,\"fXmax\":8000,\"fXbins\":[],\"fFirst\":1,\"fLast\":250,\"fBits2\":0,\"fTimeDisplay\":false,\"fTimeFormat\":\"\",\"fLabels\":null,\"fModLabs\":null},\"fYaxis\":{\"_typename\":\"TAxis\",\"fUniqueID\":0,\"fBits\":0,\"fName\":\"yaxis\",\"fTitle\":\"\",\"fNdivisions\":510,\"fAxisColor\":1,\"fLabelColor\":1,\"fLabelFont\":42,\"fLabelOffset\":0.005,\"fLabelSize\":0.035,\"fTickLength\":0.03,\"fTitleOffset\":0,\"fTitleSize\":0.035,\"fTitleColor\":1,\"fTitleFont\":42,\"fNbins\":1,\"fXmin\":0,\"fXmax\":1,\"fXbins\":[],\"fFirst\":0,\"fLast\":0,\"fBits2\":0,\"fTimeDisplay\":false,\"fTimeFormat\":\"\",\"fLabels\":null,\"fModLabs\":null},\"fZaxis\":{\"_typename\":\"TAxis\",\"fUniqueID\":0,\"fBits\":0,\"fName\":\"zaxis\",\"fTitle\":\"\",\"fNdivisions\":510,\"fAxisColor\":1,\"fLabelColor\":1,\"fLabelFont\":42,\"fLabelOffset\":0.005,\"fLabelSize\":0.035,\"fTickLength\":0.03,\"fTitleOffset\":1,\"fTitleSize\":0.035,\"fTitleColor\":1,\"fTitleFont\":42,\"fNbins\":1,\"fXmin\":0,\"fXmax\":1,\"fXbins\":[],\"fFirst\":0,\"fLast\":0,\"fBits2\":0,\"fTimeDisplay\":false,\"fTimeFormat\":\"\",\"fLabels\":null,\"fModLabs\":null},\"fBarOffset\":0,\"fBarWidth\":1000,\"fEntries\":15640541,\"fTsumw\":188392778.198999,\"fTsumw2\":2269221102.38608,\"fTsumwx\":162171678775.748,\"fTsumwx2\":178468382821393,\"fMaximum\":-1111,\"fMinimum\":-1111,\"fNormFactor\":0,\"fContour\":[],\"fSumw2\":[],\"fOption\":\"\",\"fFunctions\":{\"_typename\":\"TList\",\"name\":\"TList\",\"arr\":[{\"_typename\":\"TPaveStats\",\"fUniqueID\":0,\"fBits\":9,\"fLineColor\":1,\"fLineStyle\":1,\"fLineWidth\":1,\"fFillColor\":0,\"fFillStyle\":1001,\"fX1\":1700.00005066395,\"fY1\":9483670.4913177,\"fX2\":2200.00006556511,\"fY2\":11731651.5945689,\"fX1NDC\":0.780000016093254,\"fY1NDC\":0.775000005960464,\"fX2NDC\":0.980000019073486,\"fY2NDC\":0.935000002384186,\"fBorderSize\":1,\"fInit\":1,\"fShadowColor\":1,\"fCornerRadius\":0,\"fOption\":\"brNDC\",\"fName\":\"stats\",\"fTextAngle\":0,\"fTextSize\":0,\"fTextAlign\":12,\"fTextColor\":1,\"fTextFont\":42,\"fLabel\":\"\",\"fLongest\":24,\"fMargin\":0.05,\"fLines\":{\"_typename\":\"TList\",\"name\":\"TList\",\"arr\":[{\"_typename\":\"TLatex\",\"fUniqueID\":0,\"fBits\":0,\"fName\":\"\",\"fTitle\":\"hsingle_120deg\",\"fTextAngle\":0,\"fTextSize\":0.0368,\"fTextAlign\":0,\"fTextColor\":0,\"fTextFont\":0,\"fX\":0,\"fY\":0,\"fLineColor\":1,\"fLineStyle\":1,\"fLineWidth\":2,\"fLimitFactorSize\":3,\"fOriginSize\":0.0368000008165836},{\"_typename\":\"TLatex\",\"fUniqueID\":0,\"fBits\":0,\"fName\":\"\",\"fTitle\":\"Entries =   1.564054e+07\",\"fTextAngle\":0,\"fTextSize\":0,\"fTextAlign\":0,\"fTextColor\":0,\"fTextFont\":0,\"fX\":0,\"fY\":0,\"fLineColor\":1,\"fLineStyle\":1,\"fLineWidth\":2,\"fLimitFactorSize\":3,\"fOriginSize\":0.04},{\"_typename\":\"TLatex\",\"fUniqueID\":0,\"fBits\":0,\"fName\":\"\",\"fTitle\":\"Mean  =  805.7\",\"fTextAngle\":0,\"fTextSize\":0,\"fTextAlign\":0,\"fTextColor\":0,\"fTextFont\":0,\"fX\":0,\"fY\":0,\"fLineColor\":1,\"fLineStyle\":1,\"fLineWidth\":2,\"fLimitFactorSize\":3,\"fOriginSize\":0.04},{\"_typename\":\"TLatex\",\"fUniqueID\":0,\"fBits\":0,\"fName\":\"\",\"fTitle\":\"Std Dev   =  185.9\",\"fTextAngle\":0,\"fTextSize\":0,\"fTextAlign\":0,\"fTextColor\":0,\"fTextFont\":0,\"fX\":0,\"fY\":0,\"fLineColor\":1,\"fLineStyle\":1,\"fLineWidth\":2,\"fLimitFactorSize\":3,\"fOriginSize\":0.04}],\"opt\":[\"\",\"\",\"\",\"\"]},\"fOptFit\":0,\"fOptStat\":1111,\"fFitFormat\":\"5.4g\",\"fStatFormat\":\"6.4g\",\"fParent\":{\"$ref\":3}},{\"_typename\":\"TF1\",\"fUniqueID\":0,\"fBits\":1024,\"fName\":\"f\",\"fTitle\":\"pol1(0)+gaus(2)\",\"fLineColor\":2,\"fLineStyle\":1,\"fLineWidth\":2,\"fFillColor\":19,\"fFillStyle\":0,\"fMarkerColor\":1,\"fMarkerStyle\":1,\"fMarkerSize\":1,\"fXmin\":935,\"fXmax\":1000,\"fNpar\":5,\"fNdim\":1,\"fNpx\":100,\"fType\":0,\"fNpfits\":8,\"fNDF\":5,\"fChisquare\":45183.5026109562,\"fMinimum\":-1111,\"fMaximum\":-1111,\"fParErrors\":[0,0,1761.34648765158,0.00440370006253943,0.00430613475983499],\"fParMin\":[12270000,-11000,1,910,0.5],\"fParMax\":[12270000,-11000,10000000000,1010,50],\"fSave\":[2161150.11882076,2177998.88182323,2197549.22043351,2220019.25451854,2245632.58761661,2274616.64705582,2307200.75920228,2343613.95664989,2384082.5187287,2428827.25181393,2478060.52150842,2531983.05477302,2590780.5363983,2654620.03073403,2723646.26618825,2797977.82652825,2877703.29929841,2962877.43754346,3053517.39630942,3149599.10990638,3251053.87947862,3357765.24286477,3469566.19988741,3586236.86594737,3707502.62499895,3833032.8495654,3962440.25036925,4095280.91139082,4231055.05776412,4369208.59394817,4509135.43820101,4650180.66669767,4791644.4668897,4932786.88515223,5072833.33869523,5210980.84644714,5346404.91849133,5478267.02900449,5605722.58386973,5727929.28156972,5844055.75494662,5953290.37225685,6054850.0689306,6147989.07680041,6232007.41547121,6306259.01109119,6370159.31110232,6423192.26959768,6464916.58660655,6494971.09582538,6513079.20879895,6519052.3390602,6512792.24693248,6494292.26421235,6463637.37737654,6421003.1678607,6366653.62789414,6300937.88989716,6224285.92612007,6137203.29261443,6040265.00739767,5934108.66647067,5819426.91289121,5696959.38317551,5567484.261738,5431809.57779838,5290764.38016654,5145189.92360703,4995930.99620041,4843827.51043162,4689706.47187166,4534374.42855191,4378610.49176716,4223160.00542098,4068728.92649807,3915978.96416942,3765523.50976781,3617924.37475132,3473689.33912789,3333270.49893568,3197063.38852038,3065406.84174331,2938583.54606453,2816821.23480803,2700294.45591262,2589126.85014362,2483393.86808379,2383125.85319145,2288311.41773406,2198901.03936317,2114810.80835743,2035926.25896932,1962106.22269527,1893186.64647243,1828984.32460421,1769300.49945064,1713924.29241658,1662635.93336407,1615209.76311775,1571416.9900881,1531028.18809134,935,1000],\"fNormalized\":false,\"fNormIntegral\":0,\"fFormula\":{\"_typename\":\"TFormula\",\"fUniqueID\":0,\"fBits\":1024,\"fName\":\"f\",\"fTitle\":\"pol1(0)+gaus(2)\",\"fClingParameters\":[12270000,-11000,4900711.34412518,968.522211796343,12.9977944391473],\"fAllParametersSetted\":true,\"fParams\":[{\"$pair\":\"pair<TString,int,TFormulaParamOrder>\",\"first\":\"p0\",\"second\":0},{\"$pair\":\"pair<TString,int,TFormulaParamOrder>\",\"first\":\"p1\",\"second\":1},{\"$pair\":\"pair<TString,int,TFormulaParamOrder>\",\"first\":\"p2\",\"second\":2},{\"$pair\":\"pair<TString,int,TFormulaParamOrder>\",\"first\":\"p3\",\"second\":3},{\"$pair\":\"pair<TString,int,TFormulaParamOrder>\",\"first\":\"p4\",\"second\":4}],\"fFormula\":\"([p0]+[p1]*x)+[p2]*exp(-0.5*((x-[p3])\\/[p4])*((x-[p3])\\/[p4]))\",\"fNdim\":1,\"fLinearParts\":[],\"fVectorized\":false},\"fParams\":null,\"fComposition_ptr\":null}],\"opt\":[\"brNDC\",\"\"]},\"fBufferSize\":0,\"fBuffer\":[],\"fBinStatErrOpt\":0,\"fStatOverflows\":2,\"fArray\":[0,0,0,0,0,0,168,384,684,4968,6396,7212,8364,8808,10644,12036,15888,19968,29676,45684,74880,120000,170076,221232,264744,298716,321120,337212,354180,364548,369336,375408,385380,385800,387336,397548,402192,405900,408780,412548,412512,415548,418116,417264,413640,413760,416148,418800,412560,416268,419772,418896,416736,414444,416940,416748,413016,416916,415776,415560,414168,419256,415368,414900,417072,418680,420768,418572,416460,418044,414708,419364,420180,417312,414816,418224,423972,430416,435564,443388,458244,471240,480096,489720,498444,516756,535716,559524,590616,633996,704316,800508,977712,1302144,1866108,2772924,4355688,6832236,9528936,10704672,9326160,6583320,4541712,3769452,4062576,5136108,6030744,5601300,4324032,3262404,2700528,2415708,2283312,2232624,2228772,2244384,2223780,2268876,2594088,3303684,4604028,6258312,6543504,4795236,2884680,1870908,1421256,1181256,1050540,979116,924024,885852,829380,755760,660564,571992,499656,411492,337620,259488,168816,91932,46776,25692,17268,13392,10236,9444,9684,9192,9024,8496,8052,7632,7980,7740,7848,8196,7200,7044,6960,7368,6840,7236,6732,7320,7020,7080,7248,6780,6744,6648,6552,6684,6792,6588,6240,5892,6504,6156,6612,6456,6144,6288,6288,6216,5916,6312,6168,6360,6168,6012,6252,6108,6492,6312,6444,5952,5784,5820,6072,6240,6012,6240,5964,5688,5748,5664,5808,5820,5388,5952,5544,5700,5640,5652,5580,5352,5220,5376,5304,4920,5136,4800,4524,4296,4356,4644,4152,4020,3936,3768,3564,3372,3132,3636,3528,3336,3144,3276,3156,3120,3228,2952,3216,2988,3252,2940,3000,3108,2736,2592,3096,2892,2544,3132,2592,2880,3036,2628,2844,2904,2784,3168,2748,2976,3180,2976,2748,2676,2484,2928,3048,2796,2724,2808,3060,2748,2688,2736,2736,2496,2844,2496,2856,2376,2328,2640,2748,2700,2712,2832,2724,2472,2580,2532,2676,2976,2784,2976,3012,2640,2772,2940,2604,2832,2820,2964,2592,2604,2724,2640,2880,3012,3192,2916,3120,3312,3204,2940,3036,3384,3336,3636,3000,2952,3132,3192,2664,3300,3756,2880,3348,3120,3600,3132,2904,3132,3420,3492,3216,2988,3120,3288,3756,3540,3540,3744,3828,3744,3768,3816,3444,4008,3636,3996,4020,3996,4116,3900,4056,4452,4392,4068,4356,3816,4248,4704,4296,4596,4500,4560,4596,4608,4380,4860,5040,4836,5004,4980,5352,5460,5280,5508,5484,5184,5316,5280,5844,5916,5676,6168,5940,6540,6216,5916,6396,6432,6780,6804,6984,6840,6888,6396,7296,7548,7188,7512,7272,6972,7440,7692,7728,7728,7896,7704,7980,8856,8676,8196,8820,9000,9132,9036,9084,9588,9660,9288,9384,9936,10140,10344,10536,10644,10572,10824,10980,10560,11100,11892,11664,11844,12216,11892,12060,12576,12240,11760,13224,13644,12564,13416,14016,13692,14232,13956,14076,15024,15348,15192,14916,15960,15888,15000,15360,15948,15660,16620,17352,16668,17508,17844,18144,17712,17676,18012,18996,19452,18840,18252,20652,20232,19716,20952,19980,20040,20712,21576,21420,21624,21516,22284,21780,22692,21792,22044,22860,22980,21456,23004,23292,23316,22836,23220,22428,23748,23820,23460,23064,23148,22728,22704,22896,22956,22824,23928,22584,22032,22764,21324,21576,21048,21060,22092,20856,21060,19968,19608,19548,18528,18780,19104,18396,17652,17292,17676,16716,15732,16296,15876,15192,15384,14856,14076,14856,14088,13812,13224,12924,11808,12624,11688,11592,10620,10668,10044,10920,10080,10068,9924,9072,8832,8976,8184,8376,7788,7764,7500,7764,7044,7164,6768,7104,6720,6552,6444,6132,6444,6000,4764,5364,5064,4668,5460,4776,4656,4596,4572,4584,4428,3660,3900,4296,3684,3348,3300,3648,3780,3336,3396,3156,3324,3336,2820,3132,2844,2952,2616,2508,2544,2484,2700,2604,2712,2496,2100,2040,2256,2076,1992,2304,2016,2172,1944,2172,1812,1812,1836,1632,1632,1716,1548,1632,1260,1344,1164,1344,1236,1176,1368,1212,1260,1212,1092,1212,1164,876,960,1020,804,1056,1020,1020,852,972,768,828,720,888,900,684,660,756,732,756,672,588,576,792,624,636,564,516,612,624,576,540,432,384,396,372,516,384,504,492,384,408,348,480,408,348,348,504,336,444,312,324,252,228,300,252,336,348,240,204,204,264,144,180,144,204,132,96,144,144,216,84,192,108,156,48,132,60,108,108,72,96,168,96,168,120,276,180,300,396,576,972,1296,1692,1920,2424,2568,3024,3024,2772,3036,2856,2592,2340,2208,1860,1500,1152,1212,936,816,732,624,468,576,384,348,276,180,204,120,96,108,12,0,48,0,0,0,0,0,0,12,0,0,0,0,0,0,0,0,0,0,0,0,0,0,0,0,0,0,12,0,0,0,0,0,0,0,0,12,0,12,0,0,0,0,0,0,0,0,0,0,0,0,0,0,0,0,0,0,0,0,0,0,0,0,0,0,0,0,0,0,0,0,0,0,0,0,0,0,0,0,0,0,0,0,0,0,0,0,0,0,0,0,0,0,0,0,0,0,0,0,0,0,0,12,0,12,24,36,24,12,48,36,24,24,36,48,12,12,12,12,36,0,36,24,0,24,24,0,0,0,0,0,0,0,12,0,0,12,0,0,0,0,0,0,0,0,0,0,0,0,0,0,0,0,0,0,0,0,0,0,0,0,0,0,0,0,0,0,0,0,0,0,0,0,0,0,0,0,0,0,0,0,0,0,0,0,0,0,0,0,0,0,0,0,0,0,0,0,0,0,0,0,0,0,0,0,0,0,0,0,0,0,0,0,0,0,0,0,0,0,0,0,0,0,0,0,0,0,0,0,0,0,0,36]},{\"_typename\":\"TF1\",\"fUniqueID\":0,\"fBits\":8,\"fName\":\"f\",\"fTitle\":\"pol1(0)+gaus(2)\",\"fLineColor\":632,\"fLineStyle\":1,\"fLineWidth\":2,\"fFillColor\":19,\"fFillStyle\":0,\"fMarkerColor\":1,\"fMarkerStyle\":1,\"fMarkerSize\":1,\"fXmin\":935,\"fXmax\":1000,\"fNpar\":5,\"fNdim\":1,\"fNpx\":100,\"fType\":0,\"fNpfits\":8,\"fNDF\":5,\"fChisquare\":45183.5026109562,\"fMinimum\":-1111,\"fMaximum\":-1111,\"fParErrors\":[0,0,1761.34648765158,0.00440370006253943,0.00430613475983499],\"fParMin\":[12270000,-11000,1,910,0.5],\"fParMax\":[12270000,-11000,10000000000,1010,50],\"fSave\":[],\"fNormalized\":false,\"fNormIntegral\":0,\"fFormula\":{\"_typename\":\"TFormula\",\"fUniqueID\":0,\"fBits\":1024,\"fName\":\"f\",\"fTitle\":\"pol1(0)+gaus(2)\",\"fClingParameters\":[12270000,-11000,4900711.34412518,968.522211796343,12.9977944391473],\"fAllParametersSetted\":true,\"fParams\":[{\"$pair\":\"pair<TString,int,TFormulaParamOrder>\",\"first\":\"p0\",\"second\":0},{\"$pair\":\"pair<TString,int,TFormulaParamOrder>\",\"first\":\"p1\",\"second\":1},{\"$pair\":\"pair<TString,int,TFormulaParamOrder>\",\"first\":\"p2\",\"second\":2},{\"$pair\":\"pair<TString,int,TFormulaParamOrder>\",\"first\":\"p3\",\"second\":3},{\"$pair\":\"pair<TString,int,TFormulaParamOrder>\",\"first\":\"p4\",\"second\":4}],\"fFormula\":\"([p0]+[p1]*x)+[p2]*exp(-0.5*((x-[p3])\\/[p4])*((x-[p3])\\/[p4]))\",\"fNdim\":1,\"fLinearParts\":[],\"fVectorized\":false},\"fParams\":null,\"fComposition_ptr\":null},{\"_typename\":\"TF1\",\"fUniqueID\":0,\"fBits\":8,\"fName\":\"f1\",\"fTitle\":\"pol1\",\"fLineColor\":600,\"fLineStyle\":1,\"fLineWidth\":2,\"fFillColor\":19,\"fFillStyle\":0,\"fMarkerColor\":1,\"fMarkerStyle\":1,\"fMarkerSize\":1,\"fXmin\":0,\"fXmax\":2000,\"fNpar\":2,\"fNdim\":1,\"fNpx\":100,\"fType\":0,\"fNpfits\":0,\"fNDF\":0,\"fChisquare\":0,\"fMinimum\":-1111,\"fMaximum\":-1111,\"fParErrors\":[0,0],\"fParMin\":[0,0],\"fParMax\":[0,0],\"fSave\":[],\"fNormalized\":false,\"fNormIntegral\":0,\"fFormula\":{\"_typename\":\"TFormula\",\"fUniqueID\":0,\"fBits\":66560,\"fName\":\"f1\",\"fTitle\":\"pol1\",\"fClingParameters\":[12270000,-11000],\"fAllParametersSetted\":true,\"fParams\":[{\"$pair\":\"pair<TString,int,TFormulaParamOrder>\",\"first\":\"p0\",\"second\":0},{\"$pair\":\"pair<TString,int,TFormulaParamOrder>\",\"first\":\"p1\",\"second\":1}],\"fFormula\":\"([p0]+[p1]*x)\",\"fNdim\":1,\"fLinearParts\":[],\"fVectorized\":false},\"fParams\":null,\"fComposition_ptr\":null}],\"opt\":[\"\",\"\",\"same\",\"same\"]},\"fExecs\":null,\"fName\":\"c1\",\"fTitle\":\"c1\",\"fNumPaletteColor\":0,\"fNextPaletteColor\":0,\"fDISPLAY\":\"$DISPLAY\",\"fDoubleBuffer\":0,\"fRetained\":true,\"fXsizeUser\":0,\"fYsizeUser\":0,\"fXsizeReal\":20,\"fYsizeReal\":14.28571,\"fWindowTopX\":0,\"fWindowTopY\":0,\"fWindowWidth\":0,\"fWindowHeight\":0,\"fCw\":696,\"fCh\":472,\"fCatt\":{\"_typename\":\"TAttCanvas\",\"fXBetween\":2,\"fYBetween\":2,\"fTitleFromTop\":1.2,\"fXdate\":0.2,\"fYdate\":0.3,\"fAdate\":1},\"kMoveOpaque\":true,\"kResizeOpaque\":true,\"fHighLightColor\":2,\"fBatch\":true,\"kShowEventStatus\":false,\"kAutoExec\":true,\"kMenuBar\":true});\n",
       "            Core.draw(\"root_plot_1696900031438\", obj, \"\");\n",
       "        }\n",
       "    );\n",
       "}\n",
       "</script>\n"
      ],
      "text/plain": [
       "<IPython.core.display.HTML object>"
      ]
     },
     "metadata": {},
     "output_type": "display_data"
    },
    {
     "name": "stdout",
     "output_type": "stream",
     "text": [
      "count=2.03678e+07 delta_count=7421.85\n",
      "0 peak=968.522 height=4.90071e+06 sigma=12.9978 contribution=1.99585e+07\n"
     ]
    }
   ],
   "source": [
    "e = vector<double> {960};\n",
    "k = -11000; b = 12270e3;                      //线性本底参数\n",
    "fit_left = 935; fit_right = 1000;       //联合拟合范围\n",
    "area_left = 928; area_right = 1008;     //峰面积计算范围\n",
    "area(h[12]);\n",
    "c1->Draw();"
   ]
  },
  {
   "cell_type": "code",
   "execution_count": 59,
   "id": "255fb5c2",
   "metadata": {},
   "outputs": [
    {
     "data": {
      "text/html": [
       "\n",
       "<div id=\"root_plot_1696899716259\"\n",
       "     style=\"width: 696px; height: 472px\">\n",
       "</div>\n",
       "<script>\n",
       "if (typeof require !== 'undefined') {\n",
       "\n",
       "    // All requirements met (we are in jupyter notebooks or we loaded requirejs before).\n",
       "    display_root_plot_1696899716259();\n",
       "\n",
       "} else {\n",
       "\n",
       "    // We are in jupyterlab, we need to insert requirejs and configure it.\n",
       "    // Jupyterlab might be installed in a different base_url so we need to know it.\n",
       "    try {\n",
       "        var base_url = JSON.parse(document.getElementById('jupyter-config-data').innerHTML).baseUrl;\n",
       "    } catch(_) {\n",
       "        var base_url = '/';\n",
       "    }\n",
       "\n",
       "    // Try loading a local version of requirejs and fallback to cdn if not possible.\n",
       "    requirejs_load(base_url + 'static/components/requirejs/require.js', requirejs_success(base_url), function(){\n",
       "        requirejs_load('https://cdnjs.cloudflare.com/ajax/libs/require.js/2.2.0/require.min.js', requirejs_success(base_url), function(){\n",
       "            document.getElementById(\"root_plot_1696899716259\").innerHTML = \"Failed to load requireJs\";\n",
       "        });\n",
       "    });\n",
       "}\n",
       "\n",
       "function requirejs_load(src, on_load, on_error) {\n",
       "    var script = document.createElement('script');\n",
       "    script.src = src;\n",
       "    script.onload = on_load;\n",
       "    script.onerror = on_error;\n",
       "    document.head.appendChild(script);\n",
       "}\n",
       "\n",
       "function requirejs_success(base_url) {\n",
       "    return function() {\n",
       "        require.config({\n",
       "            baseUrl: base_url + 'static/'\n",
       "        });\n",
       "        display_root_plot_1696899716259();\n",
       "    }\n",
       "}\n",
       "\n",
       "function display_root_plot_1696899716259() {\n",
       "    require(['scripts/JSRootCore'],\n",
       "        function(Core) {\n",
       "            var obj = Core.JSONR_unref({\"_typename\":\"TCanvas\",\"fUniqueID\":0,\"fBits\":3342344,\"fLineColor\":1,\"fLineStyle\":1,\"fLineWidth\":1,\"fFillColor\":0,\"fFillStyle\":1001,\"fLeftMargin\":0.1,\"fRightMargin\":0.1,\"fBottomMargin\":0.1,\"fTopMargin\":0.1,\"fXfile\":2,\"fYfile\":2,\"fAfile\":1,\"fXstat\":0.99,\"fYstat\":0.99,\"fAstat\":2,\"fFrameFillColor\":0,\"fFrameLineColor\":1,\"fFrameFillStyle\":1001,\"fFrameLineStyle\":1,\"fFrameLineWidth\":1,\"fFrameBorderSize\":1,\"fFrameBorderMode\":0,\"fX1\":-250.000018626453,\"fY1\":-1175561.18758613,\"fX2\":2250.00001862645,\"fY2\":10580049.9875861,\"fXtoAbsPixelk\":69.6000541484835,\"fXtoPixelk\":69.6000541484835,\"fXtoPixel\":0.278399995851517,\"fYtoAbsPixelk\":424.800047186661,\"fYtoPixelk\":424.800047186661,\"fYtoPixel\":-4.01510387649482e-5,\"fUtoAbsPixelk\":5e-5,\"fUtoPixelk\":5e-5,\"fUtoPixel\":696,\"fVtoAbsPixelk\":472.00005,\"fVtoPixelk\":472,\"fVtoPixel\":-472,\"fAbsPixeltoXk\":-250.000018626453,\"fPixeltoXk\":-250.000018626453,\"fPixeltoX\":3.59195407651279,\"fAbsPixeltoYk\":10580049.9875861,\"fPixeltoYk\":-1175561.18758613,\"fPixeltoY\":-24905.9558796023,\"fXlowNDC\":0,\"fYlowNDC\":0,\"fXUpNDC\":1,\"fYUpNDC\":1,\"fWNDC\":1,\"fHNDC\":1,\"fAbsXlowNDC\":0,\"fAbsYlowNDC\":0,\"fAbsWNDC\":1,\"fAbsHNDC\":1,\"fUxmin\":0,\"fUymin\":0,\"fUxmax\":2000,\"fUymax\":9404488.8,\"fTheta\":30,\"fPhi\":30,\"fAspectRatio\":0,\"fNumber\":0,\"fTickx\":0,\"fTicky\":0,\"fLogx\":0,\"fLogy\":0,\"fLogz\":0,\"fPadPaint\":0,\"fCrosshair\":0,\"fCrosshairPos\":0,\"fBorderSize\":2,\"fBorderMode\":0,\"fModified\":false,\"fGridx\":false,\"fGridy\":false,\"fAbsCoord\":false,\"fEditable\":true,\"fFixedAspectRatio\":false,\"fPrimitives\":{\"_typename\":\"TList\",\"name\":\"TList\",\"arr\":[{\"_typename\":\"TFrame\",\"fUniqueID\":0,\"fBits\":8,\"fLineColor\":1,\"fLineStyle\":1,\"fLineWidth\":1,\"fFillColor\":0,\"fFillStyle\":1001,\"fX1\":0,\"fY1\":0,\"fX2\":2000,\"fY2\":9404488.8,\"fBorderSize\":1,\"fBorderMode\":0},{\"_typename\":\"TH1I\",\"fUniqueID\":0,\"fBits\":8,\"fName\":\"hsingle_125deg\",\"fTitle\":\"\",\"fLineColor\":602,\"fLineStyle\":1,\"fLineWidth\":1,\"fFillColor\":0,\"fFillStyle\":1001,\"fMarkerColor\":1,\"fMarkerStyle\":1,\"fMarkerSize\":1,\"fNcells\":1002,\"fXaxis\":{\"_typename\":\"TAxis\",\"fUniqueID\":0,\"fBits\":2048,\"fName\":\"xaxis\",\"fTitle\":\"\",\"fNdivisions\":510,\"fAxisColor\":1,\"fLabelColor\":1,\"fLabelFont\":42,\"fLabelOffset\":0.005,\"fLabelSize\":0.035,\"fTickLength\":0.03,\"fTitleOffset\":1,\"fTitleSize\":0.035,\"fTitleColor\":1,\"fTitleFont\":42,\"fNbins\":1000,\"fXmin\":0,\"fXmax\":8000,\"fXbins\":[],\"fFirst\":1,\"fLast\":250,\"fBits2\":0,\"fTimeDisplay\":false,\"fTimeFormat\":\"\",\"fLabels\":null,\"fModLabs\":null},\"fYaxis\":{\"_typename\":\"TAxis\",\"fUniqueID\":0,\"fBits\":0,\"fName\":\"yaxis\",\"fTitle\":\"\",\"fNdivisions\":510,\"fAxisColor\":1,\"fLabelColor\":1,\"fLabelFont\":42,\"fLabelOffset\":0.005,\"fLabelSize\":0.035,\"fTickLength\":0.03,\"fTitleOffset\":0,\"fTitleSize\":0.035,\"fTitleColor\":1,\"fTitleFont\":42,\"fNbins\":1,\"fXmin\":0,\"fXmax\":1,\"fXbins\":[],\"fFirst\":0,\"fLast\":0,\"fBits2\":0,\"fTimeDisplay\":false,\"fTimeFormat\":\"\",\"fLabels\":null,\"fModLabs\":null},\"fZaxis\":{\"_typename\":\"TAxis\",\"fUniqueID\":0,\"fBits\":0,\"fName\":\"zaxis\",\"fTitle\":\"\",\"fNdivisions\":510,\"fAxisColor\":1,\"fLabelColor\":1,\"fLabelFont\":42,\"fLabelOffset\":0.005,\"fLabelSize\":0.035,\"fTickLength\":0.03,\"fTitleOffset\":1,\"fTitleSize\":0.035,\"fTitleColor\":1,\"fTitleFont\":42,\"fNbins\":1,\"fXmin\":0,\"fXmax\":1,\"fXbins\":[],\"fFirst\":0,\"fLast\":0,\"fBits2\":0,\"fTimeDisplay\":false,\"fTimeFormat\":\"\",\"fLabels\":null,\"fModLabs\":null},\"fBarOffset\":0,\"fBarWidth\":1000,\"fEntries\":13443136,\"fTsumw\":172897597.481698,\"fTsumw2\":2223706110.33335,\"fTsumwx\":146710387664.473,\"fTsumwx2\":160336151807192,\"fMaximum\":-1111,\"fMinimum\":-1111,\"fNormFactor\":0,\"fContour\":[],\"fSumw2\":[],\"fOption\":\"\",\"fFunctions\":{\"_typename\":\"TList\",\"name\":\"TList\",\"arr\":[{\"_typename\":\"TPaveStats\",\"fUniqueID\":0,\"fBits\":9,\"fLineColor\":1,\"fLineStyle\":1,\"fLineWidth\":1,\"fFillColor\":0,\"fFillStyle\":1001,\"fX1\":1700.00005066395,\"fY1\":7935037.54324128,\"fX2\":2200.00006556511,\"fY2\":9815935.2892275,\"fX1NDC\":0.780000016093254,\"fY1NDC\":0.775000005960464,\"fX2NDC\":0.980000019073486,\"fY2NDC\":0.935000002384186,\"fBorderSize\":1,\"fInit\":1,\"fShadowColor\":1,\"fCornerRadius\":0,\"fOption\":\"brNDC\",\"fName\":\"stats\",\"fTextAngle\":0,\"fTextSize\":0,\"fTextAlign\":12,\"fTextColor\":1,\"fTextFont\":42,\"fLabel\":\"\",\"fLongest\":24,\"fMargin\":0.05,\"fLines\":{\"_typename\":\"TList\",\"name\":\"TList\",\"arr\":[{\"_typename\":\"TLatex\",\"fUniqueID\":0,\"fBits\":0,\"fName\":\"\",\"fTitle\":\"hsingle_125deg\",\"fTextAngle\":0,\"fTextSize\":0.0368,\"fTextAlign\":0,\"fTextColor\":0,\"fTextFont\":0,\"fX\":0,\"fY\":0,\"fLineColor\":1,\"fLineStyle\":1,\"fLineWidth\":2,\"fLimitFactorSize\":3,\"fOriginSize\":0.0368000008165836},{\"_typename\":\"TLatex\",\"fUniqueID\":0,\"fBits\":0,\"fName\":\"\",\"fTitle\":\"Entries =   1.344314e+07\",\"fTextAngle\":0,\"fTextSize\":0,\"fTextAlign\":0,\"fTextColor\":0,\"fTextFont\":0,\"fX\":0,\"fY\":0,\"fLineColor\":1,\"fLineStyle\":1,\"fLineWidth\":2,\"fLimitFactorSize\":3,\"fOriginSize\":0.04},{\"_typename\":\"TLatex\",\"fUniqueID\":0,\"fBits\":0,\"fName\":\"\",\"fTitle\":\"Mean  =  792.9\",\"fTextAngle\":0,\"fTextSize\":0,\"fTextAlign\":0,\"fTextColor\":0,\"fTextFont\":0,\"fX\":0,\"fY\":0,\"fLineColor\":1,\"fLineStyle\":1,\"fLineWidth\":2,\"fLimitFactorSize\":3,\"fOriginSize\":0.04},{\"_typename\":\"TLatex\",\"fUniqueID\":0,\"fBits\":0,\"fName\":\"\",\"fTitle\":\"Std Dev   =  190.2\",\"fTextAngle\":0,\"fTextSize\":0,\"fTextAlign\":0,\"fTextColor\":0,\"fTextFont\":0,\"fX\":0,\"fY\":0,\"fLineColor\":1,\"fLineStyle\":1,\"fLineWidth\":2,\"fLimitFactorSize\":3,\"fOriginSize\":0.04}],\"opt\":[\"\",\"\",\"\",\"\"]},\"fOptFit\":0,\"fOptStat\":1111,\"fFitFormat\":\"5.4g\",\"fStatFormat\":\"6.4g\",\"fParent\":{\"$ref\":3}},{\"_typename\":\"TF1\",\"fUniqueID\":0,\"fBits\":1024,\"fName\":\"f\",\"fTitle\":\"pol1(0)+gaus(2)+gaus(5)\",\"fLineColor\":2,\"fLineStyle\":1,\"fLineWidth\":2,\"fFillColor\":19,\"fFillStyle\":0,\"fMarkerColor\":1,\"fMarkerStyle\":1,\"fMarkerSize\":1,\"fXmin\":735,\"fXmax\":860,\"fNpar\":8,\"fNdim\":1,\"fNpx\":100,\"fType\":0,\"fNpfits\":16,\"fNDF\":10,\"fChisquare\":117459.260000755,\"fMinimum\":-1111,\"fMaximum\":-1111,\"fParErrors\":[0,0,1814.82159892982,0.00378765589118757,0.00392067653947237,1480.00652912725,0.00676544193117934,0.00759116795236103],\"fParMin\":[-3250000,5500,1,710,0.5,1,780,0.5],\"fParMax\":[-3250000,5500,10000000000,810,50,10000000000,880,50],\"fSave\":[1215233.55075825,1303712.80569278,1404636.77513482,1519195.56034453,1648552.20304145,1793810.05245779,1955976.15782705,2135921.30399451,2334337.55192804,2551694.38984239,2788194.8314509,3043733.0012508,3317854.90787747,3609724.21086328,3918094.82031137,4241292.12204145,4577204.48498242,4923286.47947916,5276574.91618378,5633718.412147,5991020.71599181,6344497.49534263,6689945.72942459,7023024.28409822,7339343.70412769,7634562.76758084,7904488.93835749,8145179.55058168,8353040.38407208,8524918.25831755,8658184.39099216,8750805.53557232,8801400.32216241,8809278.75911224,8774463.48595706,8697692.07008809,8580400.37548372,8424687.7646022,8233265.58687217,8009391.02397885,7756788.87245493,7479564.2231713,7182109.22796541,6869007.21715514,6544937.34833583,6214582.73577006,5882544.64816779,5553264.8950946,5230957.97854324,4919553.99995923,4622652.71950665,4343488.59847575,4084906.14991261,3849344.50492605,3638829.79489371,3454973.76792009,3298977.00824988,3171635.20820915,3073347.14341032,3004123.305196,2963594.52440679,2951020.34681083,2965297.35853971,3004968.07375702,3068231.35156474,3152955.57319612,3256695.95794242,3376717.40893358,3510024.1492761,3653397.13719075,3803439.8487202,3956632.51187289,4109394.29959423,4258152.38077711,4399416.13316195,4529854.28515438,4646372.3187175,4746187.17019247,4826896.13883427,4886536.97119437,4923636.33724617,4937244.34152426,4926953.29639362,4892899.6899969,4835749.06439085,4756664.3300051,4657258.82897361,4539536.17222448,4405819.46935066,4258673.01110145,4100819.72814506,3935057.82573443,3764179.88445146,3590897.43717089,3417773.60740425,3247165.8581708,3081180.29270246,2921638.30989414,2770055.78864264,2627634.39233944,2495264.0778591,735,860],\"fNormalized\":false,\"fNormIntegral\":0,\"fFormula\":{\"_typename\":\"TFormula\",\"fUniqueID\":0,\"fBits\":1024,\"fName\":\"f\",\"fTitle\":\"pol1(0)+gaus(2)+gaus(5)\",\"fClingParameters\":[-3250000,5500,7793684.8610121,775.643671977876,16.8348325774998,3575998.49514315,836.148955146972,15.0299788775236],\"fAllParametersSetted\":true,\"fParams\":[{\"$pair\":\"pair<TString,int,TFormulaParamOrder>\",\"first\":\"p0\",\"second\":0},{\"$pair\":\"pair<TString,int,TFormulaParamOrder>\",\"first\":\"p1\",\"second\":1},{\"$pair\":\"pair<TString,int,TFormulaParamOrder>\",\"first\":\"p2\",\"second\":2},{\"$pair\":\"pair<TString,int,TFormulaParamOrder>\",\"first\":\"p3\",\"second\":3},{\"$pair\":\"pair<TString,int,TFormulaParamOrder>\",\"first\":\"p4\",\"second\":4},{\"$pair\":\"pair<TString,int,TFormulaParamOrder>\",\"first\":\"p5\",\"second\":5},{\"$pair\":\"pair<TString,int,TFormulaParamOrder>\",\"first\":\"p6\",\"second\":6},{\"$pair\":\"pair<TString,int,TFormulaParamOrder>\",\"first\":\"p7\",\"second\":7}],\"fFormula\":\"([p0]+[p1]*x)+[p2]*exp(-0.5*((x-[p3])\\/[p4])*((x-[p3])\\/[p4]))+[p5]*exp(-0.5*((x-[p6])\\/[p7])*((x-[p6])\\/[p7]))\",\"fNdim\":1,\"fLinearParts\":[],\"fVectorized\":false},\"fParams\":null,\"fComposition_ptr\":null}],\"opt\":[\"brNDC\",\"\"]},\"fBufferSize\":0,\"fBuffer\":[],\"fBinStatErrOpt\":0,\"fStatOverflows\":2,\"fArray\":[0,0,0,0,0,0,216,336,768,4092,5220,6456,7836,7692,9444,11340,14484,19944,28020,43572,71976,116088,166932,215184,255204,287880,311136,318612,322656,329148,336540,344556,351552,355776,365076,367884,373260,374892,382080,382812,384972,387156,388476,389760,384504,391740,392088,390732,392304,388512,395412,392736,392232,395148,393948,392268,394464,389136,395316,391152,389436,392940,390840,392736,396132,396228,392208,389652,389160,394572,392700,394380,393540,398184,397572,398844,400728,410064,417636,428772,437484,447984,458856,470964,485844,498060,523584,552312,600444,665712,774072,992808,1366812,1951704,2902224,4562436,6863484,8806512,8956656,7043976,4757328,3410484,3064368,3440244,4410120,5035800,4526460,3375288,2572764,2143692,1911660,1782228,1734168,1743828,1752960,1738512,1720896,1879728,2271252,2993052,4257084,5373612,4859352,3214200,1966920,1384440,1112160,950208,851976,783696,741396,695616,629520,556872,482880,415860,357204,308256,262404,214860,162780,112656,79668,64728,54972,52812,44760,42240,38436,35184,29292,25692,23004,19956,16728,15360,14808,13032,11940,10620,10236,10068,9180,8760,8388,7944,7596,7056,6780,7068,6576,6408,6528,6192,5904,5628,5712,5220,5844,5352,5556,6156,5280,5376,5472,5172,5496,5052,5352,5604,5580,5340,4860,5388,4944,5076,5148,5280,5292,4872,5196,5400,4860,4860,4968,5232,4680,4644,4368,5268,5364,4596,4704,4956,4620,4512,4788,4320,4428,4392,3828,4116,3984,3768,3516,3516,3300,3588,3468,2928,3756,2952,2892,2676,2820,2928,2832,2688,2568,3048,2736,2688,2844,2832,2808,2784,2772,2340,2568,2316,2928,2280,2832,2544,2556,2556,2376,2592,2700,2484,2628,2256,2700,2640,2400,2592,2220,2484,2496,2520,2352,2256,2544,2580,2196,2232,2376,2544,2172,2064,2244,2172,2172,2532,2184,2400,2484,2424,2112,2388,2724,2100,2316,2520,2412,2448,2712,2640,2532,2604,2664,2436,2352,2568,2580,2436,2364,2628,2808,2664,2496,2652,2688,2916,2580,2808,2796,2892,2736,2928,3060,2628,2616,2868,2484,2892,2928,2976,2868,2808,3312,3108,3012,2832,3276,2940,3096,2904,2892,3108,3288,3420,3240,2928,3096,3660,3600,3600,3576,3252,3300,3540,3480,3552,3420,3600,4068,4104,3708,3924,3984,3840,4044,3816,4068,4476,4392,4356,3888,3876,4668,4092,4224,4524,4284,4608,4620,4668,4644,4512,5028,5040,5508,5100,4932,5016,5112,5412,5448,5580,5436,5412,5448,5616,5424,6036,5568,6612,5952,6156,6444,6576,6804,6564,6648,7584,6696,7320,6684,7116,7296,7824,7488,6984,7752,7656,7620,8388,8172,8388,8580,8592,8964,8688,8940,9060,9264,9624,9648,9732,9468,9756,9900,10056,10308,9468,10080,10404,10764,10968,10620,10884,11856,10812,11964,11664,11748,12372,12360,12996,12228,13152,13188,13608,14316,13908,14016,13284,14568,14784,14484,15072,15024,15324,15456,15696,16308,15288,16476,16488,16344,16716,16560,17124,17088,17232,18336,18156,18300,18492,18924,19836,19440,19404,18912,19884,19164,18984,19104,19716,19920,20040,20628,20556,21468,20628,20412,19512,20064,20160,20604,20340,19944,20952,20208,20148,21036,20964,20064,19572,19776,19704,19440,18792,19332,19008,19104,18576,18036,17496,17532,17604,17184,17580,17076,16176,16116,15456,14700,14964,14868,14244,13632,13212,13068,12864,13092,12108,12204,12840,12036,11856,11016,10956,10584,10788,9900,9840,9420,9444,8424,8340,8412,8748,8028,8352,7680,8088,7236,7260,7116,6660,6408,6216,6312,5868,5748,6240,5496,4992,5796,5220,4956,4440,4740,4224,4704,4404,4128,4308,3840,3744,4200,3636,3948,3588,3780,3420,3228,2988,3036,3084,3360,3036,2424,2676,2724,2400,2340,2484,2544,2160,2268,2352,2340,2328,2100,1932,2052,1776,1932,2088,1776,1668,1836,1920,1680,1416,1548,1524,1332,1356,1380,1440,1356,1308,1344,1344,1320,1080,1212,1140,1308,900,1140,1020,1104,1056,756,936,1080,1020,936,696,684,924,684,888,768,648,744,816,768,708,624,768,744,720,576,540,480,468,636,588,504,420,516,420,468,396,480,336,360,336,396,300,312,384,396,372,348,360,264,276,300,276,348,276,276,204,228,264,384,264,156,204,288,180,156,204,204,156,60,156,144,96,204,120,108,96,132,96,108,120,168,72,72,60,72,72,96,132,120,120,180,132,288,300,516,780,1068,1596,1860,2280,2256,2604,2928,2604,2508,2088,2004,1848,1356,1032,912,672,756,624,468,468,432,552,336,432,240,288,192,108,120,120,60,60,36,24,48,24,0,36,36,24,12,12,36,12,0,0,12,12,0,12,0,0,0,12,0,0,12,0,0,12,0,0,12,0,0,0,0,0,0,0,0,0,12,0,0,0,0,0,0,0,0,0,0,0,0,0,0,0,0,0,0,0,0,0,0,0,0,0,0,0,0,0,0,0,0,0,0,0,0,0,0,0,0,0,0,0,0,0,0,0,0,0,0,0,0,0,0,0,0,0,0,0,0,0,0,0,12,0,0,24,48,36,48,12,12,36,72,12,48,12,48,0,24,0,12,12,12,0,0,0,24,0,0,12,12,0,0,0,0,0,0,0,0,0,0,0,0,12,0,0,0,0,0,0,0,0,0,0,0,0,0,0,0,0,0,0,0,0,0,0,0,0,0,0,0,0,0,0,0,0,0,0,0,0,0,0,0,0,0,0,0,0,0,0,0,0,0,0,0,0,0,0,0,0,0,0,0,0,0,0,0,0,0,0,0,0,0,0,0,0,0,0,0,0,0,0,0,0,0,0,0,0,0,0,0,0,0,0,0,0,0,24]},{\"_typename\":\"TF1\",\"fUniqueID\":0,\"fBits\":8,\"fName\":\"f\",\"fTitle\":\"pol1(0)+gaus(2)+gaus(5)\",\"fLineColor\":632,\"fLineStyle\":1,\"fLineWidth\":2,\"fFillColor\":19,\"fFillStyle\":0,\"fMarkerColor\":1,\"fMarkerStyle\":1,\"fMarkerSize\":1,\"fXmin\":735,\"fXmax\":860,\"fNpar\":8,\"fNdim\":1,\"fNpx\":100,\"fType\":0,\"fNpfits\":16,\"fNDF\":10,\"fChisquare\":117459.260000755,\"fMinimum\":-1111,\"fMaximum\":-1111,\"fParErrors\":[0,0,1814.82159892982,0.00378765589118757,0.00392067653947237,1480.00652912725,0.00676544193117934,0.00759116795236103],\"fParMin\":[-3250000,5500,1,710,0.5,1,780,0.5],\"fParMax\":[-3250000,5500,10000000000,810,50,10000000000,880,50],\"fSave\":[],\"fNormalized\":false,\"fNormIntegral\":0,\"fFormula\":{\"_typename\":\"TFormula\",\"fUniqueID\":0,\"fBits\":1024,\"fName\":\"f\",\"fTitle\":\"pol1(0)+gaus(2)+gaus(5)\",\"fClingParameters\":[-3250000,5500,7793684.8610121,775.643671977876,16.8348325774998,3575998.49514315,836.148955146972,15.0299788775236],\"fAllParametersSetted\":true,\"fParams\":[{\"$pair\":\"pair<TString,int,TFormulaParamOrder>\",\"first\":\"p0\",\"second\":0},{\"$pair\":\"pair<TString,int,TFormulaParamOrder>\",\"first\":\"p1\",\"second\":1},{\"$pair\":\"pair<TString,int,TFormulaParamOrder>\",\"first\":\"p2\",\"second\":2},{\"$pair\":\"pair<TString,int,TFormulaParamOrder>\",\"first\":\"p3\",\"second\":3},{\"$pair\":\"pair<TString,int,TFormulaParamOrder>\",\"first\":\"p4\",\"second\":4},{\"$pair\":\"pair<TString,int,TFormulaParamOrder>\",\"first\":\"p5\",\"second\":5},{\"$pair\":\"pair<TString,int,TFormulaParamOrder>\",\"first\":\"p6\",\"second\":6},{\"$pair\":\"pair<TString,int,TFormulaParamOrder>\",\"first\":\"p7\",\"second\":7}],\"fFormula\":\"([p0]+[p1]*x)+[p2]*exp(-0.5*((x-[p3])\\/[p4])*((x-[p3])\\/[p4]))+[p5]*exp(-0.5*((x-[p6])\\/[p7])*((x-[p6])\\/[p7]))\",\"fNdim\":1,\"fLinearParts\":[],\"fVectorized\":false},\"fParams\":null,\"fComposition_ptr\":null},{\"_typename\":\"TF1\",\"fUniqueID\":0,\"fBits\":8,\"fName\":\"f1\",\"fTitle\":\"pol1\",\"fLineColor\":600,\"fLineStyle\":1,\"fLineWidth\":2,\"fFillColor\":19,\"fFillStyle\":0,\"fMarkerColor\":1,\"fMarkerStyle\":1,\"fMarkerSize\":1,\"fXmin\":0,\"fXmax\":2000,\"fNpar\":2,\"fNdim\":1,\"fNpx\":100,\"fType\":0,\"fNpfits\":0,\"fNDF\":0,\"fChisquare\":0,\"fMinimum\":-1111,\"fMaximum\":-1111,\"fParErrors\":[0,0],\"fParMin\":[0,0],\"fParMax\":[0,0],\"fSave\":[],\"fNormalized\":false,\"fNormIntegral\":0,\"fFormula\":{\"_typename\":\"TFormula\",\"fUniqueID\":0,\"fBits\":66560,\"fName\":\"f1\",\"fTitle\":\"pol1\",\"fClingParameters\":[-3250000,5500],\"fAllParametersSetted\":true,\"fParams\":[{\"$pair\":\"pair<TString,int,TFormulaParamOrder>\",\"first\":\"p0\",\"second\":0},{\"$pair\":\"pair<TString,int,TFormulaParamOrder>\",\"first\":\"p1\",\"second\":1}],\"fFormula\":\"([p0]+[p1]*x)\",\"fNdim\":1,\"fLinearParts\":[],\"fVectorized\":false},\"fParams\":null,\"fComposition_ptr\":null}],\"opt\":[\"\",\"\",\"same\",\"same\"]},\"fExecs\":null,\"fName\":\"c1\",\"fTitle\":\"c1\",\"fNumPaletteColor\":0,\"fNextPaletteColor\":0,\"fDISPLAY\":\"$DISPLAY\",\"fDoubleBuffer\":0,\"fRetained\":true,\"fXsizeUser\":0,\"fYsizeUser\":0,\"fXsizeReal\":20,\"fYsizeReal\":14.28571,\"fWindowTopX\":0,\"fWindowTopY\":0,\"fWindowWidth\":0,\"fWindowHeight\":0,\"fCw\":696,\"fCh\":472,\"fCatt\":{\"_typename\":\"TAttCanvas\",\"fXBetween\":2,\"fYBetween\":2,\"fTitleFromTop\":1.2,\"fXdate\":0.2,\"fYdate\":0.3,\"fAdate\":1},\"kMoveOpaque\":true,\"kResizeOpaque\":true,\"fHighLightColor\":2,\"fBatch\":true,\"kShowEventStatus\":false,\"kAutoExec\":true,\"kMenuBar\":true});\n",
       "            Core.draw(\"root_plot_1696899716259\", obj, \"\");\n",
       "        }\n",
       "    );\n",
       "}\n",
       "</script>\n"
      ],
      "text/plain": [
       "<IPython.core.display.HTML object>"
      ]
     },
     "metadata": {},
     "output_type": "display_data"
    },
    {
     "name": "stdout",
     "output_type": "stream",
     "text": [
      "count=5.94731e+07 delta_count=10806.7\n",
      "0 peak=775.644 height=7.79368e+06 sigma=16.8348 contribution=4.11104e+07\n",
      "1 peak=836.149 height=3.576e+06 sigma=15.03 contribution=1.68405e+07\n"
     ]
    }
   ],
   "source": [
    "e = vector<double> {760, 830};\n",
    "k = 5500; b = -3250e3;                      //线性本底参数\n",
    "fit_left = 735; fit_right = 860;       //联合拟合范围\n",
    "area_left = 712; area_right = 896;\n",
    "area(h[13]);\n",
    "c1->Draw();"
   ]
  },
  {
   "cell_type": "code",
   "execution_count": 30,
   "id": "757dd349",
   "metadata": {},
   "outputs": [
    {
     "data": {
      "text/html": [
       "\n",
       "<div id=\"root_plot_1696899269494\"\n",
       "     style=\"width: 696px; height: 472px\">\n",
       "</div>\n",
       "<script>\n",
       "if (typeof require !== 'undefined') {\n",
       "\n",
       "    // All requirements met (we are in jupyter notebooks or we loaded requirejs before).\n",
       "    display_root_plot_1696899269494();\n",
       "\n",
       "} else {\n",
       "\n",
       "    // We are in jupyterlab, we need to insert requirejs and configure it.\n",
       "    // Jupyterlab might be installed in a different base_url so we need to know it.\n",
       "    try {\n",
       "        var base_url = JSON.parse(document.getElementById('jupyter-config-data').innerHTML).baseUrl;\n",
       "    } catch(_) {\n",
       "        var base_url = '/';\n",
       "    }\n",
       "\n",
       "    // Try loading a local version of requirejs and fallback to cdn if not possible.\n",
       "    requirejs_load(base_url + 'static/components/requirejs/require.js', requirejs_success(base_url), function(){\n",
       "        requirejs_load('https://cdnjs.cloudflare.com/ajax/libs/require.js/2.2.0/require.min.js', requirejs_success(base_url), function(){\n",
       "            document.getElementById(\"root_plot_1696899269494\").innerHTML = \"Failed to load requireJs\";\n",
       "        });\n",
       "    });\n",
       "}\n",
       "\n",
       "function requirejs_load(src, on_load, on_error) {\n",
       "    var script = document.createElement('script');\n",
       "    script.src = src;\n",
       "    script.onload = on_load;\n",
       "    script.onerror = on_error;\n",
       "    document.head.appendChild(script);\n",
       "}\n",
       "\n",
       "function requirejs_success(base_url) {\n",
       "    return function() {\n",
       "        require.config({\n",
       "            baseUrl: base_url + 'static/'\n",
       "        });\n",
       "        display_root_plot_1696899269494();\n",
       "    }\n",
       "}\n",
       "\n",
       "function display_root_plot_1696899269494() {\n",
       "    require(['scripts/JSRootCore'],\n",
       "        function(Core) {\n",
       "            var obj = Core.JSONR_unref({\"_typename\":\"TCanvas\",\"fUniqueID\":0,\"fBits\":3342344,\"fLineColor\":1,\"fLineStyle\":1,\"fLineWidth\":1,\"fFillColor\":0,\"fFillStyle\":1001,\"fLeftMargin\":0.1,\"fRightMargin\":0.1,\"fBottomMargin\":0.1,\"fTopMargin\":0.1,\"fXfile\":2,\"fYfile\":2,\"fAfile\":1,\"fXstat\":0.99,\"fYstat\":0.99,\"fAstat\":2,\"fFrameFillColor\":0,\"fFrameLineColor\":1,\"fFrameFillStyle\":1001,\"fFrameLineStyle\":1,\"fFrameLineWidth\":1,\"fFrameBorderSize\":1,\"fFrameBorderMode\":0,\"fX1\":-250.000018626453,\"fY1\":-1175561.18758613,\"fX2\":2250.00001862645,\"fY2\":10580049.9875861,\"fXtoAbsPixelk\":69.6000541484835,\"fXtoPixelk\":69.6000541484835,\"fXtoPixel\":0.278399995851517,\"fYtoAbsPixelk\":424.800047186661,\"fYtoPixelk\":424.800047186661,\"fYtoPixel\":-4.01510387649482e-5,\"fUtoAbsPixelk\":5e-5,\"fUtoPixelk\":5e-5,\"fUtoPixel\":696,\"fVtoAbsPixelk\":472.00005,\"fVtoPixelk\":472,\"fVtoPixel\":-472,\"fAbsPixeltoXk\":-250.000018626453,\"fPixeltoXk\":-250.000018626453,\"fPixeltoX\":3.59195407651279,\"fAbsPixeltoYk\":10580049.9875861,\"fPixeltoYk\":-1175561.18758613,\"fPixeltoY\":-24905.9558796023,\"fXlowNDC\":0,\"fYlowNDC\":0,\"fXUpNDC\":1,\"fYUpNDC\":1,\"fWNDC\":1,\"fHNDC\":1,\"fAbsXlowNDC\":0,\"fAbsYlowNDC\":0,\"fAbsWNDC\":1,\"fAbsHNDC\":1,\"fUxmin\":0,\"fUymin\":0,\"fUxmax\":2000,\"fUymax\":9404488.8,\"fTheta\":30,\"fPhi\":30,\"fAspectRatio\":0,\"fNumber\":0,\"fTickx\":0,\"fTicky\":0,\"fLogx\":0,\"fLogy\":0,\"fLogz\":0,\"fPadPaint\":0,\"fCrosshair\":0,\"fCrosshairPos\":0,\"fBorderSize\":2,\"fBorderMode\":0,\"fModified\":false,\"fGridx\":false,\"fGridy\":false,\"fAbsCoord\":false,\"fEditable\":true,\"fFixedAspectRatio\":false,\"fPrimitives\":{\"_typename\":\"TList\",\"name\":\"TList\",\"arr\":[{\"_typename\":\"TFrame\",\"fUniqueID\":0,\"fBits\":8,\"fLineColor\":1,\"fLineStyle\":1,\"fLineWidth\":1,\"fFillColor\":0,\"fFillStyle\":1001,\"fX1\":0,\"fY1\":0,\"fX2\":2000,\"fY2\":9404488.8,\"fBorderSize\":1,\"fBorderMode\":0},{\"_typename\":\"TH1I\",\"fUniqueID\":0,\"fBits\":8,\"fName\":\"hsingle_125deg\",\"fTitle\":\"\",\"fLineColor\":602,\"fLineStyle\":1,\"fLineWidth\":1,\"fFillColor\":0,\"fFillStyle\":1001,\"fMarkerColor\":1,\"fMarkerStyle\":1,\"fMarkerSize\":1,\"fNcells\":1002,\"fXaxis\":{\"_typename\":\"TAxis\",\"fUniqueID\":0,\"fBits\":2048,\"fName\":\"xaxis\",\"fTitle\":\"\",\"fNdivisions\":510,\"fAxisColor\":1,\"fLabelColor\":1,\"fLabelFont\":42,\"fLabelOffset\":0.005,\"fLabelSize\":0.035,\"fTickLength\":0.03,\"fTitleOffset\":1,\"fTitleSize\":0.035,\"fTitleColor\":1,\"fTitleFont\":42,\"fNbins\":1000,\"fXmin\":0,\"fXmax\":8000,\"fXbins\":[],\"fFirst\":1,\"fLast\":250,\"fBits2\":0,\"fTimeDisplay\":false,\"fTimeFormat\":\"\",\"fLabels\":null,\"fModLabs\":null},\"fYaxis\":{\"_typename\":\"TAxis\",\"fUniqueID\":0,\"fBits\":0,\"fName\":\"yaxis\",\"fTitle\":\"\",\"fNdivisions\":510,\"fAxisColor\":1,\"fLabelColor\":1,\"fLabelFont\":42,\"fLabelOffset\":0.005,\"fLabelSize\":0.035,\"fTickLength\":0.03,\"fTitleOffset\":0,\"fTitleSize\":0.035,\"fTitleColor\":1,\"fTitleFont\":42,\"fNbins\":1,\"fXmin\":0,\"fXmax\":1,\"fXbins\":[],\"fFirst\":0,\"fLast\":0,\"fBits2\":0,\"fTimeDisplay\":false,\"fTimeFormat\":\"\",\"fLabels\":null,\"fModLabs\":null},\"fZaxis\":{\"_typename\":\"TAxis\",\"fUniqueID\":0,\"fBits\":0,\"fName\":\"zaxis\",\"fTitle\":\"\",\"fNdivisions\":510,\"fAxisColor\":1,\"fLabelColor\":1,\"fLabelFont\":42,\"fLabelOffset\":0.005,\"fLabelSize\":0.035,\"fTickLength\":0.03,\"fTitleOffset\":1,\"fTitleSize\":0.035,\"fTitleColor\":1,\"fTitleFont\":42,\"fNbins\":1,\"fXmin\":0,\"fXmax\":1,\"fXbins\":[],\"fFirst\":0,\"fLast\":0,\"fBits2\":0,\"fTimeDisplay\":false,\"fTimeFormat\":\"\",\"fLabels\":null,\"fModLabs\":null},\"fBarOffset\":0,\"fBarWidth\":1000,\"fEntries\":13443136,\"fTsumw\":172897597.481698,\"fTsumw2\":2223706110.33335,\"fTsumwx\":146710387664.473,\"fTsumwx2\":160336151807192,\"fMaximum\":-1111,\"fMinimum\":-1111,\"fNormFactor\":0,\"fContour\":[],\"fSumw2\":[],\"fOption\":\"\",\"fFunctions\":{\"_typename\":\"TList\",\"name\":\"TList\",\"arr\":[{\"_typename\":\"TPaveStats\",\"fUniqueID\":0,\"fBits\":9,\"fLineColor\":1,\"fLineStyle\":1,\"fLineWidth\":1,\"fFillColor\":0,\"fFillStyle\":1001,\"fX1\":1700.00005066395,\"fY1\":7935037.54324128,\"fX2\":2200.00006556511,\"fY2\":9815935.2892275,\"fX1NDC\":0.780000016093254,\"fY1NDC\":0.775000005960464,\"fX2NDC\":0.980000019073486,\"fY2NDC\":0.935000002384186,\"fBorderSize\":1,\"fInit\":1,\"fShadowColor\":1,\"fCornerRadius\":0,\"fOption\":\"brNDC\",\"fName\":\"stats\",\"fTextAngle\":0,\"fTextSize\":0,\"fTextAlign\":12,\"fTextColor\":1,\"fTextFont\":42,\"fLabel\":\"\",\"fLongest\":24,\"fMargin\":0.05,\"fLines\":{\"_typename\":\"TList\",\"name\":\"TList\",\"arr\":[{\"_typename\":\"TLatex\",\"fUniqueID\":0,\"fBits\":0,\"fName\":\"\",\"fTitle\":\"hsingle_125deg\",\"fTextAngle\":0,\"fTextSize\":0.0368,\"fTextAlign\":0,\"fTextColor\":0,\"fTextFont\":0,\"fX\":0,\"fY\":0,\"fLineColor\":1,\"fLineStyle\":1,\"fLineWidth\":2,\"fLimitFactorSize\":3,\"fOriginSize\":0.0368000008165836},{\"_typename\":\"TLatex\",\"fUniqueID\":0,\"fBits\":0,\"fName\":\"\",\"fTitle\":\"Entries =   1.344314e+07\",\"fTextAngle\":0,\"fTextSize\":0,\"fTextAlign\":0,\"fTextColor\":0,\"fTextFont\":0,\"fX\":0,\"fY\":0,\"fLineColor\":1,\"fLineStyle\":1,\"fLineWidth\":2,\"fLimitFactorSize\":3,\"fOriginSize\":0.04},{\"_typename\":\"TLatex\",\"fUniqueID\":0,\"fBits\":0,\"fName\":\"\",\"fTitle\":\"Mean  =  792.9\",\"fTextAngle\":0,\"fTextSize\":0,\"fTextAlign\":0,\"fTextColor\":0,\"fTextFont\":0,\"fX\":0,\"fY\":0,\"fLineColor\":1,\"fLineStyle\":1,\"fLineWidth\":2,\"fLimitFactorSize\":3,\"fOriginSize\":0.04},{\"_typename\":\"TLatex\",\"fUniqueID\":0,\"fBits\":0,\"fName\":\"\",\"fTitle\":\"Std Dev   =  190.2\",\"fTextAngle\":0,\"fTextSize\":0,\"fTextAlign\":0,\"fTextColor\":0,\"fTextFont\":0,\"fX\":0,\"fY\":0,\"fLineColor\":1,\"fLineStyle\":1,\"fLineWidth\":2,\"fLimitFactorSize\":3,\"fOriginSize\":0.04}],\"opt\":[\"\",\"\",\"\",\"\"]},\"fOptFit\":0,\"fOptStat\":1111,\"fFitFormat\":\"5.4g\",\"fStatFormat\":\"6.4g\",\"fParent\":{\"$ref\":3}},{\"_typename\":\"TF1\",\"fUniqueID\":0,\"fBits\":1024,\"fName\":\"f\",\"fTitle\":\"pol1(0)+gaus(2)\",\"fLineColor\":2,\"fLineStyle\":1,\"fLineWidth\":2,\"fFillColor\":19,\"fFillStyle\":0,\"fMarkerColor\":1,\"fMarkerStyle\":1,\"fMarkerSize\":1,\"fXmin\":900,\"fXmax\":1000,\"fNpar\":5,\"fNdim\":1,\"fNpx\":100,\"fType\":0,\"fNpfits\":13,\"fNDF\":10,\"fChisquare\":90904.13381883,\"fMinimum\":-1111,\"fMaximum\":-1111,\"fParErrors\":[0,0,1559.43733716127,0.00494285276818118,0.00494332812055198],\"fParMin\":[8200000,-7200,1,910,0.5],\"fParMax\":[8200000,-7200,10000000000,1010,50],\"fSave\":[1720037.29517428,1712853.03722429,1705675.01456445,1698505.52298201,1691347.63358909,1684205.42815185,1677084.29642521,1669991.30869429,1662935.67854786,1655929.33267462,1648987.6060585,1642130.08219223,1635381.59863464,1628773.43816832,1622344.72470046,1616144.04058756,1610231.27793471,1604679.73029555,1599578.42277207,1595034.66751976,1591176.81791234,1588157.1780362,1586155.00483998,1585379.51842631,1586072.81213563,1588512.52899258,1593014.14580391,1599932.68204273,1609663.6292349,1622642.87972976,1639345.42351775,1660282.58027229,1685997.54313064,1717059.03280518,1754052.89700993,1797571.54195993,1848201.15022424,1906506.72200028,1973015.07344663,2048196.03349509,2132442.19586744,2226047.70107394,2329186.63822658,2441891.76206715,2564034.3097307,2695305.76739469,2835202.47240457,2983013.93583758,3137815.72918662,3298467.69408846,3463618.10510199,3631714.24421471,3801019.63636479,3969637.95474701,4135543.34237352,4296616.62368866,4450686.60992464,4595575.44811804,4729146.74014252,4849354.97783513,4954294.71476462,5042247.83346153,5111727.27496971,5161515.67776792,5190697.52395789,5198683.6067152,5185226.90524346,5150429.26950995,5094738.6619624,5018937.0606168,4924119.48002692,4811664.89665632,4683200.15734124,4540558.19034499,4385732.01743324,4220826.17545346,4048007.19394956,3869454.74217162,3687314.95897299,3503657.32036203,3320436.19244076,3139457.97462832,2962354.47306987,2790562.87088974,2625312.3938373,2467617.51901127,2318277.35099248,2177880.60184043,2046815.46445019,1925283.56554684,1813317.12541713,1710798.43436823,1617480.77695713,1533009.98885672,1456945.91139858,1388783.10840265,1327970.32182798,1273928.26032787,1226065.4318823,1183791.8431125,1146530.48950347,900,1000],\"fNormalized\":false,\"fNormIntegral\":0,\"fFormula\":{\"_typename\":\"TFormula\",\"fUniqueID\":0,\"fBits\":1024,\"fName\":\"f\",\"fTitle\":\"pol1(0)+gaus(2)\",\"fClingParameters\":[8200000,-7200,3947150.23078573,965.208448373841,13.5559181145993],\"fAllParametersSetted\":true,\"fParams\":[{\"$pair\":\"pair<TString,int,TFormulaParamOrder>\",\"first\":\"p0\",\"second\":0},{\"$pair\":\"pair<TString,int,TFormulaParamOrder>\",\"first\":\"p1\",\"second\":1},{\"$pair\":\"pair<TString,int,TFormulaParamOrder>\",\"first\":\"p2\",\"second\":2},{\"$pair\":\"pair<TString,int,TFormulaParamOrder>\",\"first\":\"p3\",\"second\":3},{\"$pair\":\"pair<TString,int,TFormulaParamOrder>\",\"first\":\"p4\",\"second\":4}],\"fFormula\":\"([p0]+[p1]*x)+[p2]*exp(-0.5*((x-[p3])\\/[p4])*((x-[p3])\\/[p4]))\",\"fNdim\":1,\"fLinearParts\":[],\"fVectorized\":false},\"fParams\":null,\"fComposition_ptr\":null}],\"opt\":[\"brNDC\",\"\"]},\"fBufferSize\":0,\"fBuffer\":[],\"fBinStatErrOpt\":0,\"fStatOverflows\":2,\"fArray\":[0,0,0,0,0,0,216,336,768,4092,5220,6456,7836,7692,9444,11340,14484,19944,28020,43572,71976,116088,166932,215184,255204,287880,311136,318612,322656,329148,336540,344556,351552,355776,365076,367884,373260,374892,382080,382812,384972,387156,388476,389760,384504,391740,392088,390732,392304,388512,395412,392736,392232,395148,393948,392268,394464,389136,395316,391152,389436,392940,390840,392736,396132,396228,392208,389652,389160,394572,392700,394380,393540,398184,397572,398844,400728,410064,417636,428772,437484,447984,458856,470964,485844,498060,523584,552312,600444,665712,774072,992808,1366812,1951704,2902224,4562436,6863484,8806512,8956656,7043976,4757328,3410484,3064368,3440244,4410120,5035800,4526460,3375288,2572764,2143692,1911660,1782228,1734168,1743828,1752960,1738512,1720896,1879728,2271252,2993052,4257084,5373612,4859352,3214200,1966920,1384440,1112160,950208,851976,783696,741396,695616,629520,556872,482880,415860,357204,308256,262404,214860,162780,112656,79668,64728,54972,52812,44760,42240,38436,35184,29292,25692,23004,19956,16728,15360,14808,13032,11940,10620,10236,10068,9180,8760,8388,7944,7596,7056,6780,7068,6576,6408,6528,6192,5904,5628,5712,5220,5844,5352,5556,6156,5280,5376,5472,5172,5496,5052,5352,5604,5580,5340,4860,5388,4944,5076,5148,5280,5292,4872,5196,5400,4860,4860,4968,5232,4680,4644,4368,5268,5364,4596,4704,4956,4620,4512,4788,4320,4428,4392,3828,4116,3984,3768,3516,3516,3300,3588,3468,2928,3756,2952,2892,2676,2820,2928,2832,2688,2568,3048,2736,2688,2844,2832,2808,2784,2772,2340,2568,2316,2928,2280,2832,2544,2556,2556,2376,2592,2700,2484,2628,2256,2700,2640,2400,2592,2220,2484,2496,2520,2352,2256,2544,2580,2196,2232,2376,2544,2172,2064,2244,2172,2172,2532,2184,2400,2484,2424,2112,2388,2724,2100,2316,2520,2412,2448,2712,2640,2532,2604,2664,2436,2352,2568,2580,2436,2364,2628,2808,2664,2496,2652,2688,2916,2580,2808,2796,2892,2736,2928,3060,2628,2616,2868,2484,2892,2928,2976,2868,2808,3312,3108,3012,2832,3276,2940,3096,2904,2892,3108,3288,3420,3240,2928,3096,3660,3600,3600,3576,3252,3300,3540,3480,3552,3420,3600,4068,4104,3708,3924,3984,3840,4044,3816,4068,4476,4392,4356,3888,3876,4668,4092,4224,4524,4284,4608,4620,4668,4644,4512,5028,5040,5508,5100,4932,5016,5112,5412,5448,5580,5436,5412,5448,5616,5424,6036,5568,6612,5952,6156,6444,6576,6804,6564,6648,7584,6696,7320,6684,7116,7296,7824,7488,6984,7752,7656,7620,8388,8172,8388,8580,8592,8964,8688,8940,9060,9264,9624,9648,9732,9468,9756,9900,10056,10308,9468,10080,10404,10764,10968,10620,10884,11856,10812,11964,11664,11748,12372,12360,12996,12228,13152,13188,13608,14316,13908,14016,13284,14568,14784,14484,15072,15024,15324,15456,15696,16308,15288,16476,16488,16344,16716,16560,17124,17088,17232,18336,18156,18300,18492,18924,19836,19440,19404,18912,19884,19164,18984,19104,19716,19920,20040,20628,20556,21468,20628,20412,19512,20064,20160,20604,20340,19944,20952,20208,20148,21036,20964,20064,19572,19776,19704,19440,18792,19332,19008,19104,18576,18036,17496,17532,17604,17184,17580,17076,16176,16116,15456,14700,14964,14868,14244,13632,13212,13068,12864,13092,12108,12204,12840,12036,11856,11016,10956,10584,10788,9900,9840,9420,9444,8424,8340,8412,8748,8028,8352,7680,8088,7236,7260,7116,6660,6408,6216,6312,5868,5748,6240,5496,4992,5796,5220,4956,4440,4740,4224,4704,4404,4128,4308,3840,3744,4200,3636,3948,3588,3780,3420,3228,2988,3036,3084,3360,3036,2424,2676,2724,2400,2340,2484,2544,2160,2268,2352,2340,2328,2100,1932,2052,1776,1932,2088,1776,1668,1836,1920,1680,1416,1548,1524,1332,1356,1380,1440,1356,1308,1344,1344,1320,1080,1212,1140,1308,900,1140,1020,1104,1056,756,936,1080,1020,936,696,684,924,684,888,768,648,744,816,768,708,624,768,744,720,576,540,480,468,636,588,504,420,516,420,468,396,480,336,360,336,396,300,312,384,396,372,348,360,264,276,300,276,348,276,276,204,228,264,384,264,156,204,288,180,156,204,204,156,60,156,144,96,204,120,108,96,132,96,108,120,168,72,72,60,72,72,96,132,120,120,180,132,288,300,516,780,1068,1596,1860,2280,2256,2604,2928,2604,2508,2088,2004,1848,1356,1032,912,672,756,624,468,468,432,552,336,432,240,288,192,108,120,120,60,60,36,24,48,24,0,36,36,24,12,12,36,12,0,0,12,12,0,12,0,0,0,12,0,0,12,0,0,12,0,0,12,0,0,0,0,0,0,0,0,0,12,0,0,0,0,0,0,0,0,0,0,0,0,0,0,0,0,0,0,0,0,0,0,0,0,0,0,0,0,0,0,0,0,0,0,0,0,0,0,0,0,0,0,0,0,0,0,0,0,0,0,0,0,0,0,0,0,0,0,0,0,0,0,0,12,0,0,24,48,36,48,12,12,36,72,12,48,12,48,0,24,0,12,12,12,0,0,0,24,0,0,12,12,0,0,0,0,0,0,0,0,0,0,0,0,12,0,0,0,0,0,0,0,0,0,0,0,0,0,0,0,0,0,0,0,0,0,0,0,0,0,0,0,0,0,0,0,0,0,0,0,0,0,0,0,0,0,0,0,0,0,0,0,0,0,0,0,0,0,0,0,0,0,0,0,0,0,0,0,0,0,0,0,0,0,0,0,0,0,0,0,0,0,0,0,0,0,0,0,0,0,0,0,0,0,0,0,0,0,24]},{\"_typename\":\"TF1\",\"fUniqueID\":0,\"fBits\":8,\"fName\":\"f\",\"fTitle\":\"pol1(0)+gaus(2)\",\"fLineColor\":632,\"fLineStyle\":1,\"fLineWidth\":2,\"fFillColor\":19,\"fFillStyle\":0,\"fMarkerColor\":1,\"fMarkerStyle\":1,\"fMarkerSize\":1,\"fXmin\":900,\"fXmax\":1000,\"fNpar\":5,\"fNdim\":1,\"fNpx\":100,\"fType\":0,\"fNpfits\":13,\"fNDF\":10,\"fChisquare\":90904.13381883,\"fMinimum\":-1111,\"fMaximum\":-1111,\"fParErrors\":[0,0,1559.43733716127,0.00494285276818118,0.00494332812055198],\"fParMin\":[8200000,-7200,1,910,0.5],\"fParMax\":[8200000,-7200,10000000000,1010,50],\"fSave\":[],\"fNormalized\":false,\"fNormIntegral\":0,\"fFormula\":{\"_typename\":\"TFormula\",\"fUniqueID\":0,\"fBits\":1024,\"fName\":\"f\",\"fTitle\":\"pol1(0)+gaus(2)\",\"fClingParameters\":[8200000,-7200,3947150.23078573,965.208448373841,13.5559181145993],\"fAllParametersSetted\":true,\"fParams\":[{\"$pair\":\"pair<TString,int,TFormulaParamOrder>\",\"first\":\"p0\",\"second\":0},{\"$pair\":\"pair<TString,int,TFormulaParamOrder>\",\"first\":\"p1\",\"second\":1},{\"$pair\":\"pair<TString,int,TFormulaParamOrder>\",\"first\":\"p2\",\"second\":2},{\"$pair\":\"pair<TString,int,TFormulaParamOrder>\",\"first\":\"p3\",\"second\":3},{\"$pair\":\"pair<TString,int,TFormulaParamOrder>\",\"first\":\"p4\",\"second\":4}],\"fFormula\":\"([p0]+[p1]*x)+[p2]*exp(-0.5*((x-[p3])\\/[p4])*((x-[p3])\\/[p4]))\",\"fNdim\":1,\"fLinearParts\":[],\"fVectorized\":false},\"fParams\":null,\"fComposition_ptr\":null},{\"_typename\":\"TF1\",\"fUniqueID\":0,\"fBits\":8,\"fName\":\"f1\",\"fTitle\":\"pol1\",\"fLineColor\":600,\"fLineStyle\":1,\"fLineWidth\":2,\"fFillColor\":19,\"fFillStyle\":0,\"fMarkerColor\":1,\"fMarkerStyle\":1,\"fMarkerSize\":1,\"fXmin\":0,\"fXmax\":2000,\"fNpar\":2,\"fNdim\":1,\"fNpx\":100,\"fType\":0,\"fNpfits\":0,\"fNDF\":0,\"fChisquare\":0,\"fMinimum\":-1111,\"fMaximum\":-1111,\"fParErrors\":[0,0],\"fParMin\":[0,0],\"fParMax\":[0,0],\"fSave\":[],\"fNormalized\":false,\"fNormIntegral\":0,\"fFormula\":{\"_typename\":\"TFormula\",\"fUniqueID\":0,\"fBits\":66560,\"fName\":\"f1\",\"fTitle\":\"pol1\",\"fClingParameters\":[8200000,-7200],\"fAllParametersSetted\":true,\"fParams\":[{\"$pair\":\"pair<TString,int,TFormulaParamOrder>\",\"first\":\"p0\",\"second\":0},{\"$pair\":\"pair<TString,int,TFormulaParamOrder>\",\"first\":\"p1\",\"second\":1}],\"fFormula\":\"([p0]+[p1]*x)\",\"fNdim\":1,\"fLinearParts\":[],\"fVectorized\":false},\"fParams\":null,\"fComposition_ptr\":null}],\"opt\":[\"\",\"\",\"same\",\"same\"]},\"fExecs\":null,\"fName\":\"c1\",\"fTitle\":\"c1\",\"fNumPaletteColor\":0,\"fNextPaletteColor\":0,\"fDISPLAY\":\"$DISPLAY\",\"fDoubleBuffer\":0,\"fRetained\":true,\"fXsizeUser\":0,\"fYsizeUser\":0,\"fXsizeReal\":20,\"fYsizeReal\":14.28571,\"fWindowTopX\":0,\"fWindowTopY\":0,\"fWindowWidth\":0,\"fWindowHeight\":0,\"fCw\":696,\"fCh\":472,\"fCatt\":{\"_typename\":\"TAttCanvas\",\"fXBetween\":2,\"fYBetween\":2,\"fTitleFromTop\":1.2,\"fXdate\":0.2,\"fYdate\":0.3,\"fAdate\":1},\"kMoveOpaque\":true,\"kResizeOpaque\":true,\"fHighLightColor\":2,\"fBatch\":true,\"kShowEventStatus\":false,\"kAutoExec\":true,\"kMenuBar\":true});\n",
       "            Core.draw(\"root_plot_1696899269494\", obj, \"\");\n",
       "        }\n",
       "    );\n",
       "}\n",
       "</script>\n"
      ],
      "text/plain": [
       "<IPython.core.display.HTML object>"
      ]
     },
     "metadata": {},
     "output_type": "display_data"
    },
    {
     "name": "stdout",
     "output_type": "stream",
     "text": [
      "count=1.71815e+07 delta_count=6699.54\n",
      "0 peak=965.208 height=3.94715e+06 sigma=13.5559 contribution=1.67653e+07\n"
     ]
    }
   ],
   "source": [
    "e = vector<double> {960};\n",
    "k = -7200; b = 8200e3;                      //线性本底参数\n",
    "fit_left = 900; fit_right = 1000;       //联合拟合范围\n",
    "area_left = 920; area_right = 1000;     //峰面积计算范围\n",
    "area(h[13]);\n",
    "c1->Draw();"
   ]
  },
  {
   "cell_type": "code",
   "execution_count": 6,
   "id": "74f019ba",
   "metadata": {},
   "outputs": [
    {
     "data": {
      "text/html": [
       "\n",
       "<div id=\"root_plot_1696855327540\"\n",
       "     style=\"width: 696px; height: 472px\">\n",
       "</div>\n",
       "<script>\n",
       "if (typeof require !== 'undefined') {\n",
       "\n",
       "    // All requirements met (we are in jupyter notebooks or we loaded requirejs before).\n",
       "    display_root_plot_1696855327540();\n",
       "\n",
       "} else {\n",
       "\n",
       "    // We are in jupyterlab, we need to insert requirejs and configure it.\n",
       "    // Jupyterlab might be installed in a different base_url so we need to know it.\n",
       "    try {\n",
       "        var base_url = JSON.parse(document.getElementById('jupyter-config-data').innerHTML).baseUrl;\n",
       "    } catch(_) {\n",
       "        var base_url = '/';\n",
       "    }\n",
       "\n",
       "    // Try loading a local version of requirejs and fallback to cdn if not possible.\n",
       "    requirejs_load(base_url + 'static/components/requirejs/require.js', requirejs_success(base_url), function(){\n",
       "        requirejs_load('https://cdnjs.cloudflare.com/ajax/libs/require.js/2.2.0/require.min.js', requirejs_success(base_url), function(){\n",
       "            document.getElementById(\"root_plot_1696855327540\").innerHTML = \"Failed to load requireJs\";\n",
       "        });\n",
       "    });\n",
       "}\n",
       "\n",
       "function requirejs_load(src, on_load, on_error) {\n",
       "    var script = document.createElement('script');\n",
       "    script.src = src;\n",
       "    script.onload = on_load;\n",
       "    script.onerror = on_error;\n",
       "    document.head.appendChild(script);\n",
       "}\n",
       "\n",
       "function requirejs_success(base_url) {\n",
       "    return function() {\n",
       "        require.config({\n",
       "            baseUrl: base_url + 'static/'\n",
       "        });\n",
       "        display_root_plot_1696855327540();\n",
       "    }\n",
       "}\n",
       "\n",
       "function display_root_plot_1696855327540() {\n",
       "    require(['scripts/JSRootCore'],\n",
       "        function(Core) {\n",
       "            var obj = Core.JSONR_unref({\"_typename\":\"TCanvas\",\"fUniqueID\":0,\"fBits\":3342344,\"fLineColor\":1,\"fLineStyle\":1,\"fLineWidth\":1,\"fFillColor\":0,\"fFillStyle\":1001,\"fLeftMargin\":0.1,\"fRightMargin\":0.1,\"fBottomMargin\":0.1,\"fTopMargin\":0.1,\"fXfile\":2,\"fYfile\":2,\"fAfile\":1,\"fXstat\":0.99,\"fYstat\":0.99,\"fAstat\":2,\"fFrameFillColor\":0,\"fFrameLineColor\":1,\"fFrameFillStyle\":1001,\"fFrameLineStyle\":1,\"fFrameLineWidth\":1,\"fFrameBorderSize\":1,\"fFrameBorderMode\":0,\"fX1\":-250.000018626453,\"fY1\":-1040976.37755878,\"fX2\":2250.00001862645,\"fY2\":9368786.77755878,\"fXtoAbsPixelk\":69.6000541484835,\"fXtoPixelk\":69.6000541484835,\"fXtoPixel\":0.278399995851517,\"fYtoAbsPixelk\":424.800047186661,\"fYtoPixelk\":424.800047186661,\"fYtoPixel\":-4.53420498590267e-5,\"fUtoAbsPixelk\":5e-5,\"fUtoPixelk\":5e-5,\"fUtoPixel\":696,\"fVtoAbsPixelk\":472.00005,\"fVtoPixelk\":472,\"fVtoPixel\":-472,\"fAbsPixeltoXk\":-250.000018626453,\"fPixeltoXk\":-250.000018626453,\"fPixeltoX\":3.59195407651279,\"fAbsPixeltoYk\":9368786.77755878,\"fPixeltoYk\":-1040976.37755878,\"fPixeltoY\":-22054.5829557576,\"fXlowNDC\":0,\"fYlowNDC\":0,\"fXUpNDC\":1,\"fYUpNDC\":1,\"fWNDC\":1,\"fHNDC\":1,\"fAbsXlowNDC\":0,\"fAbsYlowNDC\":0,\"fAbsWNDC\":1,\"fAbsHNDC\":1,\"fUxmin\":0,\"fUymin\":0,\"fUxmax\":2000,\"fUymax\":8327810.4,\"fTheta\":30,\"fPhi\":30,\"fAspectRatio\":0,\"fNumber\":0,\"fTickx\":0,\"fTicky\":0,\"fLogx\":0,\"fLogy\":0,\"fLogz\":0,\"fPadPaint\":0,\"fCrosshair\":0,\"fCrosshairPos\":0,\"fBorderSize\":2,\"fBorderMode\":0,\"fModified\":false,\"fGridx\":false,\"fGridy\":false,\"fAbsCoord\":false,\"fEditable\":true,\"fFixedAspectRatio\":false,\"fPrimitives\":{\"_typename\":\"TList\",\"name\":\"TList\",\"arr\":[{\"_typename\":\"TFrame\",\"fUniqueID\":0,\"fBits\":8,\"fLineColor\":1,\"fLineStyle\":1,\"fLineWidth\":1,\"fFillColor\":0,\"fFillStyle\":1001,\"fX1\":0,\"fY1\":0,\"fX2\":2000,\"fY2\":8327810.4,\"fBorderSize\":1,\"fBorderMode\":0},{\"_typename\":\"TH1I\",\"fUniqueID\":0,\"fBits\":8,\"fName\":\"hsingle_130deg\",\"fTitle\":\"\",\"fLineColor\":602,\"fLineStyle\":1,\"fLineWidth\":1,\"fFillColor\":0,\"fFillStyle\":1001,\"fMarkerColor\":1,\"fMarkerStyle\":1,\"fMarkerSize\":1,\"fNcells\":1002,\"fXaxis\":{\"_typename\":\"TAxis\",\"fUniqueID\":0,\"fBits\":2048,\"fName\":\"xaxis\",\"fTitle\":\"\",\"fNdivisions\":510,\"fAxisColor\":1,\"fLabelColor\":1,\"fLabelFont\":42,\"fLabelOffset\":0.005,\"fLabelSize\":0.035,\"fTickLength\":0.03,\"fTitleOffset\":1,\"fTitleSize\":0.035,\"fTitleColor\":1,\"fTitleFont\":42,\"fNbins\":1000,\"fXmin\":0,\"fXmax\":8000,\"fXbins\":[],\"fFirst\":1,\"fLast\":250,\"fBits2\":0,\"fTimeDisplay\":false,\"fTimeFormat\":\"\",\"fLabels\":null,\"fModLabs\":null},\"fYaxis\":{\"_typename\":\"TAxis\",\"fUniqueID\":0,\"fBits\":0,\"fName\":\"yaxis\",\"fTitle\":\"\",\"fNdivisions\":510,\"fAxisColor\":1,\"fLabelColor\":1,\"fLabelFont\":42,\"fLabelOffset\":0.005,\"fLabelSize\":0.035,\"fTickLength\":0.03,\"fTitleOffset\":0,\"fTitleSize\":0.035,\"fTitleColor\":1,\"fTitleFont\":42,\"fNbins\":1,\"fXmin\":0,\"fXmax\":1,\"fXbins\":[],\"fFirst\":0,\"fLast\":0,\"fBits2\":0,\"fTimeDisplay\":false,\"fTimeFormat\":\"\",\"fLabels\":null,\"fModLabs\":null},\"fZaxis\":{\"_typename\":\"TAxis\",\"fUniqueID\":0,\"fBits\":0,\"fName\":\"zaxis\",\"fTitle\":\"\",\"fNdivisions\":510,\"fAxisColor\":1,\"fLabelColor\":1,\"fLabelFont\":42,\"fLabelOffset\":0.005,\"fLabelSize\":0.035,\"fTickLength\":0.03,\"fTitleOffset\":1,\"fTitleSize\":0.035,\"fTitleColor\":1,\"fTitleFont\":42,\"fNbins\":1,\"fXmin\":0,\"fXmax\":1,\"fXbins\":[],\"fFirst\":0,\"fLast\":0,\"fBits2\":0,\"fTimeDisplay\":false,\"fTimeFormat\":\"\",\"fLabels\":null,\"fModLabs\":null},\"fBarOffset\":0,\"fBarWidth\":1000,\"fEntries\":8711529,\"fTsumw\":143133868.307241,\"fTsumw2\":2351746359.23468,\"fTsumwx\":119802599327.096,\"fTsumwx2\":130046155648722,\"fMaximum\":-1111,\"fMinimum\":-1111,\"fNormFactor\":0,\"fContour\":[],\"fSumw2\":[],\"fOption\":\"\",\"fFunctions\":{\"_typename\":\"TList\",\"name\":\"TList\",\"arr\":[{\"_typename\":\"TF1\",\"fUniqueID\":0,\"fBits\":1024,\"fName\":\"f\",\"fTitle\":\"pol1(0)+gaus(2)+gaus(5)\",\"fLineColor\":2,\"fLineStyle\":1,\"fLineWidth\":2,\"fFillColor\":19,\"fFillStyle\":0,\"fMarkerColor\":1,\"fMarkerStyle\":1,\"fMarkerSize\":1,\"fXmin\":720,\"fXmax\":860,\"fNpar\":8,\"fNdim\":1,\"fNpx\":100,\"fType\":0,\"fNpfits\":18,\"fNDF\":12,\"fChisquare\":171756.440911823,\"fMinimum\":-1111,\"fMaximum\":-1111,\"fParErrors\":[0,0,1673.99239314627,0.00394828369877587,0.00402313737735938,1305.76188154519,0.00734783094594604,0.00786243740290526],\"fParMin\":[-2200000,4000,1,710,0.5,1,780,0.5],\"fParMax\":[-2200000,4000,10000000000,810,50,10000000000,880,50],\"fSave\":[912559.744525442,972755.681295587,1043359.42834503,1125743.66984771,1221319.79965685,1331504.01762493,1457676.01718356,1601130.56324996,1763022.69058373,1944307.72694962,2145677.8398004,2367497.29071791,2609739.02489942,2871925.58709375,3153077.60374524,3451673.16937738,3765621.39475751,4092253.09521138,4428331.11124073,4770082.06575511,5113250.49324339,5453175.26181363,5784887.09909737,6103224.88913645,6402967.29920384,6678975.29609582,6926340.29184572,7140532.08254817,7317540.46159183,7454004.43303051,7547323.33398564,7595744.88583529,7598426.19845092,7555464.9945892,7467899.72974969,7337678.77078218,7167600.27225692,6961225.76141373,6722771.62580406,6456983.62125771,6169000.12869601,5864210.15579145,5548111.99668732,5226178.04703895,4903730.56176909,4585832.19715737,4277194.06932758,3982102.86856784,3704367.37660267,3447283.62211156,3213616.94999378,3005598.53037899,2824933.33556231,2672816.38905424,2549954.14262461,2456588.14639676,2392518.70702733,2357126.92731017,2349394.32263956,2367920.04362552,2410936.52539635,2476325.06148195,2561633.30092872,2664096.94233597,2780667.91659378,2908051.10102449,3042751.10381011,3181129.93397206,3319475.48419639,3454079.77350581,3581324.90723503,3697773.80021404,3800261.9593645,3885986.10692976,3952585.20025193,3998209.49995608,4021573.76032778,4021991.34045461,3999387.01298836,3954287.40774489,3887789.28258416,3801507.06895091,3697502.29956208,3578198.50548305,3446285.90015753,3304620.60186663,3156123.2621136,3003681.77043715,2850062.22570731,2697831.65038711,2549295.04303753,2406448.38947233,2270948.25991831,2144097.67875661,2026847.12481031,1919808.84903015,1823282.21128312,1737287.44988136,1661605.20139368,1595819.16528846,1539359.52881089,720,860],\"fNormalized\":false,\"fNormIntegral\":0,\"fFormula\":{\"_typename\":\"TFormula\",\"fUniqueID\":0,\"fBits\":1024,\"fName\":\"f\",\"fTitle\":\"pol1(0)+gaus(2)+gaus(5)\",\"fClingParameters\":[-2200000,4000,6745730.24048255,764.00211519476,16.9552267173122,2909844.80924387,826.91442311727,15.513443939008],\"fAllParametersSetted\":true,\"fParams\":[{\"$pair\":\"pair<TString,int,TFormulaParamOrder>\",\"first\":\"p0\",\"second\":0},{\"$pair\":\"pair<TString,int,TFormulaParamOrder>\",\"first\":\"p1\",\"second\":1},{\"$pair\":\"pair<TString,int,TFormulaParamOrder>\",\"first\":\"p2\",\"second\":2},{\"$pair\":\"pair<TString,int,TFormulaParamOrder>\",\"first\":\"p3\",\"second\":3},{\"$pair\":\"pair<TString,int,TFormulaParamOrder>\",\"first\":\"p4\",\"second\":4},{\"$pair\":\"pair<TString,int,TFormulaParamOrder>\",\"first\":\"p5\",\"second\":5},{\"$pair\":\"pair<TString,int,TFormulaParamOrder>\",\"first\":\"p6\",\"second\":6},{\"$pair\":\"pair<TString,int,TFormulaParamOrder>\",\"first\":\"p7\",\"second\":7}],\"fFormula\":\"([p0]+[p1]*x)+[p2]*exp(-0.5*((x-[p3])\\/[p4])*((x-[p3])\\/[p4]))+[p5]*exp(-0.5*((x-[p6])\\/[p7])*((x-[p6])\\/[p7]))\",\"fNdim\":1,\"fLinearParts\":[],\"fVectorized\":false},\"fParams\":null,\"fComposition_ptr\":null},{\"_typename\":\"TPaveStats\",\"fUniqueID\":0,\"fBits\":9,\"fLineColor\":1,\"fLineStyle\":1,\"fLineWidth\":1,\"fFillColor\":0,\"fFillStyle\":1001,\"fX1\":1700.00005066395,\"fY1\":7026590.12970435,\"fX2\":2200.00006556511,\"fY2\":8692152.19729495,\"fX1NDC\":0.780000016093254,\"fY1NDC\":0.775000005960464,\"fX2NDC\":0.980000019073486,\"fY2NDC\":0.935000002384186,\"fBorderSize\":1,\"fInit\":1,\"fShadowColor\":1,\"fCornerRadius\":0,\"fOption\":\"brNDC\",\"fName\":\"stats\",\"fTextAngle\":0,\"fTextSize\":0,\"fTextAlign\":12,\"fTextColor\":1,\"fTextFont\":42,\"fLabel\":\"\",\"fLongest\":18,\"fMargin\":0.05,\"fLines\":{\"_typename\":\"TList\",\"name\":\"TList\",\"arr\":[{\"_typename\":\"TLatex\",\"fUniqueID\":0,\"fBits\":0,\"fName\":\"\",\"fTitle\":\"hsingle_130deg\",\"fTextAngle\":0,\"fTextSize\":0.0368,\"fTextAlign\":0,\"fTextColor\":0,\"fTextFont\":0,\"fX\":0,\"fY\":0,\"fLineColor\":1,\"fLineStyle\":1,\"fLineWidth\":2,\"fLimitFactorSize\":3,\"fOriginSize\":0.0368000008165836},{\"_typename\":\"TLatex\",\"fUniqueID\":0,\"fBits\":0,\"fName\":\"\",\"fTitle\":\"Entries = 8711529\",\"fTextAngle\":0,\"fTextSize\":0,\"fTextAlign\":0,\"fTextColor\":0,\"fTextFont\":0,\"fX\":0,\"fY\":0,\"fLineColor\":1,\"fLineStyle\":1,\"fLineWidth\":2,\"fLimitFactorSize\":3,\"fOriginSize\":0.04},{\"_typename\":\"TLatex\",\"fUniqueID\":0,\"fBits\":0,\"fName\":\"\",\"fTitle\":\"Mean  =  781.2\",\"fTextAngle\":0,\"fTextSize\":0,\"fTextAlign\":0,\"fTextColor\":0,\"fTextFont\":0,\"fX\":0,\"fY\":0,\"fLineColor\":1,\"fLineStyle\":1,\"fLineWidth\":2,\"fLimitFactorSize\":3,\"fOriginSize\":0.04},{\"_typename\":\"TLatex\",\"fUniqueID\":0,\"fBits\":0,\"fName\":\"\",\"fTitle\":\"Std Dev   =  196.8\",\"fTextAngle\":0,\"fTextSize\":0,\"fTextAlign\":0,\"fTextColor\":0,\"fTextFont\":0,\"fX\":0,\"fY\":0,\"fLineColor\":1,\"fLineStyle\":1,\"fLineWidth\":2,\"fLimitFactorSize\":3,\"fOriginSize\":0.04}],\"opt\":[\"\",\"\",\"\",\"\"]},\"fOptFit\":0,\"fOptStat\":1111,\"fFitFormat\":\"5.4g\",\"fStatFormat\":\"6.4g\",\"fParent\":{\"$ref\":3}}],\"opt\":[\"\",\"brNDC\"]},\"fBufferSize\":0,\"fBuffer\":[],\"fBinStatErrOpt\":0,\"fStatOverflows\":2,\"fArray\":[0,0,0,0,96,336,848,832,1520,4224,5648,7024,8048,8880,10176,13312,16304,22208,32432,50912,84640,129584,177392,221136,254192,272000,282288,292208,298080,300816,314080,317808,328512,327504,337456,346592,346912,346384,357104,358672,360112,356080,360400,364912,363424,362560,369920,359280,364176,362784,361984,373968,366768,367872,366448,368672,370880,370592,372576,373392,368464,368144,371712,368656,373584,370688,367552,374416,376016,374128,371904,372816,374288,377136,379728,387648,390368,390480,405632,414736,422864,431584,446016,453936,469504,490224,524176,567520,642736,774992,1012560,1409616,1999280,3059824,4818176,6788896,7931248,7219328,5136400,3391312,2548672,2457824,2907776,3771456,4158320,3569168,2617280,2007680,1709696,1520288,1416512,1354688,1324992,1324896,1308656,1285152,1357536,1613648,2060608,2852720,3988192,4376880,3363040,2060912,1336880,1007840,835168,731344,671616,627072,587600,549888,498512,447872,391392,340032,304064,266944,234080,198640,165328,139952,120704,104992,96176,92912,82096,80240,74560,67776,60688,55408,50752,48400,43632,40048,39088,36816,32768,32064,28288,27600,25248,24544,23376,19888,19728,18384,16688,15568,13728,13232,12016,10144,7984,6592,5296,5056,5120,4944,4800,4720,5120,4960,4480,4928,4256,3968,4000,4656,4496,4368,4224,4688,4432,4256,4208,3984,3952,4384,4112,4288,4432,3920,4112,3776,4160,4240,3616,4320,4288,3840,3552,3824,4096,3984,3648,3344,3280,3136,2688,3040,2944,3008,2864,2720,2384,3216,2784,2400,2240,2496,2736,2704,2496,2192,2480,2192,2672,2400,2592,2256,2656,2592,2464,2512,2368,2400,2256,2272,2400,2224,2224,2304,2000,2272,2176,2224,2336,2208,1936,1952,2064,1904,1952,1904,1776,1920,2272,1872,2000,2160,2048,1984,1840,2176,2272,1984,2080,1840,2176,2080,2528,2272,2160,2320,2384,2512,2432,2096,2560,2208,2000,1936,2336,2336,2096,2208,2016,2816,2080,2144,2192,2512,2304,2128,2464,2368,2128,2176,2048,2480,2368,2704,2704,2656,2736,2144,2720,2816,2176,2720,2448,3008,2384,2672,2656,2832,2240,2528,2448,2832,2816,2304,3424,2576,2656,3216,2736,2784,3168,2688,2608,2928,3184,3280,3024,2912,3552,3408,3456,3344,3744,3616,3488,3936,4032,3376,4144,3968,3376,3744,3712,4096,3872,4144,3616,3616,4128,4192,3952,4272,4304,4496,4272,4240,4624,4480,5040,4592,4624,4448,4480,4608,4848,4832,5072,5472,5296,4784,5104,4528,5008,6352,5472,6416,5184,6080,5968,6016,5696,6368,6304,5968,6112,6384,6912,6800,6736,6784,7232,7872,7120,7248,7088,7760,7376,7856,8208,8000,8000,8336,8000,8144,8592,8256,8544,9104,9520,9072,9680,9696,9312,9232,9728,9328,9488,9472,10064,11040,11264,10288,10944,11184,11296,11392,11008,11904,12816,12320,11696,11904,12864,12688,13424,13184,13440,13808,14464,13424,14288,13328,14528,15184,14544,14160,14544,14256,15904,15056,15072,16288,16400,16672,16320,16560,17088,16912,16720,16592,17760,17184,16720,17568,17904,16976,18768,18224,17104,17520,17856,17072,17760,18032,18384,17568,17328,18048,18144,18368,16784,17888,17792,16944,17680,16752,17680,17088,17424,16736,16624,16144,16352,15248,15264,16208,15536,14896,14176,14880,14816,13568,14208,13648,12768,11904,12640,12112,11632,12064,11984,11648,11040,10832,10448,10592,10224,9552,10272,9392,9776,9136,8336,8048,7680,7808,7664,7296,6944,7072,6816,6336,6112,6224,5760,5808,5568,5792,5776,5760,5232,5072,5008,4544,5104,4816,4192,4016,4016,4272,3952,3824,3856,3584,3520,3600,3264,2944,3680,3120,3216,3136,3120,2704,2960,2864,2672,2336,2384,2144,2176,2256,2464,2160,2048,2080,2192,1856,1760,1872,1616,1696,1760,1824,1744,1824,1472,1520,1568,1504,1216,1328,1296,1168,1360,1200,976,1088,1056,1296,1104,928,880,736,928,1024,736,688,880,1056,944,912,944,848,672,640,720,560,704,592,560,848,496,656,640,464,672,560,560,608,512,496,448,416,384,352,480,448,448,432,608,224,384,320,400,368,288,256,224,272,256,336,288,208,304,272,192,368,224,192,320,192,192,224,192,256,160,160,224,128,176,112,176,160,288,128,176,144,80,176,112,96,80,160,160,96,128,128,48,48,112,96,144,48,96,32,112,64,112,192,448,368,688,848,1408,1472,2208,2368,2224,2320,1840,1744,1360,1040,896,816,592,496,544,368,416,384,272,368,304,256,208,272,128,112,112,192,96,144,128,32,32,64,80,16,48,32,64,64,144,96,16,48,48,48,32,16,48,32,0,16,64,16,16,16,16,0,0,16,0,0,0,0,0,0,0,0,0,0,0,0,0,0,0,0,0,0,0,0,0,0,0,0,0,0,0,0,0,0,0,0,0,0,0,0,0,0,0,0,0,0,0,0,0,0,0,0,0,0,0,0,0,0,0,0,0,0,0,0,0,0,0,0,0,0,0,0,0,0,0,0,0,0,0,0,0,0,0,0,0,16,16,16,16,0,16,32,48,0,0,32,0,0,0,0,0,32,0,16,0,0,0,0,0,0,0,0,0,0,0,0,0,0,0,0,0,0,0,0,0,0,0,16,0,0,0,0,0,16,0,0,0,0,0,0,0,0,0,0,0,0,0,0,0,0,0,0,0,0,0,0,0,0,0,0,0,0,0,0,0,0,0,0,0,0,0,0,0,0,0,0,0,0,0,0,0,0,0,0,0,0,0,0,0,0,0,0,0,0,0,0,0,0,0,0,0,0,0,0,0,0,0,0,0,0,0,0,0,0,0,0,0,0,0,0,0,16]},{\"_typename\":\"TF1\",\"fUniqueID\":0,\"fBits\":8,\"fName\":\"f\",\"fTitle\":\"pol1(0)+gaus(2)+gaus(5)\",\"fLineColor\":632,\"fLineStyle\":1,\"fLineWidth\":2,\"fFillColor\":19,\"fFillStyle\":0,\"fMarkerColor\":1,\"fMarkerStyle\":1,\"fMarkerSize\":1,\"fXmin\":720,\"fXmax\":860,\"fNpar\":8,\"fNdim\":1,\"fNpx\":100,\"fType\":0,\"fNpfits\":18,\"fNDF\":12,\"fChisquare\":171756.440911823,\"fMinimum\":-1111,\"fMaximum\":-1111,\"fParErrors\":[0,0,1673.99239314627,0.00394828369877587,0.00402313737735938,1305.76188154519,0.00734783094594604,0.00786243740290526],\"fParMin\":[-2200000,4000,1,710,0.5,1,780,0.5],\"fParMax\":[-2200000,4000,10000000000,810,50,10000000000,880,50],\"fSave\":[],\"fNormalized\":false,\"fNormIntegral\":0,\"fFormula\":{\"_typename\":\"TFormula\",\"fUniqueID\":0,\"fBits\":1024,\"fName\":\"f\",\"fTitle\":\"pol1(0)+gaus(2)+gaus(5)\",\"fClingParameters\":[-2200000,4000,6745730.24048255,764.00211519476,16.9552267173122,2909844.80924387,826.91442311727,15.513443939008],\"fAllParametersSetted\":true,\"fParams\":[{\"$pair\":\"pair<TString,int,TFormulaParamOrder>\",\"first\":\"p0\",\"second\":0},{\"$pair\":\"pair<TString,int,TFormulaParamOrder>\",\"first\":\"p1\",\"second\":1},{\"$pair\":\"pair<TString,int,TFormulaParamOrder>\",\"first\":\"p2\",\"second\":2},{\"$pair\":\"pair<TString,int,TFormulaParamOrder>\",\"first\":\"p3\",\"second\":3},{\"$pair\":\"pair<TString,int,TFormulaParamOrder>\",\"first\":\"p4\",\"second\":4},{\"$pair\":\"pair<TString,int,TFormulaParamOrder>\",\"first\":\"p5\",\"second\":5},{\"$pair\":\"pair<TString,int,TFormulaParamOrder>\",\"first\":\"p6\",\"second\":6},{\"$pair\":\"pair<TString,int,TFormulaParamOrder>\",\"first\":\"p7\",\"second\":7}],\"fFormula\":\"([p0]+[p1]*x)+[p2]*exp(-0.5*((x-[p3])\\/[p4])*((x-[p3])\\/[p4]))+[p5]*exp(-0.5*((x-[p6])\\/[p7])*((x-[p6])\\/[p7]))\",\"fNdim\":1,\"fLinearParts\":[],\"fVectorized\":false},\"fParams\":null,\"fComposition_ptr\":null},{\"_typename\":\"TF1\",\"fUniqueID\":0,\"fBits\":8,\"fName\":\"f1\",\"fTitle\":\"pol1\",\"fLineColor\":600,\"fLineStyle\":1,\"fLineWidth\":2,\"fFillColor\":19,\"fFillStyle\":0,\"fMarkerColor\":1,\"fMarkerStyle\":1,\"fMarkerSize\":1,\"fXmin\":0,\"fXmax\":2000,\"fNpar\":2,\"fNdim\":1,\"fNpx\":100,\"fType\":0,\"fNpfits\":0,\"fNDF\":0,\"fChisquare\":0,\"fMinimum\":-1111,\"fMaximum\":-1111,\"fParErrors\":[0,0],\"fParMin\":[0,0],\"fParMax\":[0,0],\"fSave\":[],\"fNormalized\":false,\"fNormIntegral\":0,\"fFormula\":{\"_typename\":\"TFormula\",\"fUniqueID\":0,\"fBits\":66560,\"fName\":\"f1\",\"fTitle\":\"pol1\",\"fClingParameters\":[-2200000,4000],\"fAllParametersSetted\":true,\"fParams\":[{\"$pair\":\"pair<TString,int,TFormulaParamOrder>\",\"first\":\"p0\",\"second\":0},{\"$pair\":\"pair<TString,int,TFormulaParamOrder>\",\"first\":\"p1\",\"second\":1}],\"fFormula\":\"([p0]+[p1]*x)\",\"fNdim\":1,\"fLinearParts\":[],\"fVectorized\":false},\"fParams\":null,\"fComposition_ptr\":null}],\"opt\":[\"\",\"\",\"same\",\"same\"]},\"fExecs\":null,\"fName\":\"c1\",\"fTitle\":\"c1\",\"fNumPaletteColor\":0,\"fNextPaletteColor\":0,\"fDISPLAY\":\"$DISPLAY\",\"fDoubleBuffer\":0,\"fRetained\":true,\"fXsizeUser\":0,\"fYsizeUser\":0,\"fXsizeReal\":20,\"fYsizeReal\":14.28571,\"fWindowTopX\":0,\"fWindowTopY\":0,\"fWindowWidth\":0,\"fWindowHeight\":0,\"fCw\":696,\"fCh\":472,\"fCatt\":{\"_typename\":\"TAttCanvas\",\"fXBetween\":2,\"fYBetween\":2,\"fTitleFromTop\":1.2,\"fXdate\":0.2,\"fYdate\":0.3,\"fAdate\":1},\"kMoveOpaque\":true,\"kResizeOpaque\":true,\"fHighLightColor\":2,\"fBatch\":true,\"kShowEventStatus\":false,\"kAutoExec\":true,\"kMenuBar\":true});\n",
       "            Core.draw(\"root_plot_1696855327540\", obj, \"\");\n",
       "        }\n",
       "    );\n",
       "}\n",
       "</script>\n"
      ],
      "text/plain": [
       "<IPython.core.display.HTML object>"
      ]
     },
     "metadata": {},
     "output_type": "display_data"
    },
    {
     "name": "stdout",
     "output_type": "stream",
     "text": [
      "count=5.0949e+07 delta_count=9808.82\n",
      "0 peak=764.002 height=6.74573e+06 sigma=16.9552 contribution=3.58371e+07\n",
      "1 peak=826.914 height=2.90984e+06 sigma=15.5134 contribution=1.41442e+07\n"
     ]
    }
   ],
   "source": [
    "e = vector<double> {760, 830};\n",
    "k = 4000; b = -2200e3;                      //线性本底参数\n",
    "fit_left = 720; fit_right = 860;       //联合拟合范围\n",
    "area_left = 704; area_right = 880;\n",
    "area(h[14]);\n",
    "c1->Draw();"
   ]
  },
  {
   "cell_type": "code",
   "execution_count": 7,
   "id": "81230d45",
   "metadata": {},
   "outputs": [
    {
     "data": {
      "text/html": [
       "\n",
       "<div id=\"root_plot_1696855327659\"\n",
       "     style=\"width: 696px; height: 472px\">\n",
       "</div>\n",
       "<script>\n",
       "if (typeof require !== 'undefined') {\n",
       "\n",
       "    // All requirements met (we are in jupyter notebooks or we loaded requirejs before).\n",
       "    display_root_plot_1696855327659();\n",
       "\n",
       "} else {\n",
       "\n",
       "    // We are in jupyterlab, we need to insert requirejs and configure it.\n",
       "    // Jupyterlab might be installed in a different base_url so we need to know it.\n",
       "    try {\n",
       "        var base_url = JSON.parse(document.getElementById('jupyter-config-data').innerHTML).baseUrl;\n",
       "    } catch(_) {\n",
       "        var base_url = '/';\n",
       "    }\n",
       "\n",
       "    // Try loading a local version of requirejs and fallback to cdn if not possible.\n",
       "    requirejs_load(base_url + 'static/components/requirejs/require.js', requirejs_success(base_url), function(){\n",
       "        requirejs_load('https://cdnjs.cloudflare.com/ajax/libs/require.js/2.2.0/require.min.js', requirejs_success(base_url), function(){\n",
       "            document.getElementById(\"root_plot_1696855327659\").innerHTML = \"Failed to load requireJs\";\n",
       "        });\n",
       "    });\n",
       "}\n",
       "\n",
       "function requirejs_load(src, on_load, on_error) {\n",
       "    var script = document.createElement('script');\n",
       "    script.src = src;\n",
       "    script.onload = on_load;\n",
       "    script.onerror = on_error;\n",
       "    document.head.appendChild(script);\n",
       "}\n",
       "\n",
       "function requirejs_success(base_url) {\n",
       "    return function() {\n",
       "        require.config({\n",
       "            baseUrl: base_url + 'static/'\n",
       "        });\n",
       "        display_root_plot_1696855327659();\n",
       "    }\n",
       "}\n",
       "\n",
       "function display_root_plot_1696855327659() {\n",
       "    require(['scripts/JSRootCore'],\n",
       "        function(Core) {\n",
       "            var obj = Core.JSONR_unref({\"_typename\":\"TCanvas\",\"fUniqueID\":0,\"fBits\":3342344,\"fLineColor\":1,\"fLineStyle\":1,\"fLineWidth\":1,\"fFillColor\":0,\"fFillStyle\":1001,\"fLeftMargin\":0.1,\"fRightMargin\":0.1,\"fBottomMargin\":0.1,\"fTopMargin\":0.1,\"fXfile\":2,\"fYfile\":2,\"fAfile\":1,\"fXstat\":0.99,\"fYstat\":0.99,\"fAstat\":2,\"fFrameFillColor\":0,\"fFrameLineColor\":1,\"fFrameFillStyle\":1001,\"fFrameLineStyle\":1,\"fFrameLineWidth\":1,\"fFrameBorderSize\":1,\"fFrameBorderMode\":0,\"fX1\":-250.000018626453,\"fY1\":-1040976.37755878,\"fX2\":2250.00001862645,\"fY2\":9368786.77755878,\"fXtoAbsPixelk\":69.6000541484835,\"fXtoPixelk\":69.6000541484835,\"fXtoPixel\":0.278399995851517,\"fYtoAbsPixelk\":424.800047186661,\"fYtoPixelk\":424.800047186661,\"fYtoPixel\":-4.53420498590267e-5,\"fUtoAbsPixelk\":5e-5,\"fUtoPixelk\":5e-5,\"fUtoPixel\":696,\"fVtoAbsPixelk\":472.00005,\"fVtoPixelk\":472,\"fVtoPixel\":-472,\"fAbsPixeltoXk\":-250.000018626453,\"fPixeltoXk\":-250.000018626453,\"fPixeltoX\":3.59195407651279,\"fAbsPixeltoYk\":9368786.77755878,\"fPixeltoYk\":-1040976.37755878,\"fPixeltoY\":-22054.5829557576,\"fXlowNDC\":0,\"fYlowNDC\":0,\"fXUpNDC\":1,\"fYUpNDC\":1,\"fWNDC\":1,\"fHNDC\":1,\"fAbsXlowNDC\":0,\"fAbsYlowNDC\":0,\"fAbsWNDC\":1,\"fAbsHNDC\":1,\"fUxmin\":0,\"fUymin\":0,\"fUxmax\":2000,\"fUymax\":8327810.4,\"fTheta\":30,\"fPhi\":30,\"fAspectRatio\":0,\"fNumber\":0,\"fTickx\":0,\"fTicky\":0,\"fLogx\":0,\"fLogy\":0,\"fLogz\":0,\"fPadPaint\":0,\"fCrosshair\":0,\"fCrosshairPos\":0,\"fBorderSize\":2,\"fBorderMode\":0,\"fModified\":false,\"fGridx\":false,\"fGridy\":false,\"fAbsCoord\":false,\"fEditable\":true,\"fFixedAspectRatio\":false,\"fPrimitives\":{\"_typename\":\"TList\",\"name\":\"TList\",\"arr\":[{\"_typename\":\"TFrame\",\"fUniqueID\":0,\"fBits\":8,\"fLineColor\":1,\"fLineStyle\":1,\"fLineWidth\":1,\"fFillColor\":0,\"fFillStyle\":1001,\"fX1\":0,\"fY1\":0,\"fX2\":2000,\"fY2\":8327810.4,\"fBorderSize\":1,\"fBorderMode\":0},{\"_typename\":\"TH1I\",\"fUniqueID\":0,\"fBits\":8,\"fName\":\"hsingle_130deg\",\"fTitle\":\"\",\"fLineColor\":602,\"fLineStyle\":1,\"fLineWidth\":1,\"fFillColor\":0,\"fFillStyle\":1001,\"fMarkerColor\":1,\"fMarkerStyle\":1,\"fMarkerSize\":1,\"fNcells\":1002,\"fXaxis\":{\"_typename\":\"TAxis\",\"fUniqueID\":0,\"fBits\":2048,\"fName\":\"xaxis\",\"fTitle\":\"\",\"fNdivisions\":510,\"fAxisColor\":1,\"fLabelColor\":1,\"fLabelFont\":42,\"fLabelOffset\":0.005,\"fLabelSize\":0.035,\"fTickLength\":0.03,\"fTitleOffset\":1,\"fTitleSize\":0.035,\"fTitleColor\":1,\"fTitleFont\":42,\"fNbins\":1000,\"fXmin\":0,\"fXmax\":8000,\"fXbins\":[],\"fFirst\":1,\"fLast\":250,\"fBits2\":0,\"fTimeDisplay\":false,\"fTimeFormat\":\"\",\"fLabels\":null,\"fModLabs\":null},\"fYaxis\":{\"_typename\":\"TAxis\",\"fUniqueID\":0,\"fBits\":0,\"fName\":\"yaxis\",\"fTitle\":\"\",\"fNdivisions\":510,\"fAxisColor\":1,\"fLabelColor\":1,\"fLabelFont\":42,\"fLabelOffset\":0.005,\"fLabelSize\":0.035,\"fTickLength\":0.03,\"fTitleOffset\":0,\"fTitleSize\":0.035,\"fTitleColor\":1,\"fTitleFont\":42,\"fNbins\":1,\"fXmin\":0,\"fXmax\":1,\"fXbins\":[],\"fFirst\":0,\"fLast\":0,\"fBits2\":0,\"fTimeDisplay\":false,\"fTimeFormat\":\"\",\"fLabels\":null,\"fModLabs\":null},\"fZaxis\":{\"_typename\":\"TAxis\",\"fUniqueID\":0,\"fBits\":0,\"fName\":\"zaxis\",\"fTitle\":\"\",\"fNdivisions\":510,\"fAxisColor\":1,\"fLabelColor\":1,\"fLabelFont\":42,\"fLabelOffset\":0.005,\"fLabelSize\":0.035,\"fTickLength\":0.03,\"fTitleOffset\":1,\"fTitleSize\":0.035,\"fTitleColor\":1,\"fTitleFont\":42,\"fNbins\":1,\"fXmin\":0,\"fXmax\":1,\"fXbins\":[],\"fFirst\":0,\"fLast\":0,\"fBits2\":0,\"fTimeDisplay\":false,\"fTimeFormat\":\"\",\"fLabels\":null,\"fModLabs\":null},\"fBarOffset\":0,\"fBarWidth\":1000,\"fEntries\":8711529,\"fTsumw\":143133868.307241,\"fTsumw2\":2351746359.23468,\"fTsumwx\":119802599327.096,\"fTsumwx2\":130046155648722,\"fMaximum\":-1111,\"fMinimum\":-1111,\"fNormFactor\":0,\"fContour\":[],\"fSumw2\":[],\"fOption\":\"\",\"fFunctions\":{\"_typename\":\"TList\",\"name\":\"TList\",\"arr\":[{\"_typename\":\"TPaveStats\",\"fUniqueID\":0,\"fBits\":9,\"fLineColor\":1,\"fLineStyle\":1,\"fLineWidth\":1,\"fFillColor\":0,\"fFillStyle\":1001,\"fX1\":1700.00005066395,\"fY1\":7026590.12970435,\"fX2\":2200.00006556511,\"fY2\":8692152.19729495,\"fX1NDC\":0.780000016093254,\"fY1NDC\":0.775000005960464,\"fX2NDC\":0.980000019073486,\"fY2NDC\":0.935000002384186,\"fBorderSize\":1,\"fInit\":1,\"fShadowColor\":1,\"fCornerRadius\":0,\"fOption\":\"brNDC\",\"fName\":\"stats\",\"fTextAngle\":0,\"fTextSize\":0,\"fTextAlign\":12,\"fTextColor\":1,\"fTextFont\":42,\"fLabel\":\"\",\"fLongest\":18,\"fMargin\":0.05,\"fLines\":{\"_typename\":\"TList\",\"name\":\"TList\",\"arr\":[{\"_typename\":\"TLatex\",\"fUniqueID\":0,\"fBits\":0,\"fName\":\"\",\"fTitle\":\"hsingle_130deg\",\"fTextAngle\":0,\"fTextSize\":0.0368,\"fTextAlign\":0,\"fTextColor\":0,\"fTextFont\":0,\"fX\":0,\"fY\":0,\"fLineColor\":1,\"fLineStyle\":1,\"fLineWidth\":2,\"fLimitFactorSize\":3,\"fOriginSize\":0.0368000008165836},{\"_typename\":\"TLatex\",\"fUniqueID\":0,\"fBits\":0,\"fName\":\"\",\"fTitle\":\"Entries = 8711529\",\"fTextAngle\":0,\"fTextSize\":0,\"fTextAlign\":0,\"fTextColor\":0,\"fTextFont\":0,\"fX\":0,\"fY\":0,\"fLineColor\":1,\"fLineStyle\":1,\"fLineWidth\":2,\"fLimitFactorSize\":3,\"fOriginSize\":0.04},{\"_typename\":\"TLatex\",\"fUniqueID\":0,\"fBits\":0,\"fName\":\"\",\"fTitle\":\"Mean  =  781.2\",\"fTextAngle\":0,\"fTextSize\":0,\"fTextAlign\":0,\"fTextColor\":0,\"fTextFont\":0,\"fX\":0,\"fY\":0,\"fLineColor\":1,\"fLineStyle\":1,\"fLineWidth\":2,\"fLimitFactorSize\":3,\"fOriginSize\":0.04},{\"_typename\":\"TLatex\",\"fUniqueID\":0,\"fBits\":0,\"fName\":\"\",\"fTitle\":\"Std Dev   =  196.8\",\"fTextAngle\":0,\"fTextSize\":0,\"fTextAlign\":0,\"fTextColor\":0,\"fTextFont\":0,\"fX\":0,\"fY\":0,\"fLineColor\":1,\"fLineStyle\":1,\"fLineWidth\":2,\"fLimitFactorSize\":3,\"fOriginSize\":0.04}],\"opt\":[\"\",\"\",\"\",\"\"]},\"fOptFit\":0,\"fOptStat\":1111,\"fFitFormat\":\"5.4g\",\"fStatFormat\":\"6.4g\",\"fParent\":{\"$ref\":3}},{\"_typename\":\"TF1\",\"fUniqueID\":0,\"fBits\":1024,\"fName\":\"f\",\"fTitle\":\"pol1(0)+gaus(2)\",\"fLineColor\":2,\"fLineStyle\":1,\"fLineWidth\":2,\"fFillColor\":19,\"fFillStyle\":0,\"fMarkerColor\":1,\"fMarkerStyle\":1,\"fMarkerSize\":1,\"fXmin\":900,\"fXmax\":1000,\"fNpar\":5,\"fNdim\":1,\"fNpx\":100,\"fType\":0,\"fNpfits\":13,\"fNDF\":10,\"fChisquare\":47292.8799868992,\"fMinimum\":-1111,\"fMaximum\":-1111,\"fParErrors\":[0,0,1406.03620926547,0.00540283651349682,0.0052729232026234],\"fParMin\":[6700000,-5900,1,910,0.5],\"fParMax\":[6700000,-5900,10000000000,1010,50],\"fSave\":[1390074.78420938,1384205.43320122,1378347.81046126,1372506.059786,1366685.65485487,1360893.77692889,1355139.78301957,1349435.78081936,1343797.32797008,1338244.27409211,1332801.76419055,1327501.42134581,1322382.72470377,1317494.59540109,1312897.19788283,1308663.95678959,1304883.77994402,1301663.46575138,1299130.25844605,1297434.49710524,1296752.28443246,1297288.07942304,1299277.09484855,1302987.35699713,1308721.26252452,1316816.44712118,1327645.76473934,1341616.16628454,1359166.26498805,1380762.38414324,1406892.90334981,1438060.75337759,1474773.95824441,1517534.18643487,1566823.35085956,1623088.3876876,1686724.44503407,1758056.82001214,1837322.0921837,1924649.00736013,2020039.76171383,2123352.41555869,2234285.22222335,2352363.68387181,2476931.13750777,2607143.62668127,2741969.72534651,2880195.84981511,3020437.42514652,3161156.06849597,3300682.72126478,3437246.4139939,3569008.09428381,3694098.70136586,3810660.44461217,3916890.05034066,4011082.5937593,4091674.44091195,4157283.79650872,4206747.39178393,4239151.95261407,4253859.25882228,4250523.83392656,4229102.58018454,4189855.98343707,4133340.84068297,4060394.79410635,3972113.27186284,3869819.72261295,3755030.27369175,3629414.13067821,3494751.16100101,3352888.16178536,3205695.30192478,3055024.1535892,2902668.59566528,2750329.69040126,2599585.41635169,2451865.89845486,2308434.52306678,2170375.07501091,2038584.79708311,1913773.06017649,1796465.15229461,1687010.5528014,1585594.95736298,1492255.25975166,1406896.67733572,1329311.22408534,1259196.78321051,1196176.10501168,1139815.14751806,1089640.28126466,1045153.98866593,1005848.79705498,971219.287613814,940772.116178549,914034.063413295,890558.199329581,869928.299815368,851761.690838291,900,1000],\"fNormalized\":false,\"fNormIntegral\":0,\"fFormula\":{\"_typename\":\"TFormula\",\"fUniqueID\":0,\"fBits\":1024,\"fName\":\"f\",\"fTitle\":\"pol1(0)+gaus(2)\",\"fClingParameters\":[6700000,-5900,3227488.37159683,961.641555502057,13.3420729729533],\"fAllParametersSetted\":true,\"fParams\":[{\"$pair\":\"pair<TString,int,TFormulaParamOrder>\",\"first\":\"p0\",\"second\":0},{\"$pair\":\"pair<TString,int,TFormulaParamOrder>\",\"first\":\"p1\",\"second\":1},{\"$pair\":\"pair<TString,int,TFormulaParamOrder>\",\"first\":\"p2\",\"second\":2},{\"$pair\":\"pair<TString,int,TFormulaParamOrder>\",\"first\":\"p3\",\"second\":3},{\"$pair\":\"pair<TString,int,TFormulaParamOrder>\",\"first\":\"p4\",\"second\":4}],\"fFormula\":\"([p0]+[p1]*x)+[p2]*exp(-0.5*((x-[p3])\\/[p4])*((x-[p3])\\/[p4]))\",\"fNdim\":1,\"fLinearParts\":[],\"fVectorized\":false},\"fParams\":null,\"fComposition_ptr\":null}],\"opt\":[\"brNDC\",\"\"]},\"fBufferSize\":0,\"fBuffer\":[],\"fBinStatErrOpt\":0,\"fStatOverflows\":2,\"fArray\":[0,0,0,0,96,336,848,832,1520,4224,5648,7024,8048,8880,10176,13312,16304,22208,32432,50912,84640,129584,177392,221136,254192,272000,282288,292208,298080,300816,314080,317808,328512,327504,337456,346592,346912,346384,357104,358672,360112,356080,360400,364912,363424,362560,369920,359280,364176,362784,361984,373968,366768,367872,366448,368672,370880,370592,372576,373392,368464,368144,371712,368656,373584,370688,367552,374416,376016,374128,371904,372816,374288,377136,379728,387648,390368,390480,405632,414736,422864,431584,446016,453936,469504,490224,524176,567520,642736,774992,1012560,1409616,1999280,3059824,4818176,6788896,7931248,7219328,5136400,3391312,2548672,2457824,2907776,3771456,4158320,3569168,2617280,2007680,1709696,1520288,1416512,1354688,1324992,1324896,1308656,1285152,1357536,1613648,2060608,2852720,3988192,4376880,3363040,2060912,1336880,1007840,835168,731344,671616,627072,587600,549888,498512,447872,391392,340032,304064,266944,234080,198640,165328,139952,120704,104992,96176,92912,82096,80240,74560,67776,60688,55408,50752,48400,43632,40048,39088,36816,32768,32064,28288,27600,25248,24544,23376,19888,19728,18384,16688,15568,13728,13232,12016,10144,7984,6592,5296,5056,5120,4944,4800,4720,5120,4960,4480,4928,4256,3968,4000,4656,4496,4368,4224,4688,4432,4256,4208,3984,3952,4384,4112,4288,4432,3920,4112,3776,4160,4240,3616,4320,4288,3840,3552,3824,4096,3984,3648,3344,3280,3136,2688,3040,2944,3008,2864,2720,2384,3216,2784,2400,2240,2496,2736,2704,2496,2192,2480,2192,2672,2400,2592,2256,2656,2592,2464,2512,2368,2400,2256,2272,2400,2224,2224,2304,2000,2272,2176,2224,2336,2208,1936,1952,2064,1904,1952,1904,1776,1920,2272,1872,2000,2160,2048,1984,1840,2176,2272,1984,2080,1840,2176,2080,2528,2272,2160,2320,2384,2512,2432,2096,2560,2208,2000,1936,2336,2336,2096,2208,2016,2816,2080,2144,2192,2512,2304,2128,2464,2368,2128,2176,2048,2480,2368,2704,2704,2656,2736,2144,2720,2816,2176,2720,2448,3008,2384,2672,2656,2832,2240,2528,2448,2832,2816,2304,3424,2576,2656,3216,2736,2784,3168,2688,2608,2928,3184,3280,3024,2912,3552,3408,3456,3344,3744,3616,3488,3936,4032,3376,4144,3968,3376,3744,3712,4096,3872,4144,3616,3616,4128,4192,3952,4272,4304,4496,4272,4240,4624,4480,5040,4592,4624,4448,4480,4608,4848,4832,5072,5472,5296,4784,5104,4528,5008,6352,5472,6416,5184,6080,5968,6016,5696,6368,6304,5968,6112,6384,6912,6800,6736,6784,7232,7872,7120,7248,7088,7760,7376,7856,8208,8000,8000,8336,8000,8144,8592,8256,8544,9104,9520,9072,9680,9696,9312,9232,9728,9328,9488,9472,10064,11040,11264,10288,10944,11184,11296,11392,11008,11904,12816,12320,11696,11904,12864,12688,13424,13184,13440,13808,14464,13424,14288,13328,14528,15184,14544,14160,14544,14256,15904,15056,15072,16288,16400,16672,16320,16560,17088,16912,16720,16592,17760,17184,16720,17568,17904,16976,18768,18224,17104,17520,17856,17072,17760,18032,18384,17568,17328,18048,18144,18368,16784,17888,17792,16944,17680,16752,17680,17088,17424,16736,16624,16144,16352,15248,15264,16208,15536,14896,14176,14880,14816,13568,14208,13648,12768,11904,12640,12112,11632,12064,11984,11648,11040,10832,10448,10592,10224,9552,10272,9392,9776,9136,8336,8048,7680,7808,7664,7296,6944,7072,6816,6336,6112,6224,5760,5808,5568,5792,5776,5760,5232,5072,5008,4544,5104,4816,4192,4016,4016,4272,3952,3824,3856,3584,3520,3600,3264,2944,3680,3120,3216,3136,3120,2704,2960,2864,2672,2336,2384,2144,2176,2256,2464,2160,2048,2080,2192,1856,1760,1872,1616,1696,1760,1824,1744,1824,1472,1520,1568,1504,1216,1328,1296,1168,1360,1200,976,1088,1056,1296,1104,928,880,736,928,1024,736,688,880,1056,944,912,944,848,672,640,720,560,704,592,560,848,496,656,640,464,672,560,560,608,512,496,448,416,384,352,480,448,448,432,608,224,384,320,400,368,288,256,224,272,256,336,288,208,304,272,192,368,224,192,320,192,192,224,192,256,160,160,224,128,176,112,176,160,288,128,176,144,80,176,112,96,80,160,160,96,128,128,48,48,112,96,144,48,96,32,112,64,112,192,448,368,688,848,1408,1472,2208,2368,2224,2320,1840,1744,1360,1040,896,816,592,496,544,368,416,384,272,368,304,256,208,272,128,112,112,192,96,144,128,32,32,64,80,16,48,32,64,64,144,96,16,48,48,48,32,16,48,32,0,16,64,16,16,16,16,0,0,16,0,0,0,0,0,0,0,0,0,0,0,0,0,0,0,0,0,0,0,0,0,0,0,0,0,0,0,0,0,0,0,0,0,0,0,0,0,0,0,0,0,0,0,0,0,0,0,0,0,0,0,0,0,0,0,0,0,0,0,0,0,0,0,0,0,0,0,0,0,0,0,0,0,0,0,0,0,0,0,0,0,16,16,16,16,0,16,32,48,0,0,32,0,0,0,0,0,32,0,16,0,0,0,0,0,0,0,0,0,0,0,0,0,0,0,0,0,0,0,0,0,0,0,16,0,0,0,0,0,16,0,0,0,0,0,0,0,0,0,0,0,0,0,0,0,0,0,0,0,0,0,0,0,0,0,0,0,0,0,0,0,0,0,0,0,0,0,0,0,0,0,0,0,0,0,0,0,0,0,0,0,0,0,0,0,0,0,0,0,0,0,0,0,0,0,0,0,0,0,0,0,0,0,0,0,0,0,0,0,0,0,0,0,0,0,0,0,16]},{\"_typename\":\"TF1\",\"fUniqueID\":0,\"fBits\":8,\"fName\":\"f\",\"fTitle\":\"pol1(0)+gaus(2)\",\"fLineColor\":632,\"fLineStyle\":1,\"fLineWidth\":2,\"fFillColor\":19,\"fFillStyle\":0,\"fMarkerColor\":1,\"fMarkerStyle\":1,\"fMarkerSize\":1,\"fXmin\":900,\"fXmax\":1000,\"fNpar\":5,\"fNdim\":1,\"fNpx\":100,\"fType\":0,\"fNpfits\":13,\"fNDF\":10,\"fChisquare\":47292.8799868992,\"fMinimum\":-1111,\"fMaximum\":-1111,\"fParErrors\":[0,0,1406.03620926547,0.00540283651349682,0.0052729232026234],\"fParMin\":[6700000,-5900,1,910,0.5],\"fParMax\":[6700000,-5900,10000000000,1010,50],\"fSave\":[],\"fNormalized\":false,\"fNormIntegral\":0,\"fFormula\":{\"_typename\":\"TFormula\",\"fUniqueID\":0,\"fBits\":1024,\"fName\":\"f\",\"fTitle\":\"pol1(0)+gaus(2)\",\"fClingParameters\":[6700000,-5900,3227488.37159683,961.641555502057,13.3420729729533],\"fAllParametersSetted\":true,\"fParams\":[{\"$pair\":\"pair<TString,int,TFormulaParamOrder>\",\"first\":\"p0\",\"second\":0},{\"$pair\":\"pair<TString,int,TFormulaParamOrder>\",\"first\":\"p1\",\"second\":1},{\"$pair\":\"pair<TString,int,TFormulaParamOrder>\",\"first\":\"p2\",\"second\":2},{\"$pair\":\"pair<TString,int,TFormulaParamOrder>\",\"first\":\"p3\",\"second\":3},{\"$pair\":\"pair<TString,int,TFormulaParamOrder>\",\"first\":\"p4\",\"second\":4}],\"fFormula\":\"([p0]+[p1]*x)+[p2]*exp(-0.5*((x-[p3])\\/[p4])*((x-[p3])\\/[p4]))\",\"fNdim\":1,\"fLinearParts\":[],\"fVectorized\":false},\"fParams\":null,\"fComposition_ptr\":null},{\"_typename\":\"TF1\",\"fUniqueID\":0,\"fBits\":8,\"fName\":\"f1\",\"fTitle\":\"pol1\",\"fLineColor\":600,\"fLineStyle\":1,\"fLineWidth\":2,\"fFillColor\":19,\"fFillStyle\":0,\"fMarkerColor\":1,\"fMarkerStyle\":1,\"fMarkerSize\":1,\"fXmin\":0,\"fXmax\":2000,\"fNpar\":2,\"fNdim\":1,\"fNpx\":100,\"fType\":0,\"fNpfits\":0,\"fNDF\":0,\"fChisquare\":0,\"fMinimum\":-1111,\"fMaximum\":-1111,\"fParErrors\":[0,0],\"fParMin\":[0,0],\"fParMax\":[0,0],\"fSave\":[],\"fNormalized\":false,\"fNormIntegral\":0,\"fFormula\":{\"_typename\":\"TFormula\",\"fUniqueID\":0,\"fBits\":66560,\"fName\":\"f1\",\"fTitle\":\"pol1\",\"fClingParameters\":[6700000,-5900],\"fAllParametersSetted\":true,\"fParams\":[{\"$pair\":\"pair<TString,int,TFormulaParamOrder>\",\"first\":\"p0\",\"second\":0},{\"$pair\":\"pair<TString,int,TFormulaParamOrder>\",\"first\":\"p1\",\"second\":1}],\"fFormula\":\"([p0]+[p1]*x)\",\"fNdim\":1,\"fLinearParts\":[],\"fVectorized\":false},\"fParams\":null,\"fComposition_ptr\":null}],\"opt\":[\"\",\"\",\"same\",\"same\"]},\"fExecs\":null,\"fName\":\"c1\",\"fTitle\":\"c1\",\"fNumPaletteColor\":0,\"fNextPaletteColor\":0,\"fDISPLAY\":\"$DISPLAY\",\"fDoubleBuffer\":0,\"fRetained\":true,\"fXsizeUser\":0,\"fYsizeUser\":0,\"fXsizeReal\":20,\"fYsizeReal\":14.28571,\"fWindowTopX\":0,\"fWindowTopY\":0,\"fWindowWidth\":0,\"fWindowHeight\":0,\"fCw\":696,\"fCh\":472,\"fCatt\":{\"_typename\":\"TAttCanvas\",\"fXBetween\":2,\"fYBetween\":2,\"fTitleFromTop\":1.2,\"fXdate\":0.2,\"fYdate\":0.3,\"fAdate\":1},\"kMoveOpaque\":true,\"kResizeOpaque\":true,\"fHighLightColor\":2,\"fBatch\":true,\"kShowEventStatus\":false,\"kAutoExec\":true,\"kMenuBar\":true});\n",
       "            Core.draw(\"root_plot_1696855327659\", obj, \"\");\n",
       "        }\n",
       "    );\n",
       "}\n",
       "</script>\n"
      ],
      "text/plain": [
       "<IPython.core.display.HTML object>"
      ]
     },
     "metadata": {},
     "output_type": "display_data"
    },
    {
     "name": "stdout",
     "output_type": "stream",
     "text": [
      "count=1.3717e+07 delta_count=5999.15\n",
      "0 peak=961.642 height=3.22749e+06 sigma=13.3421 contribution=1.34924e+07\n"
     ]
    }
   ],
   "source": [
    "e = vector<double> {960};\n",
    "k = -5900; b = 6700e3;                      //线性本底参数\n",
    "fit_left = 900; fit_right = 1000;       //联合拟合范围\n",
    "area_left = 920; area_right = 1000;     //峰面积计算范围\n",
    "area(h[14]);\n",
    "c1->Draw();"
   ]
  },
  {
   "cell_type": "markdown",
   "id": "806c23f3",
   "metadata": {},
   "source": [
    "## $\\alpha_0$ 峰计数"
   ]
  },
  {
   "cell_type": "code",
   "execution_count": 8,
   "id": "725ec76d",
   "metadata": {},
   "outputs": [],
   "source": [
    "int itheta = 0;"
   ]
  },
  {
   "cell_type": "code",
   "execution_count": 9,
   "id": "ebb1393b",
   "metadata": {},
   "outputs": [
    {
     "data": {
      "text/html": [
       "\n",
       "<div id=\"root_plot_1696855327870\"\n",
       "     style=\"width: 696px; height: 472px\">\n",
       "</div>\n",
       "<script>\n",
       "if (typeof require !== 'undefined') {\n",
       "\n",
       "    // All requirements met (we are in jupyter notebooks or we loaded requirejs before).\n",
       "    display_root_plot_1696855327870();\n",
       "\n",
       "} else {\n",
       "\n",
       "    // We are in jupyterlab, we need to insert requirejs and configure it.\n",
       "    // Jupyterlab might be installed in a different base_url so we need to know it.\n",
       "    try {\n",
       "        var base_url = JSON.parse(document.getElementById('jupyter-config-data').innerHTML).baseUrl;\n",
       "    } catch(_) {\n",
       "        var base_url = '/';\n",
       "    }\n",
       "\n",
       "    // Try loading a local version of requirejs and fallback to cdn if not possible.\n",
       "    requirejs_load(base_url + 'static/components/requirejs/require.js', requirejs_success(base_url), function(){\n",
       "        requirejs_load('https://cdnjs.cloudflare.com/ajax/libs/require.js/2.2.0/require.min.js', requirejs_success(base_url), function(){\n",
       "            document.getElementById(\"root_plot_1696855327870\").innerHTML = \"Failed to load requireJs\";\n",
       "        });\n",
       "    });\n",
       "}\n",
       "\n",
       "function requirejs_load(src, on_load, on_error) {\n",
       "    var script = document.createElement('script');\n",
       "    script.src = src;\n",
       "    script.onload = on_load;\n",
       "    script.onerror = on_error;\n",
       "    document.head.appendChild(script);\n",
       "}\n",
       "\n",
       "function requirejs_success(base_url) {\n",
       "    return function() {\n",
       "        require.config({\n",
       "            baseUrl: base_url + 'static/'\n",
       "        });\n",
       "        display_root_plot_1696855327870();\n",
       "    }\n",
       "}\n",
       "\n",
       "function display_root_plot_1696855327870() {\n",
       "    require(['scripts/JSRootCore'],\n",
       "        function(Core) {\n",
       "            var obj = Core.JSONR_unref({\"_typename\":\"TCanvas\",\"fUniqueID\":0,\"fBits\":3342344,\"fLineColor\":1,\"fLineStyle\":1,\"fLineWidth\":1,\"fFillColor\":0,\"fFillStyle\":1001,\"fLeftMargin\":0.1,\"fRightMargin\":0.1,\"fBottomMargin\":0.1,\"fTopMargin\":0.1,\"fXfile\":2,\"fYfile\":2,\"fAfile\":1,\"fXstat\":0.99,\"fYstat\":0.99,\"fAstat\":2,\"fFrameFillColor\":0,\"fFrameLineColor\":1,\"fFrameFillStyle\":1001,\"fFrameLineStyle\":1,\"fFrameLineWidth\":1,\"fFrameBorderSize\":1,\"fFrameBorderMode\":0,\"fX1\":1249.99994412064,\"fY1\":-2452.40643271852,\"fX2\":8750.00005587936,\"fY2\":22071.6564327185,\"fXtoAbsPixelk\":-115.999943085861,\"fXtoPixelk\":-115.999943085861,\"fXtoPixel\":0.0927999986171722,\"fYtoAbsPixelk\":424.800047186661,\"fYtoPixelk\":424.800047186661,\"fYtoPixel\":-0.0192464031180255,\"fUtoAbsPixelk\":5e-5,\"fUtoPixelk\":5e-5,\"fUtoPixel\":696,\"fVtoAbsPixelk\":472.00005,\"fVtoPixelk\":472,\"fVtoPixel\":-472,\"fAbsPixeltoXk\":1249.99994412064,\"fPixeltoXk\":1249.99994412064,\"fPixeltoX\":10.7758622295384,\"fAbsPixeltoYk\":22071.6564327185,\"fPixeltoYk\":-2452.40643271852,\"fPixeltoY\":-51.9577603081293,\"fXlowNDC\":0,\"fYlowNDC\":0,\"fXUpNDC\":1,\"fYUpNDC\":1,\"fWNDC\":1,\"fHNDC\":1,\"fAbsXlowNDC\":0,\"fAbsYlowNDC\":0,\"fAbsWNDC\":1,\"fAbsHNDC\":1,\"fUxmin\":2000,\"fUymin\":0,\"fUxmax\":8000,\"fUymax\":19619.25,\"fTheta\":30,\"fPhi\":30,\"fAspectRatio\":0,\"fNumber\":0,\"fTickx\":0,\"fTicky\":0,\"fLogx\":0,\"fLogy\":0,\"fLogz\":0,\"fPadPaint\":0,\"fCrosshair\":0,\"fCrosshairPos\":0,\"fBorderSize\":2,\"fBorderMode\":0,\"fModified\":false,\"fGridx\":false,\"fGridy\":false,\"fAbsCoord\":false,\"fEditable\":true,\"fFixedAspectRatio\":false,\"fPrimitives\":{\"_typename\":\"TList\",\"name\":\"TList\",\"arr\":[{\"_typename\":\"TFrame\",\"fUniqueID\":0,\"fBits\":8,\"fLineColor\":1,\"fLineStyle\":1,\"fLineWidth\":1,\"fFillColor\":0,\"fFillStyle\":1001,\"fX1\":2000,\"fY1\":0,\"fX2\":8000,\"fY2\":19619.25,\"fBorderSize\":1,\"fBorderMode\":0},{\"_typename\":\"TH1I\",\"fUniqueID\":0,\"fBits\":8,\"fName\":\"hsingle_60deg\",\"fTitle\":\"\",\"fLineColor\":602,\"fLineStyle\":1,\"fLineWidth\":1,\"fFillColor\":0,\"fFillStyle\":1001,\"fMarkerColor\":1,\"fMarkerStyle\":1,\"fMarkerSize\":1,\"fNcells\":1002,\"fXaxis\":{\"_typename\":\"TAxis\",\"fUniqueID\":0,\"fBits\":2048,\"fName\":\"xaxis\",\"fTitle\":\"\",\"fNdivisions\":510,\"fAxisColor\":1,\"fLabelColor\":1,\"fLabelFont\":42,\"fLabelOffset\":0.005,\"fLabelSize\":0.035,\"fTickLength\":0.03,\"fTitleOffset\":1,\"fTitleSize\":0.035,\"fTitleColor\":1,\"fTitleFont\":42,\"fNbins\":1000,\"fXmin\":0,\"fXmax\":8000,\"fXbins\":[],\"fFirst\":251,\"fLast\":1000,\"fBits2\":0,\"fTimeDisplay\":false,\"fTimeFormat\":\"\",\"fLabels\":null,\"fModLabs\":null},\"fYaxis\":{\"_typename\":\"TAxis\",\"fUniqueID\":0,\"fBits\":0,\"fName\":\"yaxis\",\"fTitle\":\"\",\"fNdivisions\":510,\"fAxisColor\":1,\"fLabelColor\":1,\"fLabelFont\":42,\"fLabelOffset\":0.005,\"fLabelSize\":0.035,\"fTickLength\":0.03,\"fTitleOffset\":0,\"fTitleSize\":0.035,\"fTitleColor\":1,\"fTitleFont\":42,\"fNbins\":1,\"fXmin\":0,\"fXmax\":1,\"fXbins\":[],\"fFirst\":0,\"fLast\":0,\"fBits2\":0,\"fTimeDisplay\":false,\"fTimeFormat\":\"\",\"fLabels\":null,\"fModLabs\":null},\"fZaxis\":{\"_typename\":\"TAxis\",\"fUniqueID\":0,\"fBits\":0,\"fName\":\"zaxis\",\"fTitle\":\"\",\"fNdivisions\":510,\"fAxisColor\":1,\"fLabelColor\":1,\"fLabelFont\":42,\"fLabelOffset\":0.005,\"fLabelSize\":0.035,\"fTickLength\":0.03,\"fTitleOffset\":1,\"fTitleSize\":0.035,\"fTitleColor\":1,\"fTitleFont\":42,\"fNbins\":1,\"fXmin\":0,\"fXmax\":1,\"fXbins\":[],\"fFirst\":0,\"fLast\":0,\"fBits2\":0,\"fTimeDisplay\":false,\"fTimeFormat\":\"\",\"fLabels\":null,\"fModLabs\":null},\"fBarOffset\":0,\"fBarWidth\":1000,\"fEntries\":28645681,\"fTsumw\":1073479046.26083,\"fTsumw2\":40227958366.5997,\"fTsumwx\":990422613950.142,\"fTsumwx2\":1.00424299533097e15,\"fMaximum\":-1111,\"fMinimum\":-1111,\"fNormFactor\":0,\"fContour\":[],\"fSumw2\":[],\"fOption\":\"\",\"fFunctions\":{\"_typename\":\"TList\",\"name\":\"TList\",\"arr\":[{\"_typename\":\"TPaveStats\",\"fUniqueID\":0,\"fBits\":9,\"fLineColor\":1,\"fLineStyle\":1,\"fLineWidth\":1,\"fFillColor\":0,\"fFillStyle\":1001,\"fX1\":7100.00015199185,\"fY1\":16553.74243417,\"fX2\":8600.00019669533,\"fY2\":20477.592404935,\"fX1NDC\":0.780000016093254,\"fY1NDC\":0.775000005960464,\"fX2NDC\":0.980000019073486,\"fY2NDC\":0.935000002384186,\"fBorderSize\":1,\"fInit\":1,\"fShadowColor\":1,\"fCornerRadius\":0,\"fOption\":\"brNDC\",\"fName\":\"stats\",\"fTextAngle\":0,\"fTextSize\":0,\"fTextAlign\":12,\"fTextColor\":1,\"fTextFont\":42,\"fLabel\":\"\",\"fLongest\":24,\"fMargin\":0.05,\"fLines\":{\"_typename\":\"TList\",\"name\":\"TList\",\"arr\":[{\"_typename\":\"TLatex\",\"fUniqueID\":0,\"fBits\":0,\"fName\":\"\",\"fTitle\":\"hsingle_60deg\",\"fTextAngle\":0,\"fTextSize\":0.0368,\"fTextAlign\":0,\"fTextColor\":0,\"fTextFont\":0,\"fX\":0,\"fY\":0,\"fLineColor\":1,\"fLineStyle\":1,\"fLineWidth\":2,\"fLimitFactorSize\":3,\"fOriginSize\":0.0368000008165836},{\"_typename\":\"TLatex\",\"fUniqueID\":0,\"fBits\":0,\"fName\":\"\",\"fTitle\":\"Entries =   2.864568e+07\",\"fTextAngle\":0,\"fTextSize\":0,\"fTextAlign\":0,\"fTextColor\":0,\"fTextFont\":0,\"fX\":0,\"fY\":0,\"fLineColor\":1,\"fLineStyle\":1,\"fLineWidth\":2,\"fLimitFactorSize\":3,\"fOriginSize\":0.04},{\"_typename\":\"TLatex\",\"fUniqueID\":0,\"fBits\":0,\"fName\":\"\",\"fTitle\":\"Mean  =   4253\",\"fTextAngle\":0,\"fTextSize\":0,\"fTextAlign\":0,\"fTextColor\":0,\"fTextFont\":0,\"fX\":0,\"fY\":0,\"fLineColor\":1,\"fLineStyle\":1,\"fLineWidth\":2,\"fLimitFactorSize\":3,\"fOriginSize\":0.04},{\"_typename\":\"TLatex\",\"fUniqueID\":0,\"fBits\":0,\"fName\":\"\",\"fTitle\":\"Std Dev   =   1024\",\"fTextAngle\":0,\"fTextSize\":0,\"fTextAlign\":0,\"fTextColor\":0,\"fTextFont\":0,\"fX\":0,\"fY\":0,\"fLineColor\":1,\"fLineStyle\":1,\"fLineWidth\":2,\"fLimitFactorSize\":3,\"fOriginSize\":0.04}],\"opt\":[\"\",\"\",\"\",\"\"]},\"fOptFit\":0,\"fOptStat\":1111,\"fFitFormat\":\"5.4g\",\"fStatFormat\":\"6.4g\",\"fParent\":{\"$ref\":3}}],\"opt\":[\"brNDC\"]},\"fBufferSize\":0,\"fBuffer\":[],\"fBinStatErrOpt\":0,\"fStatOverflows\":2,\"fArray\":[0,0,0,0,0,0,71410,137455,771339,948310,679764,518925,408517,343582,311392,312095,350094,417397,514929,654345,833906,1105005,1443888,1949826,2578752,3324191,4059899,4786986,5307687,5505082,5435337,5109478,4580119,3956373,3368295,2806154,2371774,2003365,1723682,1500794,1338771,1201057,1085284,990712,903836,839567,780959,717393,664372,607725,577015,540459,530580,505309,499870,490102,490916,484848,491878,495393,499204,495208,500018,499981,492174,499759,485699,488622,489584,486402,477485,473452,472897,465719,461649,458541,455692,437636,444000,441262,435860,432271,430347,425500,430865,421652,418470,423502,421763,424279,432012,436711,445813,451955,460206,484478,512672,520627,578310,626040,695267,779738,893550,1035371,1237835,1463498,1803565,2263105,2893622,3813109,5202311,7398298,10890284,16572596,25417187,36629704,47154206,53289990,55311670,55123784,53106322,51557835,54391887,61990059,69152260,67493661,55736245,42004324,31786589,25000271,19994948,16269751,13356519,11084090,9254255,7695445,6385867,5321044,4388940,3572979,2859286,2263956,1742626,1309985,945720,677211,466126,330965,231028,166389,121693,92389,74703,64898,52281,45066,40774,37703,32153,31302,30636,29637,29489,32375,35742,41847,50986,57498,67673,66008,63566,56869,49691,43845,37370,33300,29600,26899,26344,24568,22126,20276,20387,19092,18019,18352,18759,17649,16946,17871,15984,17686,16798,16539,15651,16058,16872,15133,16428,14763,16317,15466,15466,16391,16946,15133,15651,16317,14763,16724,17723,16872,16354,16095,17353,17834,17020,16169,19388,17945,19314,19943,19573,19684,19980,22089,23162,20831,22422,23458,26307,25345,25123,27528,28712,28083,28194,28120,29156,26825,26862,26381,24679,25715,21608,21534,19351,18056,18981,15910,13875,11988,12913,11026,9768,9842,8251,8140,6882,6512,6364,5698,5846,5772,5439,5698,4625,5069,5439,5180,5217,5661,5994,5439,5106,5217,4588,4181,5180,5143,4995,5180,3626,5254,4403,4366,4070,4292,4477,4625,4255,3700,4255,3922,4255,3478,3811,3811,4662,3256,3404,3737,3515,3404,2590,3515,3737,3293,3626,3885,3256,2923,3589,3034,3589,3108,3515,3478,3404,3552,3663,3256,3774,3293,3885,2775,3515,2553,3700,3441,3071,2775,3404,3108,3663,2368,3182,2775,3256,3404,2738,2886,3404,2960,3441,2923,2812,3552,3182,3071,2960,2849,3478,2923,3811,3515,2886,3885,3219,2738,3700,3071,2812,2812,3441,2886,3367,3663,3441,3034,2664,2812,2664,3404,3071,3293,2701,3071,2812,3404,2849,2775,2849,3071,2997,2405,3330,2960,2960,3182,3256,3330,2738,3404,3441,3071,2960,3848,3737,3441,2886,3367,3774,3441,3626,3663,3515,3219,3256,3996,3404,3367,3182,3848,4107,3996,3848,3219,3737,3700,4070,3515,3774,4255,4440,4255,4440,4033,4033,4218,3589,4181,4033,4699,4995,4847,3589,3996,4921,4699,4662,4477,4588,4551,4662,4181,5402,4329,4884,4440,4884,5291,4699,4699,4366,5180,4255,4699,5069,4625,5106,4810,4662,6068,5217,4884,5291,5217,5809,4625,5698,6364,6401,5920,5994,5809,5809,5365,5402,6031,5513,6290,6216,5957,6401,7104,7178,6401,6882,6882,7807,6475,6290,7289,7511,7696,7659,8140,7511,8140,6956,8177,8103,7807,7437,9176,7918,8288,8362,9361,8251,8732,8917,9546,8399,9398,9250,8621,10286,9879,9694,9509,8991,9768,10360,9916,9768,10101,9879,10064,10730,11100,11285,11914,11433,10915,12173,11766,11692,12469,12543,12765,12765,11174,13135,12839,14171,13653,13283,13616,13357,13394,12321,13875,14689,13690,16391,14689,15059,15318,15762,13986,15133,14356,14689,15392,14948,15059,16724,16132,15466,17205,16354,17316,16206,15725,18093,17760,16872,17649,16354,16391,18130,15873,18167,18685,18167,18648,18278,18204,17427,17353,18574,16613,16983,17908,18019,18167,17020,18278,17316,18352,16613,16835,14763,17353,16539,17686,16798,16317,15392,15725,14060,15540,16502,14615,14171,15170,13838,15318,14023,13949,14763,13801,13283,13431,12395,12247,11692,11951,11914,10804,10027,11063,9768,9472,10619,9250,10397,9361,9583,9398,8843,7770,8251,8547,8325,7918,7696,7955,7289,7548,7215,6216,7067,6327,7067,6327,6438,6327,6068,6364,5439,5624,4995,5291,5069,4921,5254,4995,5032,5106,4551,4366,4551,4218,4514,5106,4107,3848,4625,3922,3219,3367,3774,3589,3922,2812,3330,3441,2923,4070,3108,3145,2886,3071,2997,2701,3145,2738,2960,3071,2553,3108,2405,2701,2368,1961,2331,2146,2294,2183,1924,2257,2146,2220,2220,2257,1702,1554,1813,1813,1628,1517,1628,999,1924,1739,1480,1813,1702,1369,1073,1073,1332,1184,1443,1147,1295,962,1369,999,1591,1147,1147,814,1184,999,629,999,740,1073,962,740,740,814,1147,703,444,740,777,851,740,999,518,370,518,740,666,592,481,629,407,481,666,444,666,629,555,481,518,592,370,481,222,370,259,333,407,444,185,518,555,296,444,222,259,407,444,407,370,296,370,185,185,185,296,259,481,222,333,259,296,148,148,111,185,111,148,185,296,111,74,74,222,296,111,111,259,222,185,185,111,74,259,148,148,259,222,222,333,592,666,1221,1628,2072,3293,3922,4514,5439,6290,5735,5883,5365,4255,3996,2405,2590,1702,1739,888,851,814,370,518,481,481,185,74,111,0,111,0,0,37,37,0,0,0,0,0,0,37,0,0,0,0,0,0,0,0,0,0,0,0,0,0,37,0,0,0,0,0,0,0,0,0,0,0,0,0,0,0,37,0,0,0,0,0,0,0,0,0,0,0,0,0,0,0,0,0,0,0,0,0,0,0,0,0,0,0,0,0,0,0,0,0,0,0,0,111,0,0,0,0,0,0,0,0,0,0,0,0,0,0,0,0,0,0,37,0,0,0,0,0,0,0,0,0,0,0,0,0,0,0,0,0,0,0,0,0,0,0,0,0,0,0,0,0,0,0,0]}],\"opt\":[\"\",\"\"]},\"fExecs\":null,\"fName\":\"c1\",\"fTitle\":\"c1\",\"fNumPaletteColor\":0,\"fNextPaletteColor\":0,\"fDISPLAY\":\"$DISPLAY\",\"fDoubleBuffer\":0,\"fRetained\":true,\"fXsizeUser\":0,\"fYsizeUser\":0,\"fXsizeReal\":20,\"fYsizeReal\":14.28571,\"fWindowTopX\":0,\"fWindowTopY\":0,\"fWindowWidth\":0,\"fWindowHeight\":0,\"fCw\":696,\"fCh\":472,\"fCatt\":{\"_typename\":\"TAttCanvas\",\"fXBetween\":2,\"fYBetween\":2,\"fTitleFromTop\":1.2,\"fXdate\":0.2,\"fYdate\":0.3,\"fAdate\":1},\"kMoveOpaque\":true,\"kResizeOpaque\":true,\"fHighLightColor\":2,\"fBatch\":true,\"kShowEventStatus\":false,\"kAutoExec\":true,\"kMenuBar\":true});\n",
       "            Core.draw(\"root_plot_1696855327870\", obj, \"\");\n",
       "        }\n",
       "    );\n",
       "}\n",
       "</script>\n"
      ],
      "text/plain": [
       "<IPython.core.display.HTML object>"
      ]
     },
     "metadata": {},
     "output_type": "display_data"
    },
    {
     "name": "stdout",
     "output_type": "stream",
     "text": [
      "itheta=0\talpha0:69042"
     ]
    }
   ],
   "source": [
    "h[itheta]->GetXaxis()->SetRangeUser(2000,8000);\n",
    "h[itheta]->Draw();\n",
    "c1->Draw();\n",
    "cout<<\"itheta=\"<<itheta<<'\\t'<<\"alpha0:\"<<h[itheta]->Integral(h[itheta]->FindBin(6700),h[itheta]->FindBin(7000));\n",
    "itheta++;"
   ]
  },
  {
   "cell_type": "code",
   "execution_count": 10,
   "id": "19ac3dd5",
   "metadata": {},
   "outputs": [
    {
     "data": {
      "text/html": [
       "\n",
       "<div id=\"root_plot_1696855327975\"\n",
       "     style=\"width: 696px; height: 472px\">\n",
       "</div>\n",
       "<script>\n",
       "if (typeof require !== 'undefined') {\n",
       "\n",
       "    // All requirements met (we are in jupyter notebooks or we loaded requirejs before).\n",
       "    display_root_plot_1696855327975();\n",
       "\n",
       "} else {\n",
       "\n",
       "    // We are in jupyterlab, we need to insert requirejs and configure it.\n",
       "    // Jupyterlab might be installed in a different base_url so we need to know it.\n",
       "    try {\n",
       "        var base_url = JSON.parse(document.getElementById('jupyter-config-data').innerHTML).baseUrl;\n",
       "    } catch(_) {\n",
       "        var base_url = '/';\n",
       "    }\n",
       "\n",
       "    // Try loading a local version of requirejs and fallback to cdn if not possible.\n",
       "    requirejs_load(base_url + 'static/components/requirejs/require.js', requirejs_success(base_url), function(){\n",
       "        requirejs_load('https://cdnjs.cloudflare.com/ajax/libs/require.js/2.2.0/require.min.js', requirejs_success(base_url), function(){\n",
       "            document.getElementById(\"root_plot_1696855327975\").innerHTML = \"Failed to load requireJs\";\n",
       "        });\n",
       "    });\n",
       "}\n",
       "\n",
       "function requirejs_load(src, on_load, on_error) {\n",
       "    var script = document.createElement('script');\n",
       "    script.src = src;\n",
       "    script.onload = on_load;\n",
       "    script.onerror = on_error;\n",
       "    document.head.appendChild(script);\n",
       "}\n",
       "\n",
       "function requirejs_success(base_url) {\n",
       "    return function() {\n",
       "        require.config({\n",
       "            baseUrl: base_url + 'static/'\n",
       "        });\n",
       "        display_root_plot_1696855327975();\n",
       "    }\n",
       "}\n",
       "\n",
       "function display_root_plot_1696855327975() {\n",
       "    require(['scripts/JSRootCore'],\n",
       "        function(Core) {\n",
       "            var obj = Core.JSONR_unref({\"_typename\":\"TCanvas\",\"fUniqueID\":0,\"fBits\":3342344,\"fLineColor\":1,\"fLineStyle\":1,\"fLineWidth\":1,\"fFillColor\":0,\"fFillStyle\":1001,\"fLeftMargin\":0.1,\"fRightMargin\":0.1,\"fBottomMargin\":0.1,\"fTopMargin\":0.1,\"fXfile\":2,\"fYfile\":2,\"fAfile\":1,\"fXstat\":0.99,\"fYstat\":0.99,\"fAstat\":2,\"fFrameFillColor\":0,\"fFrameLineColor\":1,\"fFrameFillStyle\":1001,\"fFrameLineStyle\":1,\"fFrameLineWidth\":1,\"fFrameBorderSize\":1,\"fFrameBorderMode\":0,\"fX1\":1249.99994412064,\"fY1\":-2543.62518951484,\"fX2\":8750.00005587936,\"fY2\":22892.6251895148,\"fXtoAbsPixelk\":-115.999943085861,\"fXtoPixelk\":-115.999943085861,\"fXtoPixel\":0.0927999986171722,\"fYtoAbsPixelk\":424.800047186661,\"fYtoPixelk\":424.800047186661,\"fYtoPixel\":-0.0185561941310787,\"fUtoAbsPixelk\":5e-5,\"fUtoPixelk\":5e-5,\"fUtoPixel\":696,\"fVtoAbsPixelk\":472.00005,\"fVtoPixelk\":472,\"fVtoPixel\":-472,\"fAbsPixeltoXk\":1249.99994412064,\"fPixeltoXk\":1249.99994412064,\"fPixeltoX\":10.7758622295384,\"fAbsPixeltoYk\":22892.6251895148,\"fPixeltoYk\":-2543.62518951484,\"fPixeltoY\":-53.8903609725205,\"fXlowNDC\":0,\"fYlowNDC\":0,\"fXUpNDC\":1,\"fYUpNDC\":1,\"fWNDC\":1,\"fHNDC\":1,\"fAbsXlowNDC\":0,\"fAbsYlowNDC\":0,\"fAbsWNDC\":1,\"fAbsHNDC\":1,\"fUxmin\":2000,\"fUymin\":0,\"fUxmax\":8000,\"fUymax\":20349,\"fTheta\":30,\"fPhi\":30,\"fAspectRatio\":0,\"fNumber\":0,\"fTickx\":0,\"fTicky\":0,\"fLogx\":0,\"fLogy\":0,\"fLogz\":0,\"fPadPaint\":0,\"fCrosshair\":0,\"fCrosshairPos\":0,\"fBorderSize\":2,\"fBorderMode\":0,\"fModified\":false,\"fGridx\":false,\"fGridy\":false,\"fAbsCoord\":false,\"fEditable\":true,\"fFixedAspectRatio\":false,\"fPrimitives\":{\"_typename\":\"TList\",\"name\":\"TList\",\"arr\":[{\"_typename\":\"TFrame\",\"fUniqueID\":0,\"fBits\":8,\"fLineColor\":1,\"fLineStyle\":1,\"fLineWidth\":1,\"fFillColor\":0,\"fFillStyle\":1001,\"fX1\":2000,\"fY1\":0,\"fX2\":8000,\"fY2\":20349,\"fBorderSize\":1,\"fBorderMode\":0},{\"_typename\":\"TH1I\",\"fUniqueID\":0,\"fBits\":8,\"fName\":\"hsingle_65deg\",\"fTitle\":\"\",\"fLineColor\":602,\"fLineStyle\":1,\"fLineWidth\":1,\"fFillColor\":0,\"fFillStyle\":1001,\"fMarkerColor\":1,\"fMarkerStyle\":1,\"fMarkerSize\":1,\"fNcells\":1002,\"fXaxis\":{\"_typename\":\"TAxis\",\"fUniqueID\":0,\"fBits\":2048,\"fName\":\"xaxis\",\"fTitle\":\"\",\"fNdivisions\":510,\"fAxisColor\":1,\"fLabelColor\":1,\"fLabelFont\":42,\"fLabelOffset\":0.005,\"fLabelSize\":0.035,\"fTickLength\":0.03,\"fTitleOffset\":1,\"fTitleSize\":0.035,\"fTitleColor\":1,\"fTitleFont\":42,\"fNbins\":1000,\"fXmin\":0,\"fXmax\":8000,\"fXbins\":[],\"fFirst\":251,\"fLast\":1000,\"fBits2\":0,\"fTimeDisplay\":false,\"fTimeFormat\":\"\",\"fLabels\":null,\"fModLabs\":null},\"fYaxis\":{\"_typename\":\"TAxis\",\"fUniqueID\":0,\"fBits\":0,\"fName\":\"yaxis\",\"fTitle\":\"\",\"fNdivisions\":510,\"fAxisColor\":1,\"fLabelColor\":1,\"fLabelFont\":42,\"fLabelOffset\":0.005,\"fLabelSize\":0.035,\"fTickLength\":0.03,\"fTitleOffset\":0,\"fTitleSize\":0.035,\"fTitleColor\":1,\"fTitleFont\":42,\"fNbins\":1,\"fXmin\":0,\"fXmax\":1,\"fXbins\":[],\"fFirst\":0,\"fLast\":0,\"fBits2\":0,\"fTimeDisplay\":false,\"fTimeFormat\":\"\",\"fLabels\":null,\"fModLabs\":null},\"fZaxis\":{\"_typename\":\"TAxis\",\"fUniqueID\":0,\"fBits\":0,\"fName\":\"zaxis\",\"fTitle\":\"\",\"fNdivisions\":510,\"fAxisColor\":1,\"fLabelColor\":1,\"fLabelFont\":42,\"fLabelOffset\":0.005,\"fLabelSize\":0.035,\"fTickLength\":0.03,\"fTitleOffset\":1,\"fTitleSize\":0.035,\"fTitleColor\":1,\"fTitleFont\":42,\"fNbins\":1,\"fXmin\":0,\"fXmax\":1,\"fXbins\":[],\"fFirst\":0,\"fLast\":0,\"fBits2\":0,\"fTimeDisplay\":false,\"fTimeFormat\":\"\",\"fLabels\":null,\"fModLabs\":null},\"fBarOffset\":0,\"fBarWidth\":1000,\"fEntries\":58378356,\"fTsumw\":895204677.441152,\"fTsumw2\":13727543391.4177,\"fTsumwx\":833192648453.677,\"fTsumwx2\":856479445626619,\"fMaximum\":-1111,\"fMinimum\":-1111,\"fNormFactor\":0,\"fContour\":[],\"fSumw2\":[],\"fOption\":\"\",\"fFunctions\":{\"_typename\":\"TList\",\"name\":\"TList\",\"arr\":[{\"_typename\":\"TPaveStats\",\"fUniqueID\":0,\"fBits\":9,\"fLineColor\":1,\"fLineStyle\":1,\"fLineWidth\":1,\"fFillColor\":0,\"fFillStyle\":1001,\"fX1\":7100.00015199185,\"fY1\":17169.469005845,\"fX2\":8600.00019669533,\"fY2\":21239.2689755227,\"fX1NDC\":0.780000016093254,\"fY1NDC\":0.775000005960464,\"fX2NDC\":0.980000019073486,\"fY2NDC\":0.935000002384186,\"fBorderSize\":1,\"fInit\":1,\"fShadowColor\":1,\"fCornerRadius\":0,\"fOption\":\"brNDC\",\"fName\":\"stats\",\"fTextAngle\":0,\"fTextSize\":0,\"fTextAlign\":12,\"fTextColor\":1,\"fTextFont\":42,\"fLabel\":\"\",\"fLongest\":24,\"fMargin\":0.05,\"fLines\":{\"_typename\":\"TList\",\"name\":\"TList\",\"arr\":[{\"_typename\":\"TLatex\",\"fUniqueID\":0,\"fBits\":0,\"fName\":\"\",\"fTitle\":\"hsingle_65deg\",\"fTextAngle\":0,\"fTextSize\":0.0368,\"fTextAlign\":0,\"fTextColor\":0,\"fTextFont\":0,\"fX\":0,\"fY\":0,\"fLineColor\":1,\"fLineStyle\":1,\"fLineWidth\":2,\"fLimitFactorSize\":3,\"fOriginSize\":0.0368000008165836},{\"_typename\":\"TLatex\",\"fUniqueID\":0,\"fBits\":0,\"fName\":\"\",\"fTitle\":\"Entries =   5.837836e+07\",\"fTextAngle\":0,\"fTextSize\":0,\"fTextAlign\":0,\"fTextColor\":0,\"fTextFont\":0,\"fX\":0,\"fY\":0,\"fLineColor\":1,\"fLineStyle\":1,\"fLineWidth\":2,\"fLimitFactorSize\":3,\"fOriginSize\":0.04},{\"_typename\":\"TLatex\",\"fUniqueID\":0,\"fBits\":0,\"fName\":\"\",\"fTitle\":\"Mean  =   4271\",\"fTextAngle\":0,\"fTextSize\":0,\"fTextAlign\":0,\"fTextColor\":0,\"fTextFont\":0,\"fX\":0,\"fY\":0,\"fLineColor\":1,\"fLineStyle\":1,\"fLineWidth\":2,\"fLimitFactorSize\":3,\"fOriginSize\":0.04},{\"_typename\":\"TLatex\",\"fUniqueID\":0,\"fBits\":0,\"fName\":\"\",\"fTitle\":\"Std Dev   =   1014\",\"fTextAngle\":0,\"fTextSize\":0,\"fTextAlign\":0,\"fTextColor\":0,\"fTextFont\":0,\"fX\":0,\"fY\":0,\"fLineColor\":1,\"fLineStyle\":1,\"fLineWidth\":2,\"fLimitFactorSize\":3,\"fOriginSize\":0.04}],\"opt\":[\"\",\"\",\"\",\"\"]},\"fOptFit\":0,\"fOptStat\":1111,\"fFitFormat\":\"5.4g\",\"fStatFormat\":\"6.4g\",\"fParent\":{\"$ref\":3}}],\"opt\":[\"brNDC\"]},\"fBufferSize\":0,\"fBuffer\":[],\"fBinStatErrOpt\":0,\"fStatOverflows\":2,\"fArray\":[0,0,0,0,0,0,50745,95940,348480,407715,321075,282375,278865,318525,412230,595830,909600,1326450,1811790,2306475,2709510,3000390,3183645,3268890,3241335,3099675,2881965,2572815,2271795,1960845,1690095,1466145,1293240,1151715,1037940,945120,873480,806490,747525,696120,654270,606870,573825,540150,504120,482850,462645,441630,420000,417255,406755,398040,395910,399315,397875,407655,406575,405765,414645,418275,418890,410550,412170,405795,403050,399735,398085,390315,392775,390795,387405,385365,378645,373860,375645,367230,359775,359955,358785,356505,355710,349050,354120,349350,352290,349650,346005,352935,358635,361155,358905,369705,379440,386040,399060,420090,434535,469800,516000,562290,633165,722220,844545,996180,1205805,1485885,1893255,2464665,3299580,4514250,6393030,9409650,14249520,21369255,30290460,38048730,42329385,43433445,43209000,41414130,38861835,38917515,43184760,50252595,55169490,52022505,41963565,31768650,24645300,19687845,16041525,13239030,11027940,9241815,7809060,6555930,5510610,4621890,3851265,3178050,2619990,2159310,1739355,1334880,979320,685815,468060,315660,211890,143145,99390,76185,57405,48270,42120,36795,35145,31170,30720,32055,33675,37740,41055,47850,55170,58290,59640,56010,54270,47385,42960,35130,32160,29145,25440,23880,21630,21120,20415,18915,18885,18600,16755,17160,17160,15660,16215,15210,15285,14205,14115,14625,14205,14865,14685,13950,14700,14220,14280,14085,15045,14985,15330,13980,14550,15615,14940,15210,14475,14985,15420,16035,16410,16620,16725,17340,17475,17610,17880,18690,18480,20760,20400,21090,19935,23730,23280,23775,25770,24915,26970,26700,26715,28095,27900,26640,27660,28095,26580,26130,25470,24945,23850,22560,20760,19695,19620,17415,16350,15120,13005,13215,11625,10755,9855,9000,8880,7980,7755,7245,6825,7005,6210,5955,6240,6015,5970,4935,5265,4890,4575,5175,5160,4740,4875,4590,4965,4380,4665,4665,4395,4230,4485,4245,4590,4290,3570,4365,3660,3225,3660,3690,3630,4005,3360,3480,3675,3480,3405,3510,3930,3165,3255,3690,3735,3720,3420,3180,3555,2775,3525,3690,2820,3315,3540,2790,3330,3390,3435,3105,2670,3075,3210,3105,3345,3030,3435,3285,2910,3270,3180,2910,2985,2970,2850,3045,3030,2820,3105,3045,2715,2820,3240,3360,3225,2655,2985,3225,2625,2865,3090,2820,2790,2730,3195,3165,2760,3060,2835,2910,3390,3060,3000,3240,3000,2985,2865,3390,2970,3075,2670,2970,2985,3240,2955,3165,3090,3090,2745,2700,3225,3030,2910,3390,3195,3405,3030,2910,2940,3165,3075,3015,3255,3120,3405,3465,3525,3510,3090,3555,3405,3615,3300,3660,3240,3795,3525,3330,3570,3450,3390,3840,3780,4080,3585,3780,3930,4185,4305,3465,4185,3630,4080,4005,3855,3855,4155,3630,3810,3870,3720,3960,4140,4395,3885,4335,4305,4485,4440,4725,4935,4410,4890,4290,4500,4305,4965,4875,4725,5025,5385,4995,5070,4890,4725,5355,4935,5340,5475,4920,5385,5295,5670,5805,5430,5610,5340,6165,5235,5520,5715,5595,6330,5700,5730,6240,5970,6585,5865,6225,6000,6165,6585,6420,6900,6540,6885,6945,7080,7110,7095,7350,7380,7965,7845,7695,8010,7920,7695,8400,8235,8295,8415,8385,8790,8880,7770,8850,9420,8940,9315,9210,9555,9285,9105,9225,10380,10320,10545,10455,10590,10800,10515,11190,11265,11085,11580,11265,11595,11520,11520,12135,12345,12750,11760,13140,12915,12375,12720,12060,12660,13815,12945,13650,13200,14685,14895,14535,14085,14805,14850,15105,15015,14595,15615,15555,16020,15390,16200,16320,16050,15705,16395,16410,17655,16905,16020,18180,16830,17040,17100,16665,17685,17175,18735,18660,17985,18585,18555,18165,18885,18450,19200,18945,18540,19170,19155,18375,19230,18960,19380,18210,18360,18660,17895,18375,18795,17910,17820,17475,16845,17325,17850,17280,16470,17745,17430,16515,16215,16080,16230,16815,15615,15525,15735,15270,14220,14475,14670,14190,13080,12885,12705,12720,12495,12990,12690,12645,12750,11805,11010,10890,11475,11100,10425,9705,10230,9540,8985,9855,9075,8880,9990,7860,8370,7830,8295,8235,7605,7260,7545,7515,6645,7080,7320,7170,6510,6870,6465,6225,6120,5430,5595,5610,4695,5460,5100,5010,4890,4860,4920,5205,4050,4650,4305,4560,4305,4335,3750,4185,4185,3660,3540,3885,3750,3600,3375,3120,3825,3195,3450,3300,2985,2670,3090,3315,2715,2550,2745,2685,2835,2430,2670,2985,2625,2445,2460,2775,2205,1995,2085,2250,2475,2130,2115,1995,1890,1935,1845,1590,1860,1755,1620,1500,1935,1530,1440,1545,1470,1605,1305,1245,1350,1290,1065,1155,1110,1110,990,1140,1155,1155,1290,1020,1230,825,1305,990,1065,825,750,870,1080,705,840,915,855,960,855,720,960,735,600,645,630,720,615,720,660,585,750,570,585,585,660,690,525,615,540,315,420,465,630,450,405,465,375,390,345,360,570,420,480,450,435,540,360,300,375,435,315,300,255,345,345,240,300,195,300,165,180,195,180,165,135,165,225,150,180,150,210,240,105,150,225,195,240,210,255,225,360,495,420,510,645,945,1215,1905,2445,3105,3825,4650,5025,5325,5685,6435,5595,5355,4665,4020,3525,2640,2535,2160,1890,1245,945,1020,885,570,840,660,480,285,465,315,360,135,90,150,135,105,15,60,30,15,0,0,0,0,0,15,15,15,0,0,0,0,0,0,0,0,0,0,0,0,0,0,0,15,15,0,0,15,0,15,0,0,0,0,0,0,0,0,0,0,0,0,0,15,0,0,15,0,0,0,0,15,0,0,0,0,0,0,0,0,0,15,45,0,0,15,30,45,30,0,0,15,15,30,15,0,0,15,0,15,15,15,0,0,15,30,0,30,0,15,45,0,0,15,0,15,0,0,0,0,0,0,0,0,0,0,15,0,0,0,0,0,0,0,0,0,0,0,0,0,0,0,0,0,0,0]}],\"opt\":[\"\",\"\"]},\"fExecs\":null,\"fName\":\"c1\",\"fTitle\":\"c1\",\"fNumPaletteColor\":0,\"fNextPaletteColor\":0,\"fDISPLAY\":\"$DISPLAY\",\"fDoubleBuffer\":0,\"fRetained\":true,\"fXsizeUser\":0,\"fYsizeUser\":0,\"fXsizeReal\":20,\"fYsizeReal\":14.28571,\"fWindowTopX\":0,\"fWindowTopY\":0,\"fWindowWidth\":0,\"fWindowHeight\":0,\"fCw\":696,\"fCh\":472,\"fCatt\":{\"_typename\":\"TAttCanvas\",\"fXBetween\":2,\"fYBetween\":2,\"fTitleFromTop\":1.2,\"fXdate\":0.2,\"fYdate\":0.3,\"fAdate\":1},\"kMoveOpaque\":true,\"kResizeOpaque\":true,\"fHighLightColor\":2,\"fBatch\":true,\"kShowEventStatus\":false,\"kAutoExec\":true,\"kMenuBar\":true});\n",
       "            Core.draw(\"root_plot_1696855327975\", obj, \"\");\n",
       "        }\n",
       "    );\n",
       "}\n",
       "</script>\n"
      ],
      "text/plain": [
       "<IPython.core.display.HTML object>"
      ]
     },
     "metadata": {},
     "output_type": "display_data"
    },
    {
     "name": "stdout",
     "output_type": "stream",
     "text": [
      "itheta=1\talpha0:85110"
     ]
    }
   ],
   "source": [
    "h[itheta]->GetXaxis()->SetRangeUser(2000,8000);\n",
    "h[itheta]->Draw();\n",
    "c1->Draw();\n",
    "cout<<\"itheta=\"<<itheta<<'\\t'<<\"alpha0:\"<<h[itheta]->Integral(h[itheta]->FindBin(6600),h[itheta]->FindBin(7000));\n",
    "itheta++;"
   ]
  },
  {
   "cell_type": "code",
   "execution_count": 11,
   "id": "f6345b90",
   "metadata": {},
   "outputs": [
    {
     "data": {
      "text/html": [
       "\n",
       "<div id=\"root_plot_1696855328081\"\n",
       "     style=\"width: 696px; height: 472px\">\n",
       "</div>\n",
       "<script>\n",
       "if (typeof require !== 'undefined') {\n",
       "\n",
       "    // All requirements met (we are in jupyter notebooks or we loaded requirejs before).\n",
       "    display_root_plot_1696855328081();\n",
       "\n",
       "} else {\n",
       "\n",
       "    // We are in jupyterlab, we need to insert requirejs and configure it.\n",
       "    // Jupyterlab might be installed in a different base_url so we need to know it.\n",
       "    try {\n",
       "        var base_url = JSON.parse(document.getElementById('jupyter-config-data').innerHTML).baseUrl;\n",
       "    } catch(_) {\n",
       "        var base_url = '/';\n",
       "    }\n",
       "\n",
       "    // Try loading a local version of requirejs and fallback to cdn if not possible.\n",
       "    requirejs_load(base_url + 'static/components/requirejs/require.js', requirejs_success(base_url), function(){\n",
       "        requirejs_load('https://cdnjs.cloudflare.com/ajax/libs/require.js/2.2.0/require.min.js', requirejs_success(base_url), function(){\n",
       "            document.getElementById(\"root_plot_1696855328081\").innerHTML = \"Failed to load requireJs\";\n",
       "        });\n",
       "    });\n",
       "}\n",
       "\n",
       "function requirejs_load(src, on_load, on_error) {\n",
       "    var script = document.createElement('script');\n",
       "    script.src = src;\n",
       "    script.onload = on_load;\n",
       "    script.onerror = on_error;\n",
       "    document.head.appendChild(script);\n",
       "}\n",
       "\n",
       "function requirejs_success(base_url) {\n",
       "    return function() {\n",
       "        require.config({\n",
       "            baseUrl: base_url + 'static/'\n",
       "        });\n",
       "        display_root_plot_1696855328081();\n",
       "    }\n",
       "}\n",
       "\n",
       "function display_root_plot_1696855328081() {\n",
       "    require(['scripts/JSRootCore'],\n",
       "        function(Core) {\n",
       "            var obj = Core.JSONR_unref({\"_typename\":\"TCanvas\",\"fUniqueID\":0,\"fBits\":3342344,\"fLineColor\":1,\"fLineStyle\":1,\"fLineWidth\":1,\"fFillColor\":0,\"fFillStyle\":1001,\"fLeftMargin\":0.1,\"fRightMargin\":0.1,\"fBottomMargin\":0.1,\"fTopMargin\":0.1,\"fXfile\":2,\"fYfile\":2,\"fAfile\":1,\"fXstat\":0.99,\"fYstat\":0.99,\"fAstat\":2,\"fFrameFillColor\":0,\"fFrameLineColor\":1,\"fFrameFillStyle\":1001,\"fFrameLineStyle\":1,\"fFrameLineWidth\":1,\"fFrameBorderSize\":1,\"fFrameBorderMode\":0,\"fX1\":1249.99994412064,\"fY1\":-2566.98769125548,\"fX2\":8750.00005587936,\"fY2\":23102.8876912555,\"fXtoAbsPixelk\":-115.999943085861,\"fXtoPixelk\":-115.999943085861,\"fXtoPixel\":0.0927999986171722,\"fYtoAbsPixelk\":424.800047186661,\"fYtoPixelk\":424.800047186661,\"fYtoPixel\":-0.0183873117016211,\"fUtoAbsPixelk\":5e-5,\"fUtoPixelk\":5e-5,\"fUtoPixel\":696,\"fVtoAbsPixelk\":472.00005,\"fVtoPixelk\":472,\"fVtoPixel\":-472,\"fAbsPixeltoXk\":1249.99994412064,\"fPixeltoXk\":1249.99994412064,\"fPixeltoX\":10.7758622295384,\"fAbsPixeltoYk\":23102.8876912555,\"fPixeltoYk\":-2566.98769125548,\"fPixeltoY\":-54.3853292002351,\"fXlowNDC\":0,\"fYlowNDC\":0,\"fXUpNDC\":1,\"fYUpNDC\":1,\"fWNDC\":1,\"fHNDC\":1,\"fAbsXlowNDC\":0,\"fAbsYlowNDC\":0,\"fAbsWNDC\":1,\"fAbsHNDC\":1,\"fUxmin\":2000,\"fUymin\":0,\"fUxmax\":8000,\"fUymax\":20535.9,\"fTheta\":30,\"fPhi\":30,\"fAspectRatio\":0,\"fNumber\":0,\"fTickx\":0,\"fTicky\":0,\"fLogx\":0,\"fLogy\":0,\"fLogz\":0,\"fPadPaint\":0,\"fCrosshair\":0,\"fCrosshairPos\":0,\"fBorderSize\":2,\"fBorderMode\":0,\"fModified\":false,\"fGridx\":false,\"fGridy\":false,\"fAbsCoord\":false,\"fEditable\":true,\"fFixedAspectRatio\":false,\"fPrimitives\":{\"_typename\":\"TList\",\"name\":\"TList\",\"arr\":[{\"_typename\":\"TFrame\",\"fUniqueID\":0,\"fBits\":8,\"fLineColor\":1,\"fLineStyle\":1,\"fLineWidth\":1,\"fFillColor\":0,\"fFillStyle\":1001,\"fX1\":2000,\"fY1\":0,\"fX2\":8000,\"fY2\":20535.9,\"fBorderSize\":1,\"fBorderMode\":0},{\"_typename\":\"TH1I\",\"fUniqueID\":0,\"fBits\":8,\"fName\":\"hsingle_70deg\",\"fTitle\":\"\",\"fLineColor\":602,\"fLineStyle\":1,\"fLineWidth\":1,\"fFillColor\":0,\"fFillStyle\":1001,\"fMarkerColor\":1,\"fMarkerStyle\":1,\"fMarkerSize\":1,\"fNcells\":1002,\"fXaxis\":{\"_typename\":\"TAxis\",\"fUniqueID\":0,\"fBits\":2048,\"fName\":\"xaxis\",\"fTitle\":\"\",\"fNdivisions\":510,\"fAxisColor\":1,\"fLabelColor\":1,\"fLabelFont\":42,\"fLabelOffset\":0.005,\"fLabelSize\":0.035,\"fTickLength\":0.03,\"fTitleOffset\":1,\"fTitleSize\":0.035,\"fTitleColor\":1,\"fTitleFont\":42,\"fNbins\":1000,\"fXmin\":0,\"fXmax\":8000,\"fXbins\":[],\"fFirst\":251,\"fLast\":1000,\"fBits2\":0,\"fTimeDisplay\":false,\"fTimeFormat\":\"\",\"fLabels\":null,\"fModLabs\":null},\"fYaxis\":{\"_typename\":\"TAxis\",\"fUniqueID\":0,\"fBits\":0,\"fName\":\"yaxis\",\"fTitle\":\"\",\"fNdivisions\":510,\"fAxisColor\":1,\"fLabelColor\":1,\"fLabelFont\":42,\"fLabelOffset\":0.005,\"fLabelSize\":0.035,\"fTickLength\":0.03,\"fTitleOffset\":0,\"fTitleSize\":0.035,\"fTitleColor\":1,\"fTitleFont\":42,\"fNbins\":1,\"fXmin\":0,\"fXmax\":1,\"fXbins\":[],\"fFirst\":0,\"fLast\":0,\"fBits2\":0,\"fTimeDisplay\":false,\"fTimeFormat\":\"\",\"fLabels\":null,\"fModLabs\":null},\"fZaxis\":{\"_typename\":\"TAxis\",\"fUniqueID\":0,\"fBits\":0,\"fName\":\"zaxis\",\"fTitle\":\"\",\"fNdivisions\":510,\"fAxisColor\":1,\"fLabelColor\":1,\"fLabelFont\":42,\"fLabelOffset\":0.005,\"fLabelSize\":0.035,\"fTickLength\":0.03,\"fTitleOffset\":1,\"fTitleSize\":0.035,\"fTitleColor\":1,\"fTitleFont\":42,\"fNbins\":1,\"fXmin\":0,\"fXmax\":1,\"fXbins\":[],\"fFirst\":0,\"fLast\":0,\"fBits2\":0,\"fTimeDisplay\":false,\"fTimeFormat\":\"\",\"fLabels\":null,\"fModLabs\":null},\"fBarOffset\":0,\"fBarWidth\":1000,\"fEntries\":46667383,\"fTsumw\":658264282.358254,\"fTsumw2\":9285111733.94792,\"fTsumwx\":628949198958.237,\"fTsumwx2\":655577344435222,\"fMaximum\":-1111,\"fMinimum\":-1111,\"fNormFactor\":0,\"fContour\":[],\"fSumw2\":[],\"fOption\":\"\",\"fFunctions\":{\"_typename\":\"TList\",\"name\":\"TList\",\"arr\":[{\"_typename\":\"TPaveStats\",\"fUniqueID\":0,\"fBits\":9,\"fLineColor\":1,\"fLineStyle\":1,\"fLineWidth\":1,\"fFillColor\":0,\"fFillStyle\":1001,\"fX1\":7100.00015199185,\"fY1\":17327.1658831949,\"fX2\":8600.00019669533,\"fY2\":21434.345852594,\"fX1NDC\":0.780000016093254,\"fY1NDC\":0.775000005960464,\"fX2NDC\":0.980000019073486,\"fY2NDC\":0.935000002384186,\"fBorderSize\":1,\"fInit\":1,\"fShadowColor\":1,\"fCornerRadius\":0,\"fOption\":\"brNDC\",\"fName\":\"stats\",\"fTextAngle\":0,\"fTextSize\":0,\"fTextAlign\":12,\"fTextColor\":1,\"fTextFont\":42,\"fLabel\":\"\",\"fLongest\":24,\"fMargin\":0.05,\"fLines\":{\"_typename\":\"TList\",\"name\":\"TList\",\"arr\":[{\"_typename\":\"TLatex\",\"fUniqueID\":0,\"fBits\":0,\"fName\":\"\",\"fTitle\":\"hsingle_70deg\",\"fTextAngle\":0,\"fTextSize\":0.0368,\"fTextAlign\":0,\"fTextColor\":0,\"fTextFont\":0,\"fX\":0,\"fY\":0,\"fLineColor\":1,\"fLineStyle\":1,\"fLineWidth\":2,\"fLimitFactorSize\":3,\"fOriginSize\":0.0368000008165836},{\"_typename\":\"TLatex\",\"fUniqueID\":0,\"fBits\":0,\"fName\":\"\",\"fTitle\":\"Entries =   4.666738e+07\",\"fTextAngle\":0,\"fTextSize\":0,\"fTextAlign\":0,\"fTextColor\":0,\"fTextFont\":0,\"fX\":0,\"fY\":0,\"fLineColor\":1,\"fLineStyle\":1,\"fLineWidth\":2,\"fLimitFactorSize\":3,\"fOriginSize\":0.04},{\"_typename\":\"TLatex\",\"fUniqueID\":0,\"fBits\":0,\"fName\":\"\",\"fTitle\":\"Mean  =   4248\",\"fTextAngle\":0,\"fTextSize\":0,\"fTextAlign\":0,\"fTextColor\":0,\"fTextFont\":0,\"fX\":0,\"fY\":0,\"fLineColor\":1,\"fLineStyle\":1,\"fLineWidth\":2,\"fLimitFactorSize\":3,\"fOriginSize\":0.04},{\"_typename\":\"TLatex\",\"fUniqueID\":0,\"fBits\":0,\"fName\":\"\",\"fTitle\":\"Std Dev   =  973.5\",\"fTextAngle\":0,\"fTextSize\":0,\"fTextAlign\":0,\"fTextColor\":0,\"fTextFont\":0,\"fX\":0,\"fY\":0,\"fLineColor\":1,\"fLineStyle\":1,\"fLineWidth\":2,\"fLimitFactorSize\":3,\"fOriginSize\":0.04}],\"opt\":[\"\",\"\",\"\",\"\"]},\"fOptFit\":0,\"fOptStat\":1111,\"fFitFormat\":\"5.4g\",\"fStatFormat\":\"6.4g\",\"fParent\":{\"$ref\":3}}],\"opt\":[\"brNDC\"]},\"fBufferSize\":0,\"fBuffer\":[],\"fBinStatErrOpt\":0,\"fStatOverflows\":2,\"fArray\":[0,0,0,0,0,0,31724,56840,317758,390320,288050,219198,193284,192150,213262,263676,335160,398580,429170,439166,427616,414498,391734,387156,378770,376824,367458,364252,362698,362180,359142,359744,353360,353878,352464,348600,342972,338926,336602,330526,329336,326634,322182,321286,317786,317366,319424,316526,317968,324086,322840,329322,330288,335818,338380,337736,339220,334250,327852,328300,322000,319340,314034,312144,305032,308042,305340,301602,295316,298158,296912,288778,289814,286020,284886,280378,280756,276696,272566,276766,272762,273238,275002,271726,274176,275128,277858,282394,285054,290724,296576,300622,307594,321818,342356,364224,395276,434756,492296,554750,634858,749238,903434,1105762,1398348,1805734,2398158,3275692,4601044,6703886,9998002,14920066,21336070,27634096,31549574,32302536,31927896,31285870,29185380,26434632,25524422,27405504,31974908,37614486,40119492,36034684,28045416,21098098,16439276,13150676,10711638,8816906,7318024,6073802,5092150,4247894,3565450,2990862,2506238,2093742,1745492,1434286,1123094,830718,578116,381374,246092,162302,108458,76286,55902,45052,37016,34776,33334,35504,37030,40950,45780,50974,57176,55972,53760,49854,44632,40194,34412,29274,27958,24528,21476,20146,19992,17752,16604,16450,15302,15484,14504,13426,14042,13734,13258,12796,12278,12586,11844,12726,12880,12348,11704,12236,12418,12558,11900,10990,12236,12152,12446,11564,11970,11704,12138,12502,12320,13006,12656,13188,12600,12670,12894,13972,13132,14252,14042,14924,14952,15344,15316,15624,16702,17318,17514,18102,18186,18606,19278,19432,19726,19880,19810,20804,20580,20440,20090,19306,20888,19502,18690,17108,16968,16268,15680,14532,14028,13902,12754,11984,10906,10500,9800,9422,8330,8162,7952,7672,6706,6860,6636,6188,5796,5782,5978,5558,5488,5082,4984,4732,4914,4928,4326,4620,4592,4704,4312,4368,4242,4480,4298,4032,4004,4018,4550,3360,3752,3654,3332,3948,3724,3682,3346,3458,3262,3318,3514,3402,3458,3486,3108,3598,3192,3192,3430,3178,3276,3206,3332,3360,2842,3528,3402,3696,2954,2842,3234,2814,3178,3094,3262,2660,2814,3038,3332,2912,2716,3010,2954,2870,2786,2450,3066,2590,2800,2744,3332,2996,2800,2982,2968,2576,3164,2674,3024,2870,2884,2842,2968,2968,2884,2786,3010,2870,3052,3080,2492,2618,2982,2996,3192,2632,2450,3024,2884,2786,2884,2478,2898,2758,2996,3080,3430,3164,3234,3136,2828,2996,2856,3024,2982,2954,2730,3136,3122,2996,2982,2814,3206,3570,3654,2982,3080,3122,3654,3262,3248,3304,3584,3276,3164,3934,3486,3682,3948,3360,3598,3234,3430,3906,3752,3276,3724,4116,3920,3780,3738,3836,3612,4536,3976,3626,3808,3682,3766,4060,3528,4396,4424,4242,4270,4424,4382,4648,4018,4032,4494,4564,4592,4424,4564,5320,4662,4774,4788,5418,4676,4942,4816,5166,5124,5082,5432,5292,5362,5194,5726,5362,5068,5684,4802,5670,5432,5810,5922,5782,5866,6244,5992,6244,5852,6244,6076,6594,6496,6328,6076,6552,6468,6944,6888,7532,7700,7014,8204,7168,7294,7322,7770,7630,7420,7924,8540,8190,8638,8162,8260,8344,7938,8288,8386,8638,8792,9142,9156,9268,8708,9604,8694,9926,10304,9968,9786,10388,9856,10738,10192,10626,11536,11144,11004,10920,11788,11060,11550,12124,11774,12012,11410,12894,12446,12600,12894,12502,12516,13076,13930,13706,13804,14056,13566,14476,14392,14868,14532,15274,15288,15106,15834,16128,14812,16296,14658,15218,15764,16296,17094,16758,16534,16408,17850,16688,17724,18102,17808,16660,17640,18242,17766,18508,18774,18886,18550,18606,18522,18648,18536,19390,18760,18844,18998,18564,18382,18508,19558,18676,18760,18578,19040,18564,18004,18648,19096,17724,17360,17710,18158,17794,17906,16940,16758,16912,16506,16016,16254,15582,15834,15078,16044,16198,14294,14000,13650,14742,13566,13328,12852,12838,12950,12320,12068,12278,12082,11410,12628,11396,11536,10654,10192,9618,9814,10066,9212,8736,9422,9240,8610,8862,7896,7882,8232,7784,7294,7700,7406,6930,7420,6552,6762,6230,6272,6034,6440,6160,5502,6132,5544,5446,5838,5712,4984,4942,4550,4900,5054,4130,4942,4368,4592,4102,3920,4018,4214,3878,3962,4312,3528,3766,3570,3570,3850,3374,3192,3010,3234,3066,2954,3416,3108,2688,2688,2744,2520,2772,2716,2618,2324,2604,2548,2352,2086,2156,2184,1750,2478,1876,1792,2086,2030,2184,1904,2100,1932,1862,1960,2016,1694,1764,1582,1722,1372,1358,1750,1638,1372,1078,1260,1456,1204,1148,938,1232,1260,980,1120,1162,1050,952,1190,840,1064,980,1022,966,896,938,742,798,798,938,728,868,882,714,868,686,700,658,826,798,644,602,672,504,532,700,616,588,700,378,588,532,560,728,462,616,434,364,476,462,462,504,462,420,350,448,392,406,336,322,322,322,392,406,308,154,224,336,266,280,252,168,168,294,210,224,252,112,196,140,126,140,126,70,140,182,182,294,294,154,294,294,364,602,364,504,602,1134,1568,2016,2058,2814,3122,3766,4158,4914,4816,5152,5152,5068,4816,4900,4018,3080,2898,2100,1848,1764,1232,1134,1008,868,714,546,602,392,280,322,238,266,196,126,210,112,84,70,28,28,14,28,0,28,14,0,0,14,0,0,0,0,0,0,0,14,28,0,0,0,0,0,28,0,0,0,0,0,0,0,0,0,0,0,0,0,0,0,0,0,0,0,0,14,0,0,0,0,0,0,0,0,0,0,0,0,0,0,0,0,0,0,0,0,0,0,14,0,0,14,28,14,0,56,42,28,14,0,0,0,0,14,28,14,0,0,0,28,0,14,0,0,0,0,0,0,0,0,0,0,0,0,0,14,0,0,0,0,0,0,0,0,0,0,0,0,0,0,0,0,0,0,0,0,0,0,0,0,0,0,0,0,0,0,0,0]}],\"opt\":[\"\",\"\"]},\"fExecs\":null,\"fName\":\"c1\",\"fTitle\":\"c1\",\"fNumPaletteColor\":0,\"fNextPaletteColor\":0,\"fDISPLAY\":\"$DISPLAY\",\"fDoubleBuffer\":0,\"fRetained\":true,\"fXsizeUser\":0,\"fYsizeUser\":0,\"fXsizeReal\":20,\"fYsizeReal\":14.28571,\"fWindowTopX\":0,\"fWindowTopY\":0,\"fWindowWidth\":0,\"fWindowHeight\":0,\"fCw\":696,\"fCh\":472,\"fCatt\":{\"_typename\":\"TAttCanvas\",\"fXBetween\":2,\"fYBetween\":2,\"fTitleFromTop\":1.2,\"fXdate\":0.2,\"fYdate\":0.3,\"fAdate\":1},\"kMoveOpaque\":true,\"kResizeOpaque\":true,\"fHighLightColor\":2,\"fBatch\":true,\"kShowEventStatus\":false,\"kAutoExec\":true,\"kMenuBar\":true});\n",
       "            Core.draw(\"root_plot_1696855328081\", obj, \"\");\n",
       "        }\n",
       "    );\n",
       "}\n",
       "</script>\n"
      ],
      "text/plain": [
       "<IPython.core.display.HTML object>"
      ]
     },
     "metadata": {},
     "output_type": "display_data"
    },
    {
     "name": "stdout",
     "output_type": "stream",
     "text": [
      "itheta=2\talpha0:82292"
     ]
    }
   ],
   "source": [
    "h[itheta]->GetXaxis()->SetRangeUser(2000,8000);\n",
    "h[itheta]->Draw();\n",
    "c1->Draw();\n",
    "cout<<\"itheta=\"<<itheta<<'\\t'<<\"alpha0:\"<<h[itheta]->Integral(h[itheta]->FindBin(6550),h[itheta]->FindBin(6900));\n",
    "itheta++;"
   ]
  },
  {
   "cell_type": "code",
   "execution_count": 12,
   "id": "7a833ece",
   "metadata": {},
   "outputs": [
    {
     "data": {
      "text/html": [
       "\n",
       "<div id=\"root_plot_1696855328186\"\n",
       "     style=\"width: 696px; height: 472px\">\n",
       "</div>\n",
       "<script>\n",
       "if (typeof require !== 'undefined') {\n",
       "\n",
       "    // All requirements met (we are in jupyter notebooks or we loaded requirejs before).\n",
       "    display_root_plot_1696855328186();\n",
       "\n",
       "} else {\n",
       "\n",
       "    // We are in jupyterlab, we need to insert requirejs and configure it.\n",
       "    // Jupyterlab might be installed in a different base_url so we need to know it.\n",
       "    try {\n",
       "        var base_url = JSON.parse(document.getElementById('jupyter-config-data').innerHTML).baseUrl;\n",
       "    } catch(_) {\n",
       "        var base_url = '/';\n",
       "    }\n",
       "\n",
       "    // Try loading a local version of requirejs and fallback to cdn if not possible.\n",
       "    requirejs_load(base_url + 'static/components/requirejs/require.js', requirejs_success(base_url), function(){\n",
       "        requirejs_load('https://cdnjs.cloudflare.com/ajax/libs/require.js/2.2.0/require.min.js', requirejs_success(base_url), function(){\n",
       "            document.getElementById(\"root_plot_1696855328186\").innerHTML = \"Failed to load requireJs\";\n",
       "        });\n",
       "    });\n",
       "}\n",
       "\n",
       "function requirejs_load(src, on_load, on_error) {\n",
       "    var script = document.createElement('script');\n",
       "    script.src = src;\n",
       "    script.onload = on_load;\n",
       "    script.onerror = on_error;\n",
       "    document.head.appendChild(script);\n",
       "}\n",
       "\n",
       "function requirejs_success(base_url) {\n",
       "    return function() {\n",
       "        require.config({\n",
       "            baseUrl: base_url + 'static/'\n",
       "        });\n",
       "        display_root_plot_1696855328186();\n",
       "    }\n",
       "}\n",
       "\n",
       "function display_root_plot_1696855328186() {\n",
       "    require(['scripts/JSRootCore'],\n",
       "        function(Core) {\n",
       "            var obj = Core.JSONR_unref({\"_typename\":\"TCanvas\",\"fUniqueID\":0,\"fBits\":3342344,\"fLineColor\":1,\"fLineStyle\":1,\"fLineWidth\":1,\"fFillColor\":0,\"fFillStyle\":1001,\"fLeftMargin\":0.1,\"fRightMargin\":0.1,\"fBottomMargin\":0.1,\"fTopMargin\":0.1,\"fXfile\":2,\"fYfile\":2,\"fAfile\":1,\"fXstat\":0.99,\"fYstat\":0.99,\"fAstat\":2,\"fFrameFillColor\":0,\"fFrameLineColor\":1,\"fFrameFillStyle\":1001,\"fFrameLineStyle\":1,\"fFrameLineWidth\":1,\"fFrameBorderSize\":1,\"fFrameBorderMode\":0,\"fX1\":1249.99994412064,\"fY1\":-2701.12520124951,\"fX2\":8750.00005587936,\"fY2\":24310.1252012495,\"fXtoAbsPixelk\":-115.999943085861,\"fXtoPixelk\":-115.999943085861,\"fXtoPixel\":0.0927999986171722,\"fYtoAbsPixelk\":424.800047186661,\"fYtoPixelk\":424.800047186661,\"fYtoPixel\":-0.0174742003041937,\"fUtoAbsPixelk\":5e-5,\"fUtoPixelk\":5e-5,\"fUtoPixel\":696,\"fVtoAbsPixelk\":472.00005,\"fVtoPixelk\":472,\"fVtoPixel\":-472,\"fAbsPixeltoXk\":1249.99994412064,\"fPixeltoXk\":1249.99994412064,\"fPixeltoX\":10.7758622295384,\"fAbsPixeltoYk\":24310.1252012495,\"fPixeltoYk\":-2701.12520124951,\"fPixeltoY\":-57.2272254290233,\"fXlowNDC\":0,\"fYlowNDC\":0,\"fXUpNDC\":1,\"fYUpNDC\":1,\"fWNDC\":1,\"fHNDC\":1,\"fAbsXlowNDC\":0,\"fAbsYlowNDC\":0,\"fAbsWNDC\":1,\"fAbsHNDC\":1,\"fUxmin\":2000,\"fUymin\":0,\"fUxmax\":8000,\"fUymax\":21609,\"fTheta\":30,\"fPhi\":30,\"fAspectRatio\":0,\"fNumber\":0,\"fTickx\":0,\"fTicky\":0,\"fLogx\":0,\"fLogy\":0,\"fLogz\":0,\"fPadPaint\":0,\"fCrosshair\":0,\"fCrosshairPos\":0,\"fBorderSize\":2,\"fBorderMode\":0,\"fModified\":false,\"fGridx\":false,\"fGridy\":false,\"fAbsCoord\":false,\"fEditable\":true,\"fFixedAspectRatio\":false,\"fPrimitives\":{\"_typename\":\"TList\",\"name\":\"TList\",\"arr\":[{\"_typename\":\"TFrame\",\"fUniqueID\":0,\"fBits\":8,\"fLineColor\":1,\"fLineStyle\":1,\"fLineWidth\":1,\"fFillColor\":0,\"fFillStyle\":1001,\"fX1\":2000,\"fY1\":0,\"fX2\":8000,\"fY2\":21609,\"fBorderSize\":1,\"fBorderMode\":0},{\"_typename\":\"TH1I\",\"fUniqueID\":0,\"fBits\":8,\"fName\":\"hsingle_75deg\",\"fTitle\":\"\",\"fLineColor\":602,\"fLineStyle\":1,\"fLineWidth\":1,\"fFillColor\":0,\"fFillStyle\":1001,\"fMarkerColor\":1,\"fMarkerStyle\":1,\"fMarkerSize\":1,\"fNcells\":1002,\"fXaxis\":{\"_typename\":\"TAxis\",\"fUniqueID\":0,\"fBits\":2048,\"fName\":\"xaxis\",\"fTitle\":\"\",\"fNdivisions\":510,\"fAxisColor\":1,\"fLabelColor\":1,\"fLabelFont\":42,\"fLabelOffset\":0.005,\"fLabelSize\":0.035,\"fTickLength\":0.03,\"fTitleOffset\":1,\"fTitleSize\":0.035,\"fTitleColor\":1,\"fTitleFont\":42,\"fNbins\":1000,\"fXmin\":0,\"fXmax\":8000,\"fXbins\":[],\"fFirst\":251,\"fLast\":1000,\"fBits2\":0,\"fTimeDisplay\":false,\"fTimeFormat\":\"\",\"fLabels\":null,\"fModLabs\":null},\"fYaxis\":{\"_typename\":\"TAxis\",\"fUniqueID\":0,\"fBits\":0,\"fName\":\"yaxis\",\"fTitle\":\"\",\"fNdivisions\":510,\"fAxisColor\":1,\"fLabelColor\":1,\"fLabelFont\":42,\"fLabelOffset\":0.005,\"fLabelSize\":0.035,\"fTickLength\":0.03,\"fTitleOffset\":0,\"fTitleSize\":0.035,\"fTitleColor\":1,\"fTitleFont\":42,\"fNbins\":1,\"fXmin\":0,\"fXmax\":1,\"fXbins\":[],\"fFirst\":0,\"fLast\":0,\"fBits2\":0,\"fTimeDisplay\":false,\"fTimeFormat\":\"\",\"fLabels\":null,\"fModLabs\":null},\"fZaxis\":{\"_typename\":\"TAxis\",\"fUniqueID\":0,\"fBits\":0,\"fName\":\"zaxis\",\"fTitle\":\"\",\"fNdivisions\":510,\"fAxisColor\":1,\"fLabelColor\":1,\"fLabelFont\":42,\"fLabelOffset\":0.005,\"fLabelSize\":0.035,\"fTickLength\":0.03,\"fTitleOffset\":1,\"fTitleSize\":0.035,\"fTitleColor\":1,\"fTitleFont\":42,\"fNbins\":1,\"fXmin\":0,\"fXmax\":1,\"fXbins\":[],\"fFirst\":0,\"fLast\":0,\"fBits2\":0,\"fTimeDisplay\":false,\"fTimeFormat\":\"\",\"fLabels\":null,\"fModLabs\":null},\"fBarOffset\":0,\"fBarWidth\":1000,\"fEntries\":41906459,\"fTsumw\":526901229.499189,\"fTsumw2\":6624871808.26474,\"fTsumwx\":503661100725.446,\"fTsumwx2\":533827413632003,\"fMaximum\":-1111,\"fMinimum\":-1111,\"fNormFactor\":0,\"fContour\":[],\"fSumw2\":[],\"fOption\":\"\",\"fFunctions\":{\"_typename\":\"TList\",\"name\":\"TList\",\"arr\":[{\"_typename\":\"TPaveStats\",\"fUniqueID\":0,\"fBits\":9,\"fLineColor\":1,\"fLineStyle\":1,\"fLineWidth\":1,\"fFillColor\":0,\"fFillStyle\":1001,\"fX1\":7100.00015199185,\"fY1\":18232.5940216868,\"fX2\":8600.00019669533,\"fY2\":22554.3939894869,\"fX1NDC\":0.780000016093254,\"fY1NDC\":0.775000005960464,\"fX2NDC\":0.980000019073486,\"fY2NDC\":0.935000002384186,\"fBorderSize\":1,\"fInit\":1,\"fShadowColor\":1,\"fCornerRadius\":0,\"fOption\":\"brNDC\",\"fName\":\"stats\",\"fTextAngle\":0,\"fTextSize\":0,\"fTextAlign\":12,\"fTextColor\":1,\"fTextFont\":42,\"fLabel\":\"\",\"fLongest\":24,\"fMargin\":0.05,\"fLines\":{\"_typename\":\"TList\",\"name\":\"TList\",\"arr\":[{\"_typename\":\"TLatex\",\"fUniqueID\":0,\"fBits\":0,\"fName\":\"\",\"fTitle\":\"hsingle_75deg\",\"fTextAngle\":0,\"fTextSize\":0.0368,\"fTextAlign\":0,\"fTextColor\":0,\"fTextFont\":0,\"fX\":0,\"fY\":0,\"fLineColor\":1,\"fLineStyle\":1,\"fLineWidth\":2,\"fLimitFactorSize\":3,\"fOriginSize\":0.0368000008165836},{\"_typename\":\"TLatex\",\"fUniqueID\":0,\"fBits\":0,\"fName\":\"\",\"fTitle\":\"Entries =   4.190646e+07\",\"fTextAngle\":0,\"fTextSize\":0,\"fTextAlign\":0,\"fTextColor\":0,\"fTextFont\":0,\"fX\":0,\"fY\":0,\"fLineColor\":1,\"fLineStyle\":1,\"fLineWidth\":2,\"fLimitFactorSize\":3,\"fOriginSize\":0.04},{\"_typename\":\"TLatex\",\"fUniqueID\":0,\"fBits\":0,\"fName\":\"\",\"fTitle\":\"Mean  =   4232\",\"fTextAngle\":0,\"fTextSize\":0,\"fTextAlign\":0,\"fTextColor\":0,\"fTextFont\":0,\"fX\":0,\"fY\":0,\"fLineColor\":1,\"fLineStyle\":1,\"fLineWidth\":2,\"fLimitFactorSize\":3,\"fOriginSize\":0.04},{\"_typename\":\"TLatex\",\"fUniqueID\":0,\"fBits\":0,\"fName\":\"\",\"fTitle\":\"Std Dev   =  929.6\",\"fTextAngle\":0,\"fTextSize\":0,\"fTextAlign\":0,\"fTextColor\":0,\"fTextFont\":0,\"fX\":0,\"fY\":0,\"fLineColor\":1,\"fLineStyle\":1,\"fLineWidth\":2,\"fLimitFactorSize\":3,\"fOriginSize\":0.04}],\"opt\":[\"\",\"\",\"\",\"\"]},\"fOptFit\":0,\"fOptStat\":1111,\"fFitFormat\":\"5.4g\",\"fStatFormat\":\"6.4g\",\"fParent\":{\"$ref\":3}}],\"opt\":[\"brNDC\"]},\"fBufferSize\":0,\"fBuffer\":[],\"fBinStatErrOpt\":0,\"fStatOverflows\":2,\"fArray\":[0,0,0,0,0,0,17172,32568,101856,107136,79368,62592,52428,50208,52296,59604,76548,99696,127680,151272,174432,194364,206748,220740,226680,235536,239244,245292,251628,254976,257232,259152,264492,265584,264468,264360,266988,265236,262980,264288,264720,260772,263760,265332,266412,267972,268056,273228,273996,279912,280452,278376,275556,269148,267804,262812,259080,257076,252168,250176,245268,243564,237180,235920,237312,232476,234420,229800,229116,225840,221940,224400,221112,221208,217524,218712,217164,215580,214884,214068,212112,212736,214056,212532,217260,214872,218880,221532,226908,228264,237336,245808,260688,279420,303936,329472,372132,413820,479208,562980,675672,818988,1040280,1338876,1790112,2441208,3440844,5023152,7475688,11038884,15643752,20365260,23364888,23889216,23167572,22798608,22004820,19840104,17635896,16822656,17721312,20237184,24190800,27958152,28127196,23796720,18168312,13948728,11071032,8945532,7323528,6027900,5005896,4158864,3496032,2952108,2485968,2103636,1779180,1489248,1236300,995628,755988,536316,365148,238404,154248,107808,76920,59964,52428,47940,49212,50592,52476,52896,51516,50292,44976,39816,33912,30384,27348,23580,20892,19992,19500,16872,15960,15348,14136,13332,14196,12996,12312,11820,11244,11844,10992,10416,10800,10884,10224,10224,10896,10800,10764,10680,9912,10416,9672,9840,10044,10356,10752,10176,10728,10848,10728,10536,9600,10620,10656,10128,10680,11220,10608,10860,10752,11520,11508,11856,11496,12012,12660,12516,12264,12996,12876,13620,13908,14256,14148,14220,14076,14316,14376,14712,15000,14700,15012,14544,14700,14856,15012,14112,14040,13212,13296,12540,11964,11268,10632,10332,9828,9648,9396,8388,7932,7896,7644,7308,6876,6456,6564,6240,6132,5940,5496,6012,5532,5388,5100,5340,5172,4512,4656,4752,4260,4248,4404,4500,4056,3540,4092,3852,3708,3648,3552,3840,3204,3468,3204,3516,3408,3300,3300,3252,3612,3588,3168,3084,3000,3048,3204,3360,3180,3216,3264,3120,3096,2976,3216,3000,2784,3360,2880,2784,2796,2628,2892,3240,3120,2892,3012,2772,2928,3204,2880,2844,3096,2676,2760,3024,2892,2928,2832,3036,2808,2472,2916,2760,2724,3012,2976,2484,2796,2688,2604,2832,2892,2628,2460,2940,2880,2664,2844,2940,2856,2832,2676,2880,2940,2808,2748,2844,2892,2832,3180,2736,2736,2976,3156,2628,3468,2856,2796,2880,2808,2916,3012,3324,2676,3264,3300,3024,3000,2796,3168,3012,2964,2988,2976,3204,3228,3756,3192,3492,3288,3456,3684,3216,3216,3348,3744,3612,3720,3360,3348,3996,3912,3684,3900,3936,3852,3684,3912,3648,3912,3576,3780,3888,4176,3420,4068,4164,3948,4476,4140,4392,4104,4260,4164,4260,4344,4344,4464,4044,4632,5016,4404,5088,4608,4500,4860,4884,4704,4692,5184,4944,5244,5124,5376,5256,5760,5376,5352,5724,5496,5796,5484,5904,5904,5592,5952,6288,6600,6180,6048,6132,6360,6768,6240,6684,6984,6792,6972,7236,7176,7416,6948,7332,7416,7452,7500,7548,7404,7536,7512,8568,8472,8196,8664,7620,8328,8640,8640,8904,8772,8664,8916,9288,9048,9972,9312,9396,9600,10092,9924,9900,10008,10500,10704,10596,10320,11424,10944,11568,11304,11028,11544,11976,12132,12312,11976,12732,12468,12384,12696,13656,12756,13296,12984,13296,13032,13968,13392,15240,14112,13848,15156,15228,15408,15036,15552,16008,15816,15972,16332,16116,16572,16428,16656,16716,17124,17112,17508,18024,17808,17100,17484,18888,18180,18768,18960,18432,19752,18972,19176,19356,19332,19332,19692,19548,19608,19056,20064,20100,19008,19908,20580,19488,19788,20088,20472,20580,19308,19692,19392,19116,19224,19812,19128,19284,19056,17832,18744,19140,18108,19044,18168,17940,17880,17700,16548,17124,16380,16152,15828,15516,15288,14280,15420,14004,15192,14184,13968,13512,12888,12816,12756,12864,12540,11688,11664,11712,11376,10344,11652,10116,10476,10176,10704,9552,9132,8604,9552,8916,8592,8736,8784,8316,8064,7968,7776,7500,7068,7296,7008,6936,6324,6240,6540,6456,6936,5832,5700,5904,5856,5508,5004,5460,4980,5364,4548,4944,4596,5004,4692,4644,4536,4344,4608,3720,4008,4452,3780,3672,3756,3900,3492,3480,3216,3636,3000,3000,3672,3036,3204,2904,2676,3108,2748,2340,2664,2904,2388,2604,2496,2124,2196,2484,2472,2124,1992,2280,2148,2088,1944,1968,1704,1656,1776,1824,1704,1788,1572,1524,1824,1656,1776,1440,1308,1224,1320,1392,1380,1296,1212,1176,1092,1092,1056,1200,1188,972,1116,1044,1104,1260,1056,888,996,936,912,984,864,900,768,984,924,864,888,792,744,816,480,684,660,564,684,744,636,444,660,684,612,732,516,468,600,408,468,504,492,516,528,516,372,348,360,516,300,384,336,480,528,324,240,300,348,348,324,252,228,336,276,204,252,192,312,264,252,228,156,264,156,252,276,240,132,84,180,324,180,216,192,324,288,300,480,456,828,612,1128,1476,1692,2352,2976,3528,4008,4704,4788,5100,4704,5952,5232,4908,4584,3960,3600,3396,2640,2040,1992,1464,1284,1164,1128,864,828,576,636,528,300,228,288,180,156,204,120,72,36,12,24,12,24,0,12,12,24,12,0,0,0,0,0,0,0,0,0,0,0,0,0,0,0,0,12,0,0,0,0,0,0,0,0,0,0,0,0,0,0,0,0,0,0,0,0,0,0,0,0,0,0,0,0,0,0,0,12,0,0,0,0,0,0,12,0,0,0,12,0,12,12,0,12,12,0,0,12,12,60,24,0,12,36,24,0,0,24,12,0,0,12,0,0,0,0,0,0,0,12,0,0,12,0,12,0,0,0,0,0,0,0,0,0,0,0,0,0,0,0,0,0,0,0,0,0,0,0,0,0,0,0,0,0,0,0,0,0,0,0,0,0,0,0,0,0,0,0,24]}],\"opt\":[\"\",\"\"]},\"fExecs\":null,\"fName\":\"c1\",\"fTitle\":\"c1\",\"fNumPaletteColor\":0,\"fNextPaletteColor\":0,\"fDISPLAY\":\"$DISPLAY\",\"fDoubleBuffer\":0,\"fRetained\":true,\"fXsizeUser\":0,\"fYsizeUser\":0,\"fXsizeReal\":20,\"fYsizeReal\":14.28571,\"fWindowTopX\":0,\"fWindowTopY\":0,\"fWindowWidth\":0,\"fWindowHeight\":0,\"fCw\":696,\"fCh\":472,\"fCatt\":{\"_typename\":\"TAttCanvas\",\"fXBetween\":2,\"fYBetween\":2,\"fTitleFromTop\":1.2,\"fXdate\":0.2,\"fYdate\":0.3,\"fAdate\":1},\"kMoveOpaque\":true,\"kResizeOpaque\":true,\"fHighLightColor\":2,\"fBatch\":true,\"kShowEventStatus\":false,\"kAutoExec\":true,\"kMenuBar\":true});\n",
       "            Core.draw(\"root_plot_1696855328186\", obj, \"\");\n",
       "        }\n",
       "    );\n",
       "}\n",
       "</script>\n"
      ],
      "text/plain": [
       "<IPython.core.display.HTML object>"
      ]
     },
     "metadata": {},
     "output_type": "display_data"
    },
    {
     "name": "stdout",
     "output_type": "stream",
     "text": [
      "itheta=3\talpha0:89244"
     ]
    }
   ],
   "source": [
    "h[itheta]->GetXaxis()->SetRangeUser(2000,8000);\n",
    "h[itheta]->Draw();\n",
    "c1->Draw();\n",
    "cout<<\"itheta=\"<<itheta<<'\\t'<<\"alpha0:\"<<h[itheta]->Integral(h[itheta]->FindBin(6400),h[itheta]->FindBin(6800));\n",
    "itheta++;"
   ]
  },
  {
   "cell_type": "code",
   "execution_count": 13,
   "id": "69b4e006",
   "metadata": {},
   "outputs": [
    {
     "data": {
      "text/html": [
       "\n",
       "<div id=\"root_plot_1696855328291\"\n",
       "     style=\"width: 696px; height: 472px\">\n",
       "</div>\n",
       "<script>\n",
       "if (typeof require !== 'undefined') {\n",
       "\n",
       "    // All requirements met (we are in jupyter notebooks or we loaded requirejs before).\n",
       "    display_root_plot_1696855328291();\n",
       "\n",
       "} else {\n",
       "\n",
       "    // We are in jupyterlab, we need to insert requirejs and configure it.\n",
       "    // Jupyterlab might be installed in a different base_url so we need to know it.\n",
       "    try {\n",
       "        var base_url = JSON.parse(document.getElementById('jupyter-config-data').innerHTML).baseUrl;\n",
       "    } catch(_) {\n",
       "        var base_url = '/';\n",
       "    }\n",
       "\n",
       "    // Try loading a local version of requirejs and fallback to cdn if not possible.\n",
       "    requirejs_load(base_url + 'static/components/requirejs/require.js', requirejs_success(base_url), function(){\n",
       "        requirejs_load('https://cdnjs.cloudflare.com/ajax/libs/require.js/2.2.0/require.min.js', requirejs_success(base_url), function(){\n",
       "            document.getElementById(\"root_plot_1696855328291\").innerHTML = \"Failed to load requireJs\";\n",
       "        });\n",
       "    });\n",
       "}\n",
       "\n",
       "function requirejs_load(src, on_load, on_error) {\n",
       "    var script = document.createElement('script');\n",
       "    script.src = src;\n",
       "    script.onload = on_load;\n",
       "    script.onerror = on_error;\n",
       "    document.head.appendChild(script);\n",
       "}\n",
       "\n",
       "function requirejs_success(base_url) {\n",
       "    return function() {\n",
       "        require.config({\n",
       "            baseUrl: base_url + 'static/'\n",
       "        });\n",
       "        display_root_plot_1696855328291();\n",
       "    }\n",
       "}\n",
       "\n",
       "function display_root_plot_1696855328291() {\n",
       "    require(['scripts/JSRootCore'],\n",
       "        function(Core) {\n",
       "            var obj = Core.JSONR_unref({\"_typename\":\"TCanvas\",\"fUniqueID\":0,\"fBits\":3342344,\"fLineColor\":1,\"fLineStyle\":1,\"fLineWidth\":1,\"fFillColor\":0,\"fFillStyle\":1001,\"fLeftMargin\":0.1,\"fRightMargin\":0.1,\"fBottomMargin\":0.1,\"fTopMargin\":0.1,\"fXfile\":2,\"fYfile\":2,\"fAfile\":1,\"fXstat\":0.99,\"fYstat\":0.99,\"fAstat\":2,\"fFrameFillColor\":0,\"fFrameLineColor\":1,\"fFrameFillStyle\":1001,\"fFrameLineStyle\":1,\"fFrameLineWidth\":1,\"fFrameBorderSize\":1,\"fFrameBorderMode\":0,\"fX1\":1249.99994412064,\"fY1\":-3087.00022999944,\"fX2\":8750.00005587936,\"fY2\":27783.0002299994,\"fXtoAbsPixelk\":-115.999943085861,\"fXtoPixelk\":-115.999943085861,\"fXtoPixel\":0.0927999986171722,\"fYtoAbsPixelk\":424.800047186661,\"fYtoPixelk\":424.800047186661,\"fYtoPixel\":-0.0152899252661695,\"fUtoAbsPixelk\":5e-5,\"fUtoPixelk\":5e-5,\"fUtoPixel\":696,\"fVtoAbsPixelk\":472.00005,\"fVtoPixelk\":472,\"fVtoPixel\":-472,\"fAbsPixeltoXk\":1249.99994412064,\"fPixeltoXk\":1249.99994412064,\"fPixeltoX\":10.7758622295384,\"fAbsPixeltoYk\":27783.0002299994,\"fPixeltoYk\":-3087.00022999944,\"fPixeltoY\":-65.4025433474553,\"fXlowNDC\":0,\"fYlowNDC\":0,\"fXUpNDC\":1,\"fYUpNDC\":1,\"fWNDC\":1,\"fHNDC\":1,\"fAbsXlowNDC\":0,\"fAbsYlowNDC\":0,\"fAbsWNDC\":1,\"fAbsHNDC\":1,\"fUxmin\":2000,\"fUymin\":0,\"fUxmax\":8000,\"fUymax\":24696,\"fTheta\":30,\"fPhi\":30,\"fAspectRatio\":0,\"fNumber\":0,\"fTickx\":0,\"fTicky\":0,\"fLogx\":0,\"fLogy\":0,\"fLogz\":0,\"fPadPaint\":0,\"fCrosshair\":0,\"fCrosshairPos\":0,\"fBorderSize\":2,\"fBorderMode\":0,\"fModified\":false,\"fGridx\":false,\"fGridy\":false,\"fAbsCoord\":false,\"fEditable\":true,\"fFixedAspectRatio\":false,\"fPrimitives\":{\"_typename\":\"TList\",\"name\":\"TList\",\"arr\":[{\"_typename\":\"TFrame\",\"fUniqueID\":0,\"fBits\":8,\"fLineColor\":1,\"fLineStyle\":1,\"fLineWidth\":1,\"fFillColor\":0,\"fFillStyle\":1001,\"fX1\":2000,\"fY1\":0,\"fX2\":8000,\"fY2\":24696,\"fBorderSize\":1,\"fBorderMode\":0},{\"_typename\":\"TH1I\",\"fUniqueID\":0,\"fBits\":8,\"fName\":\"hsingle_80deg\",\"fTitle\":\"\",\"fLineColor\":602,\"fLineStyle\":1,\"fLineWidth\":1,\"fFillColor\":0,\"fFillStyle\":1001,\"fMarkerColor\":1,\"fMarkerStyle\":1,\"fMarkerSize\":1,\"fNcells\":1002,\"fXaxis\":{\"_typename\":\"TAxis\",\"fUniqueID\":0,\"fBits\":2048,\"fName\":\"xaxis\",\"fTitle\":\"\",\"fNdivisions\":510,\"fAxisColor\":1,\"fLabelColor\":1,\"fLabelFont\":42,\"fLabelOffset\":0.005,\"fLabelSize\":0.035,\"fTickLength\":0.03,\"fTitleOffset\":1,\"fTitleSize\":0.035,\"fTitleColor\":1,\"fTitleFont\":42,\"fNbins\":1000,\"fXmin\":0,\"fXmax\":8000,\"fXbins\":[],\"fFirst\":251,\"fLast\":1000,\"fBits2\":0,\"fTimeDisplay\":false,\"fTimeFormat\":\"\",\"fLabels\":null,\"fModLabs\":null},\"fYaxis\":{\"_typename\":\"TAxis\",\"fUniqueID\":0,\"fBits\":0,\"fName\":\"yaxis\",\"fTitle\":\"\",\"fNdivisions\":510,\"fAxisColor\":1,\"fLabelColor\":1,\"fLabelFont\":42,\"fLabelOffset\":0.005,\"fLabelSize\":0.035,\"fTickLength\":0.03,\"fTitleOffset\":0,\"fTitleSize\":0.035,\"fTitleColor\":1,\"fTitleFont\":42,\"fNbins\":1,\"fXmin\":0,\"fXmax\":1,\"fXbins\":[],\"fFirst\":0,\"fLast\":0,\"fBits2\":0,\"fTimeDisplay\":false,\"fTimeFormat\":\"\",\"fLabels\":null,\"fModLabs\":null},\"fZaxis\":{\"_typename\":\"TAxis\",\"fUniqueID\":0,\"fBits\":0,\"fName\":\"zaxis\",\"fTitle\":\"\",\"fNdivisions\":510,\"fAxisColor\":1,\"fLabelColor\":1,\"fLabelFont\":42,\"fLabelOffset\":0.005,\"fLabelSize\":0.035,\"fTickLength\":0.03,\"fTitleOffset\":1,\"fTitleSize\":0.035,\"fTitleColor\":1,\"fTitleFont\":42,\"fNbins\":1,\"fXmin\":0,\"fXmax\":1,\"fXbins\":[],\"fFirst\":0,\"fLast\":0,\"fBits2\":0,\"fTimeDisplay\":false,\"fTimeFormat\":\"\",\"fLabels\":null,\"fModLabs\":null},\"fBarOffset\":0,\"fBarWidth\":1000,\"fEntries\":37672925,\"fTsumw\":457190686.091434,\"fTsumw2\":5548370055.0646,\"fTsumwx\":434239964657.44,\"fTsumwx2\":465283019678807,\"fMaximum\":-1111,\"fMinimum\":-1111,\"fNormFactor\":0,\"fContour\":[],\"fSumw2\":[],\"fOption\":\"\",\"fFunctions\":{\"_typename\":\"TList\",\"name\":\"TList\",\"arr\":[{\"_typename\":\"TPaveStats\",\"fUniqueID\":0,\"fBits\":9,\"fLineColor\":1,\"fLineStyle\":1,\"fLineWidth\":1,\"fFillColor\":0,\"fFillStyle\":1001,\"fX1\":7100.00015199185,\"fY1\":20837.2503104992,\"fX2\":8600.00019669533,\"fY2\":25776.4502736993,\"fX1NDC\":0.780000016093254,\"fY1NDC\":0.775000005960464,\"fX2NDC\":0.980000019073486,\"fY2NDC\":0.935000002384186,\"fBorderSize\":1,\"fInit\":1,\"fShadowColor\":1,\"fCornerRadius\":0,\"fOption\":\"brNDC\",\"fName\":\"stats\",\"fTextAngle\":0,\"fTextSize\":0,\"fTextAlign\":12,\"fTextColor\":1,\"fTextFont\":42,\"fLabel\":\"\",\"fLongest\":24,\"fMargin\":0.05,\"fLines\":{\"_typename\":\"TList\",\"name\":\"TList\",\"arr\":[{\"_typename\":\"TLatex\",\"fUniqueID\":0,\"fBits\":0,\"fName\":\"\",\"fTitle\":\"hsingle_80deg\",\"fTextAngle\":0,\"fTextSize\":0.0368,\"fTextAlign\":0,\"fTextColor\":0,\"fTextFont\":0,\"fX\":0,\"fY\":0,\"fLineColor\":1,\"fLineStyle\":1,\"fLineWidth\":2,\"fLimitFactorSize\":3,\"fOriginSize\":0.0368000008165836},{\"_typename\":\"TLatex\",\"fUniqueID\":0,\"fBits\":0,\"fName\":\"\",\"fTitle\":\"Entries =   3.767292e+07\",\"fTextAngle\":0,\"fTextSize\":0,\"fTextAlign\":0,\"fTextColor\":0,\"fTextFont\":0,\"fX\":0,\"fY\":0,\"fLineColor\":1,\"fLineStyle\":1,\"fLineWidth\":2,\"fLimitFactorSize\":3,\"fOriginSize\":0.04},{\"_typename\":\"TLatex\",\"fUniqueID\":0,\"fBits\":0,\"fName\":\"\",\"fTitle\":\"Mean  =   4194\",\"fTextAngle\":0,\"fTextSize\":0,\"fTextAlign\":0,\"fTextColor\":0,\"fTextFont\":0,\"fX\":0,\"fY\":0,\"fLineColor\":1,\"fLineStyle\":1,\"fLineWidth\":2,\"fLimitFactorSize\":3,\"fOriginSize\":0.04},{\"_typename\":\"TLatex\",\"fUniqueID\":0,\"fBits\":0,\"fName\":\"\",\"fTitle\":\"Std Dev   =  894.2\",\"fTextAngle\":0,\"fTextSize\":0,\"fTextAlign\":0,\"fTextColor\":0,\"fTextFont\":0,\"fX\":0,\"fY\":0,\"fLineColor\":1,\"fLineStyle\":1,\"fLineWidth\":2,\"fLimitFactorSize\":3,\"fOriginSize\":0.04}],\"opt\":[\"\",\"\",\"\",\"\"]},\"fOptFit\":0,\"fOptStat\":1111,\"fFitFormat\":\"5.4g\",\"fStatFormat\":\"6.4g\",\"fParent\":{\"$ref\":3}}],\"opt\":[\"brNDC\"]},\"fBufferSize\":0,\"fBuffer\":[],\"fBinStatErrOpt\":0,\"fStatOverflows\":2,\"fArray\":[0,0,0,0,0,0,4392,12744,131604,164712,125352,97332,80616,69468,67896,71976,84312,104724,126048,150960,171000,187056,199560,208884,216072,216684,223536,228924,230484,232632,235656,232164,239628,243456,240540,241020,238572,243120,245148,243036,247224,247068,247368,249648,254868,256344,252096,252036,251208,248340,245208,240588,236304,232728,228156,225468,223104,223368,216972,216360,211896,210432,208296,211320,205308,203556,203184,201348,201324,198192,196668,196704,196776,195312,192408,192204,194100,192924,193212,192684,190776,192828,193224,190608,191736,196752,197244,202656,209244,216684,228108,239388,261732,293844,330864,371568,430068,497448,598704,723588,908640,1174932,1549632,2114124,2954040,4212096,6096408,8816640,12459552,16591452,20214912,21836088,21220116,20037060,19450596,18580080,16500360,14265960,13202736,13482744,15062400,17864688,21552000,24345612,23346492,18798264,13928880,10524120,8223036,6555660,5311224,4347552,3618120,3008544,2541180,2157276,1835724,1573668,1344312,1136040,948876,751056,552132,372792,244692,158736,111408,84852,74376,65952,63984,60276,55620,51204,45372,40140,33108,29844,26016,22308,21552,19188,18492,17340,16272,15300,15300,14004,12996,13068,11988,10956,11976,11868,11052,10392,10644,11328,11208,9864,10560,10764,9984,10116,10380,10848,10920,10296,10956,10224,10128,10020,10272,10224,10296,10356,10128,10140,10464,11016,10068,11304,10680,10068,10080,10692,11244,11340,10788,11640,11868,12048,11352,11928,12252,12528,12564,13128,12936,13524,13740,13620,14484,13776,13464,13608,12900,13692,12900,14292,13356,13464,13896,12912,13188,12468,12276,11436,11376,10956,9960,9768,8964,9204,9084,8868,8268,7800,7860,7056,7164,7248,6384,6372,5952,6000,6012,5628,5376,5940,5196,5436,5136,4992,4872,4608,4512,4716,3984,3732,4080,3996,4260,3552,3600,4068,3636,3912,3720,3564,3288,3552,3396,3600,3432,3312,3300,3348,3624,3816,3276,3288,3600,3420,3444,3648,3504,3564,3264,2976,3300,3468,3288,3204,3036,3468,3192,2952,3024,3228,3444,3216,2964,2856,2832,3024,3072,3288,3000,3204,3132,2904,3192,3528,3132,3168,3432,3216,2928,2832,2868,2784,3048,2940,2808,2568,3096,2988,2928,3216,3024,3120,3036,3432,3276,3096,3228,3408,3312,3504,2964,3072,3264,2640,3324,3120,3348,2952,3084,3276,2988,3480,3120,3216,3816,3504,3132,3528,3180,3108,3180,3552,3276,3480,3900,3660,3264,3660,3792,3324,3648,3852,3732,3864,3636,3540,3756,4068,3996,4164,4092,3588,3876,3924,4236,4080,4296,3996,4164,4464,4104,4308,4236,4332,4224,3876,4416,4344,4260,4284,4764,4716,4524,4740,4776,4428,4992,4584,5028,5052,4584,4704,5244,4884,4656,5112,5532,5496,5556,5544,5676,5760,5664,6048,5952,5352,5952,5472,6372,6036,6024,6252,6084,6420,6576,6780,6624,6612,7248,6696,6348,6456,6708,7548,7404,7344,7416,7464,7260,7356,7872,7692,7788,7620,8688,7956,8172,8352,8640,8928,8736,8880,9180,8568,9216,9384,8640,9696,9684,10644,9348,10284,10320,10032,9804,9684,11064,10440,10668,10824,11520,11388,11460,11616,10956,11712,11136,12024,12372,11652,12264,13536,13068,12528,13176,13644,13008,13632,13428,14352,15156,14400,15144,14844,14160,14244,15288,14988,15156,15672,15660,16548,16824,15984,16728,17172,16608,18468,17820,16728,17592,19152,18048,18384,18948,19296,19164,19800,19104,19764,19800,20328,20172,20520,20652,20436,20832,21060,21624,20040,20748,22212,21516,22272,21756,22068,21828,21948,21504,22524,22272,22284,22356,23520,22500,23136,21468,22776,21276,21744,22992,20712,21540,21540,21492,22008,21120,20712,19824,20268,20220,20508,20016,19308,19296,19728,19068,19788,17856,18972,17544,19224,17808,17352,16356,16800,15588,15672,14952,15492,15720,14400,13920,14640,13740,13656,13452,12852,12936,12564,12312,12660,11892,11076,10476,10668,10344,9876,10716,8712,9504,9288,9444,8652,8460,8076,8664,8340,8124,7824,7788,7752,7128,7068,7128,6804,6588,6588,7248,6084,6384,5448,5544,5916,6072,4848,4968,5376,5148,5304,4728,4344,4296,4704,4752,4548,4404,4104,4068,4608,3804,3684,3648,3672,3840,3744,3300,3276,3576,3492,3204,3024,2976,3324,3012,2640,2976,2940,2952,3096,2616,2808,2532,2244,2304,2580,2316,2388,2472,1944,2496,2028,2172,1944,2148,2088,2028,1752,1848,1608,1764,1608,1392,1692,1608,1416,1380,1212,1488,1356,1644,1332,1296,1272,1236,1356,1236,1272,1176,1152,1080,1164,984,948,948,1020,924,1080,984,996,936,768,852,960,720,732,768,756,924,672,852,672,864,768,612,660,600,636,600,516,576,624,564,516,408,660,576,684,492,564,624,420,468,480,528,444,420,372,396,348,420,348,324,336,228,276,420,228,216,360,360,276,252,216,240,240,228,204,156,156,120,216,192,204,192,300,264,288,264,288,504,588,768,948,1044,1296,2052,2568,2904,3024,3912,3960,4668,4644,4704,5016,4992,4704,4956,4608,4464,4128,3480,3048,2520,2160,1800,1668,1224,1200,996,840,624,528,576,396,324,264,180,132,96,108,12,12,24,12,0,24,12,0,12,0,12,0,0,0,0,0,0,0,0,0,0,12,0,0,0,0,0,0,0,0,0,0,0,0,0,0,0,0,0,0,0,0,0,0,0,12,0,0,0,0,0,0,0,0,0,0,0,0,0,0,0,0,0,0,0,0,0,0,0,0,0,12,12,0,0,0,12,0,12,24,12,12,12,24,12,48,36,24,24,12,36,12,0,0,0,12,0,0,24,0,0,12,0,0,0,0,0,0,0,0,0,0,0,0,0,0,0,0,0,0,0,0,0,0,0,0,0,0,0,0,0,0,0,0,0,0,0,0,0,0,0,0,0,0,0,0,0,0,0,0,0,0,0,0,0,0,0,0,0,12]}],\"opt\":[\"\",\"\"]},\"fExecs\":null,\"fName\":\"c1\",\"fTitle\":\"c1\",\"fNumPaletteColor\":0,\"fNextPaletteColor\":0,\"fDISPLAY\":\"$DISPLAY\",\"fDoubleBuffer\":0,\"fRetained\":true,\"fXsizeUser\":0,\"fYsizeUser\":0,\"fXsizeReal\":20,\"fYsizeReal\":14.28571,\"fWindowTopX\":0,\"fWindowTopY\":0,\"fWindowWidth\":0,\"fWindowHeight\":0,\"fCw\":696,\"fCh\":472,\"fCatt\":{\"_typename\":\"TAttCanvas\",\"fXBetween\":2,\"fYBetween\":2,\"fTitleFromTop\":1.2,\"fXdate\":0.2,\"fYdate\":0.3,\"fAdate\":1},\"kMoveOpaque\":true,\"kResizeOpaque\":true,\"fHighLightColor\":2,\"fBatch\":true,\"kShowEventStatus\":false,\"kAutoExec\":true,\"kMenuBar\":true});\n",
       "            Core.draw(\"root_plot_1696855328291\", obj, \"\");\n",
       "        }\n",
       "    );\n",
       "}\n",
       "</script>\n"
      ],
      "text/plain": [
       "<IPython.core.display.HTML object>"
      ]
     },
     "metadata": {},
     "output_type": "display_data"
    },
    {
     "name": "stdout",
     "output_type": "stream",
     "text": [
      "itheta=4\talpha0:94320"
     ]
    }
   ],
   "source": [
    "h[itheta]->GetXaxis()->SetRangeUser(2000,8000);\n",
    "h[itheta]->Draw();\n",
    "c1->Draw();\n",
    "cout<<\"itheta=\"<<itheta<<'\\t'<<\"alpha0:\"<<h[itheta]->Integral(h[itheta]->FindBin(6350),h[itheta]->FindBin(6800));\n",
    "itheta++;"
   ]
  },
  {
   "cell_type": "code",
   "execution_count": 14,
   "id": "1095fa23",
   "metadata": {},
   "outputs": [
    {
     "data": {
      "text/html": [
       "\n",
       "<div id=\"root_plot_1696855328396\"\n",
       "     style=\"width: 696px; height: 472px\">\n",
       "</div>\n",
       "<script>\n",
       "if (typeof require !== 'undefined') {\n",
       "\n",
       "    // All requirements met (we are in jupyter notebooks or we loaded requirejs before).\n",
       "    display_root_plot_1696855328396();\n",
       "\n",
       "} else {\n",
       "\n",
       "    // We are in jupyterlab, we need to insert requirejs and configure it.\n",
       "    // Jupyterlab might be installed in a different base_url so we need to know it.\n",
       "    try {\n",
       "        var base_url = JSON.parse(document.getElementById('jupyter-config-data').innerHTML).baseUrl;\n",
       "    } catch(_) {\n",
       "        var base_url = '/';\n",
       "    }\n",
       "\n",
       "    // Try loading a local version of requirejs and fallback to cdn if not possible.\n",
       "    requirejs_load(base_url + 'static/components/requirejs/require.js', requirejs_success(base_url), function(){\n",
       "        requirejs_load('https://cdnjs.cloudflare.com/ajax/libs/require.js/2.2.0/require.min.js', requirejs_success(base_url), function(){\n",
       "            document.getElementById(\"root_plot_1696855328396\").innerHTML = \"Failed to load requireJs\";\n",
       "        });\n",
       "    });\n",
       "}\n",
       "\n",
       "function requirejs_load(src, on_load, on_error) {\n",
       "    var script = document.createElement('script');\n",
       "    script.src = src;\n",
       "    script.onload = on_load;\n",
       "    script.onerror = on_error;\n",
       "    document.head.appendChild(script);\n",
       "}\n",
       "\n",
       "function requirejs_success(base_url) {\n",
       "    return function() {\n",
       "        require.config({\n",
       "            baseUrl: base_url + 'static/'\n",
       "        });\n",
       "        display_root_plot_1696855328396();\n",
       "    }\n",
       "}\n",
       "\n",
       "function display_root_plot_1696855328396() {\n",
       "    require(['scripts/JSRootCore'],\n",
       "        function(Core) {\n",
       "            var obj = Core.JSONR_unref({\"_typename\":\"TCanvas\",\"fUniqueID\":0,\"fBits\":3342344,\"fLineColor\":1,\"fLineStyle\":1,\"fLineWidth\":1,\"fFillColor\":0,\"fFillStyle\":1001,\"fLeftMargin\":0.1,\"fRightMargin\":0.1,\"fBottomMargin\":0.1,\"fTopMargin\":0.1,\"fXfile\":2,\"fYfile\":2,\"fAfile\":1,\"fXstat\":0.99,\"fYstat\":0.99,\"fAstat\":2,\"fFrameFillColor\":0,\"fFrameLineColor\":1,\"fFrameFillStyle\":1001,\"fFrameLineStyle\":1,\"fFrameLineWidth\":1,\"fFrameBorderSize\":1,\"fFrameBorderMode\":0,\"fX1\":1249.99994412064,\"fY1\":-2994.07522307598,\"fX2\":8750.00005587936,\"fY2\":26946.675223076,\"fXtoAbsPixelk\":-115.999943085861,\"fXtoPixelk\":-115.999943085861,\"fXtoPixel\":0.0927999986171722,\"fYtoAbsPixelk\":424.800047186661,\"fYtoPixelk\":424.800047186661,\"fYtoPixel\":-0.0157644679230364,\"fUtoAbsPixelk\":5e-5,\"fUtoPixelk\":5e-5,\"fUtoPixel\":696,\"fVtoAbsPixelk\":472.00005,\"fVtoPixelk\":472,\"fVtoPixel\":-472,\"fAbsPixeltoXk\":1249.99994412064,\"fPixeltoXk\":1249.99994412064,\"fPixeltoX\":10.7758622295384,\"fAbsPixeltoYk\":26946.675223076,\"fPixeltoYk\":-2994.07522307598,\"fPixeltoY\":-63.4337933181186,\"fXlowNDC\":0,\"fYlowNDC\":0,\"fXUpNDC\":1,\"fYUpNDC\":1,\"fWNDC\":1,\"fHNDC\":1,\"fAbsXlowNDC\":0,\"fAbsYlowNDC\":0,\"fAbsWNDC\":1,\"fAbsHNDC\":1,\"fUxmin\":2000,\"fUymin\":0,\"fUxmax\":8000,\"fUymax\":23952.6,\"fTheta\":30,\"fPhi\":30,\"fAspectRatio\":0,\"fNumber\":0,\"fTickx\":0,\"fTicky\":0,\"fLogx\":0,\"fLogy\":0,\"fLogz\":0,\"fPadPaint\":0,\"fCrosshair\":0,\"fCrosshairPos\":0,\"fBorderSize\":2,\"fBorderMode\":0,\"fModified\":false,\"fGridx\":false,\"fGridy\":false,\"fAbsCoord\":false,\"fEditable\":true,\"fFixedAspectRatio\":false,\"fPrimitives\":{\"_typename\":\"TList\",\"name\":\"TList\",\"arr\":[{\"_typename\":\"TFrame\",\"fUniqueID\":0,\"fBits\":8,\"fLineColor\":1,\"fLineStyle\":1,\"fLineWidth\":1,\"fFillColor\":0,\"fFillStyle\":1001,\"fX1\":2000,\"fY1\":0,\"fX2\":8000,\"fY2\":23952.6,\"fBorderSize\":1,\"fBorderMode\":0},{\"_typename\":\"TH1I\",\"fUniqueID\":0,\"fBits\":8,\"fName\":\"hsingle_85deg\",\"fTitle\":\"\",\"fLineColor\":602,\"fLineStyle\":1,\"fLineWidth\":1,\"fFillColor\":0,\"fFillStyle\":1001,\"fMarkerColor\":1,\"fMarkerStyle\":1,\"fMarkerSize\":1,\"fNcells\":1002,\"fXaxis\":{\"_typename\":\"TAxis\",\"fUniqueID\":0,\"fBits\":2048,\"fName\":\"xaxis\",\"fTitle\":\"\",\"fNdivisions\":510,\"fAxisColor\":1,\"fLabelColor\":1,\"fLabelFont\":42,\"fLabelOffset\":0.005,\"fLabelSize\":0.035,\"fTickLength\":0.03,\"fTitleOffset\":1,\"fTitleSize\":0.035,\"fTitleColor\":1,\"fTitleFont\":42,\"fNbins\":1000,\"fXmin\":0,\"fXmax\":8000,\"fXbins\":[],\"fFirst\":251,\"fLast\":1000,\"fBits2\":0,\"fTimeDisplay\":false,\"fTimeFormat\":\"\",\"fLabels\":null,\"fModLabs\":null},\"fYaxis\":{\"_typename\":\"TAxis\",\"fUniqueID\":0,\"fBits\":0,\"fName\":\"yaxis\",\"fTitle\":\"\",\"fNdivisions\":510,\"fAxisColor\":1,\"fLabelColor\":1,\"fLabelFont\":42,\"fLabelOffset\":0.005,\"fLabelSize\":0.035,\"fTickLength\":0.03,\"fTitleOffset\":0,\"fTitleSize\":0.035,\"fTitleColor\":1,\"fTitleFont\":42,\"fNbins\":1,\"fXmin\":0,\"fXmax\":1,\"fXbins\":[],\"fFirst\":0,\"fLast\":0,\"fBits2\":0,\"fTimeDisplay\":false,\"fTimeFormat\":\"\",\"fLabels\":null,\"fModLabs\":null},\"fZaxis\":{\"_typename\":\"TAxis\",\"fUniqueID\":0,\"fBits\":0,\"fName\":\"zaxis\",\"fTitle\":\"\",\"fNdivisions\":510,\"fAxisColor\":1,\"fLabelColor\":1,\"fLabelFont\":42,\"fLabelOffset\":0.005,\"fLabelSize\":0.035,\"fTickLength\":0.03,\"fTitleOffset\":1,\"fTitleSize\":0.035,\"fTitleColor\":1,\"fTitleFont\":42,\"fNbins\":1,\"fXmin\":0,\"fXmax\":1,\"fXbins\":[],\"fFirst\":0,\"fLast\":0,\"fBits2\":0,\"fTimeDisplay\":false,\"fTimeFormat\":\"\",\"fLabels\":null,\"fModLabs\":null},\"fBarOffset\":0,\"fBarWidth\":1000,\"fEntries\":29912457,\"fTsumw\":387306003.641979,\"fTsumw2\":5014831961.62909,\"fTsumwx\":366066130626.773,\"fTsumwx2\":397955324686624,\"fMaximum\":-1111,\"fMinimum\":-1111,\"fNormFactor\":0,\"fContour\":[],\"fSumw2\":[],\"fOption\":\"\",\"fFunctions\":{\"_typename\":\"TList\",\"name\":\"TList\",\"arr\":[{\"_typename\":\"TPaveStats\",\"fUniqueID\":0,\"fBits\":9,\"fLineColor\":1,\"fLineStyle\":1,\"fLineWidth\":1,\"fFillColor\":0,\"fFillStyle\":1001,\"fX1\":7100.00015199185,\"fY1\":20210.0065511526,\"fX2\":8600.00019669533,\"fY2\":25000.5265154604,\"fX1NDC\":0.780000016093254,\"fY1NDC\":0.775000005960464,\"fX2NDC\":0.980000019073486,\"fY2NDC\":0.935000002384186,\"fBorderSize\":1,\"fInit\":1,\"fShadowColor\":1,\"fCornerRadius\":0,\"fOption\":\"brNDC\",\"fName\":\"stats\",\"fTextAngle\":0,\"fTextSize\":0,\"fTextAlign\":12,\"fTextColor\":1,\"fTextFont\":42,\"fLabel\":\"\",\"fLongest\":24,\"fMargin\":0.05,\"fLines\":{\"_typename\":\"TList\",\"name\":\"TList\",\"arr\":[{\"_typename\":\"TLatex\",\"fUniqueID\":0,\"fBits\":0,\"fName\":\"\",\"fTitle\":\"hsingle_85deg\",\"fTextAngle\":0,\"fTextSize\":0.0368,\"fTextAlign\":0,\"fTextColor\":0,\"fTextFont\":0,\"fX\":0,\"fY\":0,\"fLineColor\":1,\"fLineStyle\":1,\"fLineWidth\":2,\"fLimitFactorSize\":3,\"fOriginSize\":0.0368000008165836},{\"_typename\":\"TLatex\",\"fUniqueID\":0,\"fBits\":0,\"fName\":\"\",\"fTitle\":\"Entries =   2.991246e+07\",\"fTextAngle\":0,\"fTextSize\":0,\"fTextAlign\":0,\"fTextColor\":0,\"fTextFont\":0,\"fX\":0,\"fY\":0,\"fLineColor\":1,\"fLineStyle\":1,\"fLineWidth\":2,\"fLimitFactorSize\":3,\"fOriginSize\":0.04},{\"_typename\":\"TLatex\",\"fUniqueID\":0,\"fBits\":0,\"fName\":\"\",\"fTitle\":\"Mean  =   4158\",\"fTextAngle\":0,\"fTextSize\":0,\"fTextAlign\":0,\"fTextColor\":0,\"fTextFont\":0,\"fX\":0,\"fY\":0,\"fLineColor\":1,\"fLineStyle\":1,\"fLineWidth\":2,\"fLimitFactorSize\":3,\"fOriginSize\":0.04},{\"_typename\":\"TLatex\",\"fUniqueID\":0,\"fBits\":0,\"fName\":\"\",\"fTitle\":\"Std Dev   =  864.4\",\"fTextAngle\":0,\"fTextSize\":0,\"fTextAlign\":0,\"fTextColor\":0,\"fTextFont\":0,\"fX\":0,\"fY\":0,\"fLineColor\":1,\"fLineStyle\":1,\"fLineWidth\":2,\"fLimitFactorSize\":3,\"fOriginSize\":0.04}],\"opt\":[\"\",\"\",\"\",\"\"]},\"fOptFit\":0,\"fOptStat\":1111,\"fFitFormat\":\"5.4g\",\"fStatFormat\":\"6.4g\",\"fParent\":{\"$ref\":3}}],\"opt\":[\"brNDC\"]},\"fBufferSize\":0,\"fBuffer\":[],\"fBinStatErrOpt\":0,\"fStatOverflows\":2,\"fArray\":[0,0,0,0,0,0,7128,25344,144216,163236,122256,96216,75876,65988,62952,65904,74472,90180,105648,126480,140832,151416,160704,170112,173640,176232,181536,181332,187020,186816,188772,191676,194724,198156,197376,202884,202776,209244,207660,210864,213516,212244,213312,210720,210120,207144,201732,199080,192696,190728,190044,182820,185604,181164,180444,179388,174012,176856,173364,171888,173388,168624,167412,168708,164232,163488,162864,162864,162360,158424,159612,159336,160176,159504,152700,154368,155772,155688,158016,154512,155136,157512,156876,155496,158496,164016,166728,172008,178968,190848,202104,222840,244356,276432,314712,361680,434904,519180,643260,815832,1077036,1457184,2040072,2934336,4338504,6376176,9145656,12475212,15507504,17094252,16743372,15561552,14963928,14720460,13608432,11658000,10044396,9306432,9413532,10285416,11946636,14496900,17154132,18039936,15885300,12261144,9216672,7122444,5614332,4499736,3653556,3008892,2489268,2094240,1781640,1522848,1313460,1137060,991380,851772,704292,568248,421704,290736,193716,129372,91620,68988,55632,46440,38820,33228,28524,23784,21204,19368,17388,16452,16908,14652,13716,13500,12228,12276,12096,10764,11208,10416,10104,10056,9876,9348,9996,9792,9264,9324,9348,9480,9060,8952,8952,9072,8772,9588,8784,9264,8832,8904,9096,8736,8892,9144,9732,8352,8244,9192,8436,9300,8976,8940,9036,9312,8652,9192,9480,9264,9120,9492,9312,9972,10392,10524,10884,10200,9804,10968,10932,10908,11160,10656,11352,11184,11064,10608,10440,10440,10884,10404,10548,10908,11052,10416,10320,10056,9612,9024,9396,8664,8532,8436,7860,7824,7752,7164,7200,7032,6564,6564,6312,6108,5496,6360,5208,5088,5268,5112,4812,4920,4908,4836,4668,4320,3900,4260,3960,3960,3840,3564,3996,3444,3540,3612,3552,3360,3324,3504,3312,3300,3204,3348,3648,3072,3144,3444,3384,2856,3144,3180,3276,3300,3480,2940,3516,2772,2892,3228,2964,3168,3684,2928,3156,3048,2940,3312,2784,3060,3396,3024,3072,2844,3000,3000,3132,2796,2688,2772,3156,3240,3000,3036,2904,2688,2952,3084,2820,2928,2916,2808,2676,2496,2748,2748,2880,2592,2592,3012,2796,3120,2772,3048,3372,3324,2868,3156,2916,2976,3252,3276,2976,3264,3264,3048,2892,2604,3336,2952,2988,3264,3096,3120,3264,3288,3048,3144,3264,3552,2964,3264,3192,3240,3852,3612,3420,3432,4128,3540,3708,3816,3732,3636,3408,3636,3864,3660,3936,3756,3984,4008,3912,3972,4104,3768,4008,3840,4068,3996,4116,4560,4440,4356,4236,4368,4620,4548,4308,4560,4212,4224,4344,4440,4800,4572,4236,4884,5088,5400,5220,4956,5160,4824,4944,4716,5532,5568,5340,5304,5604,5688,5352,6024,6000,5820,6252,5892,6024,6096,6204,6384,5772,6588,6300,6744,6228,6456,6312,7044,7104,6828,7092,6984,7248,6756,7512,7716,7848,7200,7824,7632,8100,8112,8484,7464,8016,9012,8568,8820,8616,9324,8688,9012,8964,9432,9636,8352,9936,10320,9060,10356,10560,10464,10224,10860,10836,10740,11772,10824,11040,10800,11640,12024,11616,11532,12144,12552,12192,12360,12312,12780,13140,13260,13296,14268,13452,14004,13596,14172,14280,14280,15180,14892,15900,15264,15504,16452,16128,15696,16224,16236,16332,17196,17184,17352,17196,17892,16992,18684,18168,19224,19104,18552,18348,19836,18696,19128,19704,19152,19872,19992,19752,20472,20580,21528,21084,21084,21360,21744,20976,21240,21060,21600,22812,21864,22524,21732,21348,21540,22296,21060,22380,22140,21804,21684,20880,21480,21108,21000,20976,21012,20400,18852,19680,20316,20748,19668,20004,20040,18612,18372,18228,18576,17760,17712,17268,17652,16704,17160,16692,16272,16008,15204,15072,14784,14664,14076,14712,13764,13092,13428,12936,12792,12864,11664,11664,11604,11052,10860,10776,10908,10452,10080,10236,10572,9348,8904,9252,8784,8940,8136,9048,7812,7320,7656,6888,7212,6756,6492,6612,6516,7056,6456,6840,6036,5868,6432,6060,5364,5076,5244,5460,4848,5112,4740,4368,4788,5016,4080,4644,4536,4080,4068,4476,3888,3840,3828,4068,3444,3516,3372,3288,3468,3264,3204,2820,2952,2868,2952,2664,2676,2772,2712,2448,2700,2412,3000,2316,2484,2172,2520,2340,2376,2280,2388,2172,1992,1860,1896,2112,1884,1824,1800,1824,1536,1692,1608,1704,1548,1548,1656,1536,1188,1488,1284,1392,1344,1416,1248,1440,1152,1272,1116,1296,1188,1020,1128,852,1080,1020,948,900,924,864,900,732,936,852,684,684,684,720,768,852,528,564,780,660,636,684,684,588,528,636,504,648,696,540,456,516,588,600,480,588,468,360,288,444,588,396,420,360,372,504,336,336,276,444,288,276,312,324,384,288,300,228,300,216,204,252,180,132,216,168,144,120,144,156,228,252,312,228,252,168,240,408,504,720,912,1068,1272,1956,2520,2904,3552,3792,4968,4740,5040,5172,5676,5472,5112,4608,4092,3696,2700,2448,2196,1704,1404,1476,972,1020,828,696,564,480,492,396,396,300,252,240,216,144,120,132,72,60,24,12,12,0,0,0,0,0,0,0,12,12,0,0,0,0,0,0,0,12,0,0,0,0,0,0,0,0,0,0,0,0,0,0,0,0,0,0,0,0,0,0,0,0,0,0,0,0,12,0,12,0,0,0,0,12,0,0,0,0,0,0,12,0,0,0,0,0,0,12,0,0,0,12,0,0,12,12,0,24,24,36,12,36,60,12,12,12,24,12,12,12,12,0,0,12,0,0,0,24,0,0,12,0,0,0,12,0,0,0,0,0,0,0,0,0,0,0,0,0,0,0,0,0,0,0,0,0,0,0,0,0,0,0,0,0,0,0,0,0,0,0,0,0,0,0,0,0,0,0,0,0,0,0,0,0,0,0,0,0,0,0,0,0,12]}],\"opt\":[\"\",\"\"]},\"fExecs\":null,\"fName\":\"c1\",\"fTitle\":\"c1\",\"fNumPaletteColor\":0,\"fNextPaletteColor\":0,\"fDISPLAY\":\"$DISPLAY\",\"fDoubleBuffer\":0,\"fRetained\":true,\"fXsizeUser\":0,\"fYsizeUser\":0,\"fXsizeReal\":20,\"fYsizeReal\":14.28571,\"fWindowTopX\":0,\"fWindowTopY\":0,\"fWindowWidth\":0,\"fWindowHeight\":0,\"fCw\":696,\"fCh\":472,\"fCatt\":{\"_typename\":\"TAttCanvas\",\"fXBetween\":2,\"fYBetween\":2,\"fTitleFromTop\":1.2,\"fXdate\":0.2,\"fYdate\":0.3,\"fAdate\":1},\"kMoveOpaque\":true,\"kResizeOpaque\":true,\"fHighLightColor\":2,\"fBatch\":true,\"kShowEventStatus\":false,\"kAutoExec\":true,\"kMenuBar\":true});\n",
       "            Core.draw(\"root_plot_1696855328396\", obj, \"\");\n",
       "        }\n",
       "    );\n",
       "}\n",
       "</script>\n"
      ],
      "text/plain": [
       "<IPython.core.display.HTML object>"
      ]
     },
     "metadata": {},
     "output_type": "display_data"
    },
    {
     "name": "stdout",
     "output_type": "stream",
     "text": [
      "itheta=5\talpha0:88416"
     ]
    }
   ],
   "source": [
    "h[itheta]->GetXaxis()->SetRangeUser(2000,8000);\n",
    "h[itheta]->Draw();\n",
    "c1->Draw();\n",
    "cout<<\"itheta=\"<<itheta<<'\\t'<<\"alpha0:\"<<h[itheta]->Integral(h[itheta]->FindBin(6300),h[itheta]->FindBin(6700));\n",
    "itheta++;"
   ]
  },
  {
   "cell_type": "code",
   "execution_count": 15,
   "id": "ed71cfa1",
   "metadata": {},
   "outputs": [
    {
     "data": {
      "text/html": [
       "\n",
       "<div id=\"root_plot_1696855328501\"\n",
       "     style=\"width: 696px; height: 472px\">\n",
       "</div>\n",
       "<script>\n",
       "if (typeof require !== 'undefined') {\n",
       "\n",
       "    // All requirements met (we are in jupyter notebooks or we loaded requirejs before).\n",
       "    display_root_plot_1696855328501();\n",
       "\n",
       "} else {\n",
       "\n",
       "    // We are in jupyterlab, we need to insert requirejs and configure it.\n",
       "    // Jupyterlab might be installed in a different base_url so we need to know it.\n",
       "    try {\n",
       "        var base_url = JSON.parse(document.getElementById('jupyter-config-data').innerHTML).baseUrl;\n",
       "    } catch(_) {\n",
       "        var base_url = '/';\n",
       "    }\n",
       "\n",
       "    // Try loading a local version of requirejs and fallback to cdn if not possible.\n",
       "    requirejs_load(base_url + 'static/components/requirejs/require.js', requirejs_success(base_url), function(){\n",
       "        requirejs_load('https://cdnjs.cloudflare.com/ajax/libs/require.js/2.2.0/require.min.js', requirejs_success(base_url), function(){\n",
       "            document.getElementById(\"root_plot_1696855328501\").innerHTML = \"Failed to load requireJs\";\n",
       "        });\n",
       "    });\n",
       "}\n",
       "\n",
       "function requirejs_load(src, on_load, on_error) {\n",
       "    var script = document.createElement('script');\n",
       "    script.src = src;\n",
       "    script.onload = on_load;\n",
       "    script.onerror = on_error;\n",
       "    document.head.appendChild(script);\n",
       "}\n",
       "\n",
       "function requirejs_success(base_url) {\n",
       "    return function() {\n",
       "        require.config({\n",
       "            baseUrl: base_url + 'static/'\n",
       "        });\n",
       "        display_root_plot_1696855328501();\n",
       "    }\n",
       "}\n",
       "\n",
       "function display_root_plot_1696855328501() {\n",
       "    require(['scripts/JSRootCore'],\n",
       "        function(Core) {\n",
       "            var obj = Core.JSONR_unref({\"_typename\":\"TCanvas\",\"fUniqueID\":0,\"fBits\":3342344,\"fLineColor\":1,\"fLineStyle\":1,\"fLineWidth\":1,\"fFillColor\":0,\"fFillStyle\":1001,\"fLeftMargin\":0.1,\"fRightMargin\":0.1,\"fBottomMargin\":0.1,\"fTopMargin\":0.1,\"fXfile\":2,\"fYfile\":2,\"fAfile\":1,\"fXstat\":0.99,\"fYstat\":0.99,\"fAstat\":2,\"fFrameFillColor\":0,\"fFrameLineColor\":1,\"fFrameFillStyle\":1001,\"fFrameLineStyle\":1,\"fFrameLineWidth\":1,\"fFrameBorderSize\":1,\"fFrameBorderMode\":0,\"fX1\":1249.99994412064,\"fY1\":-2805.46895902372,\"fX2\":8750.00005587936,\"fY2\":25249.2189590237,\"fXtoAbsPixelk\":-115.999943085861,\"fXtoPixelk\":-115.999943085861,\"fXtoPixel\":0.0927999986171722,\"fYtoAbsPixelk\":424.800047186661,\"fYtoPixelk\":424.800047186661,\"fYtoPixel\":-0.0168242826788447,\"fUtoAbsPixelk\":5e-5,\"fUtoPixelk\":5e-5,\"fUtoPixel\":696,\"fVtoAbsPixelk\":472.00005,\"fVtoPixelk\":472,\"fVtoPixel\":-472,\"fAbsPixeltoXk\":1249.99994412064,\"fPixeltoXk\":1249.99994412064,\"fPixeltoX\":10.7758622295384,\"fAbsPixeltoYk\":25249.2189590237,\"fPixeltoYk\":-2805.46895902372,\"fPixeltoY\":-59.4378981314564,\"fXlowNDC\":0,\"fYlowNDC\":0,\"fXUpNDC\":1,\"fYUpNDC\":1,\"fWNDC\":1,\"fHNDC\":1,\"fAbsXlowNDC\":0,\"fAbsYlowNDC\":0,\"fAbsWNDC\":1,\"fAbsHNDC\":1,\"fUxmin\":2000,\"fUymin\":0,\"fUxmax\":8000,\"fUymax\":22443.75,\"fTheta\":30,\"fPhi\":30,\"fAspectRatio\":0,\"fNumber\":0,\"fTickx\":0,\"fTicky\":0,\"fLogx\":0,\"fLogy\":0,\"fLogz\":0,\"fPadPaint\":0,\"fCrosshair\":0,\"fCrosshairPos\":0,\"fBorderSize\":2,\"fBorderMode\":0,\"fModified\":false,\"fGridx\":false,\"fGridy\":false,\"fAbsCoord\":false,\"fEditable\":true,\"fFixedAspectRatio\":false,\"fPrimitives\":{\"_typename\":\"TList\",\"name\":\"TList\",\"arr\":[{\"_typename\":\"TFrame\",\"fUniqueID\":0,\"fBits\":8,\"fLineColor\":1,\"fLineStyle\":1,\"fLineWidth\":1,\"fFillColor\":0,\"fFillStyle\":1001,\"fX1\":2000,\"fY1\":0,\"fX2\":8000,\"fY2\":22443.75,\"fBorderSize\":1,\"fBorderMode\":0},{\"_typename\":\"TH1I\",\"fUniqueID\":0,\"fBits\":8,\"fName\":\"hsingle_90deg\",\"fTitle\":\"\",\"fLineColor\":602,\"fLineStyle\":1,\"fLineWidth\":1,\"fFillColor\":0,\"fFillStyle\":1001,\"fMarkerColor\":1,\"fMarkerStyle\":1,\"fMarkerSize\":1,\"fNcells\":1002,\"fXaxis\":{\"_typename\":\"TAxis\",\"fUniqueID\":0,\"fBits\":2048,\"fName\":\"xaxis\",\"fTitle\":\"\",\"fNdivisions\":510,\"fAxisColor\":1,\"fLabelColor\":1,\"fLabelFont\":42,\"fLabelOffset\":0.005,\"fLabelSize\":0.035,\"fTickLength\":0.03,\"fTitleOffset\":1,\"fTitleSize\":0.035,\"fTitleColor\":1,\"fTitleFont\":42,\"fNbins\":1000,\"fXmin\":0,\"fXmax\":8000,\"fXbins\":[],\"fFirst\":251,\"fLast\":1000,\"fBits2\":0,\"fTimeDisplay\":false,\"fTimeFormat\":\"\",\"fLabels\":null,\"fModLabs\":null},\"fYaxis\":{\"_typename\":\"TAxis\",\"fUniqueID\":0,\"fBits\":0,\"fName\":\"yaxis\",\"fTitle\":\"\",\"fNdivisions\":510,\"fAxisColor\":1,\"fLabelColor\":1,\"fLabelFont\":42,\"fLabelOffset\":0.005,\"fLabelSize\":0.035,\"fTickLength\":0.03,\"fTitleOffset\":0,\"fTitleSize\":0.035,\"fTitleColor\":1,\"fTitleFont\":42,\"fNbins\":1,\"fXmin\":0,\"fXmax\":1,\"fXbins\":[],\"fFirst\":0,\"fLast\":0,\"fBits2\":0,\"fTimeDisplay\":false,\"fTimeFormat\":\"\",\"fLabels\":null,\"fModLabs\":null},\"fZaxis\":{\"_typename\":\"TAxis\",\"fUniqueID\":0,\"fBits\":0,\"fName\":\"zaxis\",\"fTitle\":\"\",\"fNdivisions\":510,\"fAxisColor\":1,\"fLabelColor\":1,\"fLabelFont\":42,\"fLabelOffset\":0.005,\"fLabelSize\":0.035,\"fTickLength\":0.03,\"fTitleOffset\":1,\"fTitleSize\":0.035,\"fTitleColor\":1,\"fTitleFont\":42,\"fNbins\":1,\"fXmin\":0,\"fXmax\":1,\"fXbins\":[],\"fFirst\":0,\"fLast\":0,\"fBits2\":0,\"fTimeDisplay\":false,\"fTimeFormat\":\"\",\"fLabels\":null,\"fModLabs\":null},\"fBarOffset\":0,\"fBarWidth\":1000,\"fEntries\":11558773,\"fTsumw\":295087195.28831,\"fTsumw2\":7533365379.62616,\"fTsumwx\":276149280420.38,\"fTsumwx2\":301973574120746,\"fMaximum\":-1111,\"fMinimum\":-1111,\"fNormFactor\":0,\"fContour\":[],\"fSumw2\":[],\"fOption\":\"\",\"fFunctions\":{\"_typename\":\"TList\",\"name\":\"TList\",\"arr\":[{\"_typename\":\"TPaveStats\",\"fUniqueID\":0,\"fBits\":9,\"fLineColor\":1,\"fLineStyle\":1,\"fLineWidth\":1,\"fFillColor\":0,\"fFillStyle\":1001,\"fX1\":7100.00015199185,\"fY1\":18936.914344682,\"fX2\":8600.00019669533,\"fY2\":23425.6643112382,\"fX1NDC\":0.780000016093254,\"fY1NDC\":0.775000005960464,\"fX2NDC\":0.980000019073486,\"fY2NDC\":0.935000002384186,\"fBorderSize\":1,\"fInit\":1,\"fShadowColor\":1,\"fCornerRadius\":0,\"fOption\":\"brNDC\",\"fName\":\"stats\",\"fTextAngle\":0,\"fTextSize\":0,\"fTextAlign\":12,\"fTextColor\":1,\"fTextFont\":42,\"fLabel\":\"\",\"fLongest\":24,\"fMargin\":0.05,\"fLines\":{\"_typename\":\"TList\",\"name\":\"TList\",\"arr\":[{\"_typename\":\"TLatex\",\"fUniqueID\":0,\"fBits\":0,\"fName\":\"\",\"fTitle\":\"hsingle_90deg\",\"fTextAngle\":0,\"fTextSize\":0.0368,\"fTextAlign\":0,\"fTextColor\":0,\"fTextFont\":0,\"fX\":0,\"fY\":0,\"fLineColor\":1,\"fLineStyle\":1,\"fLineWidth\":2,\"fLimitFactorSize\":3,\"fOriginSize\":0.0368000008165836},{\"_typename\":\"TLatex\",\"fUniqueID\":0,\"fBits\":0,\"fName\":\"\",\"fTitle\":\"Entries =   1.155877e+07\",\"fTextAngle\":0,\"fTextSize\":0,\"fTextAlign\":0,\"fTextColor\":0,\"fTextFont\":0,\"fX\":0,\"fY\":0,\"fLineColor\":1,\"fLineStyle\":1,\"fLineWidth\":2,\"fLimitFactorSize\":3,\"fOriginSize\":0.04},{\"_typename\":\"TLatex\",\"fUniqueID\":0,\"fBits\":0,\"fName\":\"\",\"fTitle\":\"Mean  =   4104\",\"fTextAngle\":0,\"fTextSize\":0,\"fTextAlign\":0,\"fTextColor\":0,\"fTextFont\":0,\"fX\":0,\"fY\":0,\"fLineColor\":1,\"fLineStyle\":1,\"fLineWidth\":2,\"fLimitFactorSize\":3,\"fOriginSize\":0.04},{\"_typename\":\"TLatex\",\"fUniqueID\":0,\"fBits\":0,\"fName\":\"\",\"fTitle\":\"Std Dev   =  831.5\",\"fTextAngle\":0,\"fTextSize\":0,\"fTextAlign\":0,\"fTextColor\":0,\"fTextFont\":0,\"fX\":0,\"fY\":0,\"fLineColor\":1,\"fLineStyle\":1,\"fLineWidth\":2,\"fLimitFactorSize\":3,\"fOriginSize\":0.04}],\"opt\":[\"\",\"\",\"\",\"\"]},\"fOptFit\":0,\"fOptStat\":1111,\"fFitFormat\":\"5.4g\",\"fStatFormat\":\"6.4g\",\"fParent\":{\"$ref\":3}}],\"opt\":[\"brNDC\"]},\"fBufferSize\":0,\"fBuffer\":[],\"fBinStatErrOpt\":0,\"fStatOverflows\":2,\"fArray\":[0,0,0,0,0,0,7250,14800,86525,106175,76125,56100,47800,43750,45175,50975,62375,80050,98100,116900,126650,139200,148525,152425,160450,163000,165750,169225,169675,177625,178575,184575,189475,187100,192725,199250,200000,200275,202800,202675,194600,191700,187800,183750,183125,179400,176725,172400,171600,168300,168875,165125,163500,160825,162275,156500,156275,156325,157900,155325,153100,152450,152675,153700,152900,148850,149250,150225,147500,142200,142600,141425,146525,144425,147950,140000,146575,139975,143050,142475,145650,143175,140950,147275,148425,150275,157000,163000,174125,189050,205225,233225,262925,302100,356075,419025,522900,654475,843150,1129975,1566925,2223550,3246550,4759000,6885925,9471725,12164300,13981800,14032450,12644225,11565675,11448100,11246925,10011725,8267875,7095425,6575500,6628950,7144250,8121675,9816900,11940875,13571325,13144200,10693050,7956875,5968525,4608200,3614425,2908200,2359850,1976425,1633275,1388275,1183675,1043900,913150,800425,698700,599200,494575,382425,254100,155850,92000,59750,40500,29425,24625,20900,17875,16400,15025,14000,12575,10925,12000,10725,10175,10000,9900,8725,8700,7875,8825,8975,8000,8400,7650,8125,7325,7375,7950,8325,7700,7800,8300,7400,8200,8250,8125,7500,8075,7550,7275,8100,7000,7300,7300,7750,8175,8300,7400,7550,7625,7450,8550,7775,7225,8950,7800,7750,8175,7900,7825,8150,7625,7325,8150,8450,9000,9150,8125,8450,8275,9300,9025,8425,8225,8725,8100,9225,8800,8050,9025,8700,9175,8825,7650,8175,7525,8000,7850,7350,6375,7125,5900,7300,6275,6725,5550,6775,6250,6500,5550,5700,5525,5100,4475,5150,4800,4425,4700,4525,4200,4025,4350,3675,3400,3600,3725,3675,3725,3400,2825,3375,3350,3325,3250,3125,3125,2975,3225,2925,2775,2800,2750,3150,3100,2600,3125,3325,2650,3250,3275,2700,2900,2825,2975,3375,2925,2775,2775,3300,2825,2400,2775,3375,2575,2925,2900,2450,2925,2200,3000,2775,3075,2625,2625,2750,3125,2575,3075,2925,3425,3125,2475,2575,2850,2600,2225,2775,2625,3200,2050,2900,2575,2600,2850,2800,2925,2675,2825,3525,2775,2650,2125,3150,2350,3000,3375,3500,3000,3250,2875,2850,2950,3200,3025,3250,2875,3325,2825,2875,3250,3450,3075,3000,3500,3200,3225,3400,2725,3300,3125,2950,3600,3350,3275,3100,3750,3275,3300,3425,3300,3250,2975,3500,3575,3850,3525,3625,3675,3550,3175,4075,3900,3550,3900,3975,4150,3825,4125,3725,4300,4250,4100,4050,4200,4050,4325,3675,5250,4375,3900,4000,4275,4325,4425,4350,4600,4675,4550,4875,5350,4950,5275,4925,5025,5250,5000,4725,4900,5525,5150,5225,5875,6200,5325,5800,5950,6275,5800,5925,6225,5475,5425,5875,6025,6525,6975,6550,6300,6875,6825,7100,7350,7050,7625,7900,6900,7875,7575,8375,8225,7400,7500,7500,7650,8000,7800,9400,8775,8600,9500,9575,9825,9250,9175,9125,9400,9700,10050,9175,9500,10700,10850,10375,11225,10250,10675,10400,11250,10875,11900,11700,10725,12275,11375,12150,11675,13300,13125,12125,13225,12675,13125,12675,14200,12950,13025,13825,14875,14400,14750,15275,15600,14450,14200,16225,15250,16650,17250,15725,15150,15900,17125,16550,17500,17950,17375,16800,18450,17050,17525,19100,17400,19925,18250,18725,20375,19525,18775,20400,21375,20150,21050,19450,20450,20200,21225,20500,20125,21075,19475,21275,20900,21025,20175,20575,20500,20925,19475,19100,19675,20850,19150,20350,19400,19075,19225,18825,18450,19250,19350,19225,17725,18350,18025,17575,17375,16725,18125,16825,16175,15825,15075,16525,15025,15075,13900,14525,13825,12875,13325,13175,12850,12525,12700,11975,11725,11500,10800,11250,10850,10350,9875,10100,10650,10100,9500,9200,8600,8575,8750,8925,7550,8000,7550,8000,7425,7475,6950,6275,6625,6275,6500,6400,6125,6475,6300,5925,5400,5975,4675,5000,5225,4400,4375,4850,3950,4425,4375,4600,4425,4175,4300,4025,3875,4025,4350,3650,3600,3675,3300,3275,3500,3825,3450,2800,3400,3500,3050,3050,2650,2775,2200,3000,2700,2525,2700,2200,2425,2325,2350,2225,2275,1500,2125,2475,2025,2100,1675,1875,1575,2075,1800,1775,1500,1925,1325,1525,1800,1400,1200,1475,1275,1325,1475,1375,1100,1500,1425,1275,800,1100,1100,1275,925,1000,1150,900,1050,1100,850,975,700,925,950,800,950,1075,975,775,675,925,700,725,825,750,625,550,650,500,500,700,775,725,625,475,325,800,375,400,550,525,525,475,475,375,475,300,350,375,575,500,375,125,225,225,325,300,375,325,350,175,150,200,250,250,225,350,250,150,75,250,125,50,175,150,275,50,250,100,150,125,125,200,225,250,175,250,425,200,300,300,525,650,1075,1100,2125,2150,3425,4975,5125,5700,5750,6200,4675,5225,3575,3050,3000,2500,1950,1350,1200,1250,900,725,725,675,525,750,375,475,350,450,250,225,125,25,50,75,25,25,25,0,0,0,0,0,0,0,0,0,0,0,0,0,0,0,0,0,0,0,0,0,0,0,0,0,0,0,0,0,0,0,0,0,0,0,0,0,0,0,0,0,0,0,0,0,0,0,0,0,0,0,0,0,0,0,0,0,0,0,25,0,0,0,25,0,0,0,0,0,0,0,0,0,0,0,0,0,25,0,25,0,0,75,50,25,0,25,25,0,0,50,0,0,25,75,0,0,0,0,0,0,0,0,0,0,0,0,0,0,0,0,0,0,0,0,0,0,0,0,0,0,0,0,0,0,0,0,0,0,0,0,0,0,0,0,0,0,0,0,0,0,0,0,0,0,0,0,0,0,0,0,0,0,0,0,0,0,0,0,0,0,0,0,0,0,0,0,0,0,0,0,0,0,0,25]}],\"opt\":[\"\",\"\"]},\"fExecs\":null,\"fName\":\"c1\",\"fTitle\":\"c1\",\"fNumPaletteColor\":0,\"fNextPaletteColor\":0,\"fDISPLAY\":\"$DISPLAY\",\"fDoubleBuffer\":0,\"fRetained\":true,\"fXsizeUser\":0,\"fYsizeUser\":0,\"fXsizeReal\":20,\"fYsizeReal\":14.28571,\"fWindowTopX\":0,\"fWindowTopY\":0,\"fWindowWidth\":0,\"fWindowHeight\":0,\"fCw\":696,\"fCh\":472,\"fCatt\":{\"_typename\":\"TAttCanvas\",\"fXBetween\":2,\"fYBetween\":2,\"fTitleFromTop\":1.2,\"fXdate\":0.2,\"fYdate\":0.3,\"fAdate\":1},\"kMoveOpaque\":true,\"kResizeOpaque\":true,\"fHighLightColor\":2,\"fBatch\":true,\"kShowEventStatus\":false,\"kAutoExec\":true,\"kMenuBar\":true});\n",
       "            Core.draw(\"root_plot_1696855328501\", obj, \"\");\n",
       "        }\n",
       "    );\n",
       "}\n",
       "</script>\n"
      ],
      "text/plain": [
       "<IPython.core.display.HTML object>"
      ]
     },
     "metadata": {},
     "output_type": "display_data"
    },
    {
     "name": "stdout",
     "output_type": "stream",
     "text": [
      "itheta=6\talpha0:74575"
     ]
    }
   ],
   "source": [
    "h[itheta]->GetXaxis()->SetRangeUser(2000,8000);\n",
    "h[itheta]->Draw();\n",
    "c1->Draw();\n",
    "cout<<\"itheta=\"<<itheta<<'\\t'<<\"alpha0:\"<<h[itheta]->Integral(h[itheta]->FindBin(6250),h[itheta]->FindBin(6600));\n",
    "itheta++;"
   ]
  },
  {
   "cell_type": "code",
   "execution_count": 16,
   "id": "c3b66a90",
   "metadata": {},
   "outputs": [
    {
     "data": {
      "text/html": [
       "\n",
       "<div id=\"root_plot_1696855328607\"\n",
       "     style=\"width: 696px; height: 472px\">\n",
       "</div>\n",
       "<script>\n",
       "if (typeof require !== 'undefined') {\n",
       "\n",
       "    // All requirements met (we are in jupyter notebooks or we loaded requirejs before).\n",
       "    display_root_plot_1696855328607();\n",
       "\n",
       "} else {\n",
       "\n",
       "    // We are in jupyterlab, we need to insert requirejs and configure it.\n",
       "    // Jupyterlab might be installed in a different base_url so we need to know it.\n",
       "    try {\n",
       "        var base_url = JSON.parse(document.getElementById('jupyter-config-data').innerHTML).baseUrl;\n",
       "    } catch(_) {\n",
       "        var base_url = '/';\n",
       "    }\n",
       "\n",
       "    // Try loading a local version of requirejs and fallback to cdn if not possible.\n",
       "    requirejs_load(base_url + 'static/components/requirejs/require.js', requirejs_success(base_url), function(){\n",
       "        requirejs_load('https://cdnjs.cloudflare.com/ajax/libs/require.js/2.2.0/require.min.js', requirejs_success(base_url), function(){\n",
       "            document.getElementById(\"root_plot_1696855328607\").innerHTML = \"Failed to load requireJs\";\n",
       "        });\n",
       "    });\n",
       "}\n",
       "\n",
       "function requirejs_load(src, on_load, on_error) {\n",
       "    var script = document.createElement('script');\n",
       "    script.src = src;\n",
       "    script.onload = on_load;\n",
       "    script.onerror = on_error;\n",
       "    document.head.appendChild(script);\n",
       "}\n",
       "\n",
       "function requirejs_success(base_url) {\n",
       "    return function() {\n",
       "        require.config({\n",
       "            baseUrl: base_url + 'static/'\n",
       "        });\n",
       "        display_root_plot_1696855328607();\n",
       "    }\n",
       "}\n",
       "\n",
       "function display_root_plot_1696855328607() {\n",
       "    require(['scripts/JSRootCore'],\n",
       "        function(Core) {\n",
       "            var obj = Core.JSONR_unref({\"_typename\":\"TCanvas\",\"fUniqueID\":0,\"fBits\":3342344,\"fLineColor\":1,\"fLineStyle\":1,\"fLineWidth\":1,\"fFillColor\":0,\"fFillStyle\":1001,\"fLeftMargin\":0.1,\"fRightMargin\":0.1,\"fBottomMargin\":0.1,\"fTopMargin\":0.1,\"fXfile\":2,\"fYfile\":2,\"fAfile\":1,\"fXstat\":0.99,\"fYstat\":0.99,\"fAstat\":2,\"fFrameFillColor\":0,\"fFrameLineColor\":1,\"fFrameFillStyle\":1001,\"fFrameLineStyle\":1,\"fFrameLineWidth\":1,\"fFrameBorderSize\":1,\"fFrameBorderMode\":0,\"fX1\":1249.99994412064,\"fY1\":-3281.38149448197,\"fX2\":8750.00005587936,\"fY2\":29532.431494482,\"fXtoAbsPixelk\":-115.999943085861,\"fXtoPixelk\":-115.999943085861,\"fXtoPixel\":0.0927999986171722,\"fYtoAbsPixelk\":424.800047186661,\"fYtoPixelk\":424.800047186661,\"fYtoPixel\":-0.0143841863229593,\"fUtoAbsPixelk\":5e-5,\"fUtoPixelk\":5e-5,\"fUtoPixel\":696,\"fVtoAbsPixelk\":472.00005,\"fVtoPixelk\":472,\"fVtoPixel\":-472,\"fAbsPixeltoXk\":1249.99994412064,\"fPixeltoXk\":1249.99994412064,\"fPixeltoX\":10.7758622295384,\"fAbsPixeltoYk\":29532.431494482,\"fPixeltoYk\":-3281.38149448197,\"fPixeltoY\":-69.5207902308558,\"fXlowNDC\":0,\"fYlowNDC\":0,\"fXUpNDC\":1,\"fYUpNDC\":1,\"fWNDC\":1,\"fHNDC\":1,\"fAbsXlowNDC\":0,\"fAbsYlowNDC\":0,\"fAbsWNDC\":1,\"fAbsHNDC\":1,\"fUxmin\":2000,\"fUymin\":0,\"fUxmax\":8000,\"fUymax\":26251.05,\"fTheta\":30,\"fPhi\":30,\"fAspectRatio\":0,\"fNumber\":0,\"fTickx\":0,\"fTicky\":0,\"fLogx\":0,\"fLogy\":0,\"fLogz\":0,\"fPadPaint\":0,\"fCrosshair\":0,\"fCrosshairPos\":0,\"fBorderSize\":2,\"fBorderMode\":0,\"fModified\":false,\"fGridx\":false,\"fGridy\":false,\"fAbsCoord\":false,\"fEditable\":true,\"fFixedAspectRatio\":false,\"fPrimitives\":{\"_typename\":\"TList\",\"name\":\"TList\",\"arr\":[{\"_typename\":\"TFrame\",\"fUniqueID\":0,\"fBits\":8,\"fLineColor\":1,\"fLineStyle\":1,\"fLineWidth\":1,\"fFillColor\":0,\"fFillStyle\":1001,\"fX1\":2000,\"fY1\":0,\"fX2\":8000,\"fY2\":26251.05,\"fBorderSize\":1,\"fBorderMode\":0},{\"_typename\":\"TH1I\",\"fUniqueID\":0,\"fBits\":8,\"fName\":\"hsingle_95deg\",\"fTitle\":\"\",\"fLineColor\":602,\"fLineStyle\":1,\"fLineWidth\":1,\"fFillColor\":0,\"fFillStyle\":1001,\"fMarkerColor\":1,\"fMarkerStyle\":1,\"fMarkerSize\":1,\"fNcells\":1002,\"fXaxis\":{\"_typename\":\"TAxis\",\"fUniqueID\":0,\"fBits\":2048,\"fName\":\"xaxis\",\"fTitle\":\"\",\"fNdivisions\":510,\"fAxisColor\":1,\"fLabelColor\":1,\"fLabelFont\":42,\"fLabelOffset\":0.005,\"fLabelSize\":0.035,\"fTickLength\":0.03,\"fTitleOffset\":1,\"fTitleSize\":0.035,\"fTitleColor\":1,\"fTitleFont\":42,\"fNbins\":1000,\"fXmin\":0,\"fXmax\":8000,\"fXbins\":[],\"fFirst\":251,\"fLast\":1000,\"fBits2\":0,\"fTimeDisplay\":false,\"fTimeFormat\":\"\",\"fLabels\":null,\"fModLabs\":null},\"fYaxis\":{\"_typename\":\"TAxis\",\"fUniqueID\":0,\"fBits\":0,\"fName\":\"yaxis\",\"fTitle\":\"\",\"fNdivisions\":510,\"fAxisColor\":1,\"fLabelColor\":1,\"fLabelFont\":42,\"fLabelOffset\":0.005,\"fLabelSize\":0.035,\"fTickLength\":0.03,\"fTitleOffset\":0,\"fTitleSize\":0.035,\"fTitleColor\":1,\"fTitleFont\":42,\"fNbins\":1,\"fXmin\":0,\"fXmax\":1,\"fXbins\":[],\"fFirst\":0,\"fLast\":0,\"fBits2\":0,\"fTimeDisplay\":false,\"fTimeFormat\":\"\",\"fLabels\":null,\"fModLabs\":null},\"fZaxis\":{\"_typename\":\"TAxis\",\"fUniqueID\":0,\"fBits\":0,\"fName\":\"zaxis\",\"fTitle\":\"\",\"fNdivisions\":510,\"fAxisColor\":1,\"fLabelColor\":1,\"fLabelFont\":42,\"fLabelOffset\":0.005,\"fLabelSize\":0.035,\"fTickLength\":0.03,\"fTitleOffset\":1,\"fTitleSize\":0.035,\"fTitleColor\":1,\"fTitleFont\":42,\"fNbins\":1,\"fXmin\":0,\"fXmax\":1,\"fXbins\":[],\"fFirst\":0,\"fLast\":0,\"fBits2\":0,\"fTimeDisplay\":false,\"fTimeFormat\":\"\",\"fLabels\":null,\"fModLabs\":null},\"fBarOffset\":0,\"fBarWidth\":1000,\"fEntries\":12023389,\"fTsumw\":281937386.2498,\"fTsumw2\":6611171756.47712,\"fTsumwx\":256246429589.807,\"fTsumwx2\":282278387281030,\"fMaximum\":-1111,\"fMinimum\":-1111,\"fNormFactor\":0,\"fContour\":[],\"fSumw2\":[],\"fOption\":\"\",\"fFunctions\":{\"_typename\":\"TList\",\"name\":\"TList\",\"arr\":[{\"_typename\":\"TPaveStats\",\"fUniqueID\":0,\"fBits\":9,\"fLineColor\":1,\"fLineStyle\":1,\"fLineWidth\":1,\"fFillColor\":0,\"fFillStyle\":1001,\"fX1\":7100.00015199185,\"fY1\":22149.3237675506,\"fX2\":8600.00019669533,\"fY2\":27399.5337284335,\"fX1NDC\":0.780000016093254,\"fY1NDC\":0.775000005960464,\"fX2NDC\":0.980000019073486,\"fY2NDC\":0.935000002384186,\"fBorderSize\":1,\"fInit\":1,\"fShadowColor\":1,\"fCornerRadius\":0,\"fOption\":\"brNDC\",\"fName\":\"stats\",\"fTextAngle\":0,\"fTextSize\":0,\"fTextAlign\":12,\"fTextColor\":1,\"fTextFont\":42,\"fLabel\":\"\",\"fLongest\":24,\"fMargin\":0.05,\"fLines\":{\"_typename\":\"TList\",\"name\":\"TList\",\"arr\":[{\"_typename\":\"TLatex\",\"fUniqueID\":0,\"fBits\":0,\"fName\":\"\",\"fTitle\":\"hsingle_95deg\",\"fTextAngle\":0,\"fTextSize\":0.0368,\"fTextAlign\":0,\"fTextColor\":0,\"fTextFont\":0,\"fX\":0,\"fY\":0,\"fLineColor\":1,\"fLineStyle\":1,\"fLineWidth\":2,\"fLimitFactorSize\":3,\"fOriginSize\":0.0368000008165836},{\"_typename\":\"TLatex\",\"fUniqueID\":0,\"fBits\":0,\"fName\":\"\",\"fTitle\":\"Entries =   1.202339e+07\",\"fTextAngle\":0,\"fTextSize\":0,\"fTextAlign\":0,\"fTextColor\":0,\"fTextFont\":0,\"fX\":0,\"fY\":0,\"fLineColor\":1,\"fLineStyle\":1,\"fLineWidth\":2,\"fLimitFactorSize\":3,\"fOriginSize\":0.04},{\"_typename\":\"TLatex\",\"fUniqueID\":0,\"fBits\":0,\"fName\":\"\",\"fTitle\":\"Mean  =   4069\",\"fTextAngle\":0,\"fTextSize\":0,\"fTextAlign\":0,\"fTextColor\":0,\"fTextFont\":0,\"fX\":0,\"fY\":0,\"fLineColor\":1,\"fLineStyle\":1,\"fLineWidth\":2,\"fLimitFactorSize\":3,\"fOriginSize\":0.04},{\"_typename\":\"TLatex\",\"fUniqueID\":0,\"fBits\":0,\"fName\":\"\",\"fTitle\":\"Std Dev   =  793.8\",\"fTextAngle\":0,\"fTextSize\":0,\"fTextAlign\":0,\"fTextColor\":0,\"fTextFont\":0,\"fX\":0,\"fY\":0,\"fLineColor\":1,\"fLineStyle\":1,\"fLineWidth\":2,\"fLimitFactorSize\":3,\"fOriginSize\":0.04}],\"opt\":[\"\",\"\",\"\",\"\"]},\"fOptFit\":0,\"fOptStat\":1111,\"fFitFormat\":\"5.4g\",\"fStatFormat\":\"6.4g\",\"fParent\":{\"$ref\":3}}],\"opt\":[\"brNDC\"]},\"fBufferSize\":0,\"fBuffer\":[],\"fBinStatErrOpt\":0,\"fStatOverflows\":2,\"fArray\":[0,0,0,0,0,0,345,483,897,6141,7935,9453,9959,11776,13156,13593,18124,23115,31165,49381,81466,123533,177652,235083,276943,302335,318044,332649,344425,366482,366666,380351,394335,405743,412367,425546,430514,449489,457194,464393,470212,468786,469591,465083,467153,467498,458781,453100,455308,460115,451766,455607,451858,452088,443279,447672,453077,459425,451007,447281,450984,449420,444291,448086,450432,453422,450984,452502,453353,452134,445073,448799,449489,454595,448914,448822,454066,456458,450846,451260,462645,458091,459563,460092,459908,465566,468786,490153,513061,524860,547009,562672,576219,614859,650670,701431,765555,833497,972831,1180866,1560895,2313455,3732072,6309866,10447405,14544234,15093911,11921383,8487989,7084529,7871911,9338966,9234408,7250980,5457026,4682409,4587350,4723096,4918780,5369948,6378728,8343641,11322808,13497895,11918025,7903628,4852425,3399032,2742313,2389447,2124625,1926756,1791378,1702621,1597741,1439639,1278455,1129461,992128,861189,741313,583372,396566,199571,93127,52072,39330,31717,24403,21321,20631,17227,17457,15295,15134,13363,12995,12742,12535,11385,11155,10465,10419,9361,10580,9752,9568,9982,8717,9200,9315,9338,7544,9177,8257,8326,8763,7866,7912,8579,8142,7705,7774,8671,7452,7912,8464,8947,7383,7544,7843,7061,7636,7797,7567,7153,7958,7429,7682,7383,7751,7705,7360,7475,7475,7705,8165,7705,8395,7843,7406,7889,8947,7958,7751,7843,7820,7682,7705,7406,7797,7659,7774,7590,6946,7360,7544,7383,7636,7360,6601,6486,6187,6003,5750,6003,5980,6003,5819,5842,6256,5819,5704,5175,5543,5244,4554,5037,5083,4991,3864,4255,4071,4048,3772,3864,3680,3956,3013,3519,3611,3220,3381,3611,2944,3450,2806,3588,2944,3542,3082,3151,3312,3059,3082,3312,3013,3151,3243,3358,3105,3013,2967,2829,2530,3335,3059,2829,3128,3312,2921,2645,2898,3335,3036,2484,3082,2737,2990,2645,2645,3427,2668,2346,2599,2783,2852,2760,2691,3312,2921,2944,2484,2530,2875,2944,3036,2714,2553,2990,2599,2875,2622,2645,3151,2783,3059,3059,2967,2898,3036,2668,2852,3036,3404,3013,2898,3312,2691,2875,3082,3013,2921,3197,2829,2944,2875,3105,3289,2944,3174,3036,3174,3174,3772,3565,3174,3979,3013,3588,3381,3588,3036,3289,3381,3588,3243,2852,3450,3726,3910,3611,3657,3358,4209,4186,3473,3910,4071,4163,3519,3979,3772,3841,4278,4738,4278,3979,4508,4209,3979,4439,4876,4761,4669,4853,4278,4761,4416,4393,5014,4899,5083,5152,4669,4830,4922,5290,5221,4922,5474,5313,5474,5336,6348,5497,6279,6302,5727,6210,5911,5888,6095,6233,6417,6440,6118,6716,7084,6463,6739,6601,7222,6854,7061,6831,7383,7567,7613,7889,7705,7682,7728,8441,8165,8303,8901,8648,8832,8211,8947,9706,8533,9430,8464,9384,9522,9775,10166,9798,11201,10051,10442,10465,10235,10856,10672,10741,11178,11891,10856,10948,11316,12282,11500,12075,12374,11776,12627,13110,13110,13018,13685,14260,13363,14076,14007,14145,13685,14421,14651,14306,15203,14490,16123,17411,15870,15847,16606,16376,16422,17365,16882,16560,17848,18515,17549,17664,19067,20654,18055,20631,19619,19550,19711,19320,21597,19918,21114,22057,22356,20930,22195,22839,21206,21620,22218,20953,23115,23000,22793,22586,22517,22218,25001,23391,23874,22494,24012,23713,23092,22977,21896,22356,24242,22471,21827,22793,21551,22747,22448,21505,21942,20884,21298,20815,22149,20171,22126,20447,21896,21252,20079,20240,18216,19826,17986,18515,17664,18561,17112,16330,15824,15870,14352,15916,15548,14858,12834,13087,13823,13892,12190,12604,11523,13110,11362,12167,10442,11776,10442,11040,9637,10695,9315,10718,9936,9614,9315,8556,8280,8188,7613,7130,7843,7889,7774,7199,7337,6877,7981,7774,6118,6371,5543,6003,5497,5152,4577,5681,5129,4692,5221,4577,4554,4669,4278,4462,4669,4623,4393,4209,4531,4048,3243,3864,4347,3588,3657,3289,3243,2875,2967,2921,2944,3105,3611,3220,2622,2852,2783,2369,2300,2047,2185,2576,2323,2806,2116,2277,2300,2001,2001,2116,2093,1725,2116,1909,1679,1702,1794,1771,1564,1909,1380,1403,1403,1403,1794,1518,1403,1426,1380,1334,1081,851,1403,1357,1449,1357,1311,1173,1196,1012,1173,1242,989,874,989,989,1265,1150,874,828,1173,621,828,667,1058,736,736,897,506,598,713,851,506,690,506,529,483,598,460,506,552,529,437,483,414,345,552,621,391,299,414,483,460,368,414,345,483,322,322,299,345,276,276,207,299,161,230,184,138,115,253,322,207,230,184,184,299,138,138,138,69,138,138,69,207,276,184,299,460,460,621,1081,1495,1564,1679,2691,3128,4807,5313,6348,6026,5520,5382,4393,4232,2668,2484,2162,1932,1679,1426,1679,1564,1081,1127,989,851,1012,667,506,253,184,92,46,69,23,23,0,0,23,0,0,0,0,0,0,23,0,0,0,0,0,0,0,0,0,0,0,0,0,0,0,0,0,0,0,0,0,0,0,0,0,0,0,0,0,0,0,0,0,0,23,0,0,0,0,0,0,0,0,0,0,0,0,0,0,0,0,0,0,0,0,0,0,0,0,0,0,0,0,0,0,0,23,0,0,0,0,23,0,0,0,0,23,23,0,0,0,0,23,46,0,23,46,23,0,69,0,0,23,23,23,0,0,0,23,0,0,23,0,0,23,0,0,0,0,0,0,0,0,0,0,0,0,0,0,0,0,0,0,0,0,0,0,0,0,0,0,0,0,0,0,0,0,0,0,0,0,0,0,0,0,0,0,0,0,0,0,0,0,0,0,0,0,0,0,0,0,0,0,0,0,0,0,0,0,0,0,0,0,0,0,0,0,0,0,0,0]}],\"opt\":[\"\",\"\"]},\"fExecs\":null,\"fName\":\"c1\",\"fTitle\":\"c1\",\"fNumPaletteColor\":0,\"fNextPaletteColor\":0,\"fDISPLAY\":\"$DISPLAY\",\"fDoubleBuffer\":0,\"fRetained\":true,\"fXsizeUser\":0,\"fYsizeUser\":0,\"fXsizeReal\":20,\"fYsizeReal\":14.28571,\"fWindowTopX\":0,\"fWindowTopY\":0,\"fWindowWidth\":0,\"fWindowHeight\":0,\"fCw\":696,\"fCh\":472,\"fCatt\":{\"_typename\":\"TAttCanvas\",\"fXBetween\":2,\"fYBetween\":2,\"fTitleFromTop\":1.2,\"fXdate\":0.2,\"fYdate\":0.3,\"fAdate\":1},\"kMoveOpaque\":true,\"kResizeOpaque\":true,\"fHighLightColor\":2,\"fBatch\":true,\"kShowEventStatus\":false,\"kAutoExec\":true,\"kMenuBar\":true});\n",
       "            Core.draw(\"root_plot_1696855328607\", obj, \"\");\n",
       "        }\n",
       "    );\n",
       "}\n",
       "</script>\n"
      ],
      "text/plain": [
       "<IPython.core.display.HTML object>"
      ]
     },
     "metadata": {},
     "output_type": "display_data"
    },
    {
     "name": "stdout",
     "output_type": "stream",
     "text": [
      "itheta=7\talpha0:79258"
     ]
    }
   ],
   "source": [
    "h[itheta]->GetXaxis()->SetRangeUser(2000,8000);\n",
    "h[itheta]->Draw();\n",
    "c1->Draw();\n",
    "cout<<\"itheta=\"<<itheta<<'\\t'<<\"alpha0:\"<<h[itheta]->Integral(h[itheta]->FindBin(6100),h[itheta]->FindBin(6500));\n",
    "itheta++;"
   ]
  },
  {
   "cell_type": "code",
   "execution_count": 17,
   "id": "9aec457d",
   "metadata": {},
   "outputs": [
    {
     "data": {
      "text/html": [
       "\n",
       "<div id=\"root_plot_1696855328712\"\n",
       "     style=\"width: 696px; height: 472px\">\n",
       "</div>\n",
       "<script>\n",
       "if (typeof require !== 'undefined') {\n",
       "\n",
       "    // All requirements met (we are in jupyter notebooks or we loaded requirejs before).\n",
       "    display_root_plot_1696855328712();\n",
       "\n",
       "} else {\n",
       "\n",
       "    // We are in jupyterlab, we need to insert requirejs and configure it.\n",
       "    // Jupyterlab might be installed in a different base_url so we need to know it.\n",
       "    try {\n",
       "        var base_url = JSON.parse(document.getElementById('jupyter-config-data').innerHTML).baseUrl;\n",
       "    } catch(_) {\n",
       "        var base_url = '/';\n",
       "    }\n",
       "\n",
       "    // Try loading a local version of requirejs and fallback to cdn if not possible.\n",
       "    requirejs_load(base_url + 'static/components/requirejs/require.js', requirejs_success(base_url), function(){\n",
       "        requirejs_load('https://cdnjs.cloudflare.com/ajax/libs/require.js/2.2.0/require.min.js', requirejs_success(base_url), function(){\n",
       "            document.getElementById(\"root_plot_1696855328712\").innerHTML = \"Failed to load requireJs\";\n",
       "        });\n",
       "    });\n",
       "}\n",
       "\n",
       "function requirejs_load(src, on_load, on_error) {\n",
       "    var script = document.createElement('script');\n",
       "    script.src = src;\n",
       "    script.onload = on_load;\n",
       "    script.onerror = on_error;\n",
       "    document.head.appendChild(script);\n",
       "}\n",
       "\n",
       "function requirejs_success(base_url) {\n",
       "    return function() {\n",
       "        require.config({\n",
       "            baseUrl: base_url + 'static/'\n",
       "        });\n",
       "        display_root_plot_1696855328712();\n",
       "    }\n",
       "}\n",
       "\n",
       "function display_root_plot_1696855328712() {\n",
       "    require(['scripts/JSRootCore'],\n",
       "        function(Core) {\n",
       "            var obj = Core.JSONR_unref({\"_typename\":\"TCanvas\",\"fUniqueID\":0,\"fBits\":3342344,\"fLineColor\":1,\"fLineStyle\":1,\"fLineWidth\":1,\"fFillColor\":0,\"fFillStyle\":1001,\"fLeftMargin\":0.1,\"fRightMargin\":0.1,\"fBottomMargin\":0.1,\"fTopMargin\":0.1,\"fXfile\":2,\"fYfile\":2,\"fAfile\":1,\"fXstat\":0.99,\"fYstat\":0.99,\"fAstat\":2,\"fFrameFillColor\":0,\"fFrameLineColor\":1,\"fFrameFillStyle\":1001,\"fFrameLineStyle\":1,\"fFrameLineWidth\":1,\"fFrameBorderSize\":1,\"fFrameBorderMode\":0,\"fX1\":1249.99994412064,\"fY1\":-3069.41272868907,\"fX2\":8750.00005587936,\"fY2\":27624.7127286891,\"fXtoAbsPixelk\":-115.999943085861,\"fXtoPixelk\":-115.999943085861,\"fXtoPixel\":0.0927999986171722,\"fYtoAbsPixelk\":424.800047186661,\"fYtoPixelk\":424.800047186661,\"fYtoPixel\":-0.0153775353741686,\"fUtoAbsPixelk\":5e-5,\"fUtoPixelk\":5e-5,\"fUtoPixel\":696,\"fVtoAbsPixelk\":472.00005,\"fVtoPixelk\":472,\"fVtoPixel\":-472,\"fAbsPixeltoXk\":1249.99994412064,\"fPixeltoXk\":1249.99994412064,\"fPixeltoX\":10.7758622295384,\"fAbsPixeltoYk\":27624.7127286891,\"fPixeltoYk\":-3069.41272868907,\"fPixeltoY\":-65.0299268164791,\"fXlowNDC\":0,\"fYlowNDC\":0,\"fXUpNDC\":1,\"fYUpNDC\":1,\"fWNDC\":1,\"fHNDC\":1,\"fAbsXlowNDC\":0,\"fAbsYlowNDC\":0,\"fAbsWNDC\":1,\"fAbsHNDC\":1,\"fUxmin\":2000,\"fUymin\":0,\"fUxmax\":8000,\"fUymax\":24555.3,\"fTheta\":30,\"fPhi\":30,\"fAspectRatio\":0,\"fNumber\":0,\"fTickx\":0,\"fTicky\":0,\"fLogx\":0,\"fLogy\":0,\"fLogz\":0,\"fPadPaint\":0,\"fCrosshair\":0,\"fCrosshairPos\":0,\"fBorderSize\":2,\"fBorderMode\":0,\"fModified\":false,\"fGridx\":false,\"fGridy\":false,\"fAbsCoord\":false,\"fEditable\":true,\"fFixedAspectRatio\":false,\"fPrimitives\":{\"_typename\":\"TList\",\"name\":\"TList\",\"arr\":[{\"_typename\":\"TFrame\",\"fUniqueID\":0,\"fBits\":8,\"fLineColor\":1,\"fLineStyle\":1,\"fLineWidth\":1,\"fFillColor\":0,\"fFillStyle\":1001,\"fX1\":2000,\"fY1\":0,\"fX2\":8000,\"fY2\":24555.3,\"fBorderSize\":1,\"fBorderMode\":0},{\"_typename\":\"TH1I\",\"fUniqueID\":0,\"fBits\":8,\"fName\":\"hsingle_100deg\",\"fTitle\":\"\",\"fLineColor\":602,\"fLineStyle\":1,\"fLineWidth\":1,\"fFillColor\":0,\"fFillStyle\":1001,\"fMarkerColor\":1,\"fMarkerStyle\":1,\"fMarkerSize\":1,\"fNcells\":1002,\"fXaxis\":{\"_typename\":\"TAxis\",\"fUniqueID\":0,\"fBits\":2048,\"fName\":\"xaxis\",\"fTitle\":\"\",\"fNdivisions\":510,\"fAxisColor\":1,\"fLabelColor\":1,\"fLabelFont\":42,\"fLabelOffset\":0.005,\"fLabelSize\":0.035,\"fTickLength\":0.03,\"fTitleOffset\":1,\"fTitleSize\":0.035,\"fTitleColor\":1,\"fTitleFont\":42,\"fNbins\":1000,\"fXmin\":0,\"fXmax\":8000,\"fXbins\":[],\"fFirst\":251,\"fLast\":1000,\"fBits2\":0,\"fTimeDisplay\":false,\"fTimeFormat\":\"\",\"fLabels\":null,\"fModLabs\":null},\"fYaxis\":{\"_typename\":\"TAxis\",\"fUniqueID\":0,\"fBits\":0,\"fName\":\"yaxis\",\"fTitle\":\"\",\"fNdivisions\":510,\"fAxisColor\":1,\"fLabelColor\":1,\"fLabelFont\":42,\"fLabelOffset\":0.005,\"fLabelSize\":0.035,\"fTickLength\":0.03,\"fTitleOffset\":0,\"fTitleSize\":0.035,\"fTitleColor\":1,\"fTitleFont\":42,\"fNbins\":1,\"fXmin\":0,\"fXmax\":1,\"fXbins\":[],\"fFirst\":0,\"fLast\":0,\"fBits2\":0,\"fTimeDisplay\":false,\"fTimeFormat\":\"\",\"fLabels\":null,\"fModLabs\":null},\"fZaxis\":{\"_typename\":\"TAxis\",\"fUniqueID\":0,\"fBits\":0,\"fName\":\"zaxis\",\"fTitle\":\"\",\"fNdivisions\":510,\"fAxisColor\":1,\"fLabelColor\":1,\"fLabelFont\":42,\"fLabelOffset\":0.005,\"fLabelSize\":0.035,\"fTickLength\":0.03,\"fTitleOffset\":1,\"fTitleSize\":0.035,\"fTitleColor\":1,\"fTitleFont\":42,\"fNbins\":1,\"fXmin\":0,\"fXmax\":1,\"fXbins\":[],\"fFirst\":0,\"fLast\":0,\"fBits2\":0,\"fTimeDisplay\":false,\"fTimeFormat\":\"\",\"fLabels\":null,\"fModLabs\":null},\"fBarOffset\":0,\"fBarWidth\":1000,\"fEntries\":22371243,\"fTsumw\":256588910.513093,\"fTsumw2\":2942968747.93561,\"fTsumwx\":231289736970.705,\"fTsumwx2\":255296788706548,\"fMaximum\":-1111,\"fMinimum\":-1111,\"fNormFactor\":0,\"fContour\":[],\"fSumw2\":[],\"fOption\":\"\",\"fFunctions\":{\"_typename\":\"TList\",\"name\":\"TList\",\"arr\":[{\"_typename\":\"TPaveStats\",\"fUniqueID\":0,\"fBits\":9,\"fLineColor\":1,\"fLineStyle\":1,\"fLineWidth\":1,\"fFillColor\":0,\"fFillStyle\":1001,\"fX1\":7100.00015199185,\"fY1\":20718.5346837302,\"fX2\":8600.00019669533,\"fY2\":25629.59464714,\"fX1NDC\":0.780000016093254,\"fY1NDC\":0.775000005960464,\"fX2NDC\":0.980000019073486,\"fY2NDC\":0.935000002384186,\"fBorderSize\":1,\"fInit\":1,\"fShadowColor\":1,\"fCornerRadius\":0,\"fOption\":\"brNDC\",\"fName\":\"stats\",\"fTextAngle\":0,\"fTextSize\":0,\"fTextAlign\":12,\"fTextColor\":1,\"fTextFont\":42,\"fLabel\":\"\",\"fLongest\":24,\"fMargin\":0.05,\"fLines\":{\"_typename\":\"TList\",\"name\":\"TList\",\"arr\":[{\"_typename\":\"TLatex\",\"fUniqueID\":0,\"fBits\":0,\"fName\":\"\",\"fTitle\":\"hsingle_100deg\",\"fTextAngle\":0,\"fTextSize\":0.0368,\"fTextAlign\":0,\"fTextColor\":0,\"fTextFont\":0,\"fX\":0,\"fY\":0,\"fLineColor\":1,\"fLineStyle\":1,\"fLineWidth\":2,\"fLimitFactorSize\":3,\"fOriginSize\":0.0368000008165836},{\"_typename\":\"TLatex\",\"fUniqueID\":0,\"fBits\":0,\"fName\":\"\",\"fTitle\":\"Entries =   2.237124e+07\",\"fTextAngle\":0,\"fTextSize\":0,\"fTextAlign\":0,\"fTextColor\":0,\"fTextFont\":0,\"fX\":0,\"fY\":0,\"fLineColor\":1,\"fLineStyle\":1,\"fLineWidth\":2,\"fLimitFactorSize\":3,\"fOriginSize\":0.04},{\"_typename\":\"TLatex\",\"fUniqueID\":0,\"fBits\":0,\"fName\":\"\",\"fTitle\":\"Mean  =   4018\",\"fTextAngle\":0,\"fTextSize\":0,\"fTextAlign\":0,\"fTextColor\":0,\"fTextFont\":0,\"fX\":0,\"fY\":0,\"fLineColor\":1,\"fLineStyle\":1,\"fLineWidth\":2,\"fLimitFactorSize\":3,\"fOriginSize\":0.04},{\"_typename\":\"TLatex\",\"fUniqueID\":0,\"fBits\":0,\"fName\":\"\",\"fTitle\":\"Std Dev   =  768.5\",\"fTextAngle\":0,\"fTextSize\":0,\"fTextAlign\":0,\"fTextColor\":0,\"fTextFont\":0,\"fX\":0,\"fY\":0,\"fLineColor\":1,\"fLineStyle\":1,\"fLineWidth\":2,\"fLimitFactorSize\":3,\"fOriginSize\":0.04}],\"opt\":[\"\",\"\",\"\",\"\"]},\"fOptFit\":0,\"fOptStat\":1111,\"fFitFormat\":\"5.4g\",\"fStatFormat\":\"6.4g\",\"fParent\":{\"$ref\":3}}],\"opt\":[\"brNDC\"]},\"fBufferSize\":0,\"fBuffer\":[],\"fBinStatErrOpt\":0,\"fStatOverflows\":2,\"fArray\":[0,0,0,0,0,0,242,495,825,4862,6226,7491,8371,9977,10769,12661,16203,21109,29480,43604,73656,113311,164296,212047,252219,279422,300641,312884,331155,334389,346346,360371,373868,387783,397529,406153,416977,423445,429011,434577,434984,432399,433235,434214,430309,426602,428164,420937,425337,425722,424930,421938,419914,422917,423357,420222,424182,420805,422433,423445,424655,420354,416152,415822,416922,424589,421410,417736,420871,420585,423313,420255,421135,420442,421740,420706,423456,424314,423478,434137,431541,434225,435336,436513,438185,441837,459591,471636,489907,507595,526592,547844,576818,610863,659758,729212,819247,965316,1232495,1732797,2644367,4306489,7153058,10882938,13376011,12488454,9359570,6761645,6025008,6953100,8162506,7867937,6208169,4674637,3983001,3831465,3883957,3986235,4187084,4668202,5742044,7668947,10211311,11243892,8955969,5623530,3566805,2647447,2191915,1911833,1728628,1604141,1520453,1440043,1335532,1196745,1051809,926552,797368,696410,600105,480249,343508,208032,104236,52129,32076,24728,19019,17171,14850,14608,13827,12727,12232,11275,10868,9625,10307,9845,9460,9361,8965,8679,9031,8921,8932,8646,8206,8382,8019,8019,7832,8228,8536,7480,7865,7381,7392,7260,7953,6941,7458,6908,7381,7403,7194,7656,7106,6930,7392,6776,7425,7128,7392,7073,7601,7007,7623,7304,6930,7502,7139,6897,7392,7304,6732,7491,7304,7326,7139,7524,7315,7634,7425,6974,7249,6842,6974,7051,7095,7282,6732,6534,6919,6798,6633,6545,6633,6457,6336,6699,6160,5819,5973,6105,5368,5533,5544,5995,5060,5214,5126,5170,4554,4840,4290,4532,3762,4224,3685,3762,3223,3333,3344,3509,3487,3641,3432,3377,2959,2959,3542,3146,3157,2970,3025,2959,3234,2816,3091,3168,3091,3113,2739,2827,2915,2728,2882,3069,2904,3113,2783,2816,2629,2904,2563,2948,2761,2761,2827,2794,2739,2728,2904,2530,2684,2574,2849,2794,2706,2552,2629,2816,3014,2805,2519,2321,2761,2530,2783,2629,2838,2640,2684,2486,3091,2618,2739,2805,2805,2783,2673,2739,2706,2794,2959,2970,2761,2530,3113,3014,2783,3003,3333,3234,2948,2926,2904,3025,2838,3135,2882,3058,3157,2926,2893,2915,3311,3025,3058,3476,3080,3509,3366,3333,2981,3278,3322,3399,3531,3498,3366,3762,3520,3630,3850,3509,3432,3795,3553,3652,4103,3850,4081,3982,3872,3993,3927,3894,4081,3619,4367,3707,4389,4037,4202,3905,4653,4235,4664,4356,4136,4653,4532,4818,4312,4675,4642,4444,5115,5071,5533,5379,5137,5456,4950,5643,5093,5368,5852,5390,5962,6237,5445,6006,5874,6138,6270,6391,6600,6303,6545,6028,6776,6644,7260,6941,7458,7601,7128,7304,7854,7920,7084,7623,7271,8162,8250,8118,7755,8261,8382,8800,8899,8789,8998,9020,9317,9735,9031,9251,9614,9130,9295,10142,9724,10340,10582,10868,11363,10934,10868,11077,10824,11737,11396,12166,11055,11418,12221,12045,12232,13079,12342,13145,12815,14223,13706,14498,14652,14366,14564,14740,13959,14740,16016,15631,15367,16302,17193,15884,16852,16929,16621,16841,17116,16841,18557,17996,18579,19085,18854,19327,19525,19371,19217,19382,20196,20042,21527,19492,19932,20240,21307,20680,21549,20878,21010,21274,21945,22132,22297,22044,20702,22253,22748,23177,22077,22154,22792,23001,22924,22693,22220,21120,23386,21769,22198,22396,22275,21142,22352,21307,21175,21703,21241,20812,20372,21131,20196,20097,20174,18403,20614,18535,17919,18007,18172,17666,17193,16412,16126,16093,16049,15697,14883,15741,14641,14553,13552,13871,13860,13343,12716,12254,12485,12177,11374,11484,11539,10912,10923,9625,10758,9999,9647,9075,8855,8976,9031,8734,8899,7590,7821,7711,7667,7403,7183,7062,7216,6523,6545,5918,6138,6072,5753,5764,5720,5489,5467,5071,4829,5038,4895,4576,5159,4279,4037,4488,3949,4235,3960,4235,4059,3575,4158,3608,3850,3509,3454,3179,2838,2739,3355,3069,2794,2827,2849,2519,2717,2574,2607,2508,2475,2541,2156,2068,2332,2090,2068,2145,2046,2013,1969,1980,1914,1848,1793,1782,1540,1617,1771,1529,1463,1397,1529,1518,1540,1562,1364,1353,1507,1320,1298,990,935,1078,1287,1045,957,1012,1089,1067,957,1001,902,825,913,924,891,1001,1001,880,814,770,770,660,726,803,638,627,737,693,759,517,572,616,605,583,506,506,528,451,638,462,517,572,495,583,429,605,319,484,264,385,275,451,374,275,297,341,209,330,264,308,341,308,209,220,176,286,220,187,308,198,187,132,154,121,165,132,132,143,176,187,165,165,187,198,198,275,396,462,484,1056,1474,1925,2332,2750,3487,4015,3795,3652,4081,3201,3894,3190,3223,3443,2882,2563,2376,1793,1496,1540,1254,1375,1210,1144,858,825,770,572,682,440,484,275,253,121,99,66,11,0,11,11,0,0,11,0,11,0,0,11,0,0,0,0,22,0,0,0,11,0,0,0,0,0,0,0,0,0,0,0,0,0,0,11,0,0,0,0,0,0,0,0,0,0,0,0,0,0,0,0,0,0,0,0,0,0,0,0,0,0,0,11,0,0,0,0,0,0,0,0,0,0,0,0,0,0,0,0,0,0,0,0,0,0,0,0,11,11,0,0,11,55,44,22,44,33,33,11,0,33,11,22,22,11,11,11,0,11,0,0,0,0,0,11,11,0,0,0,0,11,0,0,0,0,0,0,0,0,0,0,0,0,0,0,0,0,0,0,0,0,0,0,0,0,0,0,0,0,0,0,0,0,0,0,0,0,0,0,0,0,0,0,0,0,0,0,0,0,0,0,0,0,0,0,0,0,0,0,0,0,0,0,0,0,0,0,0,0,0,0,0,0,0,0,0,0,0,0]}],\"opt\":[\"\",\"\"]},\"fExecs\":null,\"fName\":\"c1\",\"fTitle\":\"c1\",\"fNumPaletteColor\":0,\"fNextPaletteColor\":0,\"fDISPLAY\":\"$DISPLAY\",\"fDoubleBuffer\":0,\"fRetained\":true,\"fXsizeUser\":0,\"fYsizeUser\":0,\"fXsizeReal\":20,\"fYsizeReal\":14.28571,\"fWindowTopX\":0,\"fWindowTopY\":0,\"fWindowWidth\":0,\"fWindowHeight\":0,\"fCw\":696,\"fCh\":472,\"fCatt\":{\"_typename\":\"TAttCanvas\",\"fXBetween\":2,\"fYBetween\":2,\"fTitleFromTop\":1.2,\"fXdate\":0.2,\"fYdate\":0.3,\"fAdate\":1},\"kMoveOpaque\":true,\"kResizeOpaque\":true,\"fHighLightColor\":2,\"fBatch\":true,\"kShowEventStatus\":false,\"kAutoExec\":true,\"kMenuBar\":true});\n",
       "            Core.draw(\"root_plot_1696855328712\", obj, \"\");\n",
       "        }\n",
       "    );\n",
       "}\n",
       "</script>\n"
      ],
      "text/plain": [
       "<IPython.core.display.HTML object>"
      ]
     },
     "metadata": {},
     "output_type": "display_data"
    },
    {
     "name": "stdout",
     "output_type": "stream",
     "text": [
      "itheta=8\talpha0:70961"
     ]
    }
   ],
   "source": [
    "h[itheta]->GetXaxis()->SetRangeUser(2000,8000);\n",
    "h[itheta]->Draw();\n",
    "c1->Draw();\n",
    "cout<<\"itheta=\"<<itheta<<'\\t'<<\"alpha0:\"<<h[itheta]->Integral(h[itheta]->FindBin(6050),h[itheta]->FindBin(6400));\n",
    "itheta++;"
   ]
  },
  {
   "cell_type": "code",
   "execution_count": 18,
   "id": "7682a996",
   "metadata": {},
   "outputs": [
    {
     "data": {
      "text/html": [
       "\n",
       "<div id=\"root_plot_1696855328817\"\n",
       "     style=\"width: 696px; height: 472px\">\n",
       "</div>\n",
       "<script>\n",
       "if (typeof require !== 'undefined') {\n",
       "\n",
       "    // All requirements met (we are in jupyter notebooks or we loaded requirejs before).\n",
       "    display_root_plot_1696855328817();\n",
       "\n",
       "} else {\n",
       "\n",
       "    // We are in jupyterlab, we need to insert requirejs and configure it.\n",
       "    // Jupyterlab might be installed in a different base_url so we need to know it.\n",
       "    try {\n",
       "        var base_url = JSON.parse(document.getElementById('jupyter-config-data').innerHTML).baseUrl;\n",
       "    } catch(_) {\n",
       "        var base_url = '/';\n",
       "    }\n",
       "\n",
       "    // Try loading a local version of requirejs and fallback to cdn if not possible.\n",
       "    requirejs_load(base_url + 'static/components/requirejs/require.js', requirejs_success(base_url), function(){\n",
       "        requirejs_load('https://cdnjs.cloudflare.com/ajax/libs/require.js/2.2.0/require.min.js', requirejs_success(base_url), function(){\n",
       "            document.getElementById(\"root_plot_1696855328817\").innerHTML = \"Failed to load requireJs\";\n",
       "        });\n",
       "    });\n",
       "}\n",
       "\n",
       "function requirejs_load(src, on_load, on_error) {\n",
       "    var script = document.createElement('script');\n",
       "    script.src = src;\n",
       "    script.onload = on_load;\n",
       "    script.onerror = on_error;\n",
       "    document.head.appendChild(script);\n",
       "}\n",
       "\n",
       "function requirejs_success(base_url) {\n",
       "    return function() {\n",
       "        require.config({\n",
       "            baseUrl: base_url + 'static/'\n",
       "        });\n",
       "        display_root_plot_1696855328817();\n",
       "    }\n",
       "}\n",
       "\n",
       "function display_root_plot_1696855328817() {\n",
       "    require(['scripts/JSRootCore'],\n",
       "        function(Core) {\n",
       "            var obj = Core.JSONR_unref({\"_typename\":\"TCanvas\",\"fUniqueID\":0,\"fBits\":3342344,\"fLineColor\":1,\"fLineStyle\":1,\"fLineWidth\":1,\"fFillColor\":0,\"fFillStyle\":1001,\"fLeftMargin\":0.1,\"fRightMargin\":0.1,\"fBottomMargin\":0.1,\"fTopMargin\":0.1,\"fXfile\":2,\"fYfile\":2,\"fAfile\":1,\"fXstat\":0.99,\"fYstat\":0.99,\"fAstat\":2,\"fFrameFillColor\":0,\"fFrameLineColor\":1,\"fFrameFillStyle\":1001,\"fFrameLineStyle\":1,\"fFrameLineWidth\":1,\"fFrameBorderSize\":1,\"fFrameBorderMode\":0,\"fX1\":1249.99994412064,\"fY1\":-3099.73148094799,\"fX2\":8750.00005587936,\"fY2\":27897.581480948,\"fXtoAbsPixelk\":-115.999943085861,\"fXtoPixelk\":-115.999943085861,\"fXtoPixel\":0.0927999986171722,\"fYtoAbsPixelk\":424.800047186661,\"fYtoPixelk\":424.800047186661,\"fYtoPixel\":-0.015227126318343,\"fUtoAbsPixelk\":5e-5,\"fUtoPixelk\":5e-5,\"fUtoPixel\":696,\"fVtoAbsPixelk\":472.00005,\"fVtoPixelk\":472,\"fVtoPixel\":-472,\"fAbsPixeltoXk\":1249.99994412064,\"fPixeltoXk\":1249.99994412064,\"fPixeltoX\":10.7758622295384,\"fAbsPixeltoYk\":27897.581480948,\"fPixeltoYk\":-3099.73148094799,\"fPixeltoY\":-65.6722732243559,\"fXlowNDC\":0,\"fYlowNDC\":0,\"fXUpNDC\":1,\"fYUpNDC\":1,\"fWNDC\":1,\"fHNDC\":1,\"fAbsXlowNDC\":0,\"fAbsYlowNDC\":0,\"fAbsWNDC\":1,\"fAbsHNDC\":1,\"fUxmin\":2000,\"fUymin\":0,\"fUxmax\":8000,\"fUymax\":24797.85,\"fTheta\":30,\"fPhi\":30,\"fAspectRatio\":0,\"fNumber\":0,\"fTickx\":0,\"fTicky\":0,\"fLogx\":0,\"fLogy\":0,\"fLogz\":0,\"fPadPaint\":0,\"fCrosshair\":0,\"fCrosshairPos\":0,\"fBorderSize\":2,\"fBorderMode\":0,\"fModified\":false,\"fGridx\":false,\"fGridy\":false,\"fAbsCoord\":false,\"fEditable\":true,\"fFixedAspectRatio\":false,\"fPrimitives\":{\"_typename\":\"TList\",\"name\":\"TList\",\"arr\":[{\"_typename\":\"TFrame\",\"fUniqueID\":0,\"fBits\":8,\"fLineColor\":1,\"fLineStyle\":1,\"fLineWidth\":1,\"fFillColor\":0,\"fFillStyle\":1001,\"fX1\":2000,\"fY1\":0,\"fX2\":8000,\"fY2\":24797.85,\"fBorderSize\":1,\"fBorderMode\":0},{\"_typename\":\"TH1I\",\"fUniqueID\":0,\"fBits\":8,\"fName\":\"hsingle_105deg\",\"fTitle\":\"\",\"fLineColor\":602,\"fLineStyle\":1,\"fLineWidth\":1,\"fFillColor\":0,\"fFillStyle\":1001,\"fMarkerColor\":1,\"fMarkerStyle\":1,\"fMarkerSize\":1,\"fNcells\":1002,\"fXaxis\":{\"_typename\":\"TAxis\",\"fUniqueID\":0,\"fBits\":2048,\"fName\":\"xaxis\",\"fTitle\":\"\",\"fNdivisions\":510,\"fAxisColor\":1,\"fLabelColor\":1,\"fLabelFont\":42,\"fLabelOffset\":0.005,\"fLabelSize\":0.035,\"fTickLength\":0.03,\"fTitleOffset\":1,\"fTitleSize\":0.035,\"fTitleColor\":1,\"fTitleFont\":42,\"fNbins\":1000,\"fXmin\":0,\"fXmax\":8000,\"fXbins\":[],\"fFirst\":251,\"fLast\":1000,\"fBits2\":0,\"fTimeDisplay\":false,\"fTimeFormat\":\"\",\"fLabels\":null,\"fModLabs\":null},\"fYaxis\":{\"_typename\":\"TAxis\",\"fUniqueID\":0,\"fBits\":0,\"fName\":\"yaxis\",\"fTitle\":\"\",\"fNdivisions\":510,\"fAxisColor\":1,\"fLabelColor\":1,\"fLabelFont\":42,\"fLabelOffset\":0.005,\"fLabelSize\":0.035,\"fTickLength\":0.03,\"fTitleOffset\":0,\"fTitleSize\":0.035,\"fTitleColor\":1,\"fTitleFont\":42,\"fNbins\":1,\"fXmin\":0,\"fXmax\":1,\"fXbins\":[],\"fFirst\":0,\"fLast\":0,\"fBits2\":0,\"fTimeDisplay\":false,\"fTimeFormat\":\"\",\"fLabels\":null,\"fModLabs\":null},\"fZaxis\":{\"_typename\":\"TAxis\",\"fUniqueID\":0,\"fBits\":0,\"fName\":\"zaxis\",\"fTitle\":\"\",\"fNdivisions\":510,\"fAxisColor\":1,\"fLabelColor\":1,\"fLabelFont\":42,\"fLabelOffset\":0.005,\"fLabelSize\":0.035,\"fTickLength\":0.03,\"fTitleOffset\":1,\"fTitleSize\":0.035,\"fTitleColor\":1,\"fTitleFont\":42,\"fNbins\":1,\"fXmin\":0,\"fXmax\":1,\"fXbins\":[],\"fFirst\":0,\"fLast\":0,\"fBits2\":0,\"fTimeDisplay\":false,\"fTimeFormat\":\"\",\"fLabels\":null,\"fModLabs\":null},\"fBarOffset\":0,\"fBarWidth\":1000,\"fEntries\":20934500,\"fTsumw\":239047077.491937,\"fTsumw2\":2729633153.46861,\"fTsumwx\":213973913465.283,\"fTsumwx2\":236744152862115,\"fMaximum\":-1111,\"fMinimum\":-1111,\"fNormFactor\":0,\"fContour\":[],\"fSumw2\":[],\"fOption\":\"\",\"fFunctions\":{\"_typename\":\"TList\",\"name\":\"TList\",\"arr\":[{\"_typename\":\"TPaveStats\",\"fUniqueID\":0,\"fBits\":9,\"fLineColor\":1,\"fLineStyle\":1,\"fLineWidth\":1,\"fFillColor\":0,\"fFillStyle\":1001,\"fX1\":7100.00015199185,\"fY1\":20923.1862492798,\"fX2\":8600.00019669533,\"fY2\":25882.7562123281,\"fX1NDC\":0.780000016093254,\"fY1NDC\":0.775000005960464,\"fX2NDC\":0.980000019073486,\"fY2NDC\":0.935000002384186,\"fBorderSize\":1,\"fInit\":1,\"fShadowColor\":1,\"fCornerRadius\":0,\"fOption\":\"brNDC\",\"fName\":\"stats\",\"fTextAngle\":0,\"fTextSize\":0,\"fTextAlign\":12,\"fTextColor\":1,\"fTextFont\":42,\"fLabel\":\"\",\"fLongest\":24,\"fMargin\":0.05,\"fLines\":{\"_typename\":\"TList\",\"name\":\"TList\",\"arr\":[{\"_typename\":\"TLatex\",\"fUniqueID\":0,\"fBits\":0,\"fName\":\"\",\"fTitle\":\"hsingle_105deg\",\"fTextAngle\":0,\"fTextSize\":0.0368,\"fTextAlign\":0,\"fTextColor\":0,\"fTextFont\":0,\"fX\":0,\"fY\":0,\"fLineColor\":1,\"fLineStyle\":1,\"fLineWidth\":2,\"fLimitFactorSize\":3,\"fOriginSize\":0.0368000008165836},{\"_typename\":\"TLatex\",\"fUniqueID\":0,\"fBits\":0,\"fName\":\"\",\"fTitle\":\"Entries =    2.09345e+07\",\"fTextAngle\":0,\"fTextSize\":0,\"fTextAlign\":0,\"fTextColor\":0,\"fTextFont\":0,\"fX\":0,\"fY\":0,\"fLineColor\":1,\"fLineStyle\":1,\"fLineWidth\":2,\"fLimitFactorSize\":3,\"fOriginSize\":0.04},{\"_typename\":\"TLatex\",\"fUniqueID\":0,\"fBits\":0,\"fName\":\"\",\"fTitle\":\"Mean  =   3987\",\"fTextAngle\":0,\"fTextSize\":0,\"fTextAlign\":0,\"fTextColor\":0,\"fTextFont\":0,\"fX\":0,\"fY\":0,\"fLineColor\":1,\"fLineStyle\":1,\"fLineWidth\":2,\"fLimitFactorSize\":3,\"fOriginSize\":0.04},{\"_typename\":\"TLatex\",\"fUniqueID\":0,\"fBits\":0,\"fName\":\"\",\"fTitle\":\"Std Dev   =  753.1\",\"fTextAngle\":0,\"fTextSize\":0,\"fTextAlign\":0,\"fTextColor\":0,\"fTextFont\":0,\"fX\":0,\"fY\":0,\"fLineColor\":1,\"fLineStyle\":1,\"fLineWidth\":2,\"fLimitFactorSize\":3,\"fOriginSize\":0.04}],\"opt\":[\"\",\"\",\"\",\"\"]},\"fOptFit\":0,\"fOptStat\":1111,\"fFitFormat\":\"5.4g\",\"fStatFormat\":\"6.4g\",\"fParent\":{\"$ref\":3}}],\"opt\":[\"brNDC\"]},\"fBufferSize\":0,\"fBuffer\":[],\"fBinStatErrOpt\":0,\"fStatOverflows\":2,\"fArray\":[0,0,0,0,0,0,165,462,803,4928,6303,7425,8118,9207,10318,10923,14234,19272,26796,38929,65714,104082,154814,203874,241439,271216,289454,305349,322278,329813,339702,355718,366938,380765,391138,402765,411862,415305,420728,423775,416988,418726,418858,415107,418352,414579,414293,408826,411268,412885,406846,406791,406296,407924,406736,407308,408518,405207,409013,406615,411246,407121,403887,404602,403227,413963,406340,408914,408650,410234,408969,410278,406813,406802,408540,410113,411312,410432,408397,420079,420706,422532,429451,432663,438053,449691,464167,480414,491733,511137,529034,558459,590964,633820,693022,782837,912307,1156914,1619728,2444299,3900633,6467967,10029074,12678270,12278959,9361066,6584017,5491420,6086718,7420072,7780080,6451665,4790038,3820685,3451294,3373161,3426291,3547566,3738812,4235374,5266008,7102128,9373496,9882026,7430907,4573239,2971045,2254439,1859605,1611918,1458105,1380918,1327590,1238831,1125982,998888,865095,754501,649616,552893,451165,331155,197274,96932,49676,31856,21890,17732,14773,13134,11968,11187,11803,11044,11000,10054,9493,8800,9097,9064,9020,9229,8822,8800,8437,8536,8360,8866,8250,8261,7491,7887,7436,7260,7887,7238,7678,6996,7403,7238,7051,6886,6963,7084,7040,6985,6512,7260,6985,6897,6886,7029,7249,7029,7062,7029,7359,6677,7326,7172,7469,6963,7106,6677,7436,6534,6699,7018,7381,7018,7040,6919,6754,7128,7018,6809,6523,6776,6688,6941,6677,6787,6358,6677,6259,6215,6457,6402,5940,5973,5962,5434,5874,5434,5621,5511,4620,5434,5005,5005,5049,4741,4609,4554,4158,4400,3542,3740,3443,3707,3091,3729,3322,3025,3223,3278,3300,3322,3256,3179,3355,3157,3201,2827,2893,2816,2860,3091,3058,2706,3113,3179,2761,2970,2893,2882,3036,2849,2684,2772,2574,2904,2596,3025,2596,2882,2662,3025,2750,2706,2761,2706,2684,2695,2904,2563,2728,2761,2651,2827,2970,2651,2596,2552,2629,2519,2838,2486,2915,2651,2772,3014,2662,2673,2684,2431,3047,2475,2530,2882,2970,2684,2563,2772,2926,2882,2695,2959,3025,2926,3432,2827,3047,3124,3168,3157,2651,2981,2915,3014,3036,2970,2882,3157,3476,3003,3113,3322,3487,3025,3256,3014,3069,3531,3377,2970,3124,3377,3553,3069,3531,3454,3729,3366,4070,3817,3553,3861,3619,3652,3762,4455,4191,4004,4081,4070,4532,4279,4136,4070,4081,3938,4576,4081,4620,4235,4455,4642,4587,4554,4675,4477,4818,4829,5049,4851,4796,4917,5060,4565,5423,5456,5225,5104,5313,5841,5247,5478,5291,5368,6270,5478,5984,5621,5852,6270,6028,6974,6842,6908,6897,6963,6721,6457,7711,7238,7887,7271,7810,7700,7843,7810,8371,7755,7425,7898,7777,7997,8679,9009,8778,8569,8635,9119,9746,9438,9856,9537,10307,9658,9977,9614,10263,9922,10032,10978,10505,11253,10813,11022,11737,11165,11946,11814,11099,11869,12045,12650,12309,12694,13299,13266,13321,13453,13959,14223,13860,14432,14421,15158,15521,15312,15268,15136,15389,15191,16489,16698,16159,16676,17479,17083,16940,18128,17501,17952,17952,18546,19008,19371,19019,19261,19998,19404,19316,20273,20328,20823,20647,20647,21989,21274,21153,21241,22011,21384,22176,21769,21835,21758,22099,22627,22330,22121,22451,23276,22572,22275,23155,22682,22583,23617,22770,22627,22517,21868,22363,21769,21549,21758,22154,20493,21461,21263,20878,20372,20977,19690,19492,19382,19360,18821,18227,18040,18436,17655,17369,16126,16753,15752,15609,15477,14674,14542,15059,13607,14124,13882,13508,12386,12540,12914,12375,11605,11407,11462,11682,10692,9999,10142,10527,9603,9372,9119,8635,8976,8987,7887,8107,7766,8349,7447,7623,6732,6743,7007,6578,6226,6358,6424,5874,5973,5401,5302,5456,5610,5126,5016,5247,4884,4653,4785,4664,4334,4268,3993,4433,4037,3751,4312,3828,3575,3575,3674,3652,3047,3377,3047,3256,3223,3058,3135,2585,2541,2860,2552,2651,2651,2398,2255,2409,2728,2090,2123,2046,2145,1914,1914,2365,1804,2211,2002,1903,1793,1859,1463,1804,1793,1540,1683,1441,1529,1573,1188,1342,1309,1265,1243,1133,1265,1177,1210,1166,1166,891,1012,1023,1067,1089,880,1001,847,968,913,902,1012,704,847,748,704,671,836,913,660,671,792,682,627,616,583,616,605,649,627,616,506,462,451,561,418,539,462,418,363,495,330,440,396,352,429,330,451,297,363,231,363,242,330,385,154,220,209,143,253,209,209,231,209,231,198,132,176,176,110,143,99,187,99,110,154,110,154,99,121,176,143,132,341,231,396,605,858,1243,1672,2343,3157,3773,4400,4334,4532,4675,4554,3663,3630,2882,2519,2343,2024,1639,1485,1463,1089,1045,902,704,572,539,583,462,297,264,176,110,88,55,33,55,11,22,0,0,11,11,0,0,0,0,0,0,0,0,0,0,11,0,0,0,0,11,0,0,0,0,0,0,0,0,0,0,0,0,0,0,0,0,0,0,11,0,0,0,0,0,0,0,0,0,0,0,0,0,0,0,0,0,0,0,0,0,0,0,0,0,0,0,0,0,0,0,0,0,0,0,0,0,0,0,0,0,0,0,0,0,0,0,0,0,11,11,22,33,22,33,22,22,55,44,33,55,22,44,11,33,33,11,11,0,22,0,22,0,0,0,0,0,0,22,11,22,0,0,0,0,0,0,0,0,0,0,0,0,0,0,0,0,0,0,0,0,0,0,0,0,0,0,0,0,0,0,0,0,0,0,0,0,0,0,0,0,0,0,0,0,0,0,0,0,0,0,0,0,0,0,0,0,0,0,0,0,0,0,0,0,0,0,0,0,0,0,0,0,0,0,0,0,0,0,0,0,0,0,0]}],\"opt\":[\"\",\"\"]},\"fExecs\":null,\"fName\":\"c1\",\"fTitle\":\"c1\",\"fNumPaletteColor\":0,\"fNextPaletteColor\":0,\"fDISPLAY\":\"$DISPLAY\",\"fDoubleBuffer\":0,\"fRetained\":true,\"fXsizeUser\":0,\"fYsizeUser\":0,\"fXsizeReal\":20,\"fYsizeReal\":14.28571,\"fWindowTopX\":0,\"fWindowTopY\":0,\"fWindowWidth\":0,\"fWindowHeight\":0,\"fCw\":696,\"fCh\":472,\"fCatt\":{\"_typename\":\"TAttCanvas\",\"fXBetween\":2,\"fYBetween\":2,\"fTitleFromTop\":1.2,\"fXdate\":0.2,\"fYdate\":0.3,\"fAdate\":1},\"kMoveOpaque\":true,\"kResizeOpaque\":true,\"fHighLightColor\":2,\"fBatch\":true,\"kShowEventStatus\":false,\"kAutoExec\":true,\"kMenuBar\":true});\n",
       "            Core.draw(\"root_plot_1696855328817\", obj, \"\");\n",
       "        }\n",
       "    );\n",
       "}\n",
       "</script>\n"
      ],
      "text/plain": [
       "<IPython.core.display.HTML object>"
      ]
     },
     "metadata": {},
     "output_type": "display_data"
    },
    {
     "name": "stdout",
     "output_type": "stream",
     "text": [
      "itheta=9\talpha0:65780"
     ]
    }
   ],
   "source": [
    "h[itheta]->GetXaxis()->SetRangeUser(2000,8000);\n",
    "h[itheta]->Draw();\n",
    "c1->Draw();\n",
    "cout<<\"itheta=\"<<itheta<<'\\t'<<\"alpha0:\"<<h[itheta]->Integral(h[itheta]->FindBin(6050),h[itheta]->FindBin(6400));\n",
    "itheta++;"
   ]
  },
  {
   "cell_type": "code",
   "execution_count": 19,
   "id": "6cf2b9dc",
   "metadata": {},
   "outputs": [
    {
     "data": {
      "text/html": [
       "\n",
       "<div id=\"root_plot_1696855328922\"\n",
       "     style=\"width: 696px; height: 472px\">\n",
       "</div>\n",
       "<script>\n",
       "if (typeof require !== 'undefined') {\n",
       "\n",
       "    // All requirements met (we are in jupyter notebooks or we loaded requirejs before).\n",
       "    display_root_plot_1696855328922();\n",
       "\n",
       "} else {\n",
       "\n",
       "    // We are in jupyterlab, we need to insert requirejs and configure it.\n",
       "    // Jupyterlab might be installed in a different base_url so we need to know it.\n",
       "    try {\n",
       "        var base_url = JSON.parse(document.getElementById('jupyter-config-data').innerHTML).baseUrl;\n",
       "    } catch(_) {\n",
       "        var base_url = '/';\n",
       "    }\n",
       "\n",
       "    // Try loading a local version of requirejs and fallback to cdn if not possible.\n",
       "    requirejs_load(base_url + 'static/components/requirejs/require.js', requirejs_success(base_url), function(){\n",
       "        requirejs_load('https://cdnjs.cloudflare.com/ajax/libs/require.js/2.2.0/require.min.js', requirejs_success(base_url), function(){\n",
       "            document.getElementById(\"root_plot_1696855328922\").innerHTML = \"Failed to load requireJs\";\n",
       "        });\n",
       "    });\n",
       "}\n",
       "\n",
       "function requirejs_load(src, on_load, on_error) {\n",
       "    var script = document.createElement('script');\n",
       "    script.src = src;\n",
       "    script.onload = on_load;\n",
       "    script.onerror = on_error;\n",
       "    document.head.appendChild(script);\n",
       "}\n",
       "\n",
       "function requirejs_success(base_url) {\n",
       "    return function() {\n",
       "        require.config({\n",
       "            baseUrl: base_url + 'static/'\n",
       "        });\n",
       "        display_root_plot_1696855328922();\n",
       "    }\n",
       "}\n",
       "\n",
       "function display_root_plot_1696855328922() {\n",
       "    require(['scripts/JSRootCore'],\n",
       "        function(Core) {\n",
       "            var obj = Core.JSONR_unref({\"_typename\":\"TCanvas\",\"fUniqueID\":0,\"fBits\":3342344,\"fLineColor\":1,\"fLineStyle\":1,\"fLineWidth\":1,\"fFillColor\":0,\"fFillStyle\":1001,\"fLeftMargin\":0.1,\"fRightMargin\":0.1,\"fBottomMargin\":0.1,\"fTopMargin\":0.1,\"fXfile\":2,\"fYfile\":2,\"fAfile\":1,\"fXstat\":0.99,\"fYstat\":0.99,\"fAstat\":2,\"fFrameFillColor\":0,\"fFrameLineColor\":1,\"fFrameFillStyle\":1001,\"fFrameLineStyle\":1,\"fFrameLineWidth\":1,\"fFrameBorderSize\":1,\"fFrameBorderMode\":0,\"fX1\":1249.99994412064,\"fY1\":-3070.85647879663,\"fX2\":8750.00005587936,\"fY2\":27637.7064787966,\"fXtoAbsPixelk\":-115.999943085861,\"fXtoPixelk\":-115.999943085861,\"fXtoPixel\":0.0927999986171722,\"fYtoAbsPixelk\":424.800047186661,\"fYtoPixelk\":424.800047186661,\"fYtoPixel\":-0.015370305691341,\"fUtoAbsPixelk\":5e-5,\"fUtoPixelk\":5e-5,\"fUtoPixel\":696,\"fVtoAbsPixelk\":472.00005,\"fVtoPixelk\":472,\"fVtoPixel\":-472,\"fAbsPixeltoXk\":1249.99994412064,\"fPixeltoXk\":1249.99994412064,\"fPixeltoX\":10.7758622295384,\"fAbsPixeltoYk\":27637.7064787966,\"fPixeltoYk\":-3070.85647879663,\"fPixeltoY\":-65.0605147406637,\"fXlowNDC\":0,\"fYlowNDC\":0,\"fXUpNDC\":1,\"fYUpNDC\":1,\"fWNDC\":1,\"fHNDC\":1,\"fAbsXlowNDC\":0,\"fAbsYlowNDC\":0,\"fAbsWNDC\":1,\"fAbsHNDC\":1,\"fUxmin\":2000,\"fUymin\":0,\"fUxmax\":8000,\"fUymax\":24566.85,\"fTheta\":30,\"fPhi\":30,\"fAspectRatio\":0,\"fNumber\":0,\"fTickx\":0,\"fTicky\":0,\"fLogx\":0,\"fLogy\":0,\"fLogz\":0,\"fPadPaint\":0,\"fCrosshair\":0,\"fCrosshairPos\":0,\"fBorderSize\":2,\"fBorderMode\":0,\"fModified\":false,\"fGridx\":false,\"fGridy\":false,\"fAbsCoord\":false,\"fEditable\":true,\"fFixedAspectRatio\":false,\"fPrimitives\":{\"_typename\":\"TList\",\"name\":\"TList\",\"arr\":[{\"_typename\":\"TFrame\",\"fUniqueID\":0,\"fBits\":8,\"fLineColor\":1,\"fLineStyle\":1,\"fLineWidth\":1,\"fFillColor\":0,\"fFillStyle\":1001,\"fX1\":2000,\"fY1\":0,\"fX2\":8000,\"fY2\":24566.85,\"fBorderSize\":1,\"fBorderMode\":0},{\"_typename\":\"TH1I\",\"fUniqueID\":0,\"fBits\":8,\"fName\":\"hsingle_110deg\",\"fTitle\":\"\",\"fLineColor\":602,\"fLineStyle\":1,\"fLineWidth\":1,\"fFillColor\":0,\"fFillStyle\":1001,\"fMarkerColor\":1,\"fMarkerStyle\":1,\"fMarkerSize\":1,\"fNcells\":1002,\"fXaxis\":{\"_typename\":\"TAxis\",\"fUniqueID\":0,\"fBits\":2048,\"fName\":\"xaxis\",\"fTitle\":\"\",\"fNdivisions\":510,\"fAxisColor\":1,\"fLabelColor\":1,\"fLabelFont\":42,\"fLabelOffset\":0.005,\"fLabelSize\":0.035,\"fTickLength\":0.03,\"fTitleOffset\":1,\"fTitleSize\":0.035,\"fTitleColor\":1,\"fTitleFont\":42,\"fNbins\":1000,\"fXmin\":0,\"fXmax\":8000,\"fXbins\":[],\"fFirst\":251,\"fLast\":1000,\"fBits2\":0,\"fTimeDisplay\":false,\"fTimeFormat\":\"\",\"fLabels\":null,\"fModLabs\":null},\"fYaxis\":{\"_typename\":\"TAxis\",\"fUniqueID\":0,\"fBits\":0,\"fName\":\"yaxis\",\"fTitle\":\"\",\"fNdivisions\":510,\"fAxisColor\":1,\"fLabelColor\":1,\"fLabelFont\":42,\"fLabelOffset\":0.005,\"fLabelSize\":0.035,\"fTickLength\":0.03,\"fTitleOffset\":0,\"fTitleSize\":0.035,\"fTitleColor\":1,\"fTitleFont\":42,\"fNbins\":1,\"fXmin\":0,\"fXmax\":1,\"fXbins\":[],\"fFirst\":0,\"fLast\":0,\"fBits2\":0,\"fTimeDisplay\":false,\"fTimeFormat\":\"\",\"fLabels\":null,\"fModLabs\":null},\"fZaxis\":{\"_typename\":\"TAxis\",\"fUniqueID\":0,\"fBits\":0,\"fName\":\"zaxis\",\"fTitle\":\"\",\"fNdivisions\":510,\"fAxisColor\":1,\"fLabelColor\":1,\"fLabelFont\":42,\"fLabelOffset\":0.005,\"fLabelSize\":0.035,\"fTickLength\":0.03,\"fTitleOffset\":1,\"fTitleSize\":0.035,\"fTitleColor\":1,\"fTitleFont\":42,\"fNbins\":1,\"fXmin\":0,\"fXmax\":1,\"fXbins\":[],\"fFirst\":0,\"fLast\":0,\"fBits2\":0,\"fTimeDisplay\":false,\"fTimeFormat\":\"\",\"fLabels\":null,\"fModLabs\":null},\"fBarOffset\":0,\"fBarWidth\":1000,\"fEntries\":19121557,\"fTsumw\":216453630.385122,\"fTsumw2\":2450227986.80972,\"fTsumwx\":191722160153.896,\"fTsumwx2\":212810382563690,\"fMaximum\":-1111,\"fMinimum\":-1111,\"fNormFactor\":0,\"fContour\":[],\"fSumw2\":[],\"fOption\":\"\",\"fFunctions\":{\"_typename\":\"TList\",\"name\":\"TList\",\"arr\":[{\"_typename\":\"TPaveStats\",\"fUniqueID\":0,\"fBits\":9,\"fLineColor\":1,\"fLineStyle\":1,\"fLineWidth\":1,\"fFillColor\":0,\"fFillStyle\":1001,\"fX1\":7100.00015199185,\"fY1\":20728.2799963754,\"fX2\":8600.00019669533,\"fY2\":25641.649959768,\"fX1NDC\":0.780000016093254,\"fY1NDC\":0.775000005960464,\"fX2NDC\":0.980000019073486,\"fY2NDC\":0.935000002384186,\"fBorderSize\":1,\"fInit\":1,\"fShadowColor\":1,\"fCornerRadius\":0,\"fOption\":\"brNDC\",\"fName\":\"stats\",\"fTextAngle\":0,\"fTextSize\":0,\"fTextAlign\":12,\"fTextColor\":1,\"fTextFont\":42,\"fLabel\":\"\",\"fLongest\":24,\"fMargin\":0.05,\"fLines\":{\"_typename\":\"TList\",\"name\":\"TList\",\"arr\":[{\"_typename\":\"TLatex\",\"fUniqueID\":0,\"fBits\":0,\"fName\":\"\",\"fTitle\":\"hsingle_110deg\",\"fTextAngle\":0,\"fTextSize\":0.0368,\"fTextAlign\":0,\"fTextColor\":0,\"fTextFont\":0,\"fX\":0,\"fY\":0,\"fLineColor\":1,\"fLineStyle\":1,\"fLineWidth\":2,\"fLimitFactorSize\":3,\"fOriginSize\":0.0368000008165836},{\"_typename\":\"TLatex\",\"fUniqueID\":0,\"fBits\":0,\"fName\":\"\",\"fTitle\":\"Entries =   1.912156e+07\",\"fTextAngle\":0,\"fTextSize\":0,\"fTextAlign\":0,\"fTextColor\":0,\"fTextFont\":0,\"fX\":0,\"fY\":0,\"fLineColor\":1,\"fLineStyle\":1,\"fLineWidth\":2,\"fLimitFactorSize\":3,\"fOriginSize\":0.04},{\"_typename\":\"TLatex\",\"fUniqueID\":0,\"fBits\":0,\"fName\":\"\",\"fTitle\":\"Mean  =   3930\",\"fTextAngle\":0,\"fTextSize\":0,\"fTextAlign\":0,\"fTextColor\":0,\"fTextFont\":0,\"fX\":0,\"fY\":0,\"fLineColor\":1,\"fLineStyle\":1,\"fLineWidth\":2,\"fLimitFactorSize\":3,\"fOriginSize\":0.04},{\"_typename\":\"TLatex\",\"fUniqueID\":0,\"fBits\":0,\"fName\":\"\",\"fTitle\":\"Std Dev   =  729.7\",\"fTextAngle\":0,\"fTextSize\":0,\"fTextAlign\":0,\"fTextColor\":0,\"fTextFont\":0,\"fX\":0,\"fY\":0,\"fLineColor\":1,\"fLineStyle\":1,\"fLineWidth\":2,\"fLimitFactorSize\":3,\"fOriginSize\":0.04}],\"opt\":[\"\",\"\",\"\",\"\"]},\"fOptFit\":0,\"fOptStat\":1111,\"fFitFormat\":\"5.4g\",\"fStatFormat\":\"6.4g\",\"fParent\":{\"$ref\":3}}],\"opt\":[\"brNDC\"]},\"fBufferSize\":0,\"fBuffer\":[],\"fBinStatErrOpt\":0,\"fStatOverflows\":2,\"fArray\":[0,0,0,0,0,0,231,385,561,4598,5577,7128,8041,9328,10560,12122,15037,19888,30415,48466,76846,123431,169345,214258,247852,271348,288684,301422,315623,329494,344663,356873,372713,380875,392161,395989,399586,399740,399619,403216,400246,405823,401456,405163,406241,402721,404657,406362,402193,403953,404338,403645,403502,399861,400488,405669,400565,401687,400433,406417,407242,405218,400609,404129,402039,405273,405251,404503,403436,407055,407528,406054,403359,408177,404800,404943,405713,413523,410509,407891,419496,417923,425953,432828,444895,462121,472659,488092,502733,529859,556479,595166,643709,712910,829763,1037905,1420342,2101924,3250753,5288888,8302602,11033308,11346588,9044970,6225197,4685923,4622508,5692049,6820000,6566604,5135273,3937945,3317259,3071486,2981154,2981957,3031963,3100713,3326829,3864212,4901534,6642361,8290821,7673259,5194893,3196754,2257332,1809918,1547381,1383173,1295998,1256211,1218866,1147696,1036189,910107,784157,674102,573826,486332,399982,314710,216381,127446,68090,37961,24706,17347,13035,11374,10615,10142,10032,9317,8602,9229,8866,8349,8668,8712,8833,8382,8712,8393,8338,7590,7865,7667,7392,7590,7161,7832,7117,7161,7183,7205,6820,7029,7029,7777,6886,6666,7084,6633,6688,6435,6974,7106,6886,7029,7194,6611,7095,6787,6644,6633,6974,6490,6600,6644,7040,6941,7051,6798,6952,7194,5929,6732,6677,6732,6578,6413,6446,6072,6050,6182,5885,6127,6281,6072,5797,5918,6776,6061,5841,5786,5874,5456,5808,5115,5434,5500,5170,4774,4631,4939,4356,4642,4301,4400,3927,3762,3663,3696,3465,3476,3553,3674,3696,3311,2959,3487,3267,2915,3091,3278,3333,3135,3410,2783,3157,3234,2728,2739,3058,3289,3058,3036,3212,2662,2596,3355,3003,2783,2761,2706,2816,2684,2816,2442,2937,2937,2761,2816,3058,2706,2739,2596,2651,2948,2882,2948,2552,2673,2508,2475,2761,2673,2585,2541,2563,2574,2794,2783,2684,2761,3454,2596,2552,2365,2629,2816,2684,2662,2508,3135,2882,2651,2959,2937,3102,3135,3014,2970,3157,2904,2816,3168,3201,3212,3080,3113,3102,3201,3036,3289,3014,3300,3168,3080,3399,3300,3201,3311,3410,3531,3366,3520,3850,3322,3564,3498,3080,3333,3696,3289,3586,3487,3740,3729,3960,3872,3861,4158,3861,3454,3883,4026,3806,4147,3949,4037,3894,4070,4422,3971,4202,4378,4598,4785,4620,4939,4796,4411,4323,4972,4807,4961,4763,5731,4862,4884,5500,4609,5841,5687,5522,5555,5819,5731,5412,5577,5929,6050,6061,6149,6006,5995,6479,6479,6490,6446,6941,6787,6325,6765,6831,7260,6886,7414,7018,7502,7854,7601,7645,8052,7975,8470,7997,7997,8712,8921,8503,8987,8866,8767,8668,8932,9757,9680,9218,10021,9856,9383,9801,10054,10362,10208,10846,10890,11484,11396,11066,10956,10824,11913,12243,12166,12012,12474,12012,12771,13387,12694,12969,13563,13673,13024,14080,14586,14278,14872,14938,15609,15015,15708,15796,16082,16511,16896,16060,16632,17567,17765,17072,17457,17490,18315,19041,18337,18777,19041,19382,19987,19404,20482,20493,20460,19954,21274,21384,20757,20966,21505,21604,21142,21505,22462,22264,22110,22407,22990,22495,21626,21934,22484,22396,22374,23397,23155,22792,22396,22473,22495,22902,22110,22979,22803,22297,21901,21692,22396,21879,21846,21406,20097,21054,20020,20416,19910,19547,19987,18986,18744,19503,18194,18051,17842,18150,16544,16742,16500,16643,15136,14850,14641,15477,14828,13442,14135,13519,13266,12408,12375,12386,11825,11506,11704,10307,10219,10373,9988,10274,9295,9691,9053,9075,8140,8723,8778,8129,7480,7260,7293,6787,7007,6974,7029,6369,6380,6314,6237,5786,5577,5698,5676,5544,5423,4983,4906,5302,4697,4488,4829,4598,4521,4125,4103,4081,3916,4279,3619,3553,3553,3597,3366,3432,3289,3311,3058,3036,2662,2948,3058,2937,3014,2761,2607,2420,2607,2574,2552,2189,2343,2178,2156,2079,1892,2024,1947,1815,2057,1705,1683,1496,1705,1441,1573,1606,1694,1562,1364,1298,1518,1408,1518,1298,1155,1243,1298,1210,1298,924,1012,1243,1177,1034,935,1067,858,968,847,814,825,858,836,869,814,770,638,737,550,605,715,594,638,693,682,693,671,539,528,539,396,737,594,539,605,429,473,451,462,418,561,352,330,396,385,407,451,462,451,275,363,330,484,297,242,396,198,242,242,253,209,143,121,220,275,253,132,187,187,220,121,121,110,165,143,154,121,143,110,187,198,110,176,198,242,275,473,627,759,1078,1419,1782,2233,2827,3289,3828,3927,3817,4158,3982,3212,3003,2453,2013,1793,1342,1441,1210,946,1034,979,671,770,627,506,539,385,407,253,176,220,198,77,11,22,55,22,22,33,0,0,0,0,0,0,0,11,0,0,0,0,0,0,0,0,11,0,0,0,0,0,0,0,0,0,0,0,0,0,0,0,0,0,0,11,0,0,0,0,0,0,0,0,0,0,0,0,0,0,0,0,0,0,0,0,0,0,0,0,0,0,0,0,0,0,0,0,0,0,0,0,0,0,0,0,0,0,0,0,0,0,0,0,0,0,0,0,11,0,0,11,11,11,11,11,44,22,33,22,33,22,11,11,0,11,0,11,0,0,11,11,11,0,0,0,0,22,0,0,11,0,0,0,11,0,0,0,0,0,0,0,0,0,0,0,0,0,0,0,0,0,0,0,0,0,0,0,0,0,0,0,0,0,0,0,0,0,0,0,0,0,0,0,0,0,0,0,0,0,0,0,0,0,0,0,0,0,0,0,0,0,0,0,0,0,0,0,0,0,0,0,0,0,0,0,0,0,0,0,0,0,0,0,0,0,0,0,0,0]}],\"opt\":[\"\",\"\"]},\"fExecs\":null,\"fName\":\"c1\",\"fTitle\":\"c1\",\"fNumPaletteColor\":0,\"fNextPaletteColor\":0,\"fDISPLAY\":\"$DISPLAY\",\"fDoubleBuffer\":0,\"fRetained\":true,\"fXsizeUser\":0,\"fYsizeUser\":0,\"fXsizeReal\":20,\"fYsizeReal\":14.28571,\"fWindowTopX\":0,\"fWindowTopY\":0,\"fWindowWidth\":0,\"fWindowHeight\":0,\"fCw\":696,\"fCh\":472,\"fCatt\":{\"_typename\":\"TAttCanvas\",\"fXBetween\":2,\"fYBetween\":2,\"fTitleFromTop\":1.2,\"fXdate\":0.2,\"fYdate\":0.3,\"fAdate\":1},\"kMoveOpaque\":true,\"kResizeOpaque\":true,\"fHighLightColor\":2,\"fBatch\":true,\"kShowEventStatus\":false,\"kAutoExec\":true,\"kMenuBar\":true});\n",
       "            Core.draw(\"root_plot_1696855328922\", obj, \"\");\n",
       "        }\n",
       "    );\n",
       "}\n",
       "</script>\n"
      ],
      "text/plain": [
       "<IPython.core.display.HTML object>"
      ]
     },
     "metadata": {},
     "output_type": "display_data"
    },
    {
     "name": "stdout",
     "output_type": "stream",
     "text": [
      "itheta=10\talpha0:59543"
     ]
    }
   ],
   "source": [
    "h[itheta]->GetXaxis()->SetRangeUser(2000,8000);\n",
    "h[itheta]->Draw();\n",
    "c1->Draw();\n",
    "cout<<\"itheta=\"<<itheta<<'\\t'<<\"alpha0:\"<<h[itheta]->Integral(h[itheta]->FindBin(5950),h[itheta]->FindBin(6300));\n",
    "itheta++;"
   ]
  },
  {
   "cell_type": "code",
   "execution_count": 20,
   "id": "31a46a93",
   "metadata": {},
   "outputs": [
    {
     "data": {
      "text/html": [
       "\n",
       "<div id=\"root_plot_1696855329028\"\n",
       "     style=\"width: 696px; height: 472px\">\n",
       "</div>\n",
       "<script>\n",
       "if (typeof require !== 'undefined') {\n",
       "\n",
       "    // All requirements met (we are in jupyter notebooks or we loaded requirejs before).\n",
       "    display_root_plot_1696855329028();\n",
       "\n",
       "} else {\n",
       "\n",
       "    // We are in jupyterlab, we need to insert requirejs and configure it.\n",
       "    // Jupyterlab might be installed in a different base_url so we need to know it.\n",
       "    try {\n",
       "        var base_url = JSON.parse(document.getElementById('jupyter-config-data').innerHTML).baseUrl;\n",
       "    } catch(_) {\n",
       "        var base_url = '/';\n",
       "    }\n",
       "\n",
       "    // Try loading a local version of requirejs and fallback to cdn if not possible.\n",
       "    requirejs_load(base_url + 'static/components/requirejs/require.js', requirejs_success(base_url), function(){\n",
       "        requirejs_load('https://cdnjs.cloudflare.com/ajax/libs/require.js/2.2.0/require.min.js', requirejs_success(base_url), function(){\n",
       "            document.getElementById(\"root_plot_1696855329028\").innerHTML = \"Failed to load requireJs\";\n",
       "        });\n",
       "    });\n",
       "}\n",
       "\n",
       "function requirejs_load(src, on_load, on_error) {\n",
       "    var script = document.createElement('script');\n",
       "    script.src = src;\n",
       "    script.onload = on_load;\n",
       "    script.onerror = on_error;\n",
       "    document.head.appendChild(script);\n",
       "}\n",
       "\n",
       "function requirejs_success(base_url) {\n",
       "    return function() {\n",
       "        require.config({\n",
       "            baseUrl: base_url + 'static/'\n",
       "        });\n",
       "        display_root_plot_1696855329028();\n",
       "    }\n",
       "}\n",
       "\n",
       "function display_root_plot_1696855329028() {\n",
       "    require(['scripts/JSRootCore'],\n",
       "        function(Core) {\n",
       "            var obj = Core.JSONR_unref({\"_typename\":\"TCanvas\",\"fUniqueID\":0,\"fBits\":3342344,\"fLineColor\":1,\"fLineStyle\":1,\"fLineWidth\":1,\"fFillColor\":0,\"fFillStyle\":1001,\"fLeftMargin\":0.1,\"fRightMargin\":0.1,\"fBottomMargin\":0.1,\"fTopMargin\":0.1,\"fXfile\":2,\"fYfile\":2,\"fAfile\":1,\"fXstat\":0.99,\"fYstat\":0.99,\"fAstat\":2,\"fFrameFillColor\":0,\"fFrameLineColor\":1,\"fFrameFillStyle\":1001,\"fFrameLineStyle\":1,\"fFrameLineWidth\":1,\"fFrameBorderSize\":1,\"fFrameBorderMode\":0,\"fX1\":1249.99994412064,\"fY1\":-3126.3752329331,\"fX2\":8750.00005587936,\"fY2\":28137.3752329331,\"fXtoAbsPixelk\":-115.999943085861,\"fXtoPixelk\":-115.999943085861,\"fXtoPixel\":0.0927999986171722,\"fYtoAbsPixelk\":424.800047186661,\"fYtoPixelk\":424.800047186661,\"fYtoPixel\":-0.0150973569378802,\"fUtoAbsPixelk\":5e-5,\"fUtoPixelk\":5e-5,\"fUtoPixel\":696,\"fVtoAbsPixelk\":472.00005,\"fVtoPixelk\":472,\"fVtoPixel\":-472,\"fAbsPixeltoXk\":1249.99994412064,\"fPixeltoXk\":1249.99994412064,\"fPixeltoX\":10.7758622295384,\"fAbsPixeltoYk\":28137.3752329331,\"fPixeltoYk\":-3126.3752329331,\"fPixeltoY\":-66.2367594615809,\"fXlowNDC\":0,\"fYlowNDC\":0,\"fXUpNDC\":1,\"fYUpNDC\":1,\"fWNDC\":1,\"fHNDC\":1,\"fAbsXlowNDC\":0,\"fAbsYlowNDC\":0,\"fAbsWNDC\":1,\"fAbsHNDC\":1,\"fUxmin\":2000,\"fUymin\":0,\"fUxmax\":8000,\"fUymax\":25011,\"fTheta\":30,\"fPhi\":30,\"fAspectRatio\":0,\"fNumber\":0,\"fTickx\":0,\"fTicky\":0,\"fLogx\":0,\"fLogy\":0,\"fLogz\":0,\"fPadPaint\":0,\"fCrosshair\":0,\"fCrosshairPos\":0,\"fBorderSize\":2,\"fBorderMode\":0,\"fModified\":false,\"fGridx\":false,\"fGridy\":false,\"fAbsCoord\":false,\"fEditable\":true,\"fFixedAspectRatio\":false,\"fPrimitives\":{\"_typename\":\"TList\",\"name\":\"TList\",\"arr\":[{\"_typename\":\"TFrame\",\"fUniqueID\":0,\"fBits\":8,\"fLineColor\":1,\"fLineStyle\":1,\"fLineWidth\":1,\"fFillColor\":0,\"fFillStyle\":1001,\"fX1\":2000,\"fY1\":0,\"fX2\":8000,\"fY2\":25011,\"fBorderSize\":1,\"fBorderMode\":0},{\"_typename\":\"TH1I\",\"fUniqueID\":0,\"fBits\":8,\"fName\":\"hsingle_115deg\",\"fTitle\":\"\",\"fLineColor\":602,\"fLineStyle\":1,\"fLineWidth\":1,\"fFillColor\":0,\"fFillStyle\":1001,\"fMarkerColor\":1,\"fMarkerStyle\":1,\"fMarkerSize\":1,\"fNcells\":1002,\"fXaxis\":{\"_typename\":\"TAxis\",\"fUniqueID\":0,\"fBits\":2048,\"fName\":\"xaxis\",\"fTitle\":\"\",\"fNdivisions\":510,\"fAxisColor\":1,\"fLabelColor\":1,\"fLabelFont\":42,\"fLabelOffset\":0.005,\"fLabelSize\":0.035,\"fTickLength\":0.03,\"fTitleOffset\":1,\"fTitleSize\":0.035,\"fTitleColor\":1,\"fTitleFont\":42,\"fNbins\":1000,\"fXmin\":0,\"fXmax\":8000,\"fXbins\":[],\"fFirst\":251,\"fLast\":1000,\"fBits2\":0,\"fTimeDisplay\":false,\"fTimeFormat\":\"\",\"fLabels\":null,\"fModLabs\":null},\"fYaxis\":{\"_typename\":\"TAxis\",\"fUniqueID\":0,\"fBits\":0,\"fName\":\"yaxis\",\"fTitle\":\"\",\"fNdivisions\":510,\"fAxisColor\":1,\"fLabelColor\":1,\"fLabelFont\":42,\"fLabelOffset\":0.005,\"fLabelSize\":0.035,\"fTickLength\":0.03,\"fTitleOffset\":0,\"fTitleSize\":0.035,\"fTitleColor\":1,\"fTitleFont\":42,\"fNbins\":1,\"fXmin\":0,\"fXmax\":1,\"fXbins\":[],\"fFirst\":0,\"fLast\":0,\"fBits2\":0,\"fTimeDisplay\":false,\"fTimeFormat\":\"\",\"fLabels\":null,\"fModLabs\":null},\"fZaxis\":{\"_typename\":\"TAxis\",\"fUniqueID\":0,\"fBits\":0,\"fName\":\"zaxis\",\"fTitle\":\"\",\"fNdivisions\":510,\"fAxisColor\":1,\"fLabelColor\":1,\"fLabelFont\":42,\"fLabelOffset\":0.005,\"fLabelSize\":0.035,\"fTickLength\":0.03,\"fTitleOffset\":1,\"fTitleSize\":0.035,\"fTitleColor\":1,\"fTitleFont\":42,\"fNbins\":1,\"fXmin\":0,\"fXmax\":1,\"fXbins\":[],\"fFirst\":0,\"fLast\":0,\"fBits2\":0,\"fTimeDisplay\":false,\"fTimeFormat\":\"\",\"fLabels\":null,\"fModLabs\":null},\"fBarOffset\":0,\"fBarWidth\":1000,\"fEntries\":16576361,\"fTsumw\":199444140.965736,\"fTsumw2\":2399680205.65724,\"fTsumwx\":173955280467.396,\"fTsumwx2\":192361792598734,\"fMaximum\":-1111,\"fMinimum\":-1111,\"fNormFactor\":0,\"fContour\":[],\"fSumw2\":[],\"fOption\":\"\",\"fFunctions\":{\"_typename\":\"TList\",\"name\":\"TList\",\"arr\":[{\"_typename\":\"TPaveStats\",\"fUniqueID\":0,\"fBits\":9,\"fLineColor\":1,\"fLineStyle\":1,\"fLineWidth\":1,\"fFillColor\":0,\"fFillStyle\":1001,\"fX1\":7100.00015199185,\"fY1\":21103.0315644597,\"fX2\":8600.00019669533,\"fY2\":26105.2315271904,\"fX1NDC\":0.780000016093254,\"fY1NDC\":0.775000005960464,\"fX2NDC\":0.980000019073486,\"fY2NDC\":0.935000002384186,\"fBorderSize\":1,\"fInit\":1,\"fShadowColor\":1,\"fCornerRadius\":0,\"fOption\":\"brNDC\",\"fName\":\"stats\",\"fTextAngle\":0,\"fTextSize\":0,\"fTextAlign\":12,\"fTextColor\":1,\"fTextFont\":42,\"fLabel\":\"\",\"fLongest\":24,\"fMargin\":0.05,\"fLines\":{\"_typename\":\"TList\",\"name\":\"TList\",\"arr\":[{\"_typename\":\"TLatex\",\"fUniqueID\":0,\"fBits\":0,\"fName\":\"\",\"fTitle\":\"hsingle_115deg\",\"fTextAngle\":0,\"fTextSize\":0.0368,\"fTextAlign\":0,\"fTextColor\":0,\"fTextFont\":0,\"fX\":0,\"fY\":0,\"fLineColor\":1,\"fLineStyle\":1,\"fLineWidth\":2,\"fLimitFactorSize\":3,\"fOriginSize\":0.0368000008165836},{\"_typename\":\"TLatex\",\"fUniqueID\":0,\"fBits\":0,\"fName\":\"\",\"fTitle\":\"Entries =   1.657636e+07\",\"fTextAngle\":0,\"fTextSize\":0,\"fTextAlign\":0,\"fTextColor\":0,\"fTextFont\":0,\"fX\":0,\"fY\":0,\"fLineColor\":1,\"fLineStyle\":1,\"fLineWidth\":2,\"fLimitFactorSize\":3,\"fOriginSize\":0.04},{\"_typename\":\"TLatex\",\"fUniqueID\":0,\"fBits\":0,\"fName\":\"\",\"fTitle\":\"Mean  =   3883\",\"fTextAngle\":0,\"fTextSize\":0,\"fTextAlign\":0,\"fTextColor\":0,\"fTextFont\":0,\"fX\":0,\"fY\":0,\"fLineColor\":1,\"fLineStyle\":1,\"fLineWidth\":2,\"fLimitFactorSize\":3,\"fOriginSize\":0.04},{\"_typename\":\"TLatex\",\"fUniqueID\":0,\"fBits\":0,\"fName\":\"\",\"fTitle\":\"Std Dev   =  706.6\",\"fTextAngle\":0,\"fTextSize\":0,\"fTextAlign\":0,\"fTextColor\":0,\"fTextFont\":0,\"fX\":0,\"fY\":0,\"fLineColor\":1,\"fLineStyle\":1,\"fLineWidth\":2,\"fLimitFactorSize\":3,\"fOriginSize\":0.04}],\"opt\":[\"\",\"\",\"\",\"\"]},\"fOptFit\":0,\"fOptStat\":1111,\"fFitFormat\":\"5.4g\",\"fStatFormat\":\"6.4g\",\"fParent\":{\"$ref\":3}}],\"opt\":[\"brNDC\"]},\"fBufferSize\":0,\"fBuffer\":[],\"fBinStatErrOpt\":0,\"fStatOverflows\":2,\"fArray\":[0,0,0,0,0,0,276,468,972,5688,6324,7224,8064,8928,10356,12708,16020,21312,32280,50088,79500,123384,173964,220764,261384,288612,307284,325128,340476,353040,362952,378972,387528,392304,393708,397488,402432,404880,401604,404712,407940,404844,409140,407388,407148,407424,403344,408156,403584,406968,405444,403752,402624,403488,400308,404832,403848,403308,404400,407760,405888,406692,405936,407664,403092,405708,408528,408180,404184,410124,407064,403764,404448,407496,406596,408432,408384,414816,421452,426384,436980,446052,453324,456276,469608,479496,496836,515568,539832,570180,604536,665808,744276,877320,1142460,1611468,2386164,3729732,6052404,9154548,11337216,10824216,8217744,5601768,4312848,4376088,5465652,6515436,6225768,4840092,3625632,2977824,2678676,2540940,2490204,2487612,2496360,2506488,2741760,3360540,4584312,6506100,7673316,6376080,3990744,2442648,1740804,1402032,1223484,1118340,1048716,1011420,958440,879348,775368,668424,567264,467316,374568,266472,164004,89016,51828,31032,20532,14904,12264,10620,10776,9144,9336,9492,9252,8064,8148,8928,8628,8088,8220,7812,7788,7584,7356,7956,7524,7608,7836,7368,7428,7356,7140,7260,7068,7380,7440,6792,7140,6960,6492,6756,6480,6300,6924,6360,7032,6096,6240,7380,6336,6864,6156,6684,6696,6264,6516,6768,7272,6504,6504,6504,6312,6528,6936,6492,6600,6240,6060,6576,6276,6684,6144,6360,5832,6024,6204,5664,5772,6204,5508,5256,5568,5124,6156,5700,5304,4920,5328,4728,4896,5496,4656,4800,4020,4404,4236,3672,3768,3384,3960,3576,3576,3108,3420,3204,3168,3132,3108,2976,3576,3180,2952,3072,3288,3240,2712,3108,2736,2844,2796,2700,2748,2556,2712,3012,3264,3036,2916,2760,2988,2928,2580,2880,2964,3264,2724,2544,3180,2460,2808,2664,2988,3180,2712,2796,3156,2604,2556,2568,2604,2700,2880,3060,2604,2556,2448,2688,2628,2652,2484,2724,2916,2664,2892,2412,2844,2880,2760,2736,2724,2544,2820,2892,2784,2724,3144,3204,2940,2760,2784,2592,3084,3168,2916,3300,3456,3012,3456,3408,3240,3336,3024,3060,3516,3168,3372,3156,3216,3060,3312,3264,3432,3276,3072,4056,3276,3756,3516,3624,3612,3492,3600,3744,3792,4344,3528,3960,3816,3660,3912,3912,3672,3672,3936,4416,3660,4380,3900,4476,4092,4068,4056,4416,4332,4704,4560,4752,4584,4752,4848,4956,4848,5352,4800,4656,4656,5364,5484,5112,5112,5676,5460,5664,5820,5556,5820,5616,5364,6492,6252,6432,6192,6168,6492,5964,6540,6000,6492,7008,6396,6936,6924,7296,7380,7692,7884,7260,7668,7248,7716,7800,8112,8184,8400,8304,8436,8856,8520,9096,9288,8856,9708,9324,8880,9888,9504,9624,10116,9804,10116,10272,9948,10560,11580,10380,10968,11484,11220,11376,12012,11280,12636,11904,12708,13200,12900,12600,12828,13752,13836,13560,13788,14292,14592,14004,14196,15168,15372,14652,16488,15792,16332,16500,15876,15876,16644,17616,18024,17508,18084,17688,19128,17988,18156,18096,18456,19824,19836,20328,20988,20184,19944,20460,21360,20508,20868,22116,21864,21144,21444,22344,22548,22308,21960,22860,23232,23184,23088,22776,23820,23196,23148,22704,23388,23112,22860,23784,21984,22776,23028,23028,23352,22620,22104,21912,22224,22260,21660,22224,21804,20736,20712,21240,20904,20424,19308,18504,19248,18324,19152,19128,17712,17880,17412,17016,16728,16500,16464,16140,15720,14808,14628,14544,14412,13608,13224,12468,12600,12696,12288,11820,11532,11076,10776,10176,11148,9768,9864,9624,8532,9120,8592,8016,8676,8676,7704,7728,7416,6804,7200,6948,6552,6012,6204,6576,6192,5652,5568,5328,5040,5640,5088,5148,4908,4584,4644,4656,4932,4428,3984,4284,3948,4116,3828,3804,3744,3828,3324,3492,3600,3036,3288,2784,3024,3084,2760,2808,2496,2436,3072,2712,2856,2448,2160,2304,2556,2460,2292,2028,2184,2028,2064,2004,1968,1740,1692,1788,1344,1716,1524,1764,1620,1668,1380,1392,1272,1464,1536,1188,1164,1392,1188,1080,1296,1128,1176,1236,1068,1068,1068,960,912,900,708,720,1008,552,864,744,660,792,672,756,768,804,732,696,792,804,564,708,480,612,612,636,516,444,528,624,528,588,480,516,444,432,408,456,420,516,360,384,252,372,348,336,288,228,276,168,252,324,156,228,180,288,240,228,204,264,132,240,216,228,108,228,180,120,168,168,180,84,108,132,144,144,156,96,168,204,204,168,300,408,504,876,756,1368,1512,1884,2424,2712,3096,3588,3264,3948,3816,3444,2592,2748,2220,1884,1500,1380,1296,1056,852,672,660,516,348,444,300,312,252,144,60,108,0,0,12,0,24,24,0,36,12,0,0,0,0,0,0,0,0,0,0,0,12,0,0,0,0,0,0,0,0,12,0,0,0,0,0,0,0,0,0,0,0,0,0,0,0,0,0,0,0,0,12,12,0,0,0,0,0,0,0,0,0,0,12,0,0,0,0,0,0,0,0,0,0,0,0,0,0,0,0,0,0,0,0,0,0,0,0,0,0,0,0,0,0,0,0,12,0,0,0,0,12,0,24,0,0,0,12,24,12,36,36,36,36,24,36,24,0,24,0,0,12,0,0,36,0,12,0,0,0,12,0,0,0,0,0,0,0,0,0,0,0,0,0,0,0,0,0,0,0,0,0,0,0,0,0,0,0,0,0,0,0,0,0,0,0,0,0,0,0,0,0,0,0,0,0,0,0,0,0,0,0,0,0,0,0,0,0,0,0,0,0,0,0,0,0,0,0,0,0,0,0,0,0,0,0,0,0,0,0,0,0,0,0,0,0,0,0,0,0,0,0,0,0,0,0,0]}],\"opt\":[\"\",\"\"]},\"fExecs\":null,\"fName\":\"c1\",\"fTitle\":\"c1\",\"fNumPaletteColor\":0,\"fNextPaletteColor\":0,\"fDISPLAY\":\"$DISPLAY\",\"fDoubleBuffer\":0,\"fRetained\":true,\"fXsizeUser\":0,\"fYsizeUser\":0,\"fXsizeReal\":20,\"fYsizeReal\":14.28571,\"fWindowTopX\":0,\"fWindowTopY\":0,\"fWindowWidth\":0,\"fWindowHeight\":0,\"fCw\":696,\"fCh\":472,\"fCatt\":{\"_typename\":\"TAttCanvas\",\"fXBetween\":2,\"fYBetween\":2,\"fTitleFromTop\":1.2,\"fXdate\":0.2,\"fYdate\":0.3,\"fAdate\":1},\"kMoveOpaque\":true,\"kResizeOpaque\":true,\"fHighLightColor\":2,\"fBatch\":true,\"kShowEventStatus\":false,\"kAutoExec\":true,\"kMenuBar\":true});\n",
       "            Core.draw(\"root_plot_1696855329028\", obj, \"\");\n",
       "        }\n",
       "    );\n",
       "}\n",
       "</script>\n"
      ],
      "text/plain": [
       "<IPython.core.display.HTML object>"
      ]
     },
     "metadata": {},
     "output_type": "display_data"
    },
    {
     "name": "stdout",
     "output_type": "stream",
     "text": [
      "itheta=11\talpha0:53616"
     ]
    }
   ],
   "source": [
    "h[itheta]->GetXaxis()->SetRangeUser(2000,8000);\n",
    "h[itheta]->Draw();\n",
    "c1->Draw();\n",
    "cout<<\"itheta=\"<<itheta<<'\\t'<<\"alpha0:\"<<h[itheta]->Integral(h[itheta]->FindBin(5900),h[itheta]->FindBin(6200));\n",
    "itheta++;"
   ]
  },
  {
   "cell_type": "code",
   "execution_count": 21,
   "id": "324ecf1d",
   "metadata": {},
   "outputs": [
    {
     "data": {
      "text/html": [
       "\n",
       "<div id=\"root_plot_1696855329134\"\n",
       "     style=\"width: 696px; height: 472px\">\n",
       "</div>\n",
       "<script>\n",
       "if (typeof require !== 'undefined') {\n",
       "\n",
       "    // All requirements met (we are in jupyter notebooks or we loaded requirejs before).\n",
       "    display_root_plot_1696855329134();\n",
       "\n",
       "} else {\n",
       "\n",
       "    // We are in jupyterlab, we need to insert requirejs and configure it.\n",
       "    // Jupyterlab might be installed in a different base_url so we need to know it.\n",
       "    try {\n",
       "        var base_url = JSON.parse(document.getElementById('jupyter-config-data').innerHTML).baseUrl;\n",
       "    } catch(_) {\n",
       "        var base_url = '/';\n",
       "    }\n",
       "\n",
       "    // Try loading a local version of requirejs and fallback to cdn if not possible.\n",
       "    requirejs_load(base_url + 'static/components/requirejs/require.js', requirejs_success(base_url), function(){\n",
       "        requirejs_load('https://cdnjs.cloudflare.com/ajax/libs/require.js/2.2.0/require.min.js', requirejs_success(base_url), function(){\n",
       "            document.getElementById(\"root_plot_1696855329134\").innerHTML = \"Failed to load requireJs\";\n",
       "        });\n",
       "    });\n",
       "}\n",
       "\n",
       "function requirejs_load(src, on_load, on_error) {\n",
       "    var script = document.createElement('script');\n",
       "    script.src = src;\n",
       "    script.onload = on_load;\n",
       "    script.onerror = on_error;\n",
       "    document.head.appendChild(script);\n",
       "}\n",
       "\n",
       "function requirejs_success(base_url) {\n",
       "    return function() {\n",
       "        require.config({\n",
       "            baseUrl: base_url + 'static/'\n",
       "        });\n",
       "        display_root_plot_1696855329134();\n",
       "    }\n",
       "}\n",
       "\n",
       "function display_root_plot_1696855329134() {\n",
       "    require(['scripts/JSRootCore'],\n",
       "        function(Core) {\n",
       "            var obj = Core.JSONR_unref({\"_typename\":\"TCanvas\",\"fUniqueID\":0,\"fBits\":3342344,\"fLineColor\":1,\"fLineStyle\":1,\"fLineWidth\":1,\"fFillColor\":0,\"fFillStyle\":1001,\"fLeftMargin\":0.1,\"fRightMargin\":0.1,\"fBottomMargin\":0.1,\"fTopMargin\":0.1,\"fXfile\":2,\"fYfile\":2,\"fAfile\":1,\"fXstat\":0.99,\"fYstat\":0.99,\"fAstat\":2,\"fFrameFillColor\":0,\"fFrameLineColor\":1,\"fFrameFillStyle\":1001,\"fFrameLineStyle\":1,\"fFrameLineWidth\":1,\"fFrameBorderSize\":1,\"fFrameBorderMode\":0,\"fX1\":1249.99994412064,\"fY1\":-3140.55023398922,\"fX2\":8750.00005587936,\"fY2\":28264.9502339892,\"fXtoAbsPixelk\":-115.999943085861,\"fXtoPixelk\":-115.999943085861,\"fXtoPixel\":0.0927999986171722,\"fYtoAbsPixelk\":424.800047186661,\"fYtoPixelk\":424.800047186661,\"fYtoPixel\":-0.0150292144040583,\"fUtoAbsPixelk\":5e-5,\"fUtoPixelk\":5e-5,\"fUtoPixel\":696,\"fVtoAbsPixelk\":472.00005,\"fVtoPixelk\":472,\"fVtoPixel\":-472,\"fAbsPixeltoXk\":1249.99994412064,\"fPixeltoXk\":1249.99994412064,\"fPixeltoX\":10.7758622295384,\"fAbsPixeltoYk\":28264.9502339892,\"fPixeltoYk\":-3140.55023398922,\"fPixeltoY\":-66.5370772626662,\"fXlowNDC\":0,\"fYlowNDC\":0,\"fXUpNDC\":1,\"fYUpNDC\":1,\"fWNDC\":1,\"fHNDC\":1,\"fAbsXlowNDC\":0,\"fAbsYlowNDC\":0,\"fAbsWNDC\":1,\"fAbsHNDC\":1,\"fUxmin\":2000,\"fUymin\":0,\"fUxmax\":8000,\"fUymax\":25124.4,\"fTheta\":30,\"fPhi\":30,\"fAspectRatio\":0,\"fNumber\":0,\"fTickx\":0,\"fTicky\":0,\"fLogx\":0,\"fLogy\":0,\"fLogz\":0,\"fPadPaint\":0,\"fCrosshair\":0,\"fCrosshairPos\":0,\"fBorderSize\":2,\"fBorderMode\":0,\"fModified\":false,\"fGridx\":false,\"fGridy\":false,\"fAbsCoord\":false,\"fEditable\":true,\"fFixedAspectRatio\":false,\"fPrimitives\":{\"_typename\":\"TList\",\"name\":\"TList\",\"arr\":[{\"_typename\":\"TFrame\",\"fUniqueID\":0,\"fBits\":8,\"fLineColor\":1,\"fLineStyle\":1,\"fLineWidth\":1,\"fFillColor\":0,\"fFillStyle\":1001,\"fX1\":2000,\"fY1\":0,\"fX2\":8000,\"fY2\":25124.4,\"fBorderSize\":1,\"fBorderMode\":0},{\"_typename\":\"TH1I\",\"fUniqueID\":0,\"fBits\":8,\"fName\":\"hsingle_120deg\",\"fTitle\":\"\",\"fLineColor\":602,\"fLineStyle\":1,\"fLineWidth\":1,\"fFillColor\":0,\"fFillStyle\":1001,\"fMarkerColor\":1,\"fMarkerStyle\":1,\"fMarkerSize\":1,\"fNcells\":1002,\"fXaxis\":{\"_typename\":\"TAxis\",\"fUniqueID\":0,\"fBits\":2048,\"fName\":\"xaxis\",\"fTitle\":\"\",\"fNdivisions\":510,\"fAxisColor\":1,\"fLabelColor\":1,\"fLabelFont\":42,\"fLabelOffset\":0.005,\"fLabelSize\":0.035,\"fTickLength\":0.03,\"fTitleOffset\":1,\"fTitleSize\":0.035,\"fTitleColor\":1,\"fTitleFont\":42,\"fNbins\":1000,\"fXmin\":0,\"fXmax\":8000,\"fXbins\":[],\"fFirst\":251,\"fLast\":1000,\"fBits2\":0,\"fTimeDisplay\":false,\"fTimeFormat\":\"\",\"fLabels\":null,\"fModLabs\":null},\"fYaxis\":{\"_typename\":\"TAxis\",\"fUniqueID\":0,\"fBits\":0,\"fName\":\"yaxis\",\"fTitle\":\"\",\"fNdivisions\":510,\"fAxisColor\":1,\"fLabelColor\":1,\"fLabelFont\":42,\"fLabelOffset\":0.005,\"fLabelSize\":0.035,\"fTickLength\":0.03,\"fTitleOffset\":0,\"fTitleSize\":0.035,\"fTitleColor\":1,\"fTitleFont\":42,\"fNbins\":1,\"fXmin\":0,\"fXmax\":1,\"fXbins\":[],\"fFirst\":0,\"fLast\":0,\"fBits2\":0,\"fTimeDisplay\":false,\"fTimeFormat\":\"\",\"fLabels\":null,\"fModLabs\":null},\"fZaxis\":{\"_typename\":\"TAxis\",\"fUniqueID\":0,\"fBits\":0,\"fName\":\"zaxis\",\"fTitle\":\"\",\"fNdivisions\":510,\"fAxisColor\":1,\"fLabelColor\":1,\"fLabelFont\":42,\"fLabelOffset\":0.005,\"fLabelSize\":0.035,\"fTickLength\":0.03,\"fTitleOffset\":1,\"fTitleSize\":0.035,\"fTitleColor\":1,\"fTitleFont\":42,\"fNbins\":1,\"fXmin\":0,\"fXmax\":1,\"fXbins\":[],\"fFirst\":0,\"fLast\":0,\"fBits2\":0,\"fTimeDisplay\":false,\"fTimeFormat\":\"\",\"fLabels\":null,\"fModLabs\":null},\"fBarOffset\":0,\"fBarWidth\":1000,\"fEntries\":15640541,\"fTsumw\":188392778.198999,\"fTsumw2\":2269221102.38608,\"fTsumwx\":162171678775.748,\"fTsumwx2\":178468382821393,\"fMaximum\":-1111,\"fMinimum\":-1111,\"fNormFactor\":0,\"fContour\":[],\"fSumw2\":[],\"fOption\":\"\",\"fFunctions\":{\"_typename\":\"TList\",\"name\":\"TList\",\"arr\":[{\"_typename\":\"TPaveStats\",\"fUniqueID\":0,\"fBits\":9,\"fLineColor\":1,\"fLineStyle\":1,\"fLineWidth\":1,\"fFillColor\":0,\"fFillStyle\":1001,\"fX1\":7100.00015199185,\"fY1\":21198.7128158854,\"fX2\":8600.00019669533,\"fY2\":26223.5927784472,\"fX1NDC\":0.780000016093254,\"fY1NDC\":0.775000005960464,\"fX2NDC\":0.980000019073486,\"fY2NDC\":0.935000002384186,\"fBorderSize\":1,\"fInit\":1,\"fShadowColor\":1,\"fCornerRadius\":0,\"fOption\":\"brNDC\",\"fName\":\"stats\",\"fTextAngle\":0,\"fTextSize\":0,\"fTextAlign\":12,\"fTextColor\":1,\"fTextFont\":42,\"fLabel\":\"\",\"fLongest\":24,\"fMargin\":0.05,\"fLines\":{\"_typename\":\"TList\",\"name\":\"TList\",\"arr\":[{\"_typename\":\"TLatex\",\"fUniqueID\":0,\"fBits\":0,\"fName\":\"\",\"fTitle\":\"hsingle_120deg\",\"fTextAngle\":0,\"fTextSize\":0.0368,\"fTextAlign\":0,\"fTextColor\":0,\"fTextFont\":0,\"fX\":0,\"fY\":0,\"fLineColor\":1,\"fLineStyle\":1,\"fLineWidth\":2,\"fLimitFactorSize\":3,\"fOriginSize\":0.0368000008165836},{\"_typename\":\"TLatex\",\"fUniqueID\":0,\"fBits\":0,\"fName\":\"\",\"fTitle\":\"Entries =   1.564054e+07\",\"fTextAngle\":0,\"fTextSize\":0,\"fTextAlign\":0,\"fTextColor\":0,\"fTextFont\":0,\"fX\":0,\"fY\":0,\"fLineColor\":1,\"fLineStyle\":1,\"fLineWidth\":2,\"fLimitFactorSize\":3,\"fOriginSize\":0.04},{\"_typename\":\"TLatex\",\"fUniqueID\":0,\"fBits\":0,\"fName\":\"\",\"fTitle\":\"Mean  =   3832\",\"fTextAngle\":0,\"fTextSize\":0,\"fTextAlign\":0,\"fTextColor\":0,\"fTextFont\":0,\"fX\":0,\"fY\":0,\"fLineColor\":1,\"fLineStyle\":1,\"fLineWidth\":2,\"fLimitFactorSize\":3,\"fOriginSize\":0.04},{\"_typename\":\"TLatex\",\"fUniqueID\":0,\"fBits\":0,\"fName\":\"\",\"fTitle\":\"Std Dev   =  684.2\",\"fTextAngle\":0,\"fTextSize\":0,\"fTextAlign\":0,\"fTextColor\":0,\"fTextFont\":0,\"fX\":0,\"fY\":0,\"fLineColor\":1,\"fLineStyle\":1,\"fLineWidth\":2,\"fLimitFactorSize\":3,\"fOriginSize\":0.04}],\"opt\":[\"\",\"\",\"\",\"\"]},\"fOptFit\":0,\"fOptStat\":1111,\"fFitFormat\":\"5.4g\",\"fStatFormat\":\"6.4g\",\"fParent\":{\"$ref\":3}}],\"opt\":[\"brNDC\"]},\"fBufferSize\":0,\"fBuffer\":[],\"fBinStatErrOpt\":0,\"fStatOverflows\":2,\"fArray\":[0,0,0,0,0,0,168,384,684,4968,6396,7212,8364,8808,10644,12036,15888,19968,29676,45684,74880,120000,170076,221232,264744,298716,321120,337212,354180,364548,369336,375408,385380,385800,387336,397548,402192,405900,408780,412548,412512,415548,418116,417264,413640,413760,416148,418800,412560,416268,419772,418896,416736,414444,416940,416748,413016,416916,415776,415560,414168,419256,415368,414900,417072,418680,420768,418572,416460,418044,414708,419364,420180,417312,414816,418224,423972,430416,435564,443388,458244,471240,480096,489720,498444,516756,535716,559524,590616,633996,704316,800508,977712,1302144,1866108,2772924,4355688,6832236,9528936,10704672,9326160,6583320,4541712,3769452,4062576,5136108,6030744,5601300,4324032,3262404,2700528,2415708,2283312,2232624,2228772,2244384,2223780,2268876,2594088,3303684,4604028,6258312,6543504,4795236,2884680,1870908,1421256,1181256,1050540,979116,924024,885852,829380,755760,660564,571992,499656,411492,337620,259488,168816,91932,46776,25692,17268,13392,10236,9444,9684,9192,9024,8496,8052,7632,7980,7740,7848,8196,7200,7044,6960,7368,6840,7236,6732,7320,7020,7080,7248,6780,6744,6648,6552,6684,6792,6588,6240,5892,6504,6156,6612,6456,6144,6288,6288,6216,5916,6312,6168,6360,6168,6012,6252,6108,6492,6312,6444,5952,5784,5820,6072,6240,6012,6240,5964,5688,5748,5664,5808,5820,5388,5952,5544,5700,5640,5652,5580,5352,5220,5376,5304,4920,5136,4800,4524,4296,4356,4644,4152,4020,3936,3768,3564,3372,3132,3636,3528,3336,3144,3276,3156,3120,3228,2952,3216,2988,3252,2940,3000,3108,2736,2592,3096,2892,2544,3132,2592,2880,3036,2628,2844,2904,2784,3168,2748,2976,3180,2976,2748,2676,2484,2928,3048,2796,2724,2808,3060,2748,2688,2736,2736,2496,2844,2496,2856,2376,2328,2640,2748,2700,2712,2832,2724,2472,2580,2532,2676,2976,2784,2976,3012,2640,2772,2940,2604,2832,2820,2964,2592,2604,2724,2640,2880,3012,3192,2916,3120,3312,3204,2940,3036,3384,3336,3636,3000,2952,3132,3192,2664,3300,3756,2880,3348,3120,3600,3132,2904,3132,3420,3492,3216,2988,3120,3288,3756,3540,3540,3744,3828,3744,3768,3816,3444,4008,3636,3996,4020,3996,4116,3900,4056,4452,4392,4068,4356,3816,4248,4704,4296,4596,4500,4560,4596,4608,4380,4860,5040,4836,5004,4980,5352,5460,5280,5508,5484,5184,5316,5280,5844,5916,5676,6168,5940,6540,6216,5916,6396,6432,6780,6804,6984,6840,6888,6396,7296,7548,7188,7512,7272,6972,7440,7692,7728,7728,7896,7704,7980,8856,8676,8196,8820,9000,9132,9036,9084,9588,9660,9288,9384,9936,10140,10344,10536,10644,10572,10824,10980,10560,11100,11892,11664,11844,12216,11892,12060,12576,12240,11760,13224,13644,12564,13416,14016,13692,14232,13956,14076,15024,15348,15192,14916,15960,15888,15000,15360,15948,15660,16620,17352,16668,17508,17844,18144,17712,17676,18012,18996,19452,18840,18252,20652,20232,19716,20952,19980,20040,20712,21576,21420,21624,21516,22284,21780,22692,21792,22044,22860,22980,21456,23004,23292,23316,22836,23220,22428,23748,23820,23460,23064,23148,22728,22704,22896,22956,22824,23928,22584,22032,22764,21324,21576,21048,21060,22092,20856,21060,19968,19608,19548,18528,18780,19104,18396,17652,17292,17676,16716,15732,16296,15876,15192,15384,14856,14076,14856,14088,13812,13224,12924,11808,12624,11688,11592,10620,10668,10044,10920,10080,10068,9924,9072,8832,8976,8184,8376,7788,7764,7500,7764,7044,7164,6768,7104,6720,6552,6444,6132,6444,6000,4764,5364,5064,4668,5460,4776,4656,4596,4572,4584,4428,3660,3900,4296,3684,3348,3300,3648,3780,3336,3396,3156,3324,3336,2820,3132,2844,2952,2616,2508,2544,2484,2700,2604,2712,2496,2100,2040,2256,2076,1992,2304,2016,2172,1944,2172,1812,1812,1836,1632,1632,1716,1548,1632,1260,1344,1164,1344,1236,1176,1368,1212,1260,1212,1092,1212,1164,876,960,1020,804,1056,1020,1020,852,972,768,828,720,888,900,684,660,756,732,756,672,588,576,792,624,636,564,516,612,624,576,540,432,384,396,372,516,384,504,492,384,408,348,480,408,348,348,504,336,444,312,324,252,228,300,252,336,348,240,204,204,264,144,180,144,204,132,96,144,144,216,84,192,108,156,48,132,60,108,108,72,96,168,96,168,120,276,180,300,396,576,972,1296,1692,1920,2424,2568,3024,3024,2772,3036,2856,2592,2340,2208,1860,1500,1152,1212,936,816,732,624,468,576,384,348,276,180,204,120,96,108,12,0,48,0,0,0,0,0,0,12,0,0,0,0,0,0,0,0,0,0,0,0,0,0,0,0,0,0,12,0,0,0,0,0,0,0,0,12,0,12,0,0,0,0,0,0,0,0,0,0,0,0,0,0,0,0,0,0,0,0,0,0,0,0,0,0,0,0,0,0,0,0,0,0,0,0,0,0,0,0,0,0,0,0,0,0,0,0,0,0,0,0,0,0,0,0,0,0,0,0,0,0,0,12,0,12,24,36,24,12,48,36,24,24,36,48,12,12,12,12,36,0,36,24,0,24,24,0,0,0,0,0,0,0,12,0,0,12,0,0,0,0,0,0,0,0,0,0,0,0,0,0,0,0,0,0,0,0,0,0,0,0,0,0,0,0,0,0,0,0,0,0,0,0,0,0,0,0,0,0,0,0,0,0,0,0,0,0,0,0,0,0,0,0,0,0,0,0,0,0,0,0,0,0,0,0,0,0,0,0,0,0,0,0,0,0,0,0,0,0,0,0,0,0,0,0,0,0,0,0,0,0,0,36]}],\"opt\":[\"\",\"\"]},\"fExecs\":null,\"fName\":\"c1\",\"fTitle\":\"c1\",\"fNumPaletteColor\":0,\"fNextPaletteColor\":0,\"fDISPLAY\":\"$DISPLAY\",\"fDoubleBuffer\":0,\"fRetained\":true,\"fXsizeUser\":0,\"fYsizeUser\":0,\"fXsizeReal\":20,\"fYsizeReal\":14.28571,\"fWindowTopX\":0,\"fWindowTopY\":0,\"fWindowWidth\":0,\"fWindowHeight\":0,\"fCw\":696,\"fCh\":472,\"fCatt\":{\"_typename\":\"TAttCanvas\",\"fXBetween\":2,\"fYBetween\":2,\"fTitleFromTop\":1.2,\"fXdate\":0.2,\"fYdate\":0.3,\"fAdate\":1},\"kMoveOpaque\":true,\"kResizeOpaque\":true,\"fHighLightColor\":2,\"fBatch\":true,\"kShowEventStatus\":false,\"kAutoExec\":true,\"kMenuBar\":true});\n",
       "            Core.draw(\"root_plot_1696855329134\", obj, \"\");\n",
       "        }\n",
       "    );\n",
       "}\n",
       "</script>\n"
      ],
      "text/plain": [
       "<IPython.core.display.HTML object>"
      ]
     },
     "metadata": {},
     "output_type": "display_data"
    },
    {
     "name": "stdout",
     "output_type": "stream",
     "text": [
      "itheta=12\talpha0:45828"
     ]
    }
   ],
   "source": [
    "h[itheta]->GetXaxis()->SetRangeUser(2000,8000);\n",
    "h[itheta]->Draw();\n",
    "c1->Draw();\n",
    "cout<<\"itheta=\"<<itheta<<'\\t'<<\"alpha0:\"<<h[itheta]->Integral(h[itheta]->FindBin(5850),h[itheta]->FindBin(6200));\n",
    "itheta++;"
   ]
  },
  {
   "cell_type": "code",
   "execution_count": 22,
   "id": "4bd81504",
   "metadata": {},
   "outputs": [
    {
     "data": {
      "text/html": [
       "\n",
       "<div id=\"root_plot_1696855329239\"\n",
       "     style=\"width: 696px; height: 472px\">\n",
       "</div>\n",
       "<script>\n",
       "if (typeof require !== 'undefined') {\n",
       "\n",
       "    // All requirements met (we are in jupyter notebooks or we loaded requirejs before).\n",
       "    display_root_plot_1696855329239();\n",
       "\n",
       "} else {\n",
       "\n",
       "    // We are in jupyterlab, we need to insert requirejs and configure it.\n",
       "    // Jupyterlab might be installed in a different base_url so we need to know it.\n",
       "    try {\n",
       "        var base_url = JSON.parse(document.getElementById('jupyter-config-data').innerHTML).baseUrl;\n",
       "    } catch(_) {\n",
       "        var base_url = '/';\n",
       "    }\n",
       "\n",
       "    // Try loading a local version of requirejs and fallback to cdn if not possible.\n",
       "    requirejs_load(base_url + 'static/components/requirejs/require.js', requirejs_success(base_url), function(){\n",
       "        requirejs_load('https://cdnjs.cloudflare.com/ajax/libs/require.js/2.2.0/require.min.js', requirejs_success(base_url), function(){\n",
       "            document.getElementById(\"root_plot_1696855329239\").innerHTML = \"Failed to load requireJs\";\n",
       "        });\n",
       "    });\n",
       "}\n",
       "\n",
       "function requirejs_load(src, on_load, on_error) {\n",
       "    var script = document.createElement('script');\n",
       "    script.src = src;\n",
       "    script.onload = on_load;\n",
       "    script.onerror = on_error;\n",
       "    document.head.appendChild(script);\n",
       "}\n",
       "\n",
       "function requirejs_success(base_url) {\n",
       "    return function() {\n",
       "        require.config({\n",
       "            baseUrl: base_url + 'static/'\n",
       "        });\n",
       "        display_root_plot_1696855329239();\n",
       "    }\n",
       "}\n",
       "\n",
       "function display_root_plot_1696855329239() {\n",
       "    require(['scripts/JSRootCore'],\n",
       "        function(Core) {\n",
       "            var obj = Core.JSONR_unref({\"_typename\":\"TCanvas\",\"fUniqueID\":0,\"fBits\":3342344,\"fLineColor\":1,\"fLineStyle\":1,\"fLineWidth\":1,\"fFillColor\":0,\"fFillStyle\":1001,\"fLeftMargin\":0.1,\"fRightMargin\":0.1,\"fBottomMargin\":0.1,\"fTopMargin\":0.1,\"fXfile\":2,\"fYfile\":2,\"fAfile\":1,\"fXstat\":0.99,\"fYstat\":0.99,\"fAstat\":2,\"fFrameFillColor\":0,\"fFrameLineColor\":1,\"fFrameFillStyle\":1001,\"fFrameLineStyle\":1,\"fFrameLineWidth\":1,\"fFrameBorderSize\":1,\"fFrameBorderMode\":0,\"fX1\":1249.99994412064,\"fY1\":-2817.67520993316,\"fX2\":8750.00005587936,\"fY2\":25359.0752099332,\"fXtoAbsPixelk\":-115.999943085861,\"fXtoPixelk\":-115.999943085861,\"fXtoPixel\":0.0927999986171722,\"fYtoAbsPixelk\":424.800047186661,\"fYtoPixelk\":424.800047186661,\"fYtoPixel\":-0.0167513993972567,\"fUtoAbsPixelk\":5e-5,\"fUtoPixelk\":5e-5,\"fUtoPixel\":696,\"fVtoAbsPixelk\":472.00005,\"fVtoPixelk\":472,\"fVtoPixel\":-472,\"fAbsPixeltoXk\":1249.99994412064,\"fPixeltoXk\":1249.99994412064,\"fPixeltoX\":10.7758622295384,\"fAbsPixeltoYk\":25359.0752099332,\"fPixeltoYk\":-2817.67520993316,\"fPixeltoY\":-59.6965051268354,\"fXlowNDC\":0,\"fYlowNDC\":0,\"fXUpNDC\":1,\"fYUpNDC\":1,\"fWNDC\":1,\"fHNDC\":1,\"fAbsXlowNDC\":0,\"fAbsYlowNDC\":0,\"fAbsWNDC\":1,\"fAbsHNDC\":1,\"fUxmin\":2000,\"fUymin\":0,\"fUxmax\":8000,\"fUymax\":22541.4,\"fTheta\":30,\"fPhi\":30,\"fAspectRatio\":0,\"fNumber\":0,\"fTickx\":0,\"fTicky\":0,\"fLogx\":0,\"fLogy\":0,\"fLogz\":0,\"fPadPaint\":0,\"fCrosshair\":0,\"fCrosshairPos\":0,\"fBorderSize\":2,\"fBorderMode\":0,\"fModified\":false,\"fGridx\":false,\"fGridy\":false,\"fAbsCoord\":false,\"fEditable\":true,\"fFixedAspectRatio\":false,\"fPrimitives\":{\"_typename\":\"TList\",\"name\":\"TList\",\"arr\":[{\"_typename\":\"TFrame\",\"fUniqueID\":0,\"fBits\":8,\"fLineColor\":1,\"fLineStyle\":1,\"fLineWidth\":1,\"fFillColor\":0,\"fFillStyle\":1001,\"fX1\":2000,\"fY1\":0,\"fX2\":8000,\"fY2\":22541.4,\"fBorderSize\":1,\"fBorderMode\":0},{\"_typename\":\"TH1I\",\"fUniqueID\":0,\"fBits\":8,\"fName\":\"hsingle_125deg\",\"fTitle\":\"\",\"fLineColor\":602,\"fLineStyle\":1,\"fLineWidth\":1,\"fFillColor\":0,\"fFillStyle\":1001,\"fMarkerColor\":1,\"fMarkerStyle\":1,\"fMarkerSize\":1,\"fNcells\":1002,\"fXaxis\":{\"_typename\":\"TAxis\",\"fUniqueID\":0,\"fBits\":2048,\"fName\":\"xaxis\",\"fTitle\":\"\",\"fNdivisions\":510,\"fAxisColor\":1,\"fLabelColor\":1,\"fLabelFont\":42,\"fLabelOffset\":0.005,\"fLabelSize\":0.035,\"fTickLength\":0.03,\"fTitleOffset\":1,\"fTitleSize\":0.035,\"fTitleColor\":1,\"fTitleFont\":42,\"fNbins\":1000,\"fXmin\":0,\"fXmax\":8000,\"fXbins\":[],\"fFirst\":251,\"fLast\":1000,\"fBits2\":0,\"fTimeDisplay\":false,\"fTimeFormat\":\"\",\"fLabels\":null,\"fModLabs\":null},\"fYaxis\":{\"_typename\":\"TAxis\",\"fUniqueID\":0,\"fBits\":0,\"fName\":\"yaxis\",\"fTitle\":\"\",\"fNdivisions\":510,\"fAxisColor\":1,\"fLabelColor\":1,\"fLabelFont\":42,\"fLabelOffset\":0.005,\"fLabelSize\":0.035,\"fTickLength\":0.03,\"fTitleOffset\":0,\"fTitleSize\":0.035,\"fTitleColor\":1,\"fTitleFont\":42,\"fNbins\":1,\"fXmin\":0,\"fXmax\":1,\"fXbins\":[],\"fFirst\":0,\"fLast\":0,\"fBits2\":0,\"fTimeDisplay\":false,\"fTimeFormat\":\"\",\"fLabels\":null,\"fModLabs\":null},\"fZaxis\":{\"_typename\":\"TAxis\",\"fUniqueID\":0,\"fBits\":0,\"fName\":\"zaxis\",\"fTitle\":\"\",\"fNdivisions\":510,\"fAxisColor\":1,\"fLabelColor\":1,\"fLabelFont\":42,\"fLabelOffset\":0.005,\"fLabelSize\":0.035,\"fTickLength\":0.03,\"fTitleOffset\":1,\"fTitleSize\":0.035,\"fTitleColor\":1,\"fTitleFont\":42,\"fNbins\":1,\"fXmin\":0,\"fXmax\":1,\"fXbins\":[],\"fFirst\":0,\"fLast\":0,\"fBits2\":0,\"fTimeDisplay\":false,\"fTimeFormat\":\"\",\"fLabels\":null,\"fModLabs\":null},\"fBarOffset\":0,\"fBarWidth\":1000,\"fEntries\":13443136,\"fTsumw\":172897597.481698,\"fTsumw2\":2223706110.33335,\"fTsumwx\":146710387664.473,\"fTsumwx2\":160336151807192,\"fMaximum\":-1111,\"fMinimum\":-1111,\"fNormFactor\":0,\"fContour\":[],\"fSumw2\":[],\"fOption\":\"\",\"fFunctions\":{\"_typename\":\"TList\",\"name\":\"TList\",\"arr\":[{\"_typename\":\"TPaveStats\",\"fUniqueID\":0,\"fBits\":9,\"fLineColor\":1,\"fLineStyle\":1,\"fLineWidth\":1,\"fFillColor\":0,\"fFillStyle\":1001,\"fX1\":7100.00015199185,\"fY1\":19019.3065334098,\"fX2\":8600.00019669533,\"fY2\":23527.5864998205,\"fX1NDC\":0.780000016093254,\"fY1NDC\":0.775000005960464,\"fX2NDC\":0.980000019073486,\"fY2NDC\":0.935000002384186,\"fBorderSize\":1,\"fInit\":1,\"fShadowColor\":1,\"fCornerRadius\":0,\"fOption\":\"brNDC\",\"fName\":\"stats\",\"fTextAngle\":0,\"fTextSize\":0,\"fTextAlign\":12,\"fTextColor\":1,\"fTextFont\":42,\"fLabel\":\"\",\"fLongest\":24,\"fMargin\":0.05,\"fLines\":{\"_typename\":\"TList\",\"name\":\"TList\",\"arr\":[{\"_typename\":\"TLatex\",\"fUniqueID\":0,\"fBits\":0,\"fName\":\"\",\"fTitle\":\"hsingle_125deg\",\"fTextAngle\":0,\"fTextSize\":0.0368,\"fTextAlign\":0,\"fTextColor\":0,\"fTextFont\":0,\"fX\":0,\"fY\":0,\"fLineColor\":1,\"fLineStyle\":1,\"fLineWidth\":2,\"fLimitFactorSize\":3,\"fOriginSize\":0.0368000008165836},{\"_typename\":\"TLatex\",\"fUniqueID\":0,\"fBits\":0,\"fName\":\"\",\"fTitle\":\"Entries =   1.344314e+07\",\"fTextAngle\":0,\"fTextSize\":0,\"fTextAlign\":0,\"fTextColor\":0,\"fTextFont\":0,\"fX\":0,\"fY\":0,\"fLineColor\":1,\"fLineStyle\":1,\"fLineWidth\":2,\"fLimitFactorSize\":3,\"fOriginSize\":0.04},{\"_typename\":\"TLatex\",\"fUniqueID\":0,\"fBits\":0,\"fName\":\"\",\"fTitle\":\"Mean  =   3788\",\"fTextAngle\":0,\"fTextSize\":0,\"fTextAlign\":0,\"fTextColor\":0,\"fTextFont\":0,\"fX\":0,\"fY\":0,\"fLineColor\":1,\"fLineStyle\":1,\"fLineWidth\":2,\"fLimitFactorSize\":3,\"fOriginSize\":0.04},{\"_typename\":\"TLatex\",\"fUniqueID\":0,\"fBits\":0,\"fName\":\"\",\"fTitle\":\"Std Dev   =  668.5\",\"fTextAngle\":0,\"fTextSize\":0,\"fTextAlign\":0,\"fTextColor\":0,\"fTextFont\":0,\"fX\":0,\"fY\":0,\"fLineColor\":1,\"fLineStyle\":1,\"fLineWidth\":2,\"fLimitFactorSize\":3,\"fOriginSize\":0.04}],\"opt\":[\"\",\"\",\"\",\"\"]},\"fOptFit\":0,\"fOptStat\":1111,\"fFitFormat\":\"5.4g\",\"fStatFormat\":\"6.4g\",\"fParent\":{\"$ref\":3}}],\"opt\":[\"brNDC\"]},\"fBufferSize\":0,\"fBuffer\":[],\"fBinStatErrOpt\":0,\"fStatOverflows\":2,\"fArray\":[0,0,0,0,0,0,216,336,768,4092,5220,6456,7836,7692,9444,11340,14484,19944,28020,43572,71976,116088,166932,215184,255204,287880,311136,318612,322656,329148,336540,344556,351552,355776,365076,367884,373260,374892,382080,382812,384972,387156,388476,389760,384504,391740,392088,390732,392304,388512,395412,392736,392232,395148,393948,392268,394464,389136,395316,391152,389436,392940,390840,392736,396132,396228,392208,389652,389160,394572,392700,394380,393540,398184,397572,398844,400728,410064,417636,428772,437484,447984,458856,470964,485844,498060,523584,552312,600444,665712,774072,992808,1366812,1951704,2902224,4562436,6863484,8806512,8956656,7043976,4757328,3410484,3064368,3440244,4410120,5035800,4526460,3375288,2572764,2143692,1911660,1782228,1734168,1743828,1752960,1738512,1720896,1879728,2271252,2993052,4257084,5373612,4859352,3214200,1966920,1384440,1112160,950208,851976,783696,741396,695616,629520,556872,482880,415860,357204,308256,262404,214860,162780,112656,79668,64728,54972,52812,44760,42240,38436,35184,29292,25692,23004,19956,16728,15360,14808,13032,11940,10620,10236,10068,9180,8760,8388,7944,7596,7056,6780,7068,6576,6408,6528,6192,5904,5628,5712,5220,5844,5352,5556,6156,5280,5376,5472,5172,5496,5052,5352,5604,5580,5340,4860,5388,4944,5076,5148,5280,5292,4872,5196,5400,4860,4860,4968,5232,4680,4644,4368,5268,5364,4596,4704,4956,4620,4512,4788,4320,4428,4392,3828,4116,3984,3768,3516,3516,3300,3588,3468,2928,3756,2952,2892,2676,2820,2928,2832,2688,2568,3048,2736,2688,2844,2832,2808,2784,2772,2340,2568,2316,2928,2280,2832,2544,2556,2556,2376,2592,2700,2484,2628,2256,2700,2640,2400,2592,2220,2484,2496,2520,2352,2256,2544,2580,2196,2232,2376,2544,2172,2064,2244,2172,2172,2532,2184,2400,2484,2424,2112,2388,2724,2100,2316,2520,2412,2448,2712,2640,2532,2604,2664,2436,2352,2568,2580,2436,2364,2628,2808,2664,2496,2652,2688,2916,2580,2808,2796,2892,2736,2928,3060,2628,2616,2868,2484,2892,2928,2976,2868,2808,3312,3108,3012,2832,3276,2940,3096,2904,2892,3108,3288,3420,3240,2928,3096,3660,3600,3600,3576,3252,3300,3540,3480,3552,3420,3600,4068,4104,3708,3924,3984,3840,4044,3816,4068,4476,4392,4356,3888,3876,4668,4092,4224,4524,4284,4608,4620,4668,4644,4512,5028,5040,5508,5100,4932,5016,5112,5412,5448,5580,5436,5412,5448,5616,5424,6036,5568,6612,5952,6156,6444,6576,6804,6564,6648,7584,6696,7320,6684,7116,7296,7824,7488,6984,7752,7656,7620,8388,8172,8388,8580,8592,8964,8688,8940,9060,9264,9624,9648,9732,9468,9756,9900,10056,10308,9468,10080,10404,10764,10968,10620,10884,11856,10812,11964,11664,11748,12372,12360,12996,12228,13152,13188,13608,14316,13908,14016,13284,14568,14784,14484,15072,15024,15324,15456,15696,16308,15288,16476,16488,16344,16716,16560,17124,17088,17232,18336,18156,18300,18492,18924,19836,19440,19404,18912,19884,19164,18984,19104,19716,19920,20040,20628,20556,21468,20628,20412,19512,20064,20160,20604,20340,19944,20952,20208,20148,21036,20964,20064,19572,19776,19704,19440,18792,19332,19008,19104,18576,18036,17496,17532,17604,17184,17580,17076,16176,16116,15456,14700,14964,14868,14244,13632,13212,13068,12864,13092,12108,12204,12840,12036,11856,11016,10956,10584,10788,9900,9840,9420,9444,8424,8340,8412,8748,8028,8352,7680,8088,7236,7260,7116,6660,6408,6216,6312,5868,5748,6240,5496,4992,5796,5220,4956,4440,4740,4224,4704,4404,4128,4308,3840,3744,4200,3636,3948,3588,3780,3420,3228,2988,3036,3084,3360,3036,2424,2676,2724,2400,2340,2484,2544,2160,2268,2352,2340,2328,2100,1932,2052,1776,1932,2088,1776,1668,1836,1920,1680,1416,1548,1524,1332,1356,1380,1440,1356,1308,1344,1344,1320,1080,1212,1140,1308,900,1140,1020,1104,1056,756,936,1080,1020,936,696,684,924,684,888,768,648,744,816,768,708,624,768,744,720,576,540,480,468,636,588,504,420,516,420,468,396,480,336,360,336,396,300,312,384,396,372,348,360,264,276,300,276,348,276,276,204,228,264,384,264,156,204,288,180,156,204,204,156,60,156,144,96,204,120,108,96,132,96,108,120,168,72,72,60,72,72,96,132,120,120,180,132,288,300,516,780,1068,1596,1860,2280,2256,2604,2928,2604,2508,2088,2004,1848,1356,1032,912,672,756,624,468,468,432,552,336,432,240,288,192,108,120,120,60,60,36,24,48,24,0,36,36,24,12,12,36,12,0,0,12,12,0,12,0,0,0,12,0,0,12,0,0,12,0,0,12,0,0,0,0,0,0,0,0,0,12,0,0,0,0,0,0,0,0,0,0,0,0,0,0,0,0,0,0,0,0,0,0,0,0,0,0,0,0,0,0,0,0,0,0,0,0,0,0,0,0,0,0,0,0,0,0,0,0,0,0,0,0,0,0,0,0,0,0,0,0,0,0,0,12,0,0,24,48,36,48,12,12,36,72,12,48,12,48,0,24,0,12,12,12,0,0,0,24,0,0,12,12,0,0,0,0,0,0,0,0,0,0,0,0,12,0,0,0,0,0,0,0,0,0,0,0,0,0,0,0,0,0,0,0,0,0,0,0,0,0,0,0,0,0,0,0,0,0,0,0,0,0,0,0,0,0,0,0,0,0,0,0,0,0,0,0,0,0,0,0,0,0,0,0,0,0,0,0,0,0,0,0,0,0,0,0,0,0,0,0,0,0,0,0,0,0,0,0,0,0,0,0,0,0,0,0,0,0,24]}],\"opt\":[\"\",\"\"]},\"fExecs\":null,\"fName\":\"c1\",\"fTitle\":\"c1\",\"fNumPaletteColor\":0,\"fNextPaletteColor\":0,\"fDISPLAY\":\"$DISPLAY\",\"fDoubleBuffer\":0,\"fRetained\":true,\"fXsizeUser\":0,\"fYsizeUser\":0,\"fXsizeReal\":20,\"fYsizeReal\":14.28571,\"fWindowTopX\":0,\"fWindowTopY\":0,\"fWindowWidth\":0,\"fWindowHeight\":0,\"fCw\":696,\"fCh\":472,\"fCatt\":{\"_typename\":\"TAttCanvas\",\"fXBetween\":2,\"fYBetween\":2,\"fTitleFromTop\":1.2,\"fXdate\":0.2,\"fYdate\":0.3,\"fAdate\":1},\"kMoveOpaque\":true,\"kResizeOpaque\":true,\"fHighLightColor\":2,\"fBatch\":true,\"kShowEventStatus\":false,\"kAutoExec\":true,\"kMenuBar\":true});\n",
       "            Core.draw(\"root_plot_1696855329239\", obj, \"\");\n",
       "        }\n",
       "    );\n",
       "}\n",
       "</script>\n"
      ],
      "text/plain": [
       "<IPython.core.display.HTML object>"
      ]
     },
     "metadata": {},
     "output_type": "display_data"
    },
    {
     "name": "stdout",
     "output_type": "stream",
     "text": [
      "itheta=13\talpha0:37668"
     ]
    }
   ],
   "source": [
    "h[itheta]->GetXaxis()->SetRangeUser(2000,8000);\n",
    "h[itheta]->Draw();\n",
    "c1->Draw();\n",
    "cout<<\"itheta=\"<<itheta<<'\\t'<<\"alpha0:\"<<h[itheta]->Integral(h[itheta]->FindBin(5750),h[itheta]->FindBin(6100));\n",
    "itheta++;"
   ]
  },
  {
   "cell_type": "code",
   "execution_count": 23,
   "id": "68fb8ee4",
   "metadata": {},
   "outputs": [
    {
     "data": {
      "text/html": [
       "\n",
       "<div id=\"root_plot_1696855329346\"\n",
       "     style=\"width: 696px; height: 472px\">\n",
       "</div>\n",
       "<script>\n",
       "if (typeof require !== 'undefined') {\n",
       "\n",
       "    // All requirements met (we are in jupyter notebooks or we loaded requirejs before).\n",
       "    display_root_plot_1696855329346();\n",
       "\n",
       "} else {\n",
       "\n",
       "    // We are in jupyterlab, we need to insert requirejs and configure it.\n",
       "    // Jupyterlab might be installed in a different base_url so we need to know it.\n",
       "    try {\n",
       "        var base_url = JSON.parse(document.getElementById('jupyter-config-data').innerHTML).baseUrl;\n",
       "    } catch(_) {\n",
       "        var base_url = '/';\n",
       "    }\n",
       "\n",
       "    // Try loading a local version of requirejs and fallback to cdn if not possible.\n",
       "    requirejs_load(base_url + 'static/components/requirejs/require.js', requirejs_success(base_url), function(){\n",
       "        requirejs_load('https://cdnjs.cloudflare.com/ajax/libs/require.js/2.2.0/require.min.js', requirejs_success(base_url), function(){\n",
       "            document.getElementById(\"root_plot_1696855329346\").innerHTML = \"Failed to load requireJs\";\n",
       "        });\n",
       "    });\n",
       "}\n",
       "\n",
       "function requirejs_load(src, on_load, on_error) {\n",
       "    var script = document.createElement('script');\n",
       "    script.src = src;\n",
       "    script.onload = on_load;\n",
       "    script.onerror = on_error;\n",
       "    document.head.appendChild(script);\n",
       "}\n",
       "\n",
       "function requirejs_success(base_url) {\n",
       "    return function() {\n",
       "        require.config({\n",
       "            baseUrl: base_url + 'static/'\n",
       "        });\n",
       "        display_root_plot_1696855329346();\n",
       "    }\n",
       "}\n",
       "\n",
       "function display_root_plot_1696855329346() {\n",
       "    require(['scripts/JSRootCore'],\n",
       "        function(Core) {\n",
       "            var obj = Core.JSONR_unref({\"_typename\":\"TCanvas\",\"fUniqueID\":0,\"fBits\":3342344,\"fLineColor\":1,\"fLineStyle\":1,\"fLineWidth\":1,\"fFillColor\":0,\"fFillStyle\":1001,\"fLeftMargin\":0.1,\"fRightMargin\":0.1,\"fBottomMargin\":0.1,\"fTopMargin\":0.1,\"fXfile\":2,\"fYfile\":2,\"fAfile\":1,\"fXstat\":0.99,\"fYstat\":0.99,\"fAstat\":2,\"fFrameFillColor\":0,\"fFrameLineColor\":1,\"fFrameFillStyle\":1001,\"fFrameLineStyle\":1,\"fFrameLineWidth\":1,\"fFrameBorderSize\":1,\"fFrameBorderMode\":0,\"fX1\":1249.99994412064,\"fY1\":-2463.30018353016,\"fX2\":8750.00005587936,\"fY2\":22169.7001835302,\"fXtoAbsPixelk\":-115.999943085861,\"fXtoPixelk\":-115.999943085861,\"fXtoPixel\":0.0927999986171722,\"fYtoAbsPixelk\":424.800047186661,\"fYtoPixelk\":424.800047186661,\"fYtoPixel\":-0.0191612874179617,\"fUtoAbsPixelk\":5e-5,\"fUtoPixelk\":5e-5,\"fUtoPixel\":696,\"fVtoAbsPixelk\":472.00005,\"fVtoPixelk\":472,\"fVtoPixel\":-472,\"fAbsPixeltoXk\":1249.99994412064,\"fPixeltoXk\":1249.99994412064,\"fPixeltoX\":10.7758622295384,\"fAbsPixeltoYk\":22169.7001835302,\"fPixeltoYk\":-2463.30018353016,\"fPixeltoY\":-52.1885600997041,\"fXlowNDC\":0,\"fYlowNDC\":0,\"fXUpNDC\":1,\"fYUpNDC\":1,\"fWNDC\":1,\"fHNDC\":1,\"fAbsXlowNDC\":0,\"fAbsYlowNDC\":0,\"fAbsWNDC\":1,\"fAbsHNDC\":1,\"fUxmin\":2000,\"fUymin\":0,\"fUxmax\":8000,\"fUymax\":19706.4,\"fTheta\":30,\"fPhi\":30,\"fAspectRatio\":0,\"fNumber\":0,\"fTickx\":0,\"fTicky\":0,\"fLogx\":0,\"fLogy\":0,\"fLogz\":0,\"fPadPaint\":0,\"fCrosshair\":0,\"fCrosshairPos\":0,\"fBorderSize\":2,\"fBorderMode\":0,\"fModified\":false,\"fGridx\":false,\"fGridy\":false,\"fAbsCoord\":false,\"fEditable\":true,\"fFixedAspectRatio\":false,\"fPrimitives\":{\"_typename\":\"TList\",\"name\":\"TList\",\"arr\":[{\"_typename\":\"TFrame\",\"fUniqueID\":0,\"fBits\":8,\"fLineColor\":1,\"fLineStyle\":1,\"fLineWidth\":1,\"fFillColor\":0,\"fFillStyle\":1001,\"fX1\":2000,\"fY1\":0,\"fX2\":8000,\"fY2\":19706.4,\"fBorderSize\":1,\"fBorderMode\":0},{\"_typename\":\"TH1I\",\"fUniqueID\":0,\"fBits\":8,\"fName\":\"hsingle_130deg\",\"fTitle\":\"\",\"fLineColor\":602,\"fLineStyle\":1,\"fLineWidth\":1,\"fFillColor\":0,\"fFillStyle\":1001,\"fMarkerColor\":1,\"fMarkerStyle\":1,\"fMarkerSize\":1,\"fNcells\":1002,\"fXaxis\":{\"_typename\":\"TAxis\",\"fUniqueID\":0,\"fBits\":2048,\"fName\":\"xaxis\",\"fTitle\":\"\",\"fNdivisions\":510,\"fAxisColor\":1,\"fLabelColor\":1,\"fLabelFont\":42,\"fLabelOffset\":0.005,\"fLabelSize\":0.035,\"fTickLength\":0.03,\"fTitleOffset\":1,\"fTitleSize\":0.035,\"fTitleColor\":1,\"fTitleFont\":42,\"fNbins\":1000,\"fXmin\":0,\"fXmax\":8000,\"fXbins\":[],\"fFirst\":251,\"fLast\":1000,\"fBits2\":0,\"fTimeDisplay\":false,\"fTimeFormat\":\"\",\"fLabels\":null,\"fModLabs\":null},\"fYaxis\":{\"_typename\":\"TAxis\",\"fUniqueID\":0,\"fBits\":0,\"fName\":\"yaxis\",\"fTitle\":\"\",\"fNdivisions\":510,\"fAxisColor\":1,\"fLabelColor\":1,\"fLabelFont\":42,\"fLabelOffset\":0.005,\"fLabelSize\":0.035,\"fTickLength\":0.03,\"fTitleOffset\":0,\"fTitleSize\":0.035,\"fTitleColor\":1,\"fTitleFont\":42,\"fNbins\":1,\"fXmin\":0,\"fXmax\":1,\"fXbins\":[],\"fFirst\":0,\"fLast\":0,\"fBits2\":0,\"fTimeDisplay\":false,\"fTimeFormat\":\"\",\"fLabels\":null,\"fModLabs\":null},\"fZaxis\":{\"_typename\":\"TAxis\",\"fUniqueID\":0,\"fBits\":0,\"fName\":\"zaxis\",\"fTitle\":\"\",\"fNdivisions\":510,\"fAxisColor\":1,\"fLabelColor\":1,\"fLabelFont\":42,\"fLabelOffset\":0.005,\"fLabelSize\":0.035,\"fTickLength\":0.03,\"fTitleOffset\":1,\"fTitleSize\":0.035,\"fTitleColor\":1,\"fTitleFont\":42,\"fNbins\":1,\"fXmin\":0,\"fXmax\":1,\"fXbins\":[],\"fFirst\":0,\"fLast\":0,\"fBits2\":0,\"fTimeDisplay\":false,\"fTimeFormat\":\"\",\"fLabels\":null,\"fModLabs\":null},\"fBarOffset\":0,\"fBarWidth\":1000,\"fEntries\":8711529,\"fTsumw\":143133868.307241,\"fTsumw2\":2351746359.23468,\"fTsumwx\":119802599327.096,\"fTsumwx2\":130046155648722,\"fMaximum\":-1111,\"fMinimum\":-1111,\"fNormFactor\":0,\"fContour\":[],\"fSumw2\":[],\"fOption\":\"\",\"fFunctions\":{\"_typename\":\"TList\",\"name\":\"TList\",\"arr\":[{\"_typename\":\"TPaveStats\",\"fUniqueID\":0,\"fBits\":9,\"fLineColor\":1,\"fLineStyle\":1,\"fLineWidth\":1,\"fFillColor\":0,\"fFillStyle\":1001,\"fX1\":7100.00015199185,\"fY1\":16627.2752477657,\"fX2\":8600.00019669533,\"fY2\":20568.5552184009,\"fX1NDC\":0.780000016093254,\"fY1NDC\":0.775000005960464,\"fX2NDC\":0.980000019073486,\"fY2NDC\":0.935000002384186,\"fBorderSize\":1,\"fInit\":1,\"fShadowColor\":1,\"fCornerRadius\":0,\"fOption\":\"brNDC\",\"fName\":\"stats\",\"fTextAngle\":0,\"fTextSize\":0,\"fTextAlign\":12,\"fTextColor\":1,\"fTextFont\":42,\"fLabel\":\"\",\"fLongest\":18,\"fMargin\":0.05,\"fLines\":{\"_typename\":\"TList\",\"name\":\"TList\",\"arr\":[{\"_typename\":\"TLatex\",\"fUniqueID\":0,\"fBits\":0,\"fName\":\"\",\"fTitle\":\"hsingle_130deg\",\"fTextAngle\":0,\"fTextSize\":0.0368,\"fTextAlign\":0,\"fTextColor\":0,\"fTextFont\":0,\"fX\":0,\"fY\":0,\"fLineColor\":1,\"fLineStyle\":1,\"fLineWidth\":2,\"fLimitFactorSize\":3,\"fOriginSize\":0.0368000008165836},{\"_typename\":\"TLatex\",\"fUniqueID\":0,\"fBits\":0,\"fName\":\"\",\"fTitle\":\"Entries = 8711529\",\"fTextAngle\":0,\"fTextSize\":0,\"fTextAlign\":0,\"fTextColor\":0,\"fTextFont\":0,\"fX\":0,\"fY\":0,\"fLineColor\":1,\"fLineStyle\":1,\"fLineWidth\":2,\"fLimitFactorSize\":3,\"fOriginSize\":0.04},{\"_typename\":\"TLatex\",\"fUniqueID\":0,\"fBits\":0,\"fName\":\"\",\"fTitle\":\"Mean  =   3743\",\"fTextAngle\":0,\"fTextSize\":0,\"fTextAlign\":0,\"fTextColor\":0,\"fTextFont\":0,\"fX\":0,\"fY\":0,\"fLineColor\":1,\"fLineStyle\":1,\"fLineWidth\":2,\"fLimitFactorSize\":3,\"fOriginSize\":0.04},{\"_typename\":\"TLatex\",\"fUniqueID\":0,\"fBits\":0,\"fName\":\"\",\"fTitle\":\"Std Dev   =  650.7\",\"fTextAngle\":0,\"fTextSize\":0,\"fTextAlign\":0,\"fTextColor\":0,\"fTextFont\":0,\"fX\":0,\"fY\":0,\"fLineColor\":1,\"fLineStyle\":1,\"fLineWidth\":2,\"fLimitFactorSize\":3,\"fOriginSize\":0.04}],\"opt\":[\"\",\"\",\"\",\"\"]},\"fOptFit\":0,\"fOptStat\":1111,\"fFitFormat\":\"5.4g\",\"fStatFormat\":\"6.4g\",\"fParent\":{\"$ref\":3}},{\"_typename\":\"TF1\",\"fUniqueID\":0,\"fBits\":1024,\"fName\":\"f\",\"fTitle\":\"pol1(0)+gaus(2)\",\"fLineColor\":2,\"fLineStyle\":1,\"fLineWidth\":2,\"fFillColor\":19,\"fFillStyle\":0,\"fMarkerColor\":1,\"fMarkerStyle\":1,\"fMarkerSize\":1,\"fXmin\":900,\"fXmax\":1000,\"fNpar\":5,\"fNdim\":1,\"fNpx\":100,\"fType\":0,\"fNpfits\":13,\"fNDF\":10,\"fChisquare\":47292.8799868992,\"fMinimum\":-1111,\"fMaximum\":-1111,\"fParErrors\":[0,0,1406.03620926547,0.00540283651349682,0.0052729232026234],\"fParMin\":[6700000,-5900,1,910,0.5],\"fParMax\":[6700000,-5900,10000000000,1010,50],\"fSave\":[1390074.78420938,1384205.43320122,1378347.81046126,1372506.059786,1366685.65485487,1360893.77692889,1355139.78301957,1349435.78081936,1343797.32797008,1338244.27409211,1332801.76419055,1327501.42134581,1322382.72470377,1317494.59540109,1312897.19788283,1308663.95678959,1304883.77994402,1301663.46575138,1299130.25844605,1297434.49710524,1296752.28443246,1297288.07942304,1299277.09484855,1302987.35699713,1308721.26252452,1316816.44712118,1327645.76473934,1341616.16628454,1359166.26498805,1380762.38414324,1406892.90334981,1438060.75337759,1474773.95824441,1517534.18643487,1566823.35085956,1623088.3876876,1686724.44503407,1758056.82001214,1837322.0921837,1924649.00736013,2020039.76171383,2123352.41555869,2234285.22222335,2352363.68387181,2476931.13750777,2607143.62668127,2741969.72534651,2880195.84981511,3020437.42514652,3161156.06849597,3300682.72126478,3437246.4139939,3569008.09428381,3694098.70136586,3810660.44461217,3916890.05034066,4011082.5937593,4091674.44091195,4157283.79650872,4206747.39178393,4239151.95261407,4253859.25882228,4250523.83392656,4229102.58018454,4189855.98343707,4133340.84068297,4060394.79410635,3972113.27186284,3869819.72261295,3755030.27369175,3629414.13067821,3494751.16100101,3352888.16178536,3205695.30192478,3055024.1535892,2902668.59566528,2750329.69040126,2599585.41635169,2451865.89845486,2308434.52306678,2170375.07501091,2038584.79708311,1913773.06017649,1796465.15229461,1687010.5528014,1585594.95736298,1492255.25975166,1406896.67733572,1329311.22408534,1259196.78321051,1196176.10501168,1139815.14751806,1089640.28126466,1045153.98866593,1005848.79705498,971219.287613814,940772.116178549,914034.063413295,890558.199329581,869928.299815368,851761.690838291,900,1000],\"fNormalized\":false,\"fNormIntegral\":0,\"fFormula\":{\"_typename\":\"TFormula\",\"fUniqueID\":0,\"fBits\":1024,\"fName\":\"f\",\"fTitle\":\"pol1(0)+gaus(2)\",\"fClingParameters\":[6700000,-5900,3227488.37159683,961.641555502057,13.3420729729533],\"fAllParametersSetted\":true,\"fParams\":[{\"$pair\":\"pair<TString,int,TFormulaParamOrder>\",\"first\":\"p0\",\"second\":0},{\"$pair\":\"pair<TString,int,TFormulaParamOrder>\",\"first\":\"p1\",\"second\":1},{\"$pair\":\"pair<TString,int,TFormulaParamOrder>\",\"first\":\"p2\",\"second\":2},{\"$pair\":\"pair<TString,int,TFormulaParamOrder>\",\"first\":\"p3\",\"second\":3},{\"$pair\":\"pair<TString,int,TFormulaParamOrder>\",\"first\":\"p4\",\"second\":4}],\"fFormula\":\"([p0]+[p1]*x)+[p2]*exp(-0.5*((x-[p3])\\/[p4])*((x-[p3])\\/[p4]))\",\"fNdim\":1,\"fLinearParts\":[],\"fVectorized\":false},\"fParams\":null,\"fComposition_ptr\":null}],\"opt\":[\"brNDC\",\"\"]},\"fBufferSize\":0,\"fBuffer\":[],\"fBinStatErrOpt\":0,\"fStatOverflows\":2,\"fArray\":[0,0,0,0,96,336,848,832,1520,4224,5648,7024,8048,8880,10176,13312,16304,22208,32432,50912,84640,129584,177392,221136,254192,272000,282288,292208,298080,300816,314080,317808,328512,327504,337456,346592,346912,346384,357104,358672,360112,356080,360400,364912,363424,362560,369920,359280,364176,362784,361984,373968,366768,367872,366448,368672,370880,370592,372576,373392,368464,368144,371712,368656,373584,370688,367552,374416,376016,374128,371904,372816,374288,377136,379728,387648,390368,390480,405632,414736,422864,431584,446016,453936,469504,490224,524176,567520,642736,774992,1012560,1409616,1999280,3059824,4818176,6788896,7931248,7219328,5136400,3391312,2548672,2457824,2907776,3771456,4158320,3569168,2617280,2007680,1709696,1520288,1416512,1354688,1324992,1324896,1308656,1285152,1357536,1613648,2060608,2852720,3988192,4376880,3363040,2060912,1336880,1007840,835168,731344,671616,627072,587600,549888,498512,447872,391392,340032,304064,266944,234080,198640,165328,139952,120704,104992,96176,92912,82096,80240,74560,67776,60688,55408,50752,48400,43632,40048,39088,36816,32768,32064,28288,27600,25248,24544,23376,19888,19728,18384,16688,15568,13728,13232,12016,10144,7984,6592,5296,5056,5120,4944,4800,4720,5120,4960,4480,4928,4256,3968,4000,4656,4496,4368,4224,4688,4432,4256,4208,3984,3952,4384,4112,4288,4432,3920,4112,3776,4160,4240,3616,4320,4288,3840,3552,3824,4096,3984,3648,3344,3280,3136,2688,3040,2944,3008,2864,2720,2384,3216,2784,2400,2240,2496,2736,2704,2496,2192,2480,2192,2672,2400,2592,2256,2656,2592,2464,2512,2368,2400,2256,2272,2400,2224,2224,2304,2000,2272,2176,2224,2336,2208,1936,1952,2064,1904,1952,1904,1776,1920,2272,1872,2000,2160,2048,1984,1840,2176,2272,1984,2080,1840,2176,2080,2528,2272,2160,2320,2384,2512,2432,2096,2560,2208,2000,1936,2336,2336,2096,2208,2016,2816,2080,2144,2192,2512,2304,2128,2464,2368,2128,2176,2048,2480,2368,2704,2704,2656,2736,2144,2720,2816,2176,2720,2448,3008,2384,2672,2656,2832,2240,2528,2448,2832,2816,2304,3424,2576,2656,3216,2736,2784,3168,2688,2608,2928,3184,3280,3024,2912,3552,3408,3456,3344,3744,3616,3488,3936,4032,3376,4144,3968,3376,3744,3712,4096,3872,4144,3616,3616,4128,4192,3952,4272,4304,4496,4272,4240,4624,4480,5040,4592,4624,4448,4480,4608,4848,4832,5072,5472,5296,4784,5104,4528,5008,6352,5472,6416,5184,6080,5968,6016,5696,6368,6304,5968,6112,6384,6912,6800,6736,6784,7232,7872,7120,7248,7088,7760,7376,7856,8208,8000,8000,8336,8000,8144,8592,8256,8544,9104,9520,9072,9680,9696,9312,9232,9728,9328,9488,9472,10064,11040,11264,10288,10944,11184,11296,11392,11008,11904,12816,12320,11696,11904,12864,12688,13424,13184,13440,13808,14464,13424,14288,13328,14528,15184,14544,14160,14544,14256,15904,15056,15072,16288,16400,16672,16320,16560,17088,16912,16720,16592,17760,17184,16720,17568,17904,16976,18768,18224,17104,17520,17856,17072,17760,18032,18384,17568,17328,18048,18144,18368,16784,17888,17792,16944,17680,16752,17680,17088,17424,16736,16624,16144,16352,15248,15264,16208,15536,14896,14176,14880,14816,13568,14208,13648,12768,11904,12640,12112,11632,12064,11984,11648,11040,10832,10448,10592,10224,9552,10272,9392,9776,9136,8336,8048,7680,7808,7664,7296,6944,7072,6816,6336,6112,6224,5760,5808,5568,5792,5776,5760,5232,5072,5008,4544,5104,4816,4192,4016,4016,4272,3952,3824,3856,3584,3520,3600,3264,2944,3680,3120,3216,3136,3120,2704,2960,2864,2672,2336,2384,2144,2176,2256,2464,2160,2048,2080,2192,1856,1760,1872,1616,1696,1760,1824,1744,1824,1472,1520,1568,1504,1216,1328,1296,1168,1360,1200,976,1088,1056,1296,1104,928,880,736,928,1024,736,688,880,1056,944,912,944,848,672,640,720,560,704,592,560,848,496,656,640,464,672,560,560,608,512,496,448,416,384,352,480,448,448,432,608,224,384,320,400,368,288,256,224,272,256,336,288,208,304,272,192,368,224,192,320,192,192,224,192,256,160,160,224,128,176,112,176,160,288,128,176,144,80,176,112,96,80,160,160,96,128,128,48,48,112,96,144,48,96,32,112,64,112,192,448,368,688,848,1408,1472,2208,2368,2224,2320,1840,1744,1360,1040,896,816,592,496,544,368,416,384,272,368,304,256,208,272,128,112,112,192,96,144,128,32,32,64,80,16,48,32,64,64,144,96,16,48,48,48,32,16,48,32,0,16,64,16,16,16,16,0,0,16,0,0,0,0,0,0,0,0,0,0,0,0,0,0,0,0,0,0,0,0,0,0,0,0,0,0,0,0,0,0,0,0,0,0,0,0,0,0,0,0,0,0,0,0,0,0,0,0,0,0,0,0,0,0,0,0,0,0,0,0,0,0,0,0,0,0,0,0,0,0,0,0,0,0,0,0,0,0,0,0,0,16,16,16,16,0,16,32,48,0,0,32,0,0,0,0,0,32,0,16,0,0,0,0,0,0,0,0,0,0,0,0,0,0,0,0,0,0,0,0,0,0,0,16,0,0,0,0,0,16,0,0,0,0,0,0,0,0,0,0,0,0,0,0,0,0,0,0,0,0,0,0,0,0,0,0,0,0,0,0,0,0,0,0,0,0,0,0,0,0,0,0,0,0,0,0,0,0,0,0,0,0,0,0,0,0,0,0,0,0,0,0,0,0,0,0,0,0,0,0,0,0,0,0,0,0,0,0,0,0,0,0,0,0,0,0,0,16]}],\"opt\":[\"\",\"\"]},\"fExecs\":null,\"fName\":\"c1\",\"fTitle\":\"c1\",\"fNumPaletteColor\":0,\"fNextPaletteColor\":0,\"fDISPLAY\":\"$DISPLAY\",\"fDoubleBuffer\":0,\"fRetained\":true,\"fXsizeUser\":0,\"fYsizeUser\":0,\"fXsizeReal\":20,\"fYsizeReal\":14.28571,\"fWindowTopX\":0,\"fWindowTopY\":0,\"fWindowWidth\":0,\"fWindowHeight\":0,\"fCw\":696,\"fCh\":472,\"fCatt\":{\"_typename\":\"TAttCanvas\",\"fXBetween\":2,\"fYBetween\":2,\"fTitleFromTop\":1.2,\"fXdate\":0.2,\"fYdate\":0.3,\"fAdate\":1},\"kMoveOpaque\":true,\"kResizeOpaque\":true,\"fHighLightColor\":2,\"fBatch\":true,\"kShowEventStatus\":false,\"kAutoExec\":true,\"kMenuBar\":true});\n",
       "            Core.draw(\"root_plot_1696855329346\", obj, \"\");\n",
       "        }\n",
       "    );\n",
       "}\n",
       "</script>\n"
      ],
      "text/plain": [
       "<IPython.core.display.HTML object>"
      ]
     },
     "metadata": {},
     "output_type": "display_data"
    },
    {
     "name": "stdout",
     "output_type": "stream",
     "text": [
      "itheta=14\talpha0:28528"
     ]
    }
   ],
   "source": [
    "h[itheta]->GetXaxis()->SetRangeUser(2000,8000);\n",
    "h[itheta]->Draw();\n",
    "c1->Draw();\n",
    "cout<<\"itheta=\"<<itheta<<'\\t'<<\"alpha0:\"<<h[itheta]->Integral(h[itheta]->FindBin(5700),h[itheta]->FindBin(6100));\n",
    "itheta++;"
   ]
  },
  {
   "cell_type": "code",
   "execution_count": null,
   "id": "f543b8c9",
   "metadata": {},
   "outputs": [],
   "source": []
  }
 ],
 "metadata": {
  "kernelspec": {
   "display_name": "ROOT C++",
   "language": "c++",
   "name": "root"
  },
  "language_info": {
   "codemirror_mode": "text/x-c++src",
   "file_extension": ".C",
   "mimetype": " text/x-c++src",
   "name": "c++"
  }
 },
 "nbformat": 4,
 "nbformat_minor": 5
}
