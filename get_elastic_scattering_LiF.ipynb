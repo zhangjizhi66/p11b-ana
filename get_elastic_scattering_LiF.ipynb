{
 "cells": [
  {
   "cell_type": "markdown",
   "id": "cbcc6f9a",
   "metadata": {},
   "source": [
    "# 截面计算"
   ]
  },
  {
   "cell_type": "markdown",
   "id": "af5069c9",
   "metadata": {},
   "source": [
    "  Li -  4 ug/cm2 \n",
    " 6Li - 0.3 ug/cm2      6 g/mol\n",
    " 7Li -  3.7 ug/cm2      7 g/mol\n",
    "  C -  22 ug/cm2      12 g/mol\n",
    "  F -  11 ug/cm2       19 g/mol"
   ]
  },
  {
   "cell_type": "markdown",
   "id": "4c8a0f56",
   "metadata": {},
   "source": [
    "$\\cfrac{N_{sc}(11B+10B)}{N_{sc}(C)} = \\cfrac{\\cfrac{16.40}{10.81}*\\sigma_{sc}(pB)}{\\cfrac{6.50}{12.01}*\\sigma_{sc}(pC)}$\n",
    "\n",
    "$\\cfrac{N_{sc}(^{11}B+^{10}B+^{12}C)}{N_\\alpha(\\theta)} = \\cfrac{\\cfrac{16.40\\ ug/cm^2 \\times 80.1\\%}{11\\ g/mol}*\\sigma_{sc}(p^{11}B)+\\cfrac{16.40\\ ug/cm^2 \\times 19.9\\%}{10\\ g/mol}*\\sigma_{sc}(p^{10}B)+\\cfrac{6.50\\ ug/cm^2}{12\\ g/mol}*\\sigma_{sc}(p^{12}C)}{\\cfrac{16.40\\ ug/cm^2 \\times 80.1\\%}{11\\ g/mol}*\\sigma_\\alpha(\\theta)}$\n",
    "\n",
    "$\\cfrac{N_{sc}(^{6}Li+^{7}Li)}{N_\\alpha(\\theta)} = \\cfrac{\\cfrac{0.3\\ ug/cm^2}{6\\ g/mol}*\\sigma_{sc}(p^{6}Li)+\\cfrac{3.7\\ ug/cm^2 }{7\\ g/mol}*\\sigma_{sc}(p^{7}Li)}{\\cfrac{3.7\\ ug/cm^2}{7\\ g/mol}*\\sigma_\\alpha(\\theta)}$\n",
    "\n",
    "$\\cfrac{N_{sc}(11B+10B)+N_{sc}(12C)}{N_{sc}(Fe)} = \\cfrac{\\cfrac{16.40}{10.81}*\\sigma_{sc}(pB)+\\cfrac{6.50}{12.01}*\\sigma_{sc}(pC)}{\\cfrac{Fe_{thickness}}{55.85}*\\sigma_{sc}(pFe)}$"
   ]
  },
  {
   "cell_type": "code",
   "execution_count": 1,
   "id": "2cd991eb",
   "metadata": {},
   "outputs": [],
   "source": [
    "const int Nrun = 1;\n",
    "const int run[Nrun] = {5394};"
   ]
  },
  {
   "cell_type": "code",
   "execution_count": 2,
   "id": "c27923ad",
   "metadata": {},
   "outputs": [],
   "source": [
    "TFile *ipf[Nrun];\n",
    "for (int irun = 0; irun < Nrun; irun++)\n",
    "    ipf[irun] = new TFile(Form(\"5Draw/ana_%d_W100.root\",run[irun]));\n",
    "TH1I *h;\n",
    "TCanvas *c1 = new TCanvas;\n",
    "gStyle->SetOptStat(0);"
   ]
  },
  {
   "cell_type": "code",
   "execution_count": 3,
   "id": "7f8fc525",
   "metadata": {},
   "outputs": [
    {
     "data": {
      "image/png": "[encoded data removed]",
      "text/plain": [
       "<IPython.core.display.Image object>"
      ]
     },
     "metadata": {},
     "output_type": "display_data"
    }
   ],
   "source": [
    "//%jsroot on\n",
    "if (h) delete h;\n",
    "theta = 70;\n",
    "h = (TH1I*)ipf[0]->Get(Form(\"hstheta/hsingle_%ddeg\",theta));\n",
    "for (int irun = 1; irun < Nrun; irun++)\n",
    "    h->Add( (TH1I*)ipf[irun]->Get(Form(\"hstheta/hsingle_%ddeg\",theta)) );\n",
    "h->GetXaxis()->SetTitle(\"E / keV\");\n",
    "h->GetYaxis()->SetTitle(\"Count / sr\");\n",
    "h->SetTitle(\"Run 5394      theta = 70 #pm 2.5 deg\");\n",
    "h->GetXaxis()->SetRangeUser(0,1500);\n",
    "h->Draw();\n",
    "c1->Draw();"
   ]
  },
  {
   "cell_type": "code",
   "execution_count": 4,
   "id": "2f7bcd29",
   "metadata": {},
   "outputs": [],
   "source": [
    "vector<double> e;            //e[0]为目标峰，其他为周围峰\n",
    "double k,b;                  //线性本底参数\n",
    "double fit_left,fit_right;   //联合拟合范围\n",
    "double area_left,area_right; //峰面积计算范围"
   ]
  },
  {
   "cell_type": "code",
   "execution_count": 5,
   "id": "567a1acb",
   "metadata": {},
   "outputs": [],
   "source": [
    "void area(TH1I *h)\n",
    "{\n",
    "    c1->Clear();\n",
    "    h->GetXaxis()->SetRangeUser(550,1300);   //返回全区间，在多次进行拟合时，必须要有这个操作，否则指定的拟合区间将存在问题\n",
    "\n",
    "    //设置拟合函数：线性本底 + npeaks个高斯函数\n",
    "    int npeaks = e.size();\n",
    "    TString sf = \"pol1(0)\";\n",
    "    for (int i=0; i<npeaks; i++)\n",
    "        sf += Form(\"+gaus(%d)\",3*i+2);\n",
    "    TF1* f = new TF1(\"f\", sf, fit_left, fit_right);\n",
    "    f->FixParameter(0, b);                         //手动设置线性本底\n",
    "    f->FixParameter(1, k);\n",
    "    for (int i=0; i<npeaks; i++){\n",
    "        f->SetParameter(3*i+2, 1e6);               //峰高\n",
    "        f->SetParLimits(3*i+2, 1, 1e10);\n",
    "        f->SetParameter(3*i+3, e[i]);              //峰中心\n",
    "        f->SetParLimits(3*i+3, e[i]-10, e[i]+10);\n",
    "        f->SetParameter(3*i+4, 8);                 //峰宽sigma\n",
    "        f->SetParLimits(3*i+4, 5, 20);\n",
    "    }\n",
    "    \n",
    "    TFitResultPtr fh = h->Fit(f, \"QRS\");\n",
    "    f->SetLineColor(kRed);\n",
    "    f->Draw(\"same\");\n",
    "\n",
    "    //单独提出线性本底\n",
    "    TF1 *f1 = new TF1(\"f1\", \"pol1\", 0, 2000);\n",
    "    f1->SetParameter(0, f->GetParameter(0));\n",
    "    f1->SetParameter(1, f->GetParameter(1));\n",
    "    f1->SetLineColor(kBlue);\n",
    "    f1->Draw(\"same\");\n",
    "    \n",
    "    //提出联合拟合结果中的各个高斯峰\n",
    "    TF1 *fg[npeaks];\n",
    "    for (int i=0; i<npeaks; i++){\n",
    "        fg[i] = new TF1(Form(\"fg%d\",i), \"gaus\");\n",
    "        fg[i]->SetParameter(0, f->GetParameter(3*i+2));\n",
    "        fg[i]->SetParameter(1, f->GetParameter(3*i+3));\n",
    "        fg[i]->SetParameter(2, f->GetParameter(3*i+4));\n",
    "    }\n",
    "    \n",
    "    //计算峰面积\n",
    "    int bin1 = h->FindBin(area_left);\n",
    "    int bin2 = h->FindBin(area_right);\n",
    "    double nall = h->Integral(bin1, bin2);                     //包含本底的总计数\n",
    "    \n",
    "    double x1 = h->GetBinLowEdge(bin1);                        //积分下界\n",
    "    double x2 = h->GetBinLowEdge(bin2)+h->GetBinWidth(bin2);   //积分上界，注意使用了与TH1完全相等的积分范围\n",
    "    double nbg = f1->Integral(x1, x2)/h->GetBinWidth(bin2);    //线性本底贡献\n",
    "\n",
    "    //输出结果\n",
    "    cout<<\"count=\"<<nall-nbg<<\" delta_count=\"<<sqrt(nall+nbg)<<endl;\n",
    "    for (int i=0; i<npeaks; i++)\n",
    "        cout<<i<<\" peak=\"<<fg[i]->GetParameter(1)<<\" height=\"<<fg[i]->GetParameter(0)\n",
    "        <<\" sigma=\"<<fg[i]->GetParameter(2)<<\" contribution=\"<<fg[i]->Integral(e[i]-500,e[i]+500)/h->GetBinWidth(1)<<'\\n';\n",
    "    \n",
    "}"
   ]
  },
  {
   "cell_type": "code",
   "execution_count": 6,
   "id": "c198cd7e",
   "metadata": {},
   "outputs": [],
   "source": [
    "%jsroot off"
   ]
  },
  {
   "cell_type": "code",
   "execution_count": 8,
   "id": "9466e091",
   "metadata": {
    "scrolled": false
   },
   "outputs": [
    {
     "name": "stdout",
     "output_type": "stream",
     "text": [
      "count=1.38746e+08 delta_count=12194.5\n",
      "0 peak=831.859 height=370374 sigma=20 contribution=9.28391e+06\n",
      "1 peak=894.765 height=3.89389e+06 sigma=15.8916 contribution=7.75551e+07\n",
      "2 peak=932.237 height=2.76322e+06 sigma=13.106 contribution=4.53883e+07\n"
     ]
    },
    {
     "data": {
      "image/png": "[encoded data removed]",
      "text/plain": [
       "<IPython.core.display.Image object>"
      ]
     },
     "metadata": {},
     "output_type": "display_data"
    }
   ],
   "source": [
    "e = vector<double> {830, 896, 932};  // 70 deg\n",
    "//e = vector<double> {834, 878, 960};  // 90 deg\n",
    "k = 0; b = 30e3;                      //线性本底参数\n",
    "fit_left = 790; fit_right = 950;       //联合拟合范围  70 deg\n",
    "//fit_left = 810; fit_right = 980;       //联合拟合范围  90 deg\n",
    "area_left = 770; area_right = 1100;\n",
    "area(h);\n",
    "h->GetXaxis()->SetTitle(\"E / keV\");\n",
    "h->GetYaxis()->SetTitle(\"Count / sr\");\n",
    "h->SetTitle(\"Run 5402-5416      theta = 70 #pm 2.5 deg\");\n",
    "c1->Draw();"
   ]
  },
  {
   "cell_type": "code",
   "execution_count": null,
   "id": "95853b3c",
   "metadata": {},
   "outputs": [],
   "source": []
  }
 ],
 "metadata": {
  "kernelspec": {
   "display_name": "ROOT C++",
   "language": "c++",
   "name": "root"
  },
  "language_info": {
   "codemirror_mode": "text/x-c++src",
   "file_extension": ".C",
   "mimetype": " text/x-c++src",
   "name": "c++"
  }
 },
 "nbformat": 4,
 "nbformat_minor": 5
}
