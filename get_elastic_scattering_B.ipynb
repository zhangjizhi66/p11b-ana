{
 "cells": [
  {
   "cell_type": "markdown",
   "id": "cbcc6f9a",
   "metadata": {},
   "source": [
    "# 截面计算"
   ]
  },
  {
   "cell_type": "markdown",
   "id": "af5069c9",
   "metadata": {},
   "source": [
    "   B - 16.40 ug/cm2     2.350 g/cm3   10.81 g/mol\n",
    " 11B - 13.12 ug/cm2                      11 g/mol\n",
    " 10B -  3.28 ug/cm2                      10 g/mol\n",
    "   C -  6.50 ug/cm2     2.253 g/cm3   12.01 g/mol\n",
    "  Fe -                  7.866 g/cm3   55.85 g/mol"
   ]
  },
  {
   "cell_type": "markdown",
   "id": "4c8a0f56",
   "metadata": {},
   "source": [
    "$\\cfrac{N_{sc}(11B+10B)}{N_{sc}(C)} = \\cfrac{\\cfrac{16.40}{10.81}*\\sigma_{sc}(pB)}{\\cfrac{6.50}{12.01}*\\sigma_{sc}(pC)}$\n",
    "\n",
    "$\\cfrac{N_{sc}(^{11}B+^{10}B+^{12}C)}{N_\\alpha(\\theta)} = \\cfrac{\\cfrac{16.40\\ ug/cm^2 \\times 80.1\\%}{11\\ g/mol}*\\sigma_{sc}(p^{11}B)+\\cfrac{16.40\\ ug/cm^2 \\times 19.9\\%}{10\\ g/mol}*\\sigma_{sc}(p^{10}B)+\\cfrac{6.50\\ ug/cm^2}{12\\ g/mol}*\\sigma_{sc}(p^{12}C)}{\\cfrac{16.40\\ ug/cm^2 \\times 80.1\\%}{11\\ g/mol}*\\sigma_\\alpha(\\theta)}$\n",
    "\n",
    "$\\cfrac{N_{sc}(11B+10B)+N_{sc}(12C)}{N_{sc}(Fe)} = \\cfrac{\\cfrac{16.40}{10.81}*\\sigma_{sc}(pB)+\\cfrac{6.50}{12.01}*\\sigma_{sc}(pC)}{\\cfrac{Fe_{thickness}}{55.85}*\\sigma_{sc}(pFe)}$"
   ]
  },
  {
   "cell_type": "code",
   "execution_count": 1,
   "id": "2cd991eb",
   "metadata": {},
   "outputs": [],
   "source": [
    "const int Ep = 1388;  // keV"
   ]
  },
  {
   "cell_type": "code",
   "execution_count": 2,
   "id": "c27923ad",
   "metadata": {},
   "outputs": [],
   "source": [
    "TFile *ipf = new TFile(Form(\"anaB_%04dkeV.root\",Ep));\n",
    "TH1I *h;\n",
    "TCanvas *c1 = new TCanvas;\n",
    "gStyle->SetOptStat(0);\n",
    "int theta;"
   ]
  },
  {
   "cell_type": "code",
   "execution_count": 3,
   "id": "7f8fc525",
   "metadata": {},
   "outputs": [
    {
     "data": {
      "text/html": [
       "\n",
       "<div id=\"root_plot_1720011233280\"\n",
       "     style=\"width: 696px; height: 472px\">\n",
       "</div>\n",
       "<script>\n",
       "if (typeof require !== 'undefined') {\n",
       "\n",
       "    // All requirements met (we are in jupyter notebooks or we loaded requirejs before).\n",
       "    display_root_plot_1720011233280();\n",
       "\n",
       "} else {\n",
       "\n",
       "    // We are in jupyterlab, we need to insert requirejs and configure it.\n",
       "    // Jupyterlab might be installed in a different base_url so we need to know it.\n",
       "    try {\n",
       "        var base_url = JSON.parse(document.getElementById('jupyter-config-data').innerHTML).baseUrl;\n",
       "    } catch(_) {\n",
       "        var base_url = '/';\n",
       "    }\n",
       "\n",
       "    // Try loading a local version of requirejs and fallback to cdn if not possible.\n",
       "    requirejs_load(base_url + 'static/components/requirejs/require.js', requirejs_success(base_url), function(){\n",
       "        requirejs_load('https://cdnjs.cloudflare.com/ajax/libs/require.js/2.2.0/require.min.js', requirejs_success(base_url), function(){\n",
       "            document.getElementById(\"root_plot_1720011233280\").innerHTML = \"Failed to load requireJs\";\n",
       "        });\n",
       "    });\n",
       "}\n",
       "\n",
       "function requirejs_load(src, on_load, on_error) {\n",
       "    var script = document.createElement('script');\n",
       "    script.src = src;\n",
       "    script.onload = on_load;\n",
       "    script.onerror = on_error;\n",
       "    document.head.appendChild(script);\n",
       "}\n",
       "\n",
       "function requirejs_success(base_url) {\n",
       "    return function() {\n",
       "        require.config({\n",
       "            baseUrl: base_url + 'static/'\n",
       "        });\n",
       "        display_root_plot_1720011233280();\n",
       "    }\n",
       "}\n",
       "\n",
       "function display_root_plot_1720011233280() {\n",
       "    require(['scripts/JSRootCore'],\n",
       "        function(Core) {\n",
       "            var obj = Core.JSONR_unref({\"_typename\":\"TCanvas\",\"fUniqueID\":0,\"fBits\":3342344,\"fLineColor\":1,\"fLineStyle\":1,\"fLineWidth\":1,\"fFillColor\":0,\"fFillStyle\":1001,\"fLeftMargin\":0.1,\"fRightMargin\":0.1,\"fBottomMargin\":0.1,\"fTopMargin\":0.1,\"fXfile\":2,\"fYfile\":2,\"fAfile\":1,\"fXstat\":0.99,\"fYstat\":0.99,\"fAstat\":2,\"fFrameFillColor\":0,\"fFrameLineColor\":1,\"fFrameFillStyle\":1001,\"fFrameLineStyle\":1,\"fFrameLineWidth\":1,\"fFrameBorderSize\":1,\"fFrameBorderMode\":0,\"fX1\":-500.000037252905,\"fY1\":-30130.1459948708,\"fX2\":4500.0000372529,\"fY2\":271171.295994871,\"fXtoAbsPixelk\":69.6000541484835,\"fXtoPixelk\":69.6000541484835,\"fXtoPixel\":0.139199997925758,\"fYtoAbsPixelk\":424.800047186661,\"fYtoPixelk\":424.800047186661,\"fYtoPixel\":-0.00156653747450724,\"fUtoAbsPixelk\":5e-5,\"fUtoPixelk\":5e-5,\"fUtoPixel\":696,\"fVtoAbsPixelk\":472.00005,\"fVtoPixelk\":472,\"fVtoPixel\":-472,\"fAbsPixeltoXk\":-500.000037252905,\"fPixeltoXk\":-500.000037252905,\"fPixeltoX\":7.18390815302559,\"fAbsPixeltoYk\":271171.295994871,\"fPixeltoYk\":-30130.1459948708,\"fPixeltoY\":-638.35051269013,\"fXlowNDC\":0,\"fYlowNDC\":0,\"fXUpNDC\":1,\"fYUpNDC\":1,\"fWNDC\":1,\"fHNDC\":1,\"fAbsXlowNDC\":0,\"fAbsYlowNDC\":0,\"fAbsWNDC\":1,\"fAbsHNDC\":1,\"fUxmin\":0,\"fUymin\":0,\"fUxmax\":4000,\"fUymax\":241041.15,\"fTheta\":30,\"fPhi\":30,\"fAspectRatio\":0,\"fNumber\":0,\"fTickx\":0,\"fTicky\":0,\"fLogx\":0,\"fLogy\":0,\"fLogz\":0,\"fPadPaint\":0,\"fCrosshair\":0,\"fCrosshairPos\":0,\"fBorderSize\":2,\"fBorderMode\":0,\"fModified\":false,\"fGridx\":false,\"fGridy\":false,\"fAbsCoord\":false,\"fEditable\":true,\"fFixedAspectRatio\":false,\"fPrimitives\":{\"_typename\":\"TList\",\"name\":\"TList\",\"arr\":[{\"_typename\":\"TFrame\",\"fUniqueID\":0,\"fBits\":8,\"fLineColor\":1,\"fLineStyle\":1,\"fLineWidth\":1,\"fFillColor\":0,\"fFillStyle\":1001,\"fX1\":0,\"fY1\":0,\"fX2\":4000,\"fY2\":241041.15,\"fBorderSize\":1,\"fBorderMode\":0},{\"_typename\":\"TH1I\",\"fUniqueID\":0,\"fBits\":8,\"fName\":\"hsingle_125deg\",\"fTitle\":\"theta = 125 #pm 2.5 deg\",\"fLineColor\":602,\"fLineStyle\":1,\"fLineWidth\":1,\"fFillColor\":0,\"fFillStyle\":1001,\"fMarkerColor\":1,\"fMarkerStyle\":1,\"fMarkerSize\":1,\"fNcells\":5002,\"fXaxis\":{\"_typename\":\"TAxis\",\"fUniqueID\":0,\"fBits\":2048,\"fName\":\"xaxis\",\"fTitle\":\"E \\/ keV\",\"fNdivisions\":510,\"fAxisColor\":1,\"fLabelColor\":1,\"fLabelFont\":42,\"fLabelOffset\":0.005,\"fLabelSize\":0.035,\"fTickLength\":0.03,\"fTitleOffset\":1,\"fTitleSize\":0.035,\"fTitleColor\":1,\"fTitleFont\":42,\"fNbins\":5000,\"fXmin\":0,\"fXmax\":10000,\"fXbins\":[],\"fFirst\":1,\"fLast\":2000,\"fBits2\":0,\"fTimeDisplay\":false,\"fTimeFormat\":\"\",\"fLabels\":null,\"fModLabs\":null},\"fYaxis\":{\"_typename\":\"TAxis\",\"fUniqueID\":0,\"fBits\":0,\"fName\":\"yaxis\",\"fTitle\":\"Count \\/ sr\",\"fNdivisions\":510,\"fAxisColor\":1,\"fLabelColor\":1,\"fLabelFont\":42,\"fLabelOffset\":0.005,\"fLabelSize\":0.035,\"fTickLength\":0.03,\"fTitleOffset\":0,\"fTitleSize\":0.035,\"fTitleColor\":1,\"fTitleFont\":42,\"fNbins\":1,\"fXmin\":0,\"fXmax\":1,\"fXbins\":[],\"fFirst\":0,\"fLast\":0,\"fBits2\":0,\"fTimeDisplay\":false,\"fTimeFormat\":\"\",\"fLabels\":null,\"fModLabs\":null},\"fZaxis\":{\"_typename\":\"TAxis\",\"fUniqueID\":0,\"fBits\":0,\"fName\":\"zaxis\",\"fTitle\":\"\",\"fNdivisions\":510,\"fAxisColor\":1,\"fLabelColor\":1,\"fLabelFont\":42,\"fLabelOffset\":0.005,\"fLabelSize\":0.035,\"fTickLength\":0.03,\"fTitleOffset\":1,\"fTitleSize\":0.035,\"fTitleColor\":1,\"fTitleFont\":42,\"fNbins\":1,\"fXmin\":0,\"fXmax\":1,\"fXbins\":[],\"fFirst\":0,\"fLast\":0,\"fBits2\":0,\"fTimeDisplay\":false,\"fTimeFormat\":\"\",\"fLabels\":null,\"fModLabs\":null},\"fBarOffset\":0,\"fBarWidth\":1000,\"fEntries\":3497481,\"fTsumw\":59572789.2812724,\"fTsumw2\":1024018337.2301,\"fTsumwx\":46860025815.993,\"fTsumwx2\":44016725945596.4,\"fMaximum\":-1111,\"fMinimum\":-1111,\"fNormFactor\":0,\"fContour\":[],\"fSumw2\":[],\"fOption\":\"\",\"fFunctions\":{\"_typename\":\"TList\",\"name\":\"TList\",\"arr\":[],\"opt\":[]},\"fBufferSize\":0,\"fBuffer\":[],\"fBinStatErrOpt\":0,\"fStatOverflows\":2,\"fArray\":[0,0,0,0,0,0,0,0,0,0,0,0,0,0,0,0,0,0,0,0,0,0,0,0,0,0,0,0,0,0,0,0,0,0,0,0,17,32,135,65,99,100,33,67,136,86,112,130,64,46,106,101,116,63,65,168,89,206,290,182,180,324,198,144,219,286,330,257,407,335,490,573,595,458,658,957,944,780,1155,1290,1644,1806,1905,2166,2523,2555,3571,3461,3998,4358,4962,5846,6008,7066,7971,8699,9750,10963,12575,13553,14944,16425,18305,20170,20792,23638,26413,27439,30028,34004,37282,38345,40501,45328,45342,50386,53070,55022,56550,60292,63096,66031,67518,72641,75326,77598,80084,82027,84457,84628,88867,89320,91650,93146,94893,95449,95170,96689,97920,97979,99846,99838,99895,100367,101550,103097,101659,104388,102394,104876,104208,106716,104025,103695,103494,105781,106433,105643,107551,106253,104721,104511,102804,105735,105395,107342,106683,104603,103924,104976,105968,108303,105040,104896,105465,105681,108624,107489,106427,105340,107193,105440,104695,107760,105382,104931,108639,105390,107364,104616,106427,106328,106594,104061,106329,103894,105635,106155,105316,104198,106052,104503,107760,105799,105809,105267,108515,105748,108332,106012,106417,108141,107701,108367,109382,107127,107914,108423,106098,109239,108682,105886,109493,108761,110310,109155,106625,109256,106948,108198,106960,109237,106876,105428,105265,107128,106481,109387,107944,106937,109532,107154,106348,105824,105024,108607,106701,106585,109816,109252,106471,107820,108340,108329,107436,105450,110071,107959,104799,107652,108691,108739,107902,105026,107113,109930,107601,109727,108317,107313,107148,107753,108780,110217,107558,109046,106559,108861,108952,105612,108688,107432,109680,106457,106484,108327,109337,108211,108338,106599,108573,107177,106982,107741,109423,107175,108971,106730,107326,105245,108235,107035,108616,107145,109151,109421,105943,104819,107534,107334,106338,107725,107127,104046,106714,106318,107074,108463,106620,109020,107727,107202,108191,106661,106059,107837,107355,108209,106008,110375,107968,107085,106566,106124,107514,108991,112266,105110,106877,106557,105387,107768,108386,107364,106687,107050,106908,106347,104989,104598,107766,108747,105333,106743,107768,108024,104516,105392,108279,106957,107509,108434,105012,107648,106298,107838,107628,107354,106993,102904,108506,106784,105411,105825,106173,105880,105607,105213,106181,106210,106213,104165,107077,106800,105629,103810,102548,105671,105802,103235,104330,104408,104011,104370,104204,106529,104686,105673,102739,104588,105283,106593,101115,104923,105509,105652,108020,103958,104081,104420,103852,107393,103780,105771,103076,103780,107200,103087,102584,103231,101680,104095,104152,104586,106281,104681,104053,105360,101738,103681,104138,103707,103220,102502,104254,103409,103197,103260,103815,104775,104399,102888,102219,101966,103459,103462,104489,102839,103224,101203,106022,102331,103585,104902,104906,103825,103661,101532,102917,102019,102634,104719,102719,101098,103475,103951,103919,102823,104587,101575,105047,103682,102179,103597,105594,103579,106528,101623,104426,104621,104021,105369,105506,107682,109804,108931,109910,111241,109619,112080,111265,108339,109162,111986,108404,112554,114332,118081,120059,124802,130797,135100,139532,142428,147452,151077,154018,155235,162426,169448,176619,184905,191065,204674,213058,221678,229563,227786,224013,226519,213395,202161,187051,170029,156649,143485,131018,125108,116490,110280,107029,103682,103167,100902,99305,101076,101262,101639,100121,100415,98141,99573,97432,99550,98976,96974,99141,103708,99881,105020,106141,112015,117585,122025,127005,136537,143730,149629,157023,158036,158915,156648,151251,146083,136722,127894,120857,111661,109378,104423,101969,94012,93990,95031,95344,92932,92382,93684,92532,94914,94295,92256,91649,92493,93816,91474,90762,92388,91791,91764,92034,92833,92955,91144,94008,92014,87953,92866,92623,93877,94386,95098,93300,94065,93441,94237,94264,91011,92808,93418,93658,93754,92095,93147,94426,94223,95282,93959,94202,92178,92357,94805,91843,91391,89901,92004,90942,91796,91100,89519,92589,92562,90257,90604,91697,93694,90444,95391,93933,93441,92433,93725,91930,93778,91761,92678,91461,91758,91293,95986,95283,98371,102243,104320,106403,105273,104613,102729,93552,83510,71749,59989,48450,36105,28376,19464,12719,9152,5869,4059,3182,2016,1456,1341,1307,1014,1222,1107,1263,1048,1218,821,717,847,523,576,544,449,448,439,382,231,151,80,256,95,166,89,139,167,142,70,98,134,96,131,116,185,195,65,101,139,47,105,186,137,114,66,135,70,159,173,89,100,80,144,111,143,153,181,68,30,100,101,156,83,66,0,68,81,84,102,94,127,69,31,85,71,129,163,167,103,85,29,52,105,116,14,96,121,45,111,50,67,49,80,68,54,79,98,52,64,15,16,122,81,67,116,108,120,99,34,33,36,154,33,52,88,145,172,159,97,115,110,159,31,48,80,129,52,86,18,124,133,50,84,181,30,50,116,37,66,154,66,89,83,52,104,48,66,146,55,104,50,49,138,49,83,115,204,0,34,51,140,103,96,78,47,99,33,114,62,51,67,169,88,35,63,51,61,64,73,46,64,48,37,53,103,31,87,33,109,72,91,124,132,37,0,35,32,51,50,86,51,98,65,69,103,135,68,66,119,74,49,0,84,51,84,31,0,51,64,71,120,18,72,53,68,16,86,81,34,48,34,50,16,36,71,35,50,30,86,35,34,31,68,47,0,16,68,120,65,34,66,54,66,15,55,68,18,15,86,101,54,67,48,33,68,54,97,52,34,32,17,46,70,15,57,71,101,46,52,67,52,53,103,31,79,32,65,33,50,17,17,49,48,84,30,47,33,15,45,68,89,84,107,16,51,0,33,49,37,18,35,126,18,30,50,29,54,81,16,132,20,33,0,122,17,33,74,32,81,34,50,85,36,65,106,0,102,38,55,49,67,17,0,86,0,78,18,35,71,68,85,50,40,35,49,49,86,34,0,51,0,50,64,0,48,85,50,52,64,71,70,66,32,57,62,51,37,37,65,48,19,64,52,65,32,88,72,33,15,0,53,18,68,15,70,51,21,49,34,102,34,32,17,14,35,101,0,46,31,48,53,46,15,34,31,46,35,82,114,86,14,49,54,38,88,19,48,34,80,98,15,63,65,0,51,68,30,53,16,18,63,83,69,15,0,20,35,30,46,55,38,15,37,97,70,116,54,51,53,87,16,31,53,69,98,54,18,33,100,15,54,0,55,34,15,49,33,31,74,0,15,74,33,51,65,50,47,64,85,32,63,52,51,33,35,16,32,65,16,35,0,70,72,17,34,72,81,64,51,35,66,104,15,33,54,86,16,31,66,51,31,37,17,36,85,14,67,0,49,18,30,49,69,81,51,0,52,68,17,67,46,57,48,48,34,83,48,96,20,33,53,31,19,14,32,17,0,17,59,46,50,74,37,16,69,18,105,16,51,0,37,67,45,51,40,49,89,0,0,32,17,31,20,65,35,85,69,90,54,36,49,35,51,15,20,37,52,70,51,0,32,34,92,71,15,0,105,63,30,16,14,34,51,32,33,47,15,66,0,33,50,103,68,51,47,36,16,47,65,17,70,51,61,17,36,50,31,62,35,35,33,33,16,48,65,52,51,39,14,34,0,70,47,99,32,0,64,76,54,54,49,15,50,30,48,83,48,52,66,16,68,65,35,17,63,96,47,32,50,87,0,74,68,0,63,203,15,85,32,67,33,85,35,0,15,52,72,16,31,16,50,32,0,17,39,20,18,51,16,135,0,36,16,67,89,103,19,33,85,31,63,14,18,17,17,47,65,31,52,33,100,34,33,103,98,105,52,61,54,50,62,108,33,84,63,68,67,64,35,16,16,34,86,50,105,70,53,92,33,37,83,84,64,53,35,54,131,16,108,117,85,70,65,66,16,87,14,48,0,31,54,34,49,32,82,134,35,49,38,64,86,70,85,84,82,34,66,100,67,17,62,49,88,15,85,86,56,36,142,68,70,52,67,87,35,51,32,50,35,99,88,16,69,117,67,49,0,36,154,50,89,68,47,51,68,18,49,34,33,72,50,49,106,122,64,99,15,33,39,0,88,48,52,114,103,30,63,99,15,35,72,74,89,0,38,48,65,110,93,115,49,47,52,82,109,47,110,132,51,103,99,148,17,69,48,16,47,70,70,119,49,92,81,119,90,33,65,161,108,51,70,69,110,120,53,119,57,68,31,66,54,92,91,35,54,85,115,127,157,135,34,124,82,65,131,96,170,126,95,116,33,101,18,108,150,145,158,107,17,63,115,159,117,32,113,161,138,100,32,88,67,71,64,115,67,34,47,100,155,120,51,79,135,51,50,114,99,99,92,71,88,98,53,130,83,91,83,68,131,73,50,189,85,70,18,83,93,84,84,69,83,149,53,89,30,117,135,89,87,82,81,69,68,68,102,206,82,67,112,180,96,101,174,162,105,120,122,51,85,198,103,84,134,48,171,32,72,169,102,103,47,79,114,145,47,103,83,118,111,116,113,65,117,207,133,69,81,66,102,85,142,185,16,145,104,47,48,95,33,117,99,121,117,189,136,145,102,147,182,101,144,88,112,96,157,70,82,142,157,204,104,156,154,101,139,153,115,50,295,149,171,170,192,115,153,169,209,220,53,174,136,79,192,143,97,101,211,101,83,125,172,169,176,269,73,139,127,252,144,106,115,196,204,102,31,80,160,160,83,172,97,223,177,296,207,104,121,150,97,246,185,156,182,163,188,293,173,132,242,101,236,138,208,202,136,171,141,190,189,150,146,149,264,153,187,174,170,254,192,54,228,145,175,123,257,282,237,52,191,197,140,178,108,205,198,150,224,151,151,246,138,157,203,125,98,235,85,223,211,241,192,297,218,212,169,168,204,172,325,274,149,209,174,97,137,206,185,148,298,246,155,289,214,305,181,188,235,184,210,222,216,229,169,219,202,208,262,223,158,180,250,237,196,202,293,142,202,152,312,199,239,212,221,163,223,329,244,224,118,388,214,194,258,253,195,210,257,279,276,149,291,333,85,216,198,192,253,238,243,101,219,216,212,79,379,233,422,172,237,271,232,135,140,263,237,304,249,198,232,330,182,190,257,138,117,135,88,268,276,314,239,254,153,125,261,299,228,147,274,224,169,309,208,342,269,288,172,216,203,163,430,174,166,182,235,276,234,344,290,339,223,290,309,216,200,269,272,141,349,273,383,345,220,381,347,235,204,203,306,100,161,245,333,279,161,298,205,307,308,197,237,214,337,203,224,235,271,287,290,133,186,153,199,253,325,223,331,293,245,118,177,281,236,307,246,261,228,203,131,325,145,259,238,206,258,266,344,226,223,237,245,166,250,297,268,249,211,275,231,203,196,275,194,244,130,243,231,232,336,169,206,176,179,315,190,247,176,258,187,226,189,233,243,154,187,220,181,83,203,104,338,136,137,189,221,178,227,297,101,185,83,70,177,226,67,240,180,135,166,169,133,101,124,157,131,201,148,193,118,147,238,102,133,72,146,148,201,183,81,234,126,80,64,123,113,153,116,73,167,156,97,245,173,96,117,136,69,82,102,102,137,126,81,182,84,148,151,171,50,107,269,99,192,68,85,32,145,186,97,98,152,92,100,83,86,85,51,114,54,137,104,83,50,91,97,96,79,108,140,102,73,191,81,47,152,115,36,76,83,124,69,132,84,49,90,146,76,68,130,104,20,50,64,134,69,54,72,121,49,50,82,117,50,84,47,67,131,146,34,104,34,143,32,67,102,65,50,14,117,64,19,47,34,120,49,101,32,83,52,17,18,67,86,32,72,63,79,102,92,115,33,86,48,0,33,81,14,133,62,159,0,32,52,50,14,17,52,68,20,32,72,35,0,15,80,34,16,47,31,66,38,55,70,46,15,47,56,100,72,37,14,0,55,14,31,63,50,17,18,16,106,0,32,18,130,18,49,70,30,44,47,32,33,67,0,50,17,0,48,14,84,0,52,18,15,53,0,34,48,34,40,0,0,18,16,94,68,0,14,54,35,50,91,15,64,0,0,20,50,30,83,16,16,15,18,15,37,15,15,0,0,47,15,21,0,0,16,15,17,16,17,49,0,17,0,19,0,46,36,32,50,32,33,0,15,15,0,0,0,31,31,15,0,32,35,48,19,0,53,17,17,33,33,36,47,16,16,65,0,34,15,0,37,0,31,0,37,17,51,14,0,14,18,0,15,0,0,17,15,17,16,36,0,14,16,0,0,17,36,20,15,68,15,0,15,17,31,18,0,0,17,0,0,0,0,0,18,90,34,0,19,15,0,43,34,19,14,0,18,31,0,17,0,0,32,0,0,19,0,18,16,14,0,0,32,57,0,17,16,16,0,0,16,15,0,0,14,0,17,0,16,17,14,0,0,14,33,0,14,33,16,0,0,0,33,17,14,34,16,17,20,0,0,0,0,0,0,18,0,0,17,17,17,0,17,0,15,33,0,0,0,0,0,0,0,32,0,18,0,0,0,0,0,0,53,0,0,16,0,0,0,16,0,0,0,0,0,0,0,0,0,0,0,14,16,15,0,34,0,0,19,0,0,18,35,18,18,0,0,0,0,0,0,17,0,0,0,0,0,0,0,0,0,18,0,34,15,0,0,0,17,0,0,0,19,0,0,0,0,0,0,0,0,0,0,0,14,0,0,0,0,0,15,0,0,0,0,0,33,0,0,0,0,17,0,0,0,15,15,0,14,0,0,0,0,0,0,0,18,0,0,0,0,0,0,0,0,0,0,15,0,0,0,0,0,0,15,15,0,0,14,16,0,0,0,0,0,0,0,0,19,17,0,0,0,0,0,0,0,0,0,15,0,0,0,0,0,0,16,20,0,0,0,0,14,0,0,0,16,0,0,0,0,0,0,0,0,0,0,0,0,0,0,0,0,0,17,0,0,20,0,0,0,0,0,0,0,0,0,0,0,0,0,14,16,0,0,0,0,0,0,0,14,0,0,0,0,0,0,15,15,0,0,0,0,0,0,0,0,0,0,0,14,0,0,0,0,0,0,0,0,0,0,0,0,0,0,0,0,0,0,0,0,0,0,0,0,0,0,0,0,0,0,0,0,0,0,0,14,0,0,0,0,0,0,0,0,0,0,0,0,0,0,0,0,0,0,0,0,0,0,0,0,0,0,0,0,0,0,0,0,0,0,0,0,0,0,0,0,0,0,0,0,0,0,0,0,0,0,0,0,0,0,0,0,0,0,0,0,0,0,0,0,0,0,0,0,0,0,0,0,0,0,0,0,0,0,0,0,0,0,0,0,0,0,0,17,0,16,0,0,0,0,17,0,0,0,16,0,0,0,35,34,0,0,18,0,16,0,18,16,0,0,17,0,0,34,17,15,17,0,0,0,15,0,16,0,0,31,0,31,14,50,0,15,16,46,16,18,14,0,15,0,0,33,0,0,15,0,0,0,15,0,0,0,0,0,0,0,0,0,0,0,0,0,0,0,0,0,0,0,0,0,0,0,0,0,0,0,0,0,0,0,0,0,0,0,0,0,0,0,0,0,0,0,0,0,0,0,0,0,0,0,0,0,0,0,0,0,0,0,0,0,0,0,0,0,0,0,0,0,0,0,0,0,0,0,0,0,0,0,0,0,0,0,0,0,0,0,0,0,0,0,0,0,0,0,0,0,0,0,0,0,0,0,0,0,0,0,0,0,0,0,0,0,0,0,0,0,0,0,0,0,0,0,0,0,0,0,0,0,0,0,0,0,0,0,0,0,0,0,0,0,0,0,0,0,0,0,0,0,0,0,0,0,0,0,0,0,0,0,0,0,0,0,0,0,0,0,0,0,0,0,0,0,0,0,0,0,0,0,0,0,0,0,0,0,0,0,0,0,0,0,0,0,0,0,0,0,0,0,0,0,0,0,0,0,0,0,0,0,0,0,0,0,0,0,0,0,0,0,0,0,0,0,0,0,0,0,0,0,0,0,0,0,0,0,0,0,0,0,0,0,0,0,0,0,0,0,0,0,0,0,0,0,0,0,0,0,0,0,0,0,0,0,0,0,0,0,0,0,0,0,0,0,0,0,0,0,0,0,0,0,0,0,0,0,0,0,0,0,0,0,0,0,0,0,0,0,0,0,0,0,0,0,0,0,0,0,0,0,0,0,0,0,0,0,0,0,0,0,0,0,0,0,0,0,0,0,0,0,0,0,0,0,0,0,0,0,0,0,0,0,0,0,0,0,0,0,0,0,0,0,0,0,0,0,0,0,0,0,0,0,0,0,0,0,0,0,0,0,0,0,0,0,0,0,0,0,0,0,0,0,0,0,0,0,0,0,0,0,0,0,0,0,0,0,0,0,0,0,0,0,0,0,0,0,0,0,0,0,0,0,0,0,0,0,0,0,0,0,0,0,0,0,0,0,0,0,0,0,0,0,0,0,0,0,0,0,0,0,0,0,0,0,0,0,0,0,0,0,0,0,0,0,0,0,0,0,0,0,0,0,0,0,0,0,0,0,0,0,0,0,0,0,0,0,0,0,0,0,0,0,0,0,0,0,0,0,0,0,0,0,0,0,0,0,0,0,0,0,0,0,0,19,0,0,0,0,0,0,0,0,0,0,0,0,0,0,0,0,0,0,0,0,0,0,0,0,0,0,0,0,0,0,0,0,0,0,0,0,0,0,0,0,0,0,0,0,0,0,0,0,0,0,0,0,0,0,0,0,0,0,0,0,0,0,0,0,0,0,0,0,19,0,0,0,0,0,0,0,0,0,0,0,0,0,0,0,0,0,0,0,0,0,0,0,0,0,0,0,0,0,0,0,0,0,0,0,0,0,0,0,0,0,0,0,0,0,0,0,0,0,0,0,0,0,0,0,0,0,0,0,0,0,0,0,0,0,0,0,0,0,0,0,0,0,0,0,0,0,0,0,0,0,0,0,0,0,0,0,0,0,0,0,0,0,0,0,0,0,0,0,0,0,0,0,0,0,0,0,0,0,0,0,0,0,0,0,0,0,0,0,0,0,0,0,0,0,0,0,0,0,0,0,0,0,0,0,0,0,0,0,0,0,0,0,0,0,0,0,0,0,0,0,0,0,0,0,0,0,0,0,0,0,0,0,0,0,0,0,0,0,0,0,0,0,0,0,0,0,0,0,0,0,0,0,0,0,0,0,0,0,0,0,0,0,0,0,0,0,0,0,0,0,0,0,0,0,0,0,0,0,0,0,0,0,0,0,0,0,0,0,0,0,0,0,0,0,0,0,0,0,0,0,0,0,0,0,0,0,0,0,0,0,0,0,0,0,0,0,0,0,0,0,0,0,0,0,0,0,0,0,0,0,0,0,0,0,0,0,0,0,0,0,0,0,0,0,0,0,0,0,0,0,0,0,0,0,0,0,0,0,0,0,0,0,0,0,0,0,0,0,0,0,0,0,0,0,0,0,0,0,0,0,0,0,0,0,0,0,0,0,0,0,0,0,0,0,0,0,0,0,0,0,0,0,0,0,0,0,0,0,0,0,0,0,0,0,0,0,0,0,0,0,0,0,0,0,0,0,0,0,0,0,0,0,0,0,0,0,0,0,0,0,0,0,0,0,0,0,0,0,0,0,0,0,0,0,0,0,0,0,0,0,0,0,0,0,0,0,0,0,0,0,0,0,0,0,0,0,0,0,0,0,0,0,0,0,0,0,0,0,0,0,0,0,0,0,0,0,0,0,0,0,0,0,0,0,0,0,0,0,0,0,0,0,0,0,0,0,0,0,0,0,0,0,0,0,0,0,0,0,0,0,0,0,0,0,0,0,0,0,0,0,0,0,0,0,0,0,0,0,0,0,0,0,0,0,0,0,0,0,0,0,0,0,0,0,0,0,0,0,0,0,0,0,0,0,0,0,0,0,0,0,0,0,0,0,0,0,0,0,0,0,0,0,0,0,0,0,0,0,0,0,0,0,0,0,0,0,0,0,0,0,0,0,0,0,0,0,0,0,0,0,0,0,0,0,0,0,0,0,0,0,0,0,0,0,0,0,0,0,0,0,0,0,0,0,0,0,0,0,0,0,0,0,0,0,0,0,0,0,0,0,0,0,0,0,0,0,0,0,0,0,0,0,0,0,0,0,0,0,0,0,0,0,0,0,0,0,0,0,0,0,0,0,0,0,0,0,0,0,0,0,0,0,0,0,0,0,0,0,0,0,0,0,0,0,0,0,0,0,0,0,0,0,0,0,0,0,0,0,0,0,0,0,0,0,0,0,0,0,0,0,0,0,0,0,0,0,0,0,0,0,0,0,0,0,0,0,0,0,0,0,0,0,0,0,0,0,0,0,0,0,0,0,0,0,0,0,0,0,0,0,0,0,0,0,0,0,0,0,0,0,0,0,0,0,0,0,0,0,0,0,0,0,0,0,0,0,0,0,0,0,0,0,0,0,0,0,0,0,0,0,0,0,0,0,0,0,0,0,0,0,0,0,0,0,0,0,0,0,0,0,0,0,0,0,0,0,0,0,0,0,0,0,0,0,0,0,0,0,0,0,0,0,0,0,0,0,0,0,0,0,0,0,0,0,0,0,0,0,0,0,0,0,0,0,0,0,0,0,0,0,0,0,0,0,0,0,0,0,0,0,0,0,0,0,0,0,0,0,0,0,0,0,0,0,0,0,0,0,0,0,0,0,0,0,0,0,0,0,0,0,0,0,0,0,0,0,0,0,0,0,0,0,0,0,0,0,0,0,0,0,0,0,0,0,0,0,0,0,0,0,0,0,0,0,0,0,0,0,0,0,0,0,0,0,0,0,0,0,0,0,0,0,0,0,0,0,0,0,0,0,0,0,0,0,0,0,0,0,0,0,0,0,0,0,0,0,0,0,0,0,0,0,0,0,0,0,0,0,0,0,0,0,0,0,0,0,0,0,0,0,0,0,0,0,0,0,0,0,0,0,0,0,0,0,0,0,0,0,0,0,0,0,0,0,0,0,0,0,0,0,0,0,0,0,0,0,0,0,0,0,0,0,0,0,0,0,0,0,0,0,0,0,0,0,0,0,0,0,0,0,0,0,0,0,0,0,0,0,0,0,0,0,0,0,0,0,0,0,0,0,0,0,0,0,0,0,0,0,0,0,0,0,0,0,0,0,0,0,0,0,0,0,0,0,0,0,0,0,0,0,0,0,0,0,0,0,0,0,0,0,0,0,0,0,0,0,0,0,0,0,0,0,0,0,0,0,0,0,0,0,0,0,0,0,0,0,0,0,0,0,0,0,0,0,0,0,0,0,0,0,0,0,0,0,0,0,0,0,0,0,0,0,0,0,0,0,0,0,0,0,0,0,0,0,0,0,0,0,0,0,0,0,0,0,0,0,0,0,0,0,0,0,0,0,0,0,0,0,0,0,0,0,0,0,0,0,0,0,0,0,0,0,0,0,0,0,0,0,0,0,0,0,0,0,0,0,0,0,0,0,0,0,0,0,0,0,0,0,0,0,0,0,0,0,0,0,0,0,0,0,0,0,0,0,0,0,0,0,0,0,0,0,0,0,0,0,0,0,0,0,0,0,0,0,0,0,0,0,0,0,0,0,0,0,0,0,0,0,0,0,0,0,0,0,0,0,0,0,0,0,0,0,0,0,0,0,0,0,0,0,0,0,0,0,0,0,0,0,0,0,0,0,0,0,0,0,0,0,0,0,0,0,0,0,0,0,0,0,0,0,0,0,0,0,0,0,0,0,0,0,0,0,0,0,0,0,0,0,0,0,0,0,0,0,0,0,0,0,0,0,0,0,0,0,0,0,0,0,0,0,0,0,0,0,0,0,0,0,0,0,0,0,0,0,0,0,0,0,0,0,0,0,0,0,0,0,0,0,0,0,0,0,0,0,0,0,0,0,0,0,0,0,0,0,0,0,0,0,0,0,0,0,0,0,0,0,0,0,0,0,0,0,0,0]},{\"_typename\":\"TPaveText\",\"fUniqueID\":0,\"fBits\":9,\"fLineColor\":1,\"fLineStyle\":1,\"fLineWidth\":1,\"fFillColor\":0,\"fFillStyle\":0,\"fX1\":1102.29883719792,\"fY1\":251280.295456163,\"fX2\":2897.70116280208,\"fY2\":269664.790221639,\"fX1NDC\":0.320459770114943,\"fY1NDC\":0.933983055615829,\"fX2NDC\":0.679540229885057,\"fY2NDC\":0.995000004768372,\"fBorderSize\":0,\"fInit\":1,\"fShadowColor\":1,\"fCornerRadius\":0,\"fOption\":\"blNDC\",\"fName\":\"title\",\"fTextAngle\":0,\"fTextSize\":0,\"fTextAlign\":22,\"fTextColor\":1,\"fTextFont\":42,\"fLabel\":\"\",\"fLongest\":23,\"fMargin\":0.05,\"fLines\":{\"_typename\":\"TList\",\"name\":\"TList\",\"arr\":[{\"_typename\":\"TLatex\",\"fUniqueID\":0,\"fBits\":0,\"fName\":\"\",\"fTitle\":\"theta = 125 #pm 2.5 deg\",\"fTextAngle\":0,\"fTextSize\":0,\"fTextAlign\":0,\"fTextColor\":0,\"fTextFont\":0,\"fX\":0,\"fY\":0,\"fLineColor\":1,\"fLineStyle\":1,\"fLineWidth\":2,\"fLimitFactorSize\":3,\"fOriginSize\":0.0518644079566002}],\"opt\":[\"\"]}}],\"opt\":[\"\",\"\",\"blNDC\"]},\"fExecs\":null,\"fName\":\"c1\",\"fTitle\":\"c1\",\"fNumPaletteColor\":0,\"fNextPaletteColor\":0,\"fDISPLAY\":\"$DISPLAY\",\"fDoubleBuffer\":0,\"fRetained\":true,\"fXsizeUser\":0,\"fYsizeUser\":0,\"fXsizeReal\":20,\"fYsizeReal\":14.28571,\"fWindowTopX\":0,\"fWindowTopY\":0,\"fWindowWidth\":0,\"fWindowHeight\":0,\"fCw\":696,\"fCh\":472,\"fCatt\":{\"_typename\":\"TAttCanvas\",\"fXBetween\":2,\"fYBetween\":2,\"fTitleFromTop\":1.2,\"fXdate\":0.2,\"fYdate\":0.3,\"fAdate\":1},\"kMoveOpaque\":true,\"kResizeOpaque\":true,\"fHighLightColor\":2,\"fBatch\":true,\"kShowEventStatus\":false,\"kAutoExec\":true,\"kMenuBar\":true});\n",
       "            Core.draw(\"root_plot_1720011233280\", obj, \"\");\n",
       "        }\n",
       "    );\n",
       "}\n",
       "</script>\n"
      ],
      "text/plain": [
       "<IPython.core.display.HTML object>"
      ]
     },
     "metadata": {},
     "output_type": "display_data"
    }
   ],
   "source": [
    "%jsroot on\n",
    "if (h) delete h;\n",
    "theta = 125;\n",
    "h = (TH1I*)ipf->Get(Form(\"hsingle_%ddeg\",theta));\n",
    "h->GetXaxis()->SetRangeUser(0,4000);\n",
    "//h->GetYaxis()->SetRangeUser(0,1500);\n",
    "h->GetXaxis()->SetTitle(\"E / keV\");\n",
    "h->GetYaxis()->SetTitle(\"Count / sr\");\n",
    "h->SetTitle(Form(\"theta = %d #pm 2.5 deg\",theta));\n",
    "h->Draw();\n",
    "c1->Draw();"
   ]
  },
  {
   "cell_type": "code",
   "execution_count": 4,
   "id": "2f7bcd29",
   "metadata": {},
   "outputs": [],
   "source": [
    "vector<double> e;            //e[0]为目标峰，其他为周围峰\n",
    "double k,b;                  //线性本底参数\n",
    "double fit_left,fit_right;   //联合拟合范围\n",
    "double area_left,area_right; //峰面积计算范围"
   ]
  },
  {
   "cell_type": "code",
   "execution_count": 5,
   "id": "567a1acb",
   "metadata": {},
   "outputs": [],
   "source": [
    "void area(TH1I *h)\n",
    "{\n",
    "    c1->Clear();\n",
    "    h->GetXaxis()->SetRangeUser(550,1350);   //返回全区间，在多次进行拟合时，必须要有这个操作，否则指定的拟合区间将存在问题\n",
    "\n",
    "    //设置拟合函数：线性本底 + npeaks个高斯函数\n",
    "    int npeaks = e.size();\n",
    "    TString sf = \"pol1(0)\";\n",
    "    for (int i=0; i<npeaks; i++)\n",
    "        sf += Form(\"+gaus(%d)\",3*i+2);\n",
    "    TF1* f = new TF1(\"f\", sf, fit_left, fit_right);\n",
    "    f->FixParameter(0, b);                         //手动设置线性本底\n",
    "    f->FixParameter(1, k);\n",
    "    for (int i=0; i<npeaks; i++){\n",
    "        f->SetParameter(3*i+2, 1e6);               //峰高\n",
    "        f->SetParLimits(3*i+2, 1, 1e10);\n",
    "        f->SetParameter(3*i+3, e[i]);              //峰中心\n",
    "        f->SetParLimits(3*i+3, e[i]-1, e[i]+1);\n",
    "        f->SetParameter(3*i+4, 8);                 //峰宽sigma\n",
    "        f->SetParLimits(3*i+4, 5, 20);\n",
    "    }\n",
    "    \n",
    "    TFitResultPtr fh = h->Fit(f, \"QRS\");\n",
    "    f->SetLineColor(kRed);\n",
    "    f->Draw(\"same\");\n",
    "\n",
    "    //单独提出线性本底\n",
    "    TF1 *f1 = new TF1(\"f1\", \"pol1\", 0, 2000);\n",
    "    f1->SetParameter(0, f->GetParameter(0));\n",
    "    f1->SetParameter(1, f->GetParameter(1));\n",
    "    f1->SetLineColor(kBlue);\n",
    "    f1->Draw(\"same\");\n",
    "    \n",
    "    //提出联合拟合结果中的各个高斯峰\n",
    "    TF1 *fg[npeaks];\n",
    "    for (int i=0; i<npeaks; i++){\n",
    "        fg[i] = new TF1(Form(\"fg%d\",i), \"gaus\");\n",
    "        fg[i]->SetParameter(0, f->GetParameter(3*i+2));\n",
    "        fg[i]->SetParameter(1, f->GetParameter(3*i+3));\n",
    "        fg[i]->SetParameter(2, f->GetParameter(3*i+4));\n",
    "    }\n",
    "    \n",
    "    //计算峰面积\n",
    "    int bin1 = h->FindBin(area_left);\n",
    "    int bin2 = h->FindBin(area_right);\n",
    "    double nall = h->Integral(bin1, bin2);                     //包含本底的总计数\n",
    "    \n",
    "    double x1 = h->GetBinLowEdge(bin1);                        //积分下界\n",
    "    double x2 = h->GetBinLowEdge(bin2)+h->GetBinWidth(bin2);   //积分上界，注意使用了与TH1完全相等的积分范围\n",
    "    double nbg = f1->Integral(x1, x2)/h->GetBinWidth(bin2);    //线性本底贡献\n",
    "\n",
    "    //输出结果\n",
    "    cout<<\"count=\"<<nall-nbg<<\" delta_count=\"<<sqrt(nall+nbg)<<endl;\n",
    "    for (int i=0; i<npeaks; i++)\n",
    "        cout<<i<<\" peak=\"<<fg[i]->GetParameter(1)<<\" height=\"<<fg[i]->GetParameter(0)\n",
    "        <<\" sigma=\"<<fg[i]->GetParameter(2)<<\" contribution=\"<<fg[i]->Integral(e[i]-500,e[i]+500)/h->GetBinWidth(1)<<'\\n';\n",
    "    \n",
    "}"
   ]
  },
  {
   "cell_type": "code",
   "execution_count": 6,
   "id": "c198cd7e",
   "metadata": {},
   "outputs": [],
   "source": [
    "%jsroot off"
   ]
  },
  {
   "cell_type": "code",
   "execution_count": 7,
   "id": "9466e091",
   "metadata": {
    "scrolled": false
   },
   "outputs": [
    {
     "data": {
      "image/png": "[encoded data removed]",
      "text/plain": [
       "<IPython.core.display.Image object>"
      ]
     },
     "metadata": {},
     "output_type": "display_data"
    },
    {
     "name": "stdout",
     "output_type": "stream",
     "text": [
      "count=5.82623e+07 delta_count=8259.68\n",
      "0 peak=889 height=1.07051e+06 sigma=10.8872 contribution=1.46072e+07\n",
      "1 peak=918 height=1.0008e+06 sigma=14.6077 contribution=1.83228e+07\n",
      "2 peak=972 height=1.80374e+06 sigma=11.2893 contribution=2.55212e+07\n"
     ]
    }
   ],
   "source": [
    "e = vector<double> {888, 919, 971};  // 70 deg\n",
    "//e = vector<double> {834, 878, 960};  // 90 deg\n",
    "k = 0; b = 30e3;                      //线性本底参数\n",
    "fit_left = 870; fit_right = 990;       //联合拟合范围  70 deg\n",
    "//fit_left = 810; fit_right = 980;       //联合拟合范围  90 deg\n",
    "area_left = 770; area_right = 1100;\n",
    "area(h);\n",
    "h->GetXaxis()->SetTitle(\"E / keV\");\n",
    "h->GetYaxis()->SetTitle(\"Count / sr\");\n",
    "h->SetTitle(\"Run 5402-5416      theta = 70 #pm 2.5 deg\");\n",
    "c1->Draw();"
   ]
  }
 ],
 "metadata": {
  "kernelspec": {
   "display_name": "ROOT C++",
   "language": "c++",
   "name": "root"
  },
  "language_info": {
   "codemirror_mode": "text/x-c++src",
   "file_extension": ".C",
   "mimetype": " text/x-c++src",
   "name": "c++"
  }
 },
 "nbformat": 4,
 "nbformat_minor": 5
}
