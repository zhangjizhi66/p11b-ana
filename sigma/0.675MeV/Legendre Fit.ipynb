{
 "cells": [
  {
   "cell_type": "code",
   "execution_count": 1,
   "id": "97abbd2e",
   "metadata": {},
   "outputs": [],
   "source": [
    "TGraphErrors *gr0 = new TGraphErrors;\n",
    "TGraphErrors *gr1 = new TGraphErrors;\n",
    "TGraphErrors *gr7Li = new TGraphErrors;\n",
    "TCanvas *c1 = new TCanvas;"
   ]
  },
  {
   "cell_type": "markdown",
   "id": "11cc712f",
   "metadata": {},
   "source": [
    "## $^{11}B(p,\\alpha_0)\\alpha\\alpha$"
   ]
  },
  {
   "cell_type": "code",
   "execution_count": 2,
   "id": "3f89a1b9",
   "metadata": {},
   "outputs": [],
   "source": [
    "ifstream ifs0(\"sigma0.txt\");\n",
    "while (!ifs0.eof()){\n",
    "    double x, y, dx, dy;\n",
    "    ifs0>>x>>y>>dy;\n",
    "    dx = 2.5;\n",
    "    gr0->SetPoint(gr0->GetN(), x, y);\n",
    "    gr0->SetPointError(gr0->GetN()-1, dx, dy);\n",
    "}\n",
    "gr0->SetPoint(gr0->GetN(), -0.01, 0.01);\n",
    "gr0->SetPointError(gr0->GetN()-1, 0.01, 0.01);\n",
    "gr0->SetPoint(gr0->GetN(), 180.01, 0.4);\n",
    "gr0->SetPointError(gr0->GetN()-1, 0.01, 0.01);"
   ]
  },
  {
   "cell_type": "code",
   "execution_count": 3,
   "id": "207ad58d",
   "metadata": {},
   "outputs": [],
   "source": [
    "TF1 *fa0_1 = new TF1(\"fL\",\"[0]+[1]*cos(x/180*pi)+[2]*0.5*(3*cos(x/180*pi)^2-1)+[3]*0.5*(5*cos(x/180*pi)^3-3*cos(x/180*pi))+[4]*0.125*(35*cos(x/180*pi)^4-30*cos(x/180*pi)^2+3)\",\n",
    "                  -0.01,180.01);\n",
    "fa0_1->SetNpx(1800);"
   ]
  },
  {
   "cell_type": "code",
   "execution_count": 4,
   "id": "33dd1f7c",
   "metadata": {},
   "outputs": [],
   "source": [
    "fa0_1->SetParameter(0, 0.12);\n",
    "fa0_1->SetParameter(1, 0.03);\n",
    "fa0_1->SetParameter(2, -0.09);\n",
    "fa0_1->SetParameter(3, -0.0353);\n",
    "fa0_1->SetParameter(4, 0);"
   ]
  },
  {
   "cell_type": "code",
   "execution_count": 5,
   "id": "f04c4806",
   "metadata": {},
   "outputs": [],
   "source": [
    "TF1 *fL0deg = new TF1(\"fL\",\"[0]+[1]*cos(x/180*pi)+[2]*0.5*(3*cos(x/180*pi)^2-1)+[3]*0.5*(5*cos(x/180*pi)^3-3*cos(x/180*pi))+[4]*0.125*(35*cos(x/180*pi)^4-30*cos(x/180*pi)^2+3)\",\n",
    "                  0,180);\n",
    "fL0deg->SetNpx(1800);"
   ]
  },
  {
   "cell_type": "code",
   "execution_count": 6,
   "id": "7ba4d875",
   "metadata": {},
   "outputs": [
    {
     "data": {
      "image/png": "[encoded data removed]",
      "text/plain": [
       "<IPython.core.display.Image object>"
      ]
     },
     "metadata": {},
     "output_type": "display_data"
    },
    {
     "name": "stdout",
     "output_type": "stream",
     "text": [
      " FCN=18.9212 FROM MIGRAD    STATUS=CONVERGED     154 CALLS         155 TOTAL\n",
      "                     EDM=8.93523e-07    STRATEGY= 1      ERROR MATRIX ACCURATE \n",
      "  EXT PARAMETER                                   STEP         FIRST   \n",
      "  NO.   NAME      VALUE            ERROR          SIZE      DERIVATIVE \n",
      "   1  p0           1.23350e-01   3.37035e-03   6.81785e-06   2.03270e-01\n",
      "   2  p1          -5.83646e-02   5.62928e-03   1.16803e-05   1.13949e-01\n",
      "   3  p2           1.40759e-03   7.82484e-03   1.30916e-05   1.66579e-01\n",
      "   4  p3          -1.38160e-01   6.04855e-03   1.24879e-05   5.21813e-02\n",
      "   5  p4           7.98529e-02   8.21738e-03   1.32936e-05   1.42743e-01\n"
     ]
    }
   ],
   "source": [
    "fL0deg->SetParameter(0, 0);\n",
    "fL0deg->SetParameter(1, 0);\n",
    "fL0deg->SetParameter(2, 0);\n",
    "fL0deg->SetParameter(3, 0);\n",
    "fL0deg->SetParameter(4, 0);\n",
    "\n",
    "gr0->Fit(fL0deg);\n",
    "gr0->GetXaxis()->SetLimits(0, 180);\n",
    "gr0->SetMinimum(0);\n",
    "gr0->SetMaximum(0.3);\n",
    "gr0->GetXaxis()->SetTitle(\"Angle / deg\");\n",
    "gr0->GetYaxis()->SetTitle(\"#sigma(#alpha_{0}) / mb/sr\");\n",
    "gr0->Draw(\"AP*\");\n",
    "//fa0_1->SetLineColor(kBlue);\n",
    "//fa0_1->Draw(\"same\");\n",
    "c1->Draw();"
   ]
  },
  {
   "cell_type": "code",
   "execution_count": 7,
   "id": "de6064dd",
   "metadata": {},
   "outputs": [
    {
     "name": "stdout",
     "output_type": "stream",
     "text": [
      "sigma(alpha0) = 1.55006 +- 0.0423531 mb"
     ]
    }
   ],
   "source": [
    "TF1 *fLs0rad = new TF1(\"fLs\",\"2*pi*sin(x)*([0]+[1]*cos(x)+[2]*0.5*(3*cos(x)^2-1)+[3]*0.5*(5*cos(x)^3-3*cos(x))+[4]*0.125*(35*cos(x)^4-30*cos(x)^2+3))\",\n",
    "                      0, TMath::Pi());\n",
    "fLs0rad->SetNpx(1800);\n",
    "fLs0rad->SetParameters(fL0deg->GetParameters());\n",
    "cout<<\"sigma(alpha0) = \"<<fLs0rad->Integral(0, TMath::Pi())<<\" +- \"<<fLs0rad->IntegralError(0, TMath::Pi())<<\" mb\";"
   ]
  },
  {
   "cell_type": "markdown",
   "id": "594192ee",
   "metadata": {},
   "source": [
    "## $^{11}B(p,\\alpha_1)\\alpha\\alpha$"
   ]
  },
  {
   "cell_type": "code",
   "execution_count": 8,
   "id": "7c06b040",
   "metadata": {},
   "outputs": [],
   "source": [
    "ifstream ifs1(\"sigma1.txt\");\n",
    "while (!ifs1.eof()){\n",
    "    double x, y, dx, dy;\n",
    "    ifs1>>x>>y>>dy;\n",
    "    dx = 2.5;\n",
    "    gr1->SetPoint(gr1->GetN(), x, y);\n",
    "    gr1->SetPointError(gr1->GetN()-1, dx, dy);\n",
    "}\n",
    "gr1->SetPoint(gr1->GetN(), -0.01, 45);\n",
    "gr1->SetPointError(gr1->GetN()-1, 0.01, 0.01);\n",
    "//gr1->SetPoint(gr1->GetN(), 180.01, 15);\n",
    "//gr1->SetPointError(gr1->GetN()-1, 0.01, 0.01);"
   ]
  },
  {
   "cell_type": "code",
   "execution_count": 9,
   "id": "ad0cbddc",
   "metadata": {},
   "outputs": [],
   "source": [
    "TF1 *fa1_1 = new TF1(\"fL\",\"[0]+[1]*cos(x/180*pi)+[2]*0.5*(3*cos(x/180*pi)^2-1)+[3]*0.5*(5*cos(x/180*pi)^3-3*cos(x/180*pi))+[4]*0.125*(35*cos(x/180*pi)^4-30*cos(x/180*pi)^2+3)\",\n",
    "                  0,180);\n",
    "fa1_1->SetNpx(1800);"
   ]
  },
  {
   "cell_type": "code",
   "execution_count": 10,
   "id": "19f74c07",
   "metadata": {},
   "outputs": [],
   "source": [
    "fa1_1->SetParameter(0, 33);\n",
    "fa1_1->SetParameter(1, 12);\n",
    "fa1_1->SetParameter(2, 10);\n",
    "fa1_1->SetParameter(3, 0);\n",
    "fa1_1->SetParameter(4, 0);"
   ]
  },
  {
   "cell_type": "code",
   "execution_count": 11,
   "id": "c2472d98",
   "metadata": {},
   "outputs": [],
   "source": [
    "TF1 *fL1deg = new TF1(\"fL\",\"[0]+[1]*cos(x/180*pi)+[2]*0.5*(3*cos(x/180*pi)^2-1)+[3]*0.5*(5*cos(x/180*pi)^3-3*cos(x/180*pi))+[4]*0.125*(35*cos(x/180*pi)^4-30*cos(x/180*pi)^2+3)\",\n",
    "                  -0.01,180.01);\n",
    "fL1deg->SetNpx(1800);"
   ]
  },
  {
   "cell_type": "code",
   "execution_count": 12,
   "id": "22c88c4b",
   "metadata": {},
   "outputs": [
    {
     "data": {
      "image/png": "[encoded data removed]",
      "text/plain": [
       "<IPython.core.display.Image object>"
      ]
     },
     "metadata": {},
     "output_type": "display_data"
    },
    {
     "name": "stdout",
     "output_type": "stream",
     "text": [
      " FCN=18.1607 FROM MIGRAD    STATUS=CONVERGED     244 CALLS         245 TOTAL\n",
      "                     EDM=5.39009e-07    STRATEGY= 1  ERROR MATRIX UNCERTAINTY   2.8 per cent\n",
      "  EXT PARAMETER                                   STEP         FIRST   \n",
      "  NO.   NAME      VALUE            ERROR          SIZE      DERIVATIVE \n",
      "   1  p0           2.50692e+01   1.17231e+00   6.74259e-03  -2.48849e-02\n",
      "   2  p1           8.21179e-01   3.30227e+00   3.71394e-02  -2.30800e-02\n",
      "   3  p2           1.27972e+01   3.62520e+00  -2.81961e-02  -2.24773e-02\n",
      "   4  p3          -8.92114e+00   4.20163e+00   3.45282e-02  -2.25664e-02\n",
      "   5  p4           1.52335e+01   3.01895e+00  -5.01400e-02  -2.23311e-02\n"
     ]
    }
   ],
   "source": [
    "fL1deg->SetParameter(0, 7.36);\n",
    "fL1deg->SetParameter(1, 0.75);\n",
    "fL1deg->SetParameter(2, 0.18);\n",
    "fL1deg->SetParameter(3, 0);\n",
    "fL1deg->SetParameter(4, 0);\n",
    "gr1->Fit(fL1deg, \"R\", 0, 180);\n",
    "gr1->GetXaxis()->SetLimits(0, 180);\n",
    "gr1->SetMinimum(0);\n",
    "gr1->SetMaximum(50);\n",
    "gr1->GetXaxis()->SetTitle(\"Angle / deg\");\n",
    "gr1->GetYaxis()->SetTitle(\"#sigma(#alpha_{1}) / mb/sr\");\n",
    "gr1->Draw(\"AP*\");\n",
    "fa1_1->SetLineColor(kBlue);\n",
    "//fa1_1->Draw(\"same\");\n",
    "c1->Draw();"
   ]
  },
  {
   "cell_type": "code",
   "execution_count": 13,
   "id": "83ca74b1",
   "metadata": {},
   "outputs": [
    {
     "name": "stdout",
     "output_type": "stream",
     "text": [
      "sigma(alpha1) = 315.029 +- 14.7316 mb"
     ]
    }
   ],
   "source": [
    "TF1 *fLs1rad = new TF1(\"fLs\",\"2*pi*sin(x)*([0]+[1]*cos(x)+[2]*0.5*(3*cos(x)^2-1)+[3]*0.5*(5*cos(x)^3-3*cos(x))+[4]*0.125*(35*cos(x)^4-30*cos(x)^2+3))\",\n",
    "                      0, TMath::Pi());\n",
    "fLs1rad->SetNpx(1800);\n",
    "fLs1rad->SetParameters(fL1deg->GetParameters());\n",
    "cout<<\"sigma(alpha1) = \"<<fLs1rad->Integral(0, TMath::Pi())<<\" +- \"<<fLs1rad->IntegralError(0, TMath::Pi())<<\" mb\";"
   ]
  },
  {
   "cell_type": "markdown",
   "id": "ddce5076",
   "metadata": {},
   "source": [
    "## test"
   ]
  },
  {
   "cell_type": "code",
   "execution_count": 14,
   "id": "8108c4d6",
   "metadata": {},
   "outputs": [],
   "source": [
    "TF1 *ftest = new TF1(\"fL\",\"[0]+[1]*cos(x/180*pi)+[2]*0.5*(3*cos(x/180*pi)^2-1)+[3]*0.5*(5*cos(x/180*pi)^3-3*cos(x/180*pi))+[4]*0.125*(35*cos(x/180*pi)^4-30*cos(x/180*pi)^2+3)\",\n",
    "                  0,180);\n",
    "ftest->SetNpx(1800);\n",
    "ftest->SetParameter(0, 75.4242);\n",
    "ftest->SetParameter(1, 7.7808);\n",
    "ftest->SetParameter(2, 0.4421);\n",
    "ftest->SetParameter(3, 0);\n",
    "ftest->SetParameter(4, 0);"
   ]
  },
  {
   "cell_type": "code",
   "execution_count": 15,
   "id": "98c64558",
   "metadata": {},
   "outputs": [
    {
     "data": {
      "image/png": "[encoded data removed]",
      "text/plain": [
       "<IPython.core.display.Image object>"
      ]
     },
     "metadata": {},
     "output_type": "display_data"
    }
   ],
   "source": [
    "ftest->Draw();\n",
    "ftest->GetYaxis()->SetRangeUser(0,100);\n",
    "ftest->GetXaxis()->SetTitle(\"Angle / deg\");\n",
    "ftest->GetYaxis()->SetTitle(\"#sigma(#alpha_{1}) / mb/sr\");\n",
    "c1->Draw();"
   ]
  },
  {
   "cell_type": "markdown",
   "id": "2fabbfad",
   "metadata": {},
   "source": [
    "## $^{7}Li(p,\\alpha)\\alpha$"
   ]
  },
  {
   "cell_type": "code",
   "execution_count": 16,
   "id": "7b59154f",
   "metadata": {},
   "outputs": [],
   "source": [
    "ifstream ifs2(\"sigma7Li.txt\");\n",
    "while (!ifs2.eof()){\n",
    "    double x, y, dx, dy;\n",
    "    ifs2>>x>>y>>dy;\n",
    "    dx = 2.5;\n",
    "    gr7Li->SetPoint(gr7Li->GetN(), x, y);\n",
    "    gr7Li->SetPointError(gr7Li->GetN()-1, dx, dy);\n",
    "}\n",
    "//gr7Li->SetPoint(gr7Li->GetN(), -0.01, 0.05);\n",
    "//gr7Li->SetPointError(gr7Li->GetN()-1, 0.01, 0.01);\n",
    "//gr7Li->SetPoint(gr7Li->GetN(), 180.01, 0.05);\n",
    "//gr7Li->SetPointError(gr7Li->GetN()-1, 0.01, 0.01);"
   ]
  },
  {
   "cell_type": "code",
   "execution_count": 17,
   "id": "59adf686",
   "metadata": {},
   "outputs": [],
   "source": [
    "TF1 *fL7Lideg = new TF1(\"fL\",\"[0]+[1]*cos(x/180*pi)+[2]*0.5*(3*cos(x/180*pi)^2-1)+[3]*0.5*(5*cos(x/180*pi)^3-3*cos(x/180*pi))+[4]*0.125*(35*cos(x/180*pi)^4-30*cos(x/180*pi)^2+3)\",\n",
    "                  0,180);\n",
    "fL7Lideg->SetNpx(1800);"
   ]
  },
  {
   "cell_type": "code",
   "execution_count": 18,
   "id": "11cd8d62",
   "metadata": {},
   "outputs": [
    {
     "data": {
      "image/png": "[encoded data removed]",
      "text/plain": [
       "<IPython.core.display.Image object>"
      ]
     },
     "metadata": {},
     "output_type": "display_data"
    },
    {
     "name": "stdout",
     "output_type": "stream",
     "text": [
      " FCN=19.4107 FROM MIGRAD    STATUS=CONVERGED     221 CALLS         222 TOTAL\n",
      "                     EDM=7.49788e-07    STRATEGY= 1      ERROR MATRIX ACCURATE \n",
      "  EXT PARAMETER                                   STEP         FIRST   \n",
      "  NO.   NAME      VALUE            ERROR          SIZE      DERIVATIVE \n",
      "   1  p0           4.68334e-01   8.32291e-02   9.07587e-05   2.64104e-02\n",
      "   2  p1           1.54551e-01   1.17798e-01   2.59651e-04   4.54481e-03\n",
      "   3  p2           4.45319e-01   2.29910e-01   2.50710e-04  -7.77002e-03\n",
      "   4  p3           0.00000e+00     fixed    \n",
      "   5  p4           0.00000e+00     fixed    \n"
     ]
    }
   ],
   "source": [
    "fL7Lideg->SetParameter(0, 7.36);\n",
    "fL7Lideg->SetParameter(1, 0.75);\n",
    "fL7Lideg->SetParameter(2, 0.18);\n",
    "fL7Lideg->FixParameter(3, 0);\n",
    "fL7Lideg->FixParameter(4, 0);\n",
    "gr7Li->Fit(fL7Lideg, \"R\", 0, 180);\n",
    "gr7Li->GetXaxis()->SetLimits(0, 180);\n",
    "gr7Li->SetMinimum(0);\n",
    "gr7Li->SetMaximum(5);\n",
    "gr7Li->GetXaxis()->SetTitle(\"Angle / deg\");\n",
    "gr7Li->GetYaxis()->SetTitle(\"#sigma(#alpha) / mb/sr\");\n",
    "gr7Li->Draw(\"AP*\");\n",
    "c1->Draw();"
   ]
  },
  {
   "cell_type": "code",
   "execution_count": 19,
   "id": "e72c5af5",
   "metadata": {},
   "outputs": [
    {
     "name": "stdout",
     "output_type": "stream",
     "text": [
      "sigma(alpha1) = 5.88526 +- 1.04589 mb"
     ]
    }
   ],
   "source": [
    "TF1 *fLs7Lirad = new TF1(\"fLs\",\"2*pi*sin(x)*([0]+[1]*cos(x)+[2]*0.5*(3*cos(x)^2-1)+[3]*0.5*(5*cos(x)^3-3*cos(x))+[4]*0.125*(35*cos(x)^4-30*cos(x)^2+3))\",\n",
    "                      0, TMath::Pi());\n",
    "fLs7Lirad->SetNpx(1800);\n",
    "fLs7Lirad->SetParameters(fL7Lideg->GetParameters());\n",
    "cout<<\"sigma(alpha1) = \"<<fLs7Lirad->Integral(0, TMath::Pi())<<\" +- \"<<fLs7Lirad->IntegralError(0, TMath::Pi())<<\" mb\";"
   ]
  }
 ],
 "metadata": {
  "kernelspec": {
   "display_name": "ROOT C++",
   "language": "c++",
   "name": "root"
  },
  "language_info": {
   "codemirror_mode": "text/x-c++src",
   "file_extension": ".C",
   "mimetype": " text/x-c++src",
   "name": "c++"
  }
 },
 "nbformat": 4,
 "nbformat_minor": 5
}
