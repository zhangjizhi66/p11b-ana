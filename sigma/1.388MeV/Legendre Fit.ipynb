{
 "cells": [
  {
   "cell_type": "code",
   "execution_count": 1,
   "id": "97abbd2e",
   "metadata": {},
   "outputs": [],
   "source": [
    "TGraphErrors *gr0 = new TGraphErrors;\n",
    "TGraphErrors *gr1 = new TGraphErrors;\n",
    "TGraphErrors *gr7Li = new TGraphErrors;\n",
    "TCanvas *c1 = new TCanvas;"
   ]
  },
  {
   "cell_type": "markdown",
   "id": "11cc712f",
   "metadata": {},
   "source": [
    "## $^{11}B(p,\\alpha_0)\\alpha\\alpha$"
   ]
  },
  {
   "cell_type": "code",
   "execution_count": 2,
   "id": "3f89a1b9",
   "metadata": {},
   "outputs": [],
   "source": [
    "ifstream ifs0(\"sigma0.txt\");\n",
    "while (!ifs0.eof()){\n",
    "    double x, y, dx, dy;\n",
    "    ifs0>>x>>y>>dy;\n",
    "    dx = 2.5;\n",
    "    gr0->SetPoint(gr0->GetN(), x, y);\n",
    "    gr0->SetPointError(gr0->GetN()-1, dx, dy);\n",
    "}\n",
    "gr0->SetPoint(gr0->GetN(), -0.01, 0.02);\n",
    "gr0->SetPointError(gr0->GetN()-1, 0.01, 0.01);\n",
    "gr0->SetPoint(gr0->GetN(), 180.01, 0.02);\n",
    "gr0->SetPointError(gr0->GetN()-1, 0.01, 0.01);"
   ]
  },
  {
   "cell_type": "code",
   "execution_count": 3,
   "id": "207ad58d",
   "metadata": {},
   "outputs": [],
   "source": [
    "TF1 *fa0_1 = new TF1(\"fL\",\"[0]+[1]*cos(x/180*pi)+[2]*0.5*(3*cos(x/180*pi)^2-1)+[3]*0.5*(5*cos(x/180*pi)^3-3*cos(x/180*pi))+[4]*0.125*(35*cos(x/180*pi)^4-30*cos(x/180*pi)^2+3)\",\n",
    "                  -0.01,180.01);\n",
    "fa0_1->SetNpx(1800);"
   ]
  },
  {
   "cell_type": "code",
   "execution_count": 4,
   "id": "33dd1f7c",
   "metadata": {},
   "outputs": [],
   "source": [
    "fa0_1->SetParameter(0, 0.22);\n",
    "fa0_1->SetParameter(1, 0.09);\n",
    "fa0_1->SetParameter(2, -0.165);\n",
    "fa0_1->SetParameter(3, -0.09);\n",
    "fa0_1->SetParameter(4, -0.1);"
   ]
  },
  {
   "cell_type": "code",
   "execution_count": 5,
   "id": "f04c4806",
   "metadata": {},
   "outputs": [],
   "source": [
    "TF1 *fL0deg = new TF1(\"fL\",\"[0]+[1]*cos(x/180*pi)+[2]*0.5*(3*cos(x/180*pi)^2-1)+[3]*0.5*(5*cos(x/180*pi)^3-3*cos(x/180*pi))+[4]*0.125*(35*cos(x/180*pi)^4-30*cos(x/180*pi)^2+3)\",\n",
    "                  0,180);\n",
    "fL0deg->SetNpx(1800);"
   ]
  },
  {
   "cell_type": "code",
   "execution_count": 6,
   "id": "7ba4d875",
   "metadata": {},
   "outputs": [
    {
     "data": {
      "image/png": "[encoded data removed]",
      "text/plain": [
       "<IPython.core.display.Image object>"
      ]
     },
     "metadata": {},
     "output_type": "display_data"
    },
    {
     "name": "stdout",
     "output_type": "stream",
     "text": [
      " FCN=14.2226 FROM MIGRAD    STATUS=CONVERGED     138 CALLS         139 TOTAL\n",
      "                     EDM=1.90627e-07    STRATEGY= 1      ERROR MATRIX ACCURATE \n",
      "  EXT PARAMETER                                   STEP         FIRST   \n",
      "  NO.   NAME      VALUE            ERROR          SIZE      DERIVATIVE \n",
      "   1  p0           2.35468e-01   4.32261e-03   5.91277e-06   9.23669e-03\n",
      "   2  p1           2.48628e-01   6.45607e-03   9.44991e-06  -1.09429e-01\n",
      "   3  p2          -9.71866e-02   1.09679e-02   1.23912e-05  -3.53115e-02\n",
      "   4  p3          -2.49256e-01   6.85482e-03   1.04321e-05  -1.02667e-02\n",
      "   5  p4          -1.18661e-01   1.04389e-02   1.14594e-05  -4.36699e-02\n"
     ]
    }
   ],
   "source": [
    "fL0deg->SetParameter(0, 0.24);\n",
    "fL0deg->SetParameter(1, 0.24);\n",
    "fL0deg->SetParameter(2, -0.08);\n",
    "fL0deg->SetParameter(3, -0.25);\n",
    "fL0deg->SetParameter(4, 0);\n",
    "\n",
    "gr0->Fit(fL0deg);\n",
    "gr0->GetXaxis()->SetLimits(0, 180);\n",
    "gr0->SetMinimum(0);\n",
    "gr0->SetMaximum(0.7);\n",
    "gr0->GetXaxis()->SetTitle(\"Angle / deg\");\n",
    "gr0->GetYaxis()->SetTitle(\"#sigma(#alpha_{0}) / mb/sr\");\n",
    "gr0->Draw(\"AP*\");\n",
    "fa0_1->SetLineColor(kBlue);\n",
    "//fa0_1->Draw(\"same\");\n",
    "c1->Draw();"
   ]
  },
  {
   "cell_type": "code",
   "execution_count": 7,
   "id": "de6064dd",
   "metadata": {},
   "outputs": [
    {
     "name": "stdout",
     "output_type": "stream",
     "text": [
      "sigma(alpha0) = 2.95898 +- 0.0543195 mb"
     ]
    }
   ],
   "source": [
    "TF1 *fLs0rad = new TF1(\"fLs\",\"2*pi*sin(x)*([0]+[1]*cos(x)+[2]*0.5*(3*cos(x)^2-1)+[3]*0.5*(5*cos(x)^3-3*cos(x))+[4]*0.125*(35*cos(x)^4-30*cos(x)^2+3))\",\n",
    "                      0, TMath::Pi());\n",
    "fLs0rad->SetNpx(1800);\n",
    "fLs0rad->SetParameters(fL0deg->GetParameters());\n",
    "cout<<\"sigma(alpha0) = \"<<fLs0rad->Integral(0, TMath::Pi())<<\" +- \"<<fLs0rad->IntegralError(0, TMath::Pi())<<\" mb\";"
   ]
  },
  {
   "cell_type": "markdown",
   "id": "594192ee",
   "metadata": {},
   "source": [
    "## $^{11}B(p,\\alpha_1)\\alpha\\alpha$"
   ]
  },
  {
   "cell_type": "code",
   "execution_count": 8,
   "id": "7c06b040",
   "metadata": {},
   "outputs": [],
   "source": [
    "ifstream ifs1(\"sigma1.txt\");\n",
    "while (!ifs1.eof()){\n",
    "    double x, y, dx, dy;\n",
    "    ifs1>>x>>y>>dy;\n",
    "    dx = 2.5;\n",
    "    gr1->SetPoint(gr1->GetN(), x, y);\n",
    "    gr1->SetPointError(gr1->GetN()-1, dx, dy);\n",
    "}"
   ]
  },
  {
   "cell_type": "code",
   "execution_count": 9,
   "id": "ad0cbddc",
   "metadata": {},
   "outputs": [],
   "source": [
    "TF1 *fa1_1 = new TF1(\"fL\",\"[0]+[1]*cos(x/180*pi)+[2]*0.5*(3*cos(x/180*pi)^2-1)+[3]*0.5*(5*cos(x/180*pi)^3-3*cos(x/180*pi))+[4]*0.125*(35*cos(x/180*pi)^4-30*cos(x/180*pi)^2+3)\",\n",
    "                  0,180);\n",
    "fa1_1->SetNpx(1800);"
   ]
  },
  {
   "cell_type": "code",
   "execution_count": 10,
   "id": "19f74c07",
   "metadata": {},
   "outputs": [],
   "source": [
    "fa1_1->SetParameter(0, 48.36/6.6);\n",
    "fa1_1->SetParameter(1, 2.01/6.6);\n",
    "fa1_1->SetParameter(2, 0.28/6.6);\n",
    "fa1_1->SetParameter(3, 0);\n",
    "fa1_1->SetParameter(4, 0);"
   ]
  },
  {
   "cell_type": "code",
   "execution_count": 11,
   "id": "c2472d98",
   "metadata": {},
   "outputs": [],
   "source": [
    "TF1 *fL1deg = new TF1(\"fL\",\"[0]+[1]*cos(x/180*pi)+[2]*0.5*(3*cos(x/180*pi)^2-1)+[3]*0.5*(5*cos(x/180*pi)^3-3*cos(x/180*pi))+[4]*0.125*(35*cos(x/180*pi)^4-30*cos(x/180*pi)^2+3)\",\n",
    "                  0,180);\n",
    "fL1deg->SetNpx(1800);"
   ]
  },
  {
   "cell_type": "code",
   "execution_count": 12,
   "id": "22c88c4b",
   "metadata": {},
   "outputs": [
    {
     "data": {
      "image/png": "[encoded data removed]",
      "text/plain": [
       "<IPython.core.display.Image object>"
      ]
     },
     "metadata": {},
     "output_type": "display_data"
    },
    {
     "name": "stdout",
     "output_type": "stream",
     "text": [
      " FCN=3.96743 FROM MIGRAD    STATUS=CONVERGED      95 CALLS          96 TOTAL\n",
      "                     EDM=9.9259e-08    STRATEGY= 1      ERROR MATRIX ACCURATE \n",
      "  EXT PARAMETER                                   STEP         FIRST   \n",
      "  NO.   NAME      VALUE            ERROR          SIZE      DERIVATIVE \n",
      "   1  p0           8.27559e+00   2.56712e-01   1.88648e-04  -1.83860e-03\n",
      "   2  p1           3.67734e+00   8.00720e-01   3.98513e-04  -1.23606e-04\n",
      "   3  p2          -1.22862e-01   7.42769e-01   6.49657e-04   1.36630e-04\n",
      "   4  p3          -2.81506e+00   1.10807e+00   5.40161e-04  -6.13962e-06\n",
      "   5  p4           0.00000e+00     fixed    \n"
     ]
    }
   ],
   "source": [
    "fL1deg->SetParameter(0, 7.36);\n",
    "fL1deg->SetParameter(1, 0.75);\n",
    "fL1deg->SetParameter(2, 0.18);\n",
    "fL1deg->SetParameter(3, 0);\n",
    "fL1deg->FixParameter(4, 0);\n",
    "gr1->Fit(fL1deg, \"R\", 0, 180);\n",
    "gr1->GetXaxis()->SetLimits(0, 180);\n",
    "gr1->SetMinimum(0);\n",
    "gr1->SetMaximum(16);\n",
    "gr1->GetXaxis()->SetTitle(\"Angle / deg\");\n",
    "gr1->GetYaxis()->SetTitle(\"#sigma(#alpha_{1}) / mb/sr\");\n",
    "gr1->Draw(\"AP*\");\n",
    "fa1_1->SetLineColor(kBlue);\n",
    "//fa1_1->Draw(\"same\");\n",
    "c1->Draw();"
   ]
  },
  {
   "cell_type": "code",
   "execution_count": 13,
   "id": "83ca74b1",
   "metadata": {},
   "outputs": [
    {
     "name": "stdout",
     "output_type": "stream",
     "text": [
      "sigma(alpha1) = 103.994 +- 3.22594 mb"
     ]
    }
   ],
   "source": [
    "TF1 *fLs1rad = new TF1(\"fLs\",\"2*pi*sin(x)*([0]+[1]*cos(x)+[2]*0.5*(3*cos(x)^2-1)+[3]*0.5*(5*cos(x)^3-3*cos(x))+[4]*0.125*(35*cos(x)^4-30*cos(x)^2+3))\",\n",
    "                      0, TMath::Pi());\n",
    "fLs1rad->SetNpx(1800);\n",
    "fLs1rad->SetParameters(fL1deg->GetParameters());\n",
    "cout<<\"sigma(alpha1) = \"<<fLs1rad->Integral(0, TMath::Pi())<<\" +- \"<<fLs1rad->IntegralError(0, TMath::Pi())<<\" mb\";"
   ]
  },
  {
   "cell_type": "markdown",
   "id": "ddce5076",
   "metadata": {},
   "source": [
    "## test"
   ]
  },
  {
   "cell_type": "code",
   "execution_count": 14,
   "id": "8108c4d6",
   "metadata": {},
   "outputs": [],
   "source": [
    "TF1 *ftest = new TF1(\"fL\",\"[0]+[1]*cos(x/180*pi)+[2]*0.5*(3*cos(x/180*pi)^2-1)+[3]*0.5*(5*cos(x/180*pi)^3-3*cos(x/180*pi))+[4]*0.125*(35*cos(x/180*pi)^4-30*cos(x/180*pi)^2+3)\",\n",
    "                  0,180);\n",
    "ftest->SetNpx(1800);\n",
    "ftest->SetParameter(0, 75.4242);\n",
    "ftest->SetParameter(1, 7.7808);\n",
    "ftest->SetParameter(2, 0.4421);\n",
    "ftest->SetParameter(3, 0);\n",
    "ftest->SetParameter(4, 0);"
   ]
  },
  {
   "cell_type": "code",
   "execution_count": 15,
   "id": "98c64558",
   "metadata": {},
   "outputs": [
    {
     "data": {
      "image/png": "[encoded data removed]",
      "text/plain": [
       "<IPython.core.display.Image object>"
      ]
     },
     "metadata": {},
     "output_type": "display_data"
    }
   ],
   "source": [
    "ftest->Draw();\n",
    "ftest->GetYaxis()->SetRangeUser(0,100);\n",
    "ftest->GetXaxis()->SetTitle(\"Angle / deg\");\n",
    "ftest->GetYaxis()->SetTitle(\"#sigma(#alpha_{1}) / mb/sr\");\n",
    "c1->Draw();"
   ]
  },
  {
   "cell_type": "markdown",
   "id": "2fabbfad",
   "metadata": {},
   "source": [
    "## $^{7}Li(p,\\alpha)\\alpha$"
   ]
  },
  {
   "cell_type": "code",
   "execution_count": 16,
   "id": "7b59154f",
   "metadata": {},
   "outputs": [],
   "source": [
    "ifstream ifs2(\"sigma7Li.txt\");\n",
    "while (!ifs2.eof()){\n",
    "    double x, y, dx, dy;\n",
    "    ifs2>>x>>y>>dy;\n",
    "    dx = 2.5;\n",
    "    gr7Li->SetPoint(gr7Li->GetN(), x, y);\n",
    "    gr7Li->SetPointError(gr7Li->GetN()-1, dx, dy);\n",
    "}\n",
    "//gr7Li->SetPoint(gr7Li->GetN(), -0.01, 0.05);\n",
    "//gr7Li->SetPointError(gr7Li->GetN()-1, 0.01, 0.01);\n",
    "//gr7Li->SetPoint(gr7Li->GetN(), 180.01, 0.05);\n",
    "//gr7Li->SetPointError(gr7Li->GetN()-1, 0.01, 0.01);"
   ]
  },
  {
   "cell_type": "code",
   "execution_count": 17,
   "id": "59adf686",
   "metadata": {},
   "outputs": [],
   "source": [
    "TF1 *fL7Lideg = new TF1(\"fL\",\"[0]+[1]*cos(x/180*pi)+[2]*0.5*(3*cos(x/180*pi)^2-1)+[3]*0.5*(5*cos(x/180*pi)^3-3*cos(x/180*pi))+[4]*0.125*(35*cos(x/180*pi)^4-30*cos(x/180*pi)^2+3)\",\n",
    "                  0,180);\n",
    "fL7Lideg->SetNpx(1800);"
   ]
  },
  {
   "cell_type": "code",
   "execution_count": 18,
   "id": "11cd8d62",
   "metadata": {},
   "outputs": [
    {
     "data": {
      "image/png": "[encoded data removed]",
      "text/plain": [
       "<IPython.core.display.Image object>"
      ]
     },
     "metadata": {},
     "output_type": "display_data"
    },
    {
     "name": "stdout",
     "output_type": "stream",
     "text": [
      " FCN=0.619474 FROM MIGRAD    STATUS=CONVERGED     527 CALLS         528 TOTAL\n",
      "                     EDM=8.56516e-10    STRATEGY= 1      ERROR MATRIX ACCURATE \n",
      "  EXT PARAMETER                                   STEP         FIRST   \n",
      "  NO.   NAME      VALUE            ERROR          SIZE      DERIVATIVE \n",
      "   1  p0           5.19339e-01   3.96398e-02   7.43646e-06  -1.94115e-03\n",
      "   2  p1           2.45672e-01   1.53395e-01   2.10710e-05   2.95624e-04\n",
      "   3  p2           4.78069e-01   9.87018e-02   2.00434e-05   9.31655e-04\n",
      "   4  p3           2.66032e-01   1.44759e-01   2.35203e-05  -4.97378e-04\n",
      "   5  p4           0.00000e+00     fixed    \n"
     ]
    }
   ],
   "source": [
    "fL7Lideg->SetParameter(0, 7.36);\n",
    "fL7Lideg->SetParameter(1, 0.75);\n",
    "fL7Lideg->SetParameter(2, 0.18);\n",
    "fL7Lideg->SetParameter(3, 0);\n",
    "fL7Lideg->FixParameter(4, 0);\n",
    "gr7Li->Fit(fL7Lideg, \"R\", 0, 180);\n",
    "gr7Li->GetXaxis()->SetLimits(0, 180);\n",
    "gr7Li->SetMinimum(0);\n",
    "gr7Li->SetMaximum(0.8);\n",
    "gr7Li->GetXaxis()->SetTitle(\"Angle / deg\");\n",
    "gr7Li->GetYaxis()->SetTitle(\"#sigma(#alpha) / mb/sr\");\n",
    "gr7Li->Draw(\"AP*\");\n",
    "c1->Draw();"
   ]
  },
  {
   "cell_type": "code",
   "execution_count": 19,
   "id": "e72c5af5",
   "metadata": {},
   "outputs": [
    {
     "name": "stdout",
     "output_type": "stream",
     "text": [
      "sigma(alpha1) = 6.52621 +- 0.498128 mb"
     ]
    }
   ],
   "source": [
    "TF1 *fLs7Lirad = new TF1(\"fLs\",\"2*pi*sin(x)*([0]+[1]*cos(x)+[2]*0.5*(3*cos(x)^2-1)+[3]*0.5*(5*cos(x)^3-3*cos(x))+[4]*0.125*(35*cos(x)^4-30*cos(x)^2+3))\",\n",
    "                      0, TMath::Pi());\n",
    "fLs7Lirad->SetNpx(1800);\n",
    "fLs7Lirad->SetParameters(fL7Lideg->GetParameters());\n",
    "cout<<\"sigma(alpha1) = \"<<fLs7Lirad->Integral(0, TMath::Pi())<<\" +- \"<<fLs7Lirad->IntegralError(0, TMath::Pi())<<\" mb\";"
   ]
  }
 ],
 "metadata": {
  "kernelspec": {
   "display_name": "ROOT C++",
   "language": "c++",
   "name": "root"
  },
  "language_info": {
   "codemirror_mode": "text/x-c++src",
   "file_extension": ".C",
   "mimetype": " text/x-c++src",
   "name": "c++"
  }
 },
 "nbformat": 4,
 "nbformat_minor": 5
}
