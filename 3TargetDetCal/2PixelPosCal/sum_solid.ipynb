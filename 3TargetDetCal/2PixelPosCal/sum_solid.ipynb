{
 "cells": [
  {
   "cell_type": "code",
   "execution_count": 1,
   "id": "49d01596",
   "metadata": {},
   "outputs": [
    {
     "name": "stdout",
     "output_type": "stream",
     "text": [
      "1.11977\n"
     ]
    }
   ],
   "source": [
    "ifstream ifs(\"pixelpos.txt\");\n",
    "double a, b, solid;\n",
    "double sum = 0;\n",
    "while (!ifs.eof()){\n",
    "    ifs>>a>>b>>solid;\n",
    "    sum += solid;\n",
    "}\n",
    "cout<<sum<<'\\n';"
   ]
  },
  {
   "cell_type": "code",
   "execution_count": null,
   "id": "27ca9d0d",
   "metadata": {},
   "outputs": [],
   "source": []
  }
 ],
 "metadata": {
  "kernelspec": {
   "display_name": "ROOT C++",
   "language": "c++",
   "name": "root"
  },
  "language_info": {
   "codemirror_mode": "text/x-c++src",
   "file_extension": ".C",
   "mimetype": " text/x-c++src",
   "name": "c++"
  }
 },
 "nbformat": 4,
 "nbformat_minor": 5
}
